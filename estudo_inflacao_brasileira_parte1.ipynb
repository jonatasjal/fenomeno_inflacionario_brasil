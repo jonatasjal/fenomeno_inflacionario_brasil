{
  "cells": [
    {
      "cell_type": "markdown",
      "metadata": {},
      "source": [
        "# **ESTUDO DE CASO: O Fenômeno Inflacionário no Brasil**"
      ]
    },
    {
      "cell_type": "markdown",
      "metadata": {},
      "source": [
        "## Introdução"
      ]
    },
    {
      "cell_type": "markdown",
      "metadata": {},
      "source": [
        "O objetivo principal deste estudo, é consolidar meus conhecimentos em: Economia (apenas estudante), Ciência de Dados (graduando) e minha capacidade de Storytelling.\n",
        "\n",
        "São áreas de estudo e de hobby as quais torna-se prazerosa a elaboração de qualquer conteúdo referente a essas. É preciso também salientar que o estudo abaixo, não é denominado como verdade absoluta. Meu objetivo não é criar um silogismo para mostrar que sou f*da e nem dizer: *\"É assim e ponto!\"*.\n",
        "\n",
        "Eu quero passar a você, seja leigo, estudante, curioso ou profissional das referidas áreas, algumas ideias que norteiam minha vida acadêmica e que tenho o imenso desejo de, se forem identificadas incongruências em qualquer trecho do código, que se sinta a vontade de abrir o debate.\n",
        "\n",
        "Esse case, será dividido em 3 partes:\n",
        "- A 1ª parte: Sobre o que é inflação, obtenção de dados de forma dinâmica, plots explicativos e o primeiro modelo em Machine Learning.\n",
        "- A 2ª com mais plotagens e algumas teorias e resultados obtidos\n",
        "- A 3ª é um resumo do que foi feito, os resultados e respostas de críticas, elogios ou correções.\n",
        "\n",
        "Esse é um artigo produzido de maneira que, mesmo que você não tenha conhecimento algum das referidas áreas, possa ter ideias claras de fácil assimilação. Ou seja, se você não tem conhecimento básico dos temas, eu vou lhe explicar de modo simples.\n",
        "\n",
        "No final, você poderá replicar e debater tudo em questão. Sou um cara em busca do conhecimento e da correção de falhas, portanto, sinta-se à vontade para opinar.\n",
        "\n",
        "Bora lá!"
      ]
    },
    {
      "cell_type": "markdown",
      "metadata": {},
      "source": [
        "### Sobre os códigos"
      ]
    },
    {
      "cell_type": "markdown",
      "metadata": {},
      "source": [
        "Sim, pessoa querida!\n",
        "\n",
        "No código você encontra maneiras básicas de lógica e codificação. Eu sei que em diversos trechos eu poderia ter criado funções, laços e aplicado mais uma enormidade de técnicas, mas o **objetivo** desse estudo, é expor de maneira simples para quu qualquer pessoa cosnigo, ou pelo menos tente, aprender algo.\n",
        "\n",
        "Serão estudados diversos conceitos de Economia, Python, visualização gráfica, análise de dados, implementação de modelos, APIs, Machine Learning, AI e muito mais.\n",
        "\n",
        "O objetivo é sempre atualizar e aperfeiçoar esse conteúdo."
      ]
    },
    {
      "cell_type": "markdown",
      "metadata": {},
      "source": [
        "## O que é inflação?"
      ]
    },
    {
      "cell_type": "markdown",
      "metadata": {},
      "source": [
        "De modo geral, inflação é quando as coisas começam a ficar mais caras, tipo, os preços dos produtos e serviços aumentam. Isso faz com que o dinheiro que a gente tem renda menos, porque a gente não consegue comprar as mesmas coisas com a mesma quantidade de dinheiro. \n",
        "\n",
        "Há também uma outra definição: *“a inflação é, sempre e em toda parte, um fenômeno monetário que surge de uma expansão mais rápida na quantidade de dinheiro do que na produção total”* (Friedman, Milton)\n",
        "\n",
        "Ou seja, segundo o prêmio Nobel de Economia, Milton Friedman, o aumento de preços é uma consequência e todas as definições apontam para o fenômeno de encarecimento dos preços e diminuição do poder de compra.\n",
        "\n",
        "Um [artigo](https://www.ft.com/content/02c8a9ac-b71d-4cef-a6ff-cac120d25588) muito interessante, escrito por uma das boas referências na área acadêmica, *Olivier Blanchard*, acompanhado por Ricardo Reis e J. Bradford DeLong, definem:\n",
        "\n",
        "*Do ponto de vista teórico, a inflação pode ser tratada como um imposto, o imposto inflacionário, porque gera receitas de senhoriagem para o governo. Como quase todo tipo de taxação, o imposto inflacionário pode gerar distorções microeconômicas. Além disso, há os impactos macroeconômicos: (i) taxas de inflação mais elevadas geram incentivo à indexação/inércia, tornando a inflação menos sensível à política monetária e elevando a chamada “taxa de sacrifício” para desinflacionar a economia; (ii) a inflação está associada a efeitos redistributivos nocivos, afetando os mais pobres mais intensamente; (iii) inflação mais alta se associa a maior volatilidade e menor previsibilidade, gerando um encurtamento de horizontes e, no limite, um desarranjo de toda a economia.*\n",
        "\n",
        "**Resumindo:**<br>\n",
        "De maneira bem mais simples, o trecho diz que inflação é meio como um imposto invisível que dá dinheiro para o governo, mas também causa problemas. Quando os preços sobem muito, as coisas ficam bagunçadas, e isso afeta especialmente as pessoas mais pobres. Altas taxas de inflação também podem deixar a economia instável e imprevisível.\n"
      ]
    },
    {
      "cell_type": "markdown",
      "metadata": {},
      "source": [
        "## No Brasil"
      ]
    },
    {
      "cell_type": "markdown",
      "metadata": {},
      "source": [
        "Minha nossa, se tem um país e um povo que entende o que é inflação e como é sofrido passar por esse período, é o Brasil e o brasileiro.\n",
        "\n",
        "E este que vos escreve, com algumas décadas de vida e que passou pelo período de hiperinflação nacional, sem meio que nem entender o que ocorria e me deparando com odesespero de meus pais à época, vivi na pele esse fenômeno cruel.\n",
        "\n",
        "**Como foi?**<br>\n",
        "O Brasil passou por um período de hiperinflação nas décadas de 1980 e início de 1990.\n",
        "\n",
        "Durante esse período, a inflação atingiu níveis astronômicos e um dos momentos mais críticos foi durante a década de 1980, especialmente nos anos finais, quando a inflação alcançou taxas mensais de **mais de 80%** e em especial, no ano de 1989 onde conseguimos a proeza de ter uma inflação anual que **superou os 1.900%**.\n",
        "\n",
        "Quem for mais novo, não tem a ínfima noção do que é isso. O dinheiro desvaloriza-se de um dia para o outro. O que você comprava em um dia com certa quantidade de dinheiro, não comprava no dia seguinte. Um caos!\n",
        "\n",
        "Para combater essa situação, o Brasil implementou uma série de planos econômicos, como o Plano Cruzado em 1986, o Plano Bresser em 1987 e o Plano Collor em 1990. Cada um desses planos tinha como objetivo controlar a hiperinflação, mas muitas vezes os efeitos eram temporários, sem um estudo técnico e a inflação voltava a subir.\n",
        "\n",
        "A estabilidade econômica duradoura no Brasil só foi alcançada após a implementação do Plano Real em 1994, que introduziu uma nova moeda (o Real, antes a URV) e adotou políticas mais sólidas para controlar a inflação. Desde então, o Brasil conseguiu manter taxas de inflação mais controladas.\n",
        "\n",
        "Em uma breve pesquisa, não tão aprofundada como deveria (por falta de tempo), é fácil identificar que o Brasil é o único país do mundo que teve **hiperinflação** sem estar em confronto interno (como guerra civil) ou externo (guerras), por exemplo.\n",
        "\n",
        "Nóix é brabo mesmo!"
      ]
    },
    {
      "cell_type": "markdown",
      "metadata": {},
      "source": [
        "## Causas e Consequências?"
      ]
    },
    {
      "cell_type": "markdown",
      "metadata": {},
      "source": [
        "Sem o uso de termos técnicos e com o objetivo de ser claro:\n",
        "\n",
        "- **Causas da Inflação:**\n",
        "\n",
        "**Muita Gente Querendo Comprar:** Se todo mundo quer comprar mais coisas do que as fábricas conseguem fazer, os preços sobem.\n",
        "\n",
        "**Empresas Gastando Mais para Produzir:** Quando as empresas têm que gastar mais dinheiro para produzir, seja com salários ou matéria-prima, elas podem aumentar os preços para os consumidores.\n",
        "\n",
        "**Dinheiro Aumentando Sem Controle:** Se começar a ter mais dinheiro circulando, mas as coisas para comprar não aumentarem junto, os preços podem subir.\n",
        "\n",
        "**Problemas Inesperados:** Coisas inesperadas, como desastres naturais ou confusões no mundo, podem fazer com que a oferta de coisas diminua, o que faz os preços aumentarem.\n",
        "\n",
        "--\n",
        "\n",
        "- **Consequências da Inflação:**\n",
        "\n",
        "**Dinheiro Comprando Menos:** A inflação faz com que o dinheiro que a gente tem valha menos, então compramos menos com a mesma quantidade de dinheiro.\n",
        "\n",
        "**Problemas para Quem Ganha Menos:** Quem tem menos dinheiro muitas vezes sofre mais com a inflação, porque os preços das coisas que precisam sobem mais rápido do que os salários.\n",
        "\n",
        "**Investir Pode Ficar Difícil:** Quando as pessoas não sabem quanto as coisas vão custar no futuro, ficam com medo de investir dinheiro, o que pode atrapalhar o crescimento econômico.\n",
        "\n",
        "**Menos Vontade de Guardar Dinheiro:** Se a inflação está alta, as pessoas podem preferir gastar o dinheiro em vez de guardar, porque têm medo de que o dinheiro perca valor com o tempo.\n",
        "\n",
        "**Planejar o Futuro Fica Complicado:** Empresas e pessoas têm dificuldade em fazer planos de longo prazo quando os preços estão sempre mudando, o que pode atrapalhar o jeito como organizam suas finanças."
      ]
    },
    {
      "cell_type": "markdown",
      "metadata": {},
      "source": [
        "## Como é medida?"
      ]
    },
    {
      "cell_type": "markdown",
      "metadata": {},
      "source": [
        "**No Brasil**<br>\n",
        "Alguns institutos fazem a aferição através de indicadores, utilizando-se de alguns índices de preços em certos períodos de tempo, como por exemplo: \n",
        "\n",
        "- **IPCA**<br>\n",
        "Responsável: IBGE<br>\n",
        "Divulgação: Durante os primeiros 10 dias úteis do mês. Referência do mês anterior.<br>\n",
        "\n",
        "- **IPCA-15 - Prévia do IPCA**<br>\n",
        "Responsável: IBGE<br>\n",
        "Divulgação: Nos últimos 10 dias do mês. Referência do Mês Corrente. De 10 a 15 dias antes do IPCA.<br>\n",
        "\n",
        "- **INPC**<br>\n",
        "Responsável: IBGE<br>\n",
        "Divulgação: Durante os primeiros 10 dias úteis do mês. Referência do mês anterior.<br>\n",
        "\n",
        "- **INCC-DI - Índice Nacional da Construção Civil**<br>\n",
        "Responsável: Fundação Getulio Vargas (FGV)<br>\n",
        "Divulgação: Nos primeiros 10 dias úteis do mês. Referência do mês anterior.<br>\n",
        "Período: Entre o primeiro e último dia do mês de referência.<br>\n",
        "\n",
        "- **INCC-10 - Prévia do INCC**<br>\n",
        "Responsável: Fundação Getulio Vargas (FGV)<br>\n",
        "Divulgação: Segunda quinzena do mês de referência.<br>\n",
        "Período de Medição: Entre o dia 11 do mês anterior e o dia 10 do mês de referência.<br>\n",
        "\n",
        "- **INCC-M - Índice Nacional da Construção Civil - Mercado**<br>\n",
        "Responsável: Fundação Getulio Vargas (FGV)<br>\n",
        "Divulgação: Final de cada mês de referência.<br>\n",
        "Período de Medição: Entre o dia 21 do mês anterior e o dia 20 do mês de referência.<br>\n",
        "\n",
        "- **IPA-DI - Índice do Produtor Amplo**<br>\n",
        "Responsável: Fundação Getulio Vargas (FGV)<br>\n",
        "Divulgação: Final de cada mês de referência.<br>\n",
        "Período de Medição: Entre o dia 21 do mês anterior e o dia 20 do mês de referência.<br>\n",
        "\n",
        "- **IPA-10 - Prévia do IPA**<br>\n",
        "Responsável: Fundação Getulio Vargas (FGV)<br>\n",
        "Divulgação: Segunda quinzena do mês de referência.<br>\n",
        "Período de Medição: Entre o dia 11 do mês anterior e o dia 10 do mês de referência.<br>\n",
        "\n",
        "- **IPA-M - Índice do Produtor Amplo - Mercado**<br>\n",
        "Responsável: Fundação Getulio Vargas (FGV)<br>\n",
        "Divulgação: Final de cada mês de referência.<br>\n",
        "Período de Medição: Entre o dia 21 do mês anterior e o dia 20 do mês de referência.<br>\n",
        "\n",
        "- **IPC - Índice de Preços ao Consumidor**<br>\n",
        "Responsável: Fundação Getulio Vargas (FGV)<br>\n",
        "Divulgação: Nos primeiros 10 dias úteis do mês. Referência do mês anterior.<br>\n",
        "Período de Medição: Primeiro e último mês de referência.<br>\n",
        "\n",
        "**OBVIAMENTE:**\n",
        "\n",
        "Não estudaremos todos os indicadores, pois eu quero trazer um artigo básico e não uma 'Bíblia(respeito) Inflacionária'."
      ]
    },
    {
      "cell_type": "markdown",
      "metadata": {},
      "source": [
        "## Enfim:\n"
      ]
    },
    {
      "cell_type": "markdown",
      "metadata": {},
      "source": [
        "Essa resumidíssima introdução, nem de perto explica a complexidade sobre o tema, sobre as causas, consequências, modelos e demais ferramentas para estudo do fenômeno.\n",
        "\n",
        "\n",
        "Mas, agora adentramos ao código (parte divertida) e com alguns comentários mais pertinentes."
      ]
    },
    {
      "cell_type": "markdown",
      "metadata": {},
      "source": [
        "---"
      ]
    },
    {
      "cell_type": "markdown",
      "metadata": {},
      "source": [
        "## Senhoras e Senhores, O código!"
      ]
    },
    {
      "cell_type": "markdown",
      "metadata": {},
      "source": [
        "### 01 Pacotes e Bibliotecas"
      ]
    },
    {
      "cell_type": "markdown",
      "metadata": {},
      "source": [
        "Aqui utilizaremos APIs para obter os dados de forma dinâmica, e essas APIs são do **Sidra** *(dados estatísticos coletados e compilados pelo IBGE)* e do **Banco Central do Brasil**\n",
        "\n",
        "*Obs: caso não tenha instalado tais pacotes em sua máquina, retire o '#' que está à frente dos comandos*"
      ]
    },
    {
      "cell_type": "code",
      "execution_count": 375,
      "metadata": {
        "colab": {
          "base_uri": "https://localhost:8080/"
        },
        "id": "kRwmTt87JO9n",
        "outputId": "b79dab9d-cbaf-473a-e7f9-417ad39d9494"
      },
      "outputs": [],
      "source": [
        "# !pip install sidrapy\n",
        "# !pip install python-bcb"
      ]
    },
    {
      "cell_type": "markdown",
      "metadata": {},
      "source": [
        "Se alguns dos pacotes das bibliotecas abaixo não estiverem instalados, por favor, consulte o Google sobre o pacote, geralmente estará no formato:\n",
        "\n",
        "*\"!pip install (nome do pacote)\"*"
      ]
    },
    {
      "cell_type": "code",
      "execution_count": 376,
      "metadata": {
        "id": "vANNmc5LJHED"
      },
      "outputs": [],
      "source": [
        "# Bibliotecas\n",
        "import sidrapy as sidra\n",
        "import pandas as pd\n",
        "import numpy as np\n",
        "import seaborn as sns\n",
        "from bcb import sgs\n",
        "import datetime\n",
        "import warnings\n",
        "warnings.filterwarnings(\"ignore\")\n",
        "import matplotlib.pyplot as plt"
      ]
    },
    {
      "cell_type": "markdown",
      "metadata": {},
      "source": [
        "### 02. Obtenção dos Dados"
      ]
    },
    {
      "cell_type": "markdown",
      "metadata": {},
      "source": [
        "Aqui faremos alguns passos referentes à base de dados e tais passos:\n",
        "1. a coleta dos dados de forma dinâmica (necessário conexão com a internet)\n",
        "2. análise exploratória (para identificar padrões e demais)\n",
        "3. tratamento (se necessário)"
      ]
    },
    {
      "cell_type": "markdown",
      "metadata": {
        "id": "WptbWApOJHET"
      },
      "source": [
        "#### 2.1 IPCA"
      ]
    },
    {
      "cell_type": "markdown",
      "metadata": {},
      "source": [
        "Vamos obter dados do SIDRA (IBGE) selecionando alguns parâmetros referentes às tabelas.\n",
        "\n",
        "Você pode buscar as tabelas [neste site](https://sidra.ibge.gov.br/home/pimpfbr/brasil) ou [nesse](https://servicodados.ibge.gov.br/api/docs/agregados?versao=3)\n",
        "\n",
        "**Os parâmetros:**<br>\n",
        "- t (table_code) - é o código da tabela referente ao indicador e a pesquisa;\n",
        "- p (period) - utilizado para especificar o período;\n",
        "- v (variable) - para especificar as variáveis desejadas;\n",
        "- n (territorial_level) - especifica os níveis territoriais;\n",
        "- n/ (ibge_territorial_code) - inserido dentro do nível territorial, especificar o código territorial do IBGE;\n",
        "- c/ (classification/categories) - especifica as classificações da tabela e suas respectivas categorias.\n",
        "\n",
        "Se quiser se aprofundar e melhorar o código, [aqui](https://apisidra.ibge.gov.br/home/ajuda) está uma ajudinha."
      ]
    },
    {
      "cell_type": "code",
      "execution_count": 377,
      "metadata": {
        "colab": {
          "base_uri": "https://localhost:8080/",
          "height": 423
        },
        "id": "t1NOVkEdJHEV",
        "outputId": "974e81a7-c916-43a0-e957-bc3770fcd86b"
      },
      "outputs": [
        {
          "data": {
            "text/html": [
              "<div>\n",
              "<style scoped>\n",
              "    .dataframe tbody tr th:only-of-type {\n",
              "        vertical-align: middle;\n",
              "    }\n",
              "\n",
              "    .dataframe tbody tr th {\n",
              "        vertical-align: top;\n",
              "    }\n",
              "\n",
              "    .dataframe thead th {\n",
              "        text-align: right;\n",
              "    }\n",
              "</style>\n",
              "<table border=\"1\" class=\"dataframe\">\n",
              "  <thead>\n",
              "    <tr style=\"text-align: right;\">\n",
              "      <th></th>\n",
              "      <th>NC</th>\n",
              "      <th>NN</th>\n",
              "      <th>MC</th>\n",
              "      <th>MN</th>\n",
              "      <th>V</th>\n",
              "      <th>D1C</th>\n",
              "      <th>D1N</th>\n",
              "      <th>D2C</th>\n",
              "      <th>D2N</th>\n",
              "      <th>D3C</th>\n",
              "      <th>D3N</th>\n",
              "    </tr>\n",
              "  </thead>\n",
              "  <tbody>\n",
              "    <tr>\n",
              "      <th>0</th>\n",
              "      <td>1</td>\n",
              "      <td>Brasil</td>\n",
              "      <td></td>\n",
              "      <td></td>\n",
              "      <td>...</td>\n",
              "      <td>1</td>\n",
              "      <td>Brasil</td>\n",
              "      <td>197912</td>\n",
              "      <td>dezembro 1979</td>\n",
              "      <td>63</td>\n",
              "      <td>IPCA - Variação mensal</td>\n",
              "    </tr>\n",
              "    <tr>\n",
              "      <th>1</th>\n",
              "      <td>1</td>\n",
              "      <td>Brasil</td>\n",
              "      <td></td>\n",
              "      <td></td>\n",
              "      <td>...</td>\n",
              "      <td>1</td>\n",
              "      <td>Brasil</td>\n",
              "      <td>197912</td>\n",
              "      <td>dezembro 1979</td>\n",
              "      <td>69</td>\n",
              "      <td>IPCA - Variação acumulada no ano</td>\n",
              "    </tr>\n",
              "    <tr>\n",
              "      <th>2</th>\n",
              "      <td>1</td>\n",
              "      <td>Brasil</td>\n",
              "      <td></td>\n",
              "      <td></td>\n",
              "      <td>...</td>\n",
              "      <td>1</td>\n",
              "      <td>Brasil</td>\n",
              "      <td>197912</td>\n",
              "      <td>dezembro 1979</td>\n",
              "      <td>2265</td>\n",
              "      <td>IPCA - Variação acumulada em 12 meses</td>\n",
              "    </tr>\n",
              "    <tr>\n",
              "      <th>3</th>\n",
              "      <td>1</td>\n",
              "      <td>Brasil</td>\n",
              "      <td>2</td>\n",
              "      <td>%</td>\n",
              "      <td>6.62</td>\n",
              "      <td>1</td>\n",
              "      <td>Brasil</td>\n",
              "      <td>198001</td>\n",
              "      <td>janeiro 1980</td>\n",
              "      <td>63</td>\n",
              "      <td>IPCA - Variação mensal</td>\n",
              "    </tr>\n",
              "    <tr>\n",
              "      <th>4</th>\n",
              "      <td>1</td>\n",
              "      <td>Brasil</td>\n",
              "      <td>2</td>\n",
              "      <td>%</td>\n",
              "      <td>6.62</td>\n",
              "      <td>1</td>\n",
              "      <td>Brasil</td>\n",
              "      <td>198001</td>\n",
              "      <td>janeiro 1980</td>\n",
              "      <td>69</td>\n",
              "      <td>IPCA - Variação acumulada no ano</td>\n",
              "    </tr>\n",
              "    <tr>\n",
              "      <th>...</th>\n",
              "      <td>...</td>\n",
              "      <td>...</td>\n",
              "      <td>...</td>\n",
              "      <td>...</td>\n",
              "      <td>...</td>\n",
              "      <td>...</td>\n",
              "      <td>...</td>\n",
              "      <td>...</td>\n",
              "      <td>...</td>\n",
              "      <td>...</td>\n",
              "      <td>...</td>\n",
              "    </tr>\n",
              "    <tr>\n",
              "      <th>1576</th>\n",
              "      <td>1</td>\n",
              "      <td>Brasil</td>\n",
              "      <td>2</td>\n",
              "      <td>%</td>\n",
              "      <td>3.50</td>\n",
              "      <td>1</td>\n",
              "      <td>Brasil</td>\n",
              "      <td>202309</td>\n",
              "      <td>setembro 2023</td>\n",
              "      <td>69</td>\n",
              "      <td>IPCA - Variação acumulada no ano</td>\n",
              "    </tr>\n",
              "    <tr>\n",
              "      <th>1577</th>\n",
              "      <td>1</td>\n",
              "      <td>Brasil</td>\n",
              "      <td>2</td>\n",
              "      <td>%</td>\n",
              "      <td>5.19</td>\n",
              "      <td>1</td>\n",
              "      <td>Brasil</td>\n",
              "      <td>202309</td>\n",
              "      <td>setembro 2023</td>\n",
              "      <td>2265</td>\n",
              "      <td>IPCA - Variação acumulada em 12 meses</td>\n",
              "    </tr>\n",
              "    <tr>\n",
              "      <th>1578</th>\n",
              "      <td>1</td>\n",
              "      <td>Brasil</td>\n",
              "      <td>2</td>\n",
              "      <td>%</td>\n",
              "      <td>0.24</td>\n",
              "      <td>1</td>\n",
              "      <td>Brasil</td>\n",
              "      <td>202310</td>\n",
              "      <td>outubro 2023</td>\n",
              "      <td>63</td>\n",
              "      <td>IPCA - Variação mensal</td>\n",
              "    </tr>\n",
              "    <tr>\n",
              "      <th>1579</th>\n",
              "      <td>1</td>\n",
              "      <td>Brasil</td>\n",
              "      <td>2</td>\n",
              "      <td>%</td>\n",
              "      <td>3.75</td>\n",
              "      <td>1</td>\n",
              "      <td>Brasil</td>\n",
              "      <td>202310</td>\n",
              "      <td>outubro 2023</td>\n",
              "      <td>69</td>\n",
              "      <td>IPCA - Variação acumulada no ano</td>\n",
              "    </tr>\n",
              "    <tr>\n",
              "      <th>1580</th>\n",
              "      <td>1</td>\n",
              "      <td>Brasil</td>\n",
              "      <td>2</td>\n",
              "      <td>%</td>\n",
              "      <td>4.82</td>\n",
              "      <td>1</td>\n",
              "      <td>Brasil</td>\n",
              "      <td>202310</td>\n",
              "      <td>outubro 2023</td>\n",
              "      <td>2265</td>\n",
              "      <td>IPCA - Variação acumulada em 12 meses</td>\n",
              "    </tr>\n",
              "  </tbody>\n",
              "</table>\n",
              "<p>1581 rows × 11 columns</p>\n",
              "</div>"
            ],
            "text/plain": [
              "     NC      NN MC MN     V D1C     D1N     D2C            D2N   D3C  \\\n",
              "0     1  Brasil         ...   1  Brasil  197912  dezembro 1979    63   \n",
              "1     1  Brasil         ...   1  Brasil  197912  dezembro 1979    69   \n",
              "2     1  Brasil         ...   1  Brasil  197912  dezembro 1979  2265   \n",
              "3     1  Brasil  2  %  6.62   1  Brasil  198001   janeiro 1980    63   \n",
              "4     1  Brasil  2  %  6.62   1  Brasil  198001   janeiro 1980    69   \n",
              "...  ..     ... .. ..   ...  ..     ...     ...            ...   ...   \n",
              "1576  1  Brasil  2  %  3.50   1  Brasil  202309  setembro 2023    69   \n",
              "1577  1  Brasil  2  %  5.19   1  Brasil  202309  setembro 2023  2265   \n",
              "1578  1  Brasil  2  %  0.24   1  Brasil  202310   outubro 2023    63   \n",
              "1579  1  Brasil  2  %  3.75   1  Brasil  202310   outubro 2023    69   \n",
              "1580  1  Brasil  2  %  4.82   1  Brasil  202310   outubro 2023  2265   \n",
              "\n",
              "                                        D3N  \n",
              "0                    IPCA - Variação mensal  \n",
              "1          IPCA - Variação acumulada no ano  \n",
              "2     IPCA - Variação acumulada em 12 meses  \n",
              "3                    IPCA - Variação mensal  \n",
              "4          IPCA - Variação acumulada no ano  \n",
              "...                                     ...  \n",
              "1576       IPCA - Variação acumulada no ano  \n",
              "1577  IPCA - Variação acumulada em 12 meses  \n",
              "1578                 IPCA - Variação mensal  \n",
              "1579       IPCA - Variação acumulada no ano  \n",
              "1580  IPCA - Variação acumulada em 12 meses  \n",
              "\n",
              "[1581 rows x 11 columns]"
            ]
          },
          "execution_count": 377,
          "metadata": {},
          "output_type": "execute_result"
        }
      ],
      "source": [
        "ipca_raw = sidra.get_table(\n",
        "    table_code = '1737 ',\n",
        "    territorial_level = '1',\n",
        "    ibge_territorial_code = 'all',\n",
        "    variable = '63,69,2265',\n",
        "    period = 'all',\n",
        "    header = 'n'\n",
        ")\n",
        "ipca_raw"
      ]
    },
    {
      "cell_type": "code",
      "execution_count": 378,
      "metadata": {},
      "outputs": [
        {
          "data": {
            "text/html": [
              "<div>\n",
              "<style scoped>\n",
              "    .dataframe tbody tr th:only-of-type {\n",
              "        vertical-align: middle;\n",
              "    }\n",
              "\n",
              "    .dataframe tbody tr th {\n",
              "        vertical-align: top;\n",
              "    }\n",
              "\n",
              "    .dataframe thead th {\n",
              "        text-align: right;\n",
              "    }\n",
              "</style>\n",
              "<table border=\"1\" class=\"dataframe\">\n",
              "  <thead>\n",
              "    <tr style=\"text-align: right;\">\n",
              "      <th></th>\n",
              "      <th>var_ipca</th>\n",
              "      <th>date</th>\n",
              "      <th>codigo</th>\n",
              "      <th>descricao</th>\n",
              "    </tr>\n",
              "  </thead>\n",
              "  <tbody>\n",
              "    <tr>\n",
              "      <th>0</th>\n",
              "      <td>...</td>\n",
              "      <td>197912</td>\n",
              "      <td>63</td>\n",
              "      <td>IPCA - Variação mensal</td>\n",
              "    </tr>\n",
              "    <tr>\n",
              "      <th>1</th>\n",
              "      <td>...</td>\n",
              "      <td>197912</td>\n",
              "      <td>69</td>\n",
              "      <td>IPCA - Variação acumulada no ano</td>\n",
              "    </tr>\n",
              "    <tr>\n",
              "      <th>2</th>\n",
              "      <td>...</td>\n",
              "      <td>197912</td>\n",
              "      <td>2265</td>\n",
              "      <td>IPCA - Variação acumulada em 12 meses</td>\n",
              "    </tr>\n",
              "    <tr>\n",
              "      <th>3</th>\n",
              "      <td>6.62</td>\n",
              "      <td>198001</td>\n",
              "      <td>63</td>\n",
              "      <td>IPCA - Variação mensal</td>\n",
              "    </tr>\n",
              "    <tr>\n",
              "      <th>4</th>\n",
              "      <td>6.62</td>\n",
              "      <td>198001</td>\n",
              "      <td>69</td>\n",
              "      <td>IPCA - Variação acumulada no ano</td>\n",
              "    </tr>\n",
              "    <tr>\n",
              "      <th>...</th>\n",
              "      <td>...</td>\n",
              "      <td>...</td>\n",
              "      <td>...</td>\n",
              "      <td>...</td>\n",
              "    </tr>\n",
              "    <tr>\n",
              "      <th>1576</th>\n",
              "      <td>3.50</td>\n",
              "      <td>202309</td>\n",
              "      <td>69</td>\n",
              "      <td>IPCA - Variação acumulada no ano</td>\n",
              "    </tr>\n",
              "    <tr>\n",
              "      <th>1577</th>\n",
              "      <td>5.19</td>\n",
              "      <td>202309</td>\n",
              "      <td>2265</td>\n",
              "      <td>IPCA - Variação acumulada em 12 meses</td>\n",
              "    </tr>\n",
              "    <tr>\n",
              "      <th>1578</th>\n",
              "      <td>0.24</td>\n",
              "      <td>202310</td>\n",
              "      <td>63</td>\n",
              "      <td>IPCA - Variação mensal</td>\n",
              "    </tr>\n",
              "    <tr>\n",
              "      <th>1579</th>\n",
              "      <td>3.75</td>\n",
              "      <td>202310</td>\n",
              "      <td>69</td>\n",
              "      <td>IPCA - Variação acumulada no ano</td>\n",
              "    </tr>\n",
              "    <tr>\n",
              "      <th>1580</th>\n",
              "      <td>4.82</td>\n",
              "      <td>202310</td>\n",
              "      <td>2265</td>\n",
              "      <td>IPCA - Variação acumulada em 12 meses</td>\n",
              "    </tr>\n",
              "  </tbody>\n",
              "</table>\n",
              "<p>1581 rows × 4 columns</p>\n",
              "</div>"
            ],
            "text/plain": [
              "     var_ipca    date codigo                              descricao\n",
              "0         ...  197912     63                 IPCA - Variação mensal\n",
              "1         ...  197912     69       IPCA - Variação acumulada no ano\n",
              "2         ...  197912   2265  IPCA - Variação acumulada em 12 meses\n",
              "3        6.62  198001     63                 IPCA - Variação mensal\n",
              "4        6.62  198001     69       IPCA - Variação acumulada no ano\n",
              "...       ...     ...    ...                                    ...\n",
              "1576     3.50  202309     69       IPCA - Variação acumulada no ano\n",
              "1577     5.19  202309   2265  IPCA - Variação acumulada em 12 meses\n",
              "1578     0.24  202310     63                 IPCA - Variação mensal\n",
              "1579     3.75  202310     69       IPCA - Variação acumulada no ano\n",
              "1580     4.82  202310   2265  IPCA - Variação acumulada em 12 meses\n",
              "\n",
              "[1581 rows x 4 columns]"
            ]
          },
          "execution_count": 378,
          "metadata": {},
          "output_type": "execute_result"
        }
      ],
      "source": [
        "# Selecionando as colunas de interesse\n",
        "ipca = (\n",
        "    ipca_raw.loc[0:, ['V', 'D2C', 'D3C', 'D3N']]\n",
        "    .rename(columns = {\n",
        "        'V': 'var_ipca',\n",
        "        'D2C': 'date',\n",
        "        'D3C': 'codigo',\n",
        "        'D3N': 'descricao'\n",
        "    })\n",
        ")\n",
        "ipca"
      ]
    },
    {
      "cell_type": "code",
      "execution_count": 379,
      "metadata": {},
      "outputs": [
        {
          "data": {
            "text/html": [
              "<div>\n",
              "<style scoped>\n",
              "    .dataframe tbody tr th:only-of-type {\n",
              "        vertical-align: middle;\n",
              "    }\n",
              "\n",
              "    .dataframe tbody tr th {\n",
              "        vertical-align: top;\n",
              "    }\n",
              "\n",
              "    .dataframe thead th {\n",
              "        text-align: right;\n",
              "    }\n",
              "</style>\n",
              "<table border=\"1\" class=\"dataframe\">\n",
              "  <thead>\n",
              "    <tr style=\"text-align: right;\">\n",
              "      <th></th>\n",
              "      <th>var_ipca</th>\n",
              "      <th>codigo</th>\n",
              "      <th>descricao</th>\n",
              "    </tr>\n",
              "    <tr>\n",
              "      <th>date</th>\n",
              "      <th></th>\n",
              "      <th></th>\n",
              "      <th></th>\n",
              "    </tr>\n",
              "  </thead>\n",
              "  <tbody>\n",
              "    <tr>\n",
              "      <th>1979-12</th>\n",
              "      <td>...</td>\n",
              "      <td>63</td>\n",
              "      <td>IPCA - Variação mensal</td>\n",
              "    </tr>\n",
              "    <tr>\n",
              "      <th>1979-12</th>\n",
              "      <td>...</td>\n",
              "      <td>69</td>\n",
              "      <td>IPCA - Variação acumulada no ano</td>\n",
              "    </tr>\n",
              "    <tr>\n",
              "      <th>1979-12</th>\n",
              "      <td>...</td>\n",
              "      <td>2265</td>\n",
              "      <td>IPCA - Variação acumulada em 12 meses</td>\n",
              "    </tr>\n",
              "    <tr>\n",
              "      <th>1980-01</th>\n",
              "      <td>6.62</td>\n",
              "      <td>63</td>\n",
              "      <td>IPCA - Variação mensal</td>\n",
              "    </tr>\n",
              "    <tr>\n",
              "      <th>1980-01</th>\n",
              "      <td>6.62</td>\n",
              "      <td>69</td>\n",
              "      <td>IPCA - Variação acumulada no ano</td>\n",
              "    </tr>\n",
              "    <tr>\n",
              "      <th>...</th>\n",
              "      <td>...</td>\n",
              "      <td>...</td>\n",
              "      <td>...</td>\n",
              "    </tr>\n",
              "    <tr>\n",
              "      <th>2023-09</th>\n",
              "      <td>3.50</td>\n",
              "      <td>69</td>\n",
              "      <td>IPCA - Variação acumulada no ano</td>\n",
              "    </tr>\n",
              "    <tr>\n",
              "      <th>2023-09</th>\n",
              "      <td>5.19</td>\n",
              "      <td>2265</td>\n",
              "      <td>IPCA - Variação acumulada em 12 meses</td>\n",
              "    </tr>\n",
              "    <tr>\n",
              "      <th>2023-10</th>\n",
              "      <td>0.24</td>\n",
              "      <td>63</td>\n",
              "      <td>IPCA - Variação mensal</td>\n",
              "    </tr>\n",
              "    <tr>\n",
              "      <th>2023-10</th>\n",
              "      <td>3.75</td>\n",
              "      <td>69</td>\n",
              "      <td>IPCA - Variação acumulada no ano</td>\n",
              "    </tr>\n",
              "    <tr>\n",
              "      <th>2023-10</th>\n",
              "      <td>4.82</td>\n",
              "      <td>2265</td>\n",
              "      <td>IPCA - Variação acumulada em 12 meses</td>\n",
              "    </tr>\n",
              "  </tbody>\n",
              "</table>\n",
              "<p>1581 rows × 3 columns</p>\n",
              "</div>"
            ],
            "text/plain": [
              "        var_ipca codigo                              descricao\n",
              "date                                                          \n",
              "1979-12      ...     63                 IPCA - Variação mensal\n",
              "1979-12      ...     69       IPCA - Variação acumulada no ano\n",
              "1979-12      ...   2265  IPCA - Variação acumulada em 12 meses\n",
              "1980-01     6.62     63                 IPCA - Variação mensal\n",
              "1980-01     6.62     69       IPCA - Variação acumulada no ano\n",
              "...          ...    ...                                    ...\n",
              "2023-09     3.50     69       IPCA - Variação acumulada no ano\n",
              "2023-09     5.19   2265  IPCA - Variação acumulada em 12 meses\n",
              "2023-10     0.24     63                 IPCA - Variação mensal\n",
              "2023-10     3.75     69       IPCA - Variação acumulada no ano\n",
              "2023-10     4.82   2265  IPCA - Variação acumulada em 12 meses\n",
              "\n",
              "[1581 rows x 3 columns]"
            ]
          },
          "execution_count": 379,
          "metadata": {},
          "output_type": "execute_result"
        }
      ],
      "source": [
        "# Converter a coluna 'date' para formato datetime\n",
        "ipca['date'] = pd.to_datetime(ipca['date'], format='%Y%m')\n",
        "\n",
        "# Formatar a coluna 'date'\n",
        "ipca['date'] = ipca['date'].dt.to_period('M')\n",
        "\n",
        "# transformando a coluna 'date' em índice\n",
        "ipca.set_index('date', inplace=True)\n",
        "ipca"
      ]
    },
    {
      "cell_type": "code",
      "execution_count": 380,
      "metadata": {},
      "outputs": [
        {
          "data": {
            "text/html": [
              "<div>\n",
              "<style scoped>\n",
              "    .dataframe tbody tr th:only-of-type {\n",
              "        vertical-align: middle;\n",
              "    }\n",
              "\n",
              "    .dataframe tbody tr th {\n",
              "        vertical-align: top;\n",
              "    }\n",
              "\n",
              "    .dataframe thead th {\n",
              "        text-align: right;\n",
              "    }\n",
              "</style>\n",
              "<table border=\"1\" class=\"dataframe\">\n",
              "  <thead>\n",
              "    <tr style=\"text-align: right;\">\n",
              "      <th></th>\n",
              "      <th>var_ipca</th>\n",
              "    </tr>\n",
              "    <tr>\n",
              "      <th>date</th>\n",
              "      <th></th>\n",
              "    </tr>\n",
              "  </thead>\n",
              "  <tbody>\n",
              "    <tr>\n",
              "      <th>1979-12</th>\n",
              "      <td>...</td>\n",
              "    </tr>\n",
              "    <tr>\n",
              "      <th>1980-01</th>\n",
              "      <td>6.62</td>\n",
              "    </tr>\n",
              "    <tr>\n",
              "      <th>1980-02</th>\n",
              "      <td>4.62</td>\n",
              "    </tr>\n",
              "    <tr>\n",
              "      <th>1980-03</th>\n",
              "      <td>6.04</td>\n",
              "    </tr>\n",
              "    <tr>\n",
              "      <th>1980-04</th>\n",
              "      <td>5.29</td>\n",
              "    </tr>\n",
              "    <tr>\n",
              "      <th>...</th>\n",
              "      <td>...</td>\n",
              "    </tr>\n",
              "    <tr>\n",
              "      <th>2023-06</th>\n",
              "      <td>-0.08</td>\n",
              "    </tr>\n",
              "    <tr>\n",
              "      <th>2023-07</th>\n",
              "      <td>0.12</td>\n",
              "    </tr>\n",
              "    <tr>\n",
              "      <th>2023-08</th>\n",
              "      <td>0.23</td>\n",
              "    </tr>\n",
              "    <tr>\n",
              "      <th>2023-09</th>\n",
              "      <td>0.26</td>\n",
              "    </tr>\n",
              "    <tr>\n",
              "      <th>2023-10</th>\n",
              "      <td>0.24</td>\n",
              "    </tr>\n",
              "  </tbody>\n",
              "</table>\n",
              "<p>527 rows × 1 columns</p>\n",
              "</div>"
            ],
            "text/plain": [
              "        var_ipca\n",
              "date            \n",
              "1979-12      ...\n",
              "1980-01     6.62\n",
              "1980-02     4.62\n",
              "1980-03     6.04\n",
              "1980-04     5.29\n",
              "...          ...\n",
              "2023-06    -0.08\n",
              "2023-07     0.12\n",
              "2023-08     0.23\n",
              "2023-09     0.26\n",
              "2023-10     0.24\n",
              "\n",
              "[527 rows x 1 columns]"
            ]
          },
          "execution_count": 380,
          "metadata": {},
          "output_type": "execute_result"
        }
      ],
      "source": [
        "# Selecionando somente as colunas com o código 63\n",
        "ipca = ipca.loc[ipca['codigo'] == '63']\n",
        "\n",
        "# Deixando de fora as colunas 'codigo' e 'descricao'\n",
        "ipca = ipca[['var_ipca']]\n",
        "ipca"
      ]
    },
    {
      "cell_type": "code",
      "execution_count": 381,
      "metadata": {},
      "outputs": [
        {
          "name": "stdout",
          "output_type": "stream",
          "text": [
            "<class 'pandas.core.frame.DataFrame'>\n",
            "PeriodIndex: 527 entries, 1979-12 to 2023-10\n",
            "Freq: M\n",
            "Data columns (total 1 columns):\n",
            " #   Column    Non-Null Count  Dtype  \n",
            "---  ------    --------------  -----  \n",
            " 0   var_ipca  526 non-null    float64\n",
            "dtypes: float64(1)\n",
            "memory usage: 8.2 KB\n"
          ]
        }
      ],
      "source": [
        "# Lista das colunas a serem convertidas para float\n",
        "ipca = ipca[['var_ipca']]\n",
        "\n",
        "# Iterar sobre as colunas e converter para float, tratando valores não numéricos como NaN\n",
        "for coluna in ipca:\n",
        "    ipca[coluna] = pd.to_numeric(ipca[coluna], errors='coerce')\n",
        "\n",
        "ipca.info()"
      ]
    },
    {
      "cell_type": "markdown",
      "metadata": {},
      "source": [
        "Nesse passo:\n",
        "1. Criaremos 3 colunas com os valores e as colunas: 'acum_3m_ipca', 'acum_12m_ipca' e 'acum_ano_ipca'\n",
        "2. Converteremos todas em float e faremos os seus cálculos\n",
        "3. Reorganizamos as colunas"
      ]
    },
    {
      "cell_type": "code",
      "execution_count": 382,
      "metadata": {},
      "outputs": [
        {
          "data": {
            "text/html": [
              "<div>\n",
              "<style scoped>\n",
              "    .dataframe tbody tr th:only-of-type {\n",
              "        vertical-align: middle;\n",
              "    }\n",
              "\n",
              "    .dataframe tbody tr th {\n",
              "        vertical-align: top;\n",
              "    }\n",
              "\n",
              "    .dataframe thead th {\n",
              "        text-align: right;\n",
              "    }\n",
              "</style>\n",
              "<table border=\"1\" class=\"dataframe\">\n",
              "  <thead>\n",
              "    <tr style=\"text-align: right;\">\n",
              "      <th></th>\n",
              "      <th>var_ipca</th>\n",
              "      <th>acum_3m_ipca</th>\n",
              "      <th>acum_12m_ipca</th>\n",
              "      <th>acum_ano_ipca</th>\n",
              "    </tr>\n",
              "    <tr>\n",
              "      <th>date</th>\n",
              "      <th></th>\n",
              "      <th></th>\n",
              "      <th></th>\n",
              "      <th></th>\n",
              "    </tr>\n",
              "  </thead>\n",
              "  <tbody>\n",
              "    <tr>\n",
              "      <th>1979-12</th>\n",
              "      <td>NaN</td>\n",
              "      <td>NaN</td>\n",
              "      <td>NaN</td>\n",
              "      <td>NaN</td>\n",
              "    </tr>\n",
              "    <tr>\n",
              "      <th>1980-01</th>\n",
              "      <td>6.62</td>\n",
              "      <td>6.62</td>\n",
              "      <td>6.62</td>\n",
              "      <td>NaN</td>\n",
              "    </tr>\n",
              "    <tr>\n",
              "      <th>1980-02</th>\n",
              "      <td>4.62</td>\n",
              "      <td>11.24</td>\n",
              "      <td>11.24</td>\n",
              "      <td>NaN</td>\n",
              "    </tr>\n",
              "    <tr>\n",
              "      <th>1980-03</th>\n",
              "      <td>6.04</td>\n",
              "      <td>6.04</td>\n",
              "      <td>17.28</td>\n",
              "      <td>NaN</td>\n",
              "    </tr>\n",
              "    <tr>\n",
              "      <th>1980-04</th>\n",
              "      <td>5.29</td>\n",
              "      <td>11.33</td>\n",
              "      <td>22.57</td>\n",
              "      <td>NaN</td>\n",
              "    </tr>\n",
              "    <tr>\n",
              "      <th>...</th>\n",
              "      <td>...</td>\n",
              "      <td>...</td>\n",
              "      <td>...</td>\n",
              "      <td>...</td>\n",
              "    </tr>\n",
              "    <tr>\n",
              "      <th>2023-06</th>\n",
              "      <td>-0.08</td>\n",
              "      <td>-0.08</td>\n",
              "      <td>3.46</td>\n",
              "      <td>NaN</td>\n",
              "    </tr>\n",
              "    <tr>\n",
              "      <th>2023-07</th>\n",
              "      <td>0.12</td>\n",
              "      <td>0.04</td>\n",
              "      <td>3.58</td>\n",
              "      <td>NaN</td>\n",
              "    </tr>\n",
              "    <tr>\n",
              "      <th>2023-08</th>\n",
              "      <td>0.23</td>\n",
              "      <td>0.27</td>\n",
              "      <td>3.81</td>\n",
              "      <td>NaN</td>\n",
              "    </tr>\n",
              "    <tr>\n",
              "      <th>2023-09</th>\n",
              "      <td>0.26</td>\n",
              "      <td>0.26</td>\n",
              "      <td>4.07</td>\n",
              "      <td>NaN</td>\n",
              "    </tr>\n",
              "    <tr>\n",
              "      <th>2023-10</th>\n",
              "      <td>0.24</td>\n",
              "      <td>0.50</td>\n",
              "      <td>4.31</td>\n",
              "      <td>NaN</td>\n",
              "    </tr>\n",
              "  </tbody>\n",
              "</table>\n",
              "<p>527 rows × 4 columns</p>\n",
              "</div>"
            ],
            "text/plain": [
              "         var_ipca  acum_3m_ipca  acum_12m_ipca  acum_ano_ipca\n",
              "date                                                         \n",
              "1979-12       NaN           NaN            NaN            NaN\n",
              "1980-01      6.62          6.62           6.62            NaN\n",
              "1980-02      4.62         11.24          11.24            NaN\n",
              "1980-03      6.04          6.04          17.28            NaN\n",
              "1980-04      5.29         11.33          22.57            NaN\n",
              "...           ...           ...            ...            ...\n",
              "2023-06     -0.08         -0.08           3.46            NaN\n",
              "2023-07      0.12          0.04           3.58            NaN\n",
              "2023-08      0.23          0.27           3.81            NaN\n",
              "2023-09      0.26          0.26           4.07            NaN\n",
              "2023-10      0.24          0.50           4.31            NaN\n",
              "\n",
              "[527 rows x 4 columns]"
            ]
          },
          "execution_count": 382,
          "metadata": {},
          "output_type": "execute_result"
        }
      ],
      "source": [
        "# Calcular o valor acumulado para trimestre (rolling window de 3 meses)\n",
        "ipca['acum_3m_ipca'] = ipca['var_ipca'].groupby(pd.Grouper(freq='3M')).cumsum()\n",
        "\n",
        "# Calcular o valor acumulado para 12 meses (rolling window de 12 meses)\n",
        "ipca['acum_12m_ipca'] = ipca['var_ipca'].groupby(pd.Grouper(freq='12M')).cumsum()\n",
        "\n",
        "# Calcular o valor acumulado do ano\n",
        "ipca['acum_ano_ipca'] = ipca.groupby(ipca.index.year)['var_ipca'].cumsum().where(ipca.index.month == 12)\n",
        "ipca"
      ]
    },
    {
      "cell_type": "code",
      "execution_count": 383,
      "metadata": {},
      "outputs": [
        {
          "data": {
            "text/html": [
              "<div>\n",
              "<style scoped>\n",
              "    .dataframe tbody tr th:only-of-type {\n",
              "        vertical-align: middle;\n",
              "    }\n",
              "\n",
              "    .dataframe tbody tr th {\n",
              "        vertical-align: top;\n",
              "    }\n",
              "\n",
              "    .dataframe thead th {\n",
              "        text-align: right;\n",
              "    }\n",
              "</style>\n",
              "<table border=\"1\" class=\"dataframe\">\n",
              "  <thead>\n",
              "    <tr style=\"text-align: right;\">\n",
              "      <th></th>\n",
              "      <th>var_ipca</th>\n",
              "      <th>acum_3m_ipca</th>\n",
              "      <th>acum_12m_ipca</th>\n",
              "      <th>acum_ano_ipca</th>\n",
              "    </tr>\n",
              "    <tr>\n",
              "      <th>date</th>\n",
              "      <th></th>\n",
              "      <th></th>\n",
              "      <th></th>\n",
              "      <th></th>\n",
              "    </tr>\n",
              "  </thead>\n",
              "  <tbody>\n",
              "    <tr>\n",
              "      <th>1979-12</th>\n",
              "      <td>NaN</td>\n",
              "      <td>0.00</td>\n",
              "      <td>NaN</td>\n",
              "      <td>NaN</td>\n",
              "    </tr>\n",
              "    <tr>\n",
              "      <th>1980-01</th>\n",
              "      <td>6.62</td>\n",
              "      <td>NaN</td>\n",
              "      <td>6.62</td>\n",
              "      <td>NaN</td>\n",
              "    </tr>\n",
              "    <tr>\n",
              "      <th>1980-02</th>\n",
              "      <td>4.62</td>\n",
              "      <td>NaN</td>\n",
              "      <td>11.24</td>\n",
              "      <td>NaN</td>\n",
              "    </tr>\n",
              "    <tr>\n",
              "      <th>1980-03</th>\n",
              "      <td>6.04</td>\n",
              "      <td>17.28</td>\n",
              "      <td>17.28</td>\n",
              "      <td>NaN</td>\n",
              "    </tr>\n",
              "    <tr>\n",
              "      <th>1980-04</th>\n",
              "      <td>5.29</td>\n",
              "      <td>NaN</td>\n",
              "      <td>22.57</td>\n",
              "      <td>NaN</td>\n",
              "    </tr>\n",
              "    <tr>\n",
              "      <th>...</th>\n",
              "      <td>...</td>\n",
              "      <td>...</td>\n",
              "      <td>...</td>\n",
              "      <td>...</td>\n",
              "    </tr>\n",
              "    <tr>\n",
              "      <th>2023-06</th>\n",
              "      <td>-0.08</td>\n",
              "      <td>0.76</td>\n",
              "      <td>3.46</td>\n",
              "      <td>NaN</td>\n",
              "    </tr>\n",
              "    <tr>\n",
              "      <th>2023-07</th>\n",
              "      <td>0.12</td>\n",
              "      <td>NaN</td>\n",
              "      <td>3.58</td>\n",
              "      <td>NaN</td>\n",
              "    </tr>\n",
              "    <tr>\n",
              "      <th>2023-08</th>\n",
              "      <td>0.23</td>\n",
              "      <td>NaN</td>\n",
              "      <td>3.81</td>\n",
              "      <td>NaN</td>\n",
              "    </tr>\n",
              "    <tr>\n",
              "      <th>2023-09</th>\n",
              "      <td>0.26</td>\n",
              "      <td>0.61</td>\n",
              "      <td>4.07</td>\n",
              "      <td>NaN</td>\n",
              "    </tr>\n",
              "    <tr>\n",
              "      <th>2023-10</th>\n",
              "      <td>0.24</td>\n",
              "      <td>0.24</td>\n",
              "      <td>4.31</td>\n",
              "      <td>NaN</td>\n",
              "    </tr>\n",
              "  </tbody>\n",
              "</table>\n",
              "<p>527 rows × 4 columns</p>\n",
              "</div>"
            ],
            "text/plain": [
              "         var_ipca  acum_3m_ipca  acum_12m_ipca  acum_ano_ipca\n",
              "date                                                         \n",
              "1979-12       NaN          0.00            NaN            NaN\n",
              "1980-01      6.62           NaN           6.62            NaN\n",
              "1980-02      4.62           NaN          11.24            NaN\n",
              "1980-03      6.04         17.28          17.28            NaN\n",
              "1980-04      5.29           NaN          22.57            NaN\n",
              "...           ...           ...            ...            ...\n",
              "2023-06     -0.08          0.76           3.46            NaN\n",
              "2023-07      0.12           NaN           3.58            NaN\n",
              "2023-08      0.23           NaN           3.81            NaN\n",
              "2023-09      0.26          0.61           4.07            NaN\n",
              "2023-10      0.24          0.24           4.31            NaN\n",
              "\n",
              "[527 rows x 4 columns]"
            ]
          },
          "execution_count": 383,
          "metadata": {},
          "output_type": "execute_result"
        }
      ],
      "source": [
        "# Ordene o DataFrame pelo índice (data)\n",
        "ipca.sort_index(inplace=True)\n",
        "\n",
        "# Crie a coluna acum_3m_ipca preenchida com NaN\n",
        "ipca['acum_3m_ipca'] = float('nan')\n",
        "\n",
        "# Itere sobre os anos no DataFrame\n",
        "for year in ipca.index.year.unique():\n",
        "    # Selecione os dados do ano atual\n",
        "    year_data = ipca[ipca.index.year == year]\n",
        "\n",
        "    # Itere sobre os trimestres\n",
        "    for start_month in range(1, 13, 3):\n",
        "        end_month = start_month + 2\n",
        "\n",
        "        # Selecione os dados dos três meses do trimestre\n",
        "        current_trimester_data = year_data[year_data.index.month.isin([start_month, start_month + 1, end_month])]\n",
        "\n",
        "        # Se o trimestre atual não tiver dados, continue para o próximo trimestre\n",
        "        if current_trimester_data.empty:\n",
        "            continue\n",
        "\n",
        "        # Calcule o valor acumulado para o trimestre atual\n",
        "        ipca.loc[current_trimester_data.index[-1], 'acum_3m_ipca'] = current_trimester_data['var_ipca'].sum()\n",
        "\n",
        "# fim do laço\n",
        "ipca\n"
      ]
    },
    {
      "cell_type": "code",
      "execution_count": 384,
      "metadata": {},
      "outputs": [
        {
          "data": {
            "text/html": [
              "<div>\n",
              "<style scoped>\n",
              "    .dataframe tbody tr th:only-of-type {\n",
              "        vertical-align: middle;\n",
              "    }\n",
              "\n",
              "    .dataframe tbody tr th {\n",
              "        vertical-align: top;\n",
              "    }\n",
              "\n",
              "    .dataframe thead th {\n",
              "        text-align: right;\n",
              "    }\n",
              "</style>\n",
              "<table border=\"1\" class=\"dataframe\">\n",
              "  <thead>\n",
              "    <tr style=\"text-align: right;\">\n",
              "      <th></th>\n",
              "      <th>var_ipca</th>\n",
              "      <th>acum_3m_ipca</th>\n",
              "      <th>acum_12m_ipca</th>\n",
              "      <th>acum_ano_ipca</th>\n",
              "    </tr>\n",
              "  </thead>\n",
              "  <tbody>\n",
              "    <tr>\n",
              "      <th>count</th>\n",
              "      <td>526.000000</td>\n",
              "      <td>177.000000</td>\n",
              "      <td>526.000000</td>\n",
              "      <td>43.000000</td>\n",
              "    </tr>\n",
              "    <tr>\n",
              "      <th>mean</th>\n",
              "      <td>5.832015</td>\n",
              "      <td>17.331299</td>\n",
              "      <td>39.987833</td>\n",
              "      <td>71.254651</td>\n",
              "    </tr>\n",
              "    <tr>\n",
              "      <th>std</th>\n",
              "      <td>10.777222</td>\n",
              "      <td>31.910260</td>\n",
              "      <td>75.011687</td>\n",
              "      <td>111.078351</td>\n",
              "    </tr>\n",
              "    <tr>\n",
              "      <th>min</th>\n",
              "      <td>-0.680000</td>\n",
              "      <td>-1.330000</td>\n",
              "      <td>0.150000</td>\n",
              "      <td>1.650000</td>\n",
              "    </tr>\n",
              "    <tr>\n",
              "      <th>25%</th>\n",
              "      <td>0.370000</td>\n",
              "      <td>1.150000</td>\n",
              "      <td>2.542500</td>\n",
              "      <td>5.675000</td>\n",
              "    </tr>\n",
              "    <tr>\n",
              "      <th>50%</th>\n",
              "      <td>0.750000</td>\n",
              "      <td>2.080000</td>\n",
              "      <td>5.285000</td>\n",
              "      <td>8.600000</td>\n",
              "    </tr>\n",
              "    <tr>\n",
              "      <th>75%</th>\n",
              "      <td>6.667500</td>\n",
              "      <td>19.650000</td>\n",
              "      <td>44.552500</td>\n",
              "      <td>87.560000</td>\n",
              "    </tr>\n",
              "    <tr>\n",
              "      <th>max</th>\n",
              "      <td>82.390000</td>\n",
              "      <td>225.670000</td>\n",
              "      <td>383.410000</td>\n",
              "      <td>373.790000</td>\n",
              "    </tr>\n",
              "  </tbody>\n",
              "</table>\n",
              "</div>"
            ],
            "text/plain": [
              "         var_ipca  acum_3m_ipca  acum_12m_ipca  acum_ano_ipca\n",
              "count  526.000000    177.000000     526.000000      43.000000\n",
              "mean     5.832015     17.331299      39.987833      71.254651\n",
              "std     10.777222     31.910260      75.011687     111.078351\n",
              "min     -0.680000     -1.330000       0.150000       1.650000\n",
              "25%      0.370000      1.150000       2.542500       5.675000\n",
              "50%      0.750000      2.080000       5.285000       8.600000\n",
              "75%      6.667500     19.650000      44.552500      87.560000\n",
              "max     82.390000    225.670000     383.410000     373.790000"
            ]
          },
          "execution_count": 384,
          "metadata": {},
          "output_type": "execute_result"
        }
      ],
      "source": [
        "ipca.describe()"
      ]
    },
    {
      "cell_type": "markdown",
      "metadata": {},
      "source": [
        "Deu tudo certo! =)"
      ]
    },
    {
      "cell_type": "markdown",
      "metadata": {
        "id": "ZHzaEMnNZr9e"
      },
      "source": [
        "> **Parte legal - Visualização**"
      ]
    },
    {
      "cell_type": "markdown",
      "metadata": {},
      "source": [
        "Criar um gráfico em escala logarítmica é útil em situações em que a variação dos dados abrange uma ampla gama de valores. Isso nos permite visualizar melhor detalhes em regiões de baixa variação, tornando-a particularmente eficaz para dados que se espalham por ordens de magnitude diferentes."
      ]
    },
    {
      "cell_type": "code",
      "execution_count": 385,
      "metadata": {},
      "outputs": [],
      "source": [
        "# Biblioteca top para visualização de gráficos (retire o # se já tiver instalada em sua máquina)\n",
        "# !pip install plotly\n",
        "\n",
        "# Importando a biblioteca\n",
        "import plotly.express as px"
      ]
    },
    {
      "cell_type": "markdown",
      "metadata": {},
      "source": [
        "> OBS:\n",
        "\n",
        "Pode ser que ocorra um erro em relação ao pacote **nbformat**, e o **pip** da sua máquina, indicando que há uma versão insuficiente do pacote. Para resolver, retire o '#' dos códigos abaixo e o execute, se não tiver problemas, segue o baile."
      ]
    },
    {
      "cell_type": "code",
      "execution_count": 386,
      "metadata": {},
      "outputs": [],
      "source": [
        "# !pip install --upgrade pip\n",
        "# !pip install --upgrade nbformat\n",
        "# !pip install nbformat==4.4.0"
      ]
    },
    {
      "cell_type": "code",
      "execution_count": 387,
      "metadata": {},
      "outputs": [
        {
          "data": {
            "application/vnd.plotly.v1+json": {
              "config": {
                "plotlyServerURL": "https://plot.ly"
              },
              "data": [
                {
                  "alignmentgroup": "True",
                  "hovertemplate": "var_ipca=%{x}<extra></extra>",
                  "legendgroup": "",
                  "marker": {
                    "color": "#636efa"
                  },
                  "name": "",
                  "notched": false,
                  "offsetgroup": "",
                  "orientation": "h",
                  "showlegend": false,
                  "type": "box",
                  "x": [
                    null,
                    6.62,
                    4.62,
                    6.04,
                    5.29,
                    5.7,
                    5.31,
                    5.55,
                    4.95,
                    4.23,
                    9.48,
                    6.67,
                    6.61,
                    6.84,
                    6.4,
                    4.97,
                    6.46,
                    5.56,
                    5.52,
                    6.26,
                    5.5,
                    5.26,
                    5.08,
                    5.27,
                    5.93,
                    6.97,
                    6.64,
                    5.71,
                    5.89,
                    6.66,
                    7.1,
                    6.36,
                    5.97,
                    5.08,
                    4.44,
                    5.29,
                    7.81,
                    8.64,
                    7.86,
                    7.34,
                    6.58,
                    6.48,
                    9.88,
                    10.08,
                    9.11,
                    10.3,
                    8.87,
                    7.38,
                    8.68,
                    9.67,
                    9.5,
                    8.94,
                    9.54,
                    9.05,
                    10.08,
                    9.72,
                    9.35,
                    11.75,
                    10.44,
                    10.53,
                    11.98,
                    11.76,
                    10.87,
                    10.16,
                    8.2,
                    7.2,
                    8.49,
                    10.31,
                    12.05,
                    11.12,
                    10.62,
                    13.97,
                    15.07,
                    14.37,
                    12.72,
                    4.77,
                    0.78,
                    1.4,
                    1.27,
                    1.71,
                    3.55,
                    1.72,
                    1.9,
                    5.45,
                    11.65,
                    13.21,
                    12.64,
                    16.37,
                    19.1,
                    21.45,
                    19.71,
                    9.21,
                    4.87,
                    7.78,
                    11.22,
                    15.08,
                    14.15,
                    18.89,
                    15.7,
                    17.6,
                    19.29,
                    17.42,
                    22,
                    21.91,
                    21.59,
                    27.45,
                    25.62,
                    27.94,
                    28.7,
                    37.49,
                    16.78,
                    6.82,
                    8.33,
                    17.92,
                    28.65,
                    27.74,
                    33.71,
                    37.56,
                    39.77,
                    47.82,
                    51.5,
                    67.55,
                    75.73,
                    82.39,
                    15.52,
                    7.59,
                    11.75,
                    12.92,
                    12.88,
                    14.41,
                    14.36,
                    16.81,
                    18.44,
                    20.75,
                    20.72,
                    11.92,
                    4.99,
                    7.43,
                    11.19,
                    12.41,
                    15.63,
                    15.63,
                    20.23,
                    25.21,
                    23.71,
                    25.94,
                    24.32,
                    21.4,
                    19.93,
                    24.86,
                    20.21,
                    21.83,
                    22.14,
                    24.63,
                    25.24,
                    22.49,
                    25.24,
                    30.35,
                    24.98,
                    27.26,
                    27.75,
                    27.69,
                    30.07,
                    30.72,
                    32.96,
                    35.69,
                    33.92,
                    35.56,
                    36.84,
                    41.31,
                    40.27,
                    42.75,
                    42.68,
                    44.03,
                    47.43,
                    6.84,
                    1.86,
                    1.53,
                    2.62,
                    2.81,
                    1.71,
                    1.7,
                    1.02,
                    1.55,
                    2.43,
                    2.67,
                    2.26,
                    2.36,
                    0.99,
                    0.99,
                    1.41,
                    1.47,
                    1.56,
                    1.34,
                    1.03,
                    0.35,
                    1.26,
                    1.22,
                    1.19,
                    1.11,
                    0.44,
                    0.15,
                    0.3,
                    0.32,
                    0.47,
                    1.18,
                    0.5,
                    0.51,
                    0.88,
                    0.41,
                    0.54,
                    0.22,
                    -0.02,
                    0.06,
                    0.23,
                    0.17,
                    0.43,
                    0.71,
                    0.46,
                    0.34,
                    0.24,
                    0.5,
                    0.02,
                    -0.12,
                    -0.51,
                    -0.22,
                    0.02,
                    -0.12,
                    0.33,
                    0.7,
                    1.05,
                    1.1,
                    0.56,
                    0.3,
                    0.19,
                    1.09,
                    0.56,
                    0.31,
                    1.19,
                    0.95,
                    0.6,
                    0.62,
                    0.13,
                    0.22,
                    0.42,
                    0.01,
                    0.23,
                    1.61,
                    1.31,
                    0.23,
                    0.14,
                    0.32,
                    0.59,
                    0.57,
                    0.46,
                    0.38,
                    0.58,
                    0.41,
                    0.52,
                    1.33,
                    0.7,
                    0.28,
                    0.83,
                    0.71,
                    0.65,
                    0.52,
                    0.36,
                    0.6,
                    0.8,
                    0.21,
                    0.42,
                    1.19,
                    0.65,
                    0.72,
                    1.31,
                    3.02,
                    2.1,
                    2.25,
                    1.57,
                    1.23,
                    0.97,
                    0.61,
                    -0.15,
                    0.2,
                    0.34,
                    0.78,
                    0.29,
                    0.34,
                    0.52,
                    0.76,
                    0.61,
                    0.47,
                    0.37,
                    0.51,
                    0.71,
                    0.91,
                    0.69,
                    0.33,
                    0.44,
                    0.69,
                    0.86,
                    0.58,
                    0.59,
                    0.61,
                    0.87,
                    0.49,
                    -0.02,
                    0.25,
                    0.17,
                    0.35,
                    0.75,
                    0.55,
                    0.36,
                    0.59,
                    0.41,
                    0.43,
                    0.21,
                    0.1,
                    -0.21,
                    0.19,
                    0.05,
                    0.21,
                    0.33,
                    0.31,
                    0.48,
                    0.44,
                    0.44,
                    0.37,
                    0.25,
                    0.28,
                    0.28,
                    0.24,
                    0.47,
                    0.18,
                    0.3,
                    0.38,
                    0.74,
                    0.54,
                    0.49,
                    0.48,
                    0.55,
                    0.79,
                    0.74,
                    0.53,
                    0.28,
                    0.26,
                    0.45,
                    0.36,
                    0.28,
                    0.48,
                    0.55,
                    0.2,
                    0.48,
                    0.47,
                    0.36,
                    0.24,
                    0.15,
                    0.24,
                    0.28,
                    0.41,
                    0.37,
                    0.75,
                    0.78,
                    0.52,
                    0.57,
                    0.43,
                    0,
                    0.01,
                    0.04,
                    0.45,
                    0.75,
                    0.83,
                    0.63,
                    0.83,
                    0.8,
                    0.79,
                    0.77,
                    0.47,
                    0.15,
                    0.16,
                    0.37,
                    0.53,
                    0.43,
                    0.52,
                    0.5,
                    0.56,
                    0.45,
                    0.21,
                    0.64,
                    0.36,
                    0.08,
                    0.43,
                    0.41,
                    0.57,
                    0.59,
                    0.6,
                    0.79,
                    0.86,
                    0.6,
                    0.47,
                    0.55,
                    0.37,
                    0.26,
                    0.03,
                    0.24,
                    0.35,
                    0.57,
                    0.54,
                    0.92,
                    0.55,
                    0.69,
                    0.92,
                    0.67,
                    0.46,
                    0.4,
                    0.01,
                    0.25,
                    0.57,
                    0.42,
                    0.51,
                    0.78,
                    1.24,
                    1.22,
                    1.32,
                    0.71,
                    0.74,
                    0.79,
                    0.62,
                    0.22,
                    0.54,
                    0.82,
                    1.01,
                    0.96,
                    1.27,
                    0.9,
                    0.43,
                    0.61,
                    0.78,
                    0.35,
                    0.52,
                    0.44,
                    0.08,
                    0.26,
                    0.18,
                    0.3,
                    0.38,
                    0.33,
                    0.25,
                    0.14,
                    0.31,
                    -0.23,
                    0.24,
                    0.19,
                    0.16,
                    0.42,
                    0.28,
                    0.44,
                    0.29,
                    0.32,
                    0.09,
                    0.22,
                    0.4,
                    1.26,
                    0.33,
                    -0.09,
                    0.48,
                    0.45,
                    -0.21,
                    0.15,
                    0.32,
                    0.43,
                    0.75,
                    0.57,
                    0.13,
                    0.01,
                    0.19,
                    0.11,
                    -0.04,
                    0.1,
                    0.51,
                    1.15,
                    0.21,
                    0.25,
                    0.07,
                    -0.31,
                    -0.38,
                    0.26,
                    0.36,
                    0.24,
                    0.64,
                    0.86,
                    0.89,
                    1.35,
                    0.25,
                    0.86,
                    0.93,
                    0.31,
                    0.83,
                    0.53,
                    0.96,
                    0.87,
                    1.16,
                    1.25,
                    0.95,
                    0.73,
                    0.54,
                    1.01,
                    1.62,
                    1.06,
                    0.47,
                    0.67,
                    -0.68,
                    -0.36,
                    -0.29,
                    0.59,
                    0.41,
                    0.62,
                    0.53,
                    0.84,
                    0.71,
                    0.61,
                    0.23,
                    -0.08,
                    0.12,
                    0.23,
                    0.26,
                    0.24
                  ],
                  "x0": " ",
                  "xaxis": "x",
                  "y0": " ",
                  "yaxis": "y"
                }
              ],
              "layout": {
                "boxmode": "group",
                "legend": {
                  "tracegroupgap": 0
                },
                "template": {
                  "data": {
                    "bar": [
                      {
                        "error_x": {
                          "color": "#2a3f5f"
                        },
                        "error_y": {
                          "color": "#2a3f5f"
                        },
                        "marker": {
                          "line": {
                            "color": "#E5ECF6",
                            "width": 0.5
                          },
                          "pattern": {
                            "fillmode": "overlay",
                            "size": 10,
                            "solidity": 0.2
                          }
                        },
                        "type": "bar"
                      }
                    ],
                    "barpolar": [
                      {
                        "marker": {
                          "line": {
                            "color": "#E5ECF6",
                            "width": 0.5
                          },
                          "pattern": {
                            "fillmode": "overlay",
                            "size": 10,
                            "solidity": 0.2
                          }
                        },
                        "type": "barpolar"
                      }
                    ],
                    "carpet": [
                      {
                        "aaxis": {
                          "endlinecolor": "#2a3f5f",
                          "gridcolor": "white",
                          "linecolor": "white",
                          "minorgridcolor": "white",
                          "startlinecolor": "#2a3f5f"
                        },
                        "baxis": {
                          "endlinecolor": "#2a3f5f",
                          "gridcolor": "white",
                          "linecolor": "white",
                          "minorgridcolor": "white",
                          "startlinecolor": "#2a3f5f"
                        },
                        "type": "carpet"
                      }
                    ],
                    "choropleth": [
                      {
                        "colorbar": {
                          "outlinewidth": 0,
                          "ticks": ""
                        },
                        "type": "choropleth"
                      }
                    ],
                    "contour": [
                      {
                        "colorbar": {
                          "outlinewidth": 0,
                          "ticks": ""
                        },
                        "colorscale": [
                          [
                            0,
                            "#0d0887"
                          ],
                          [
                            0.1111111111111111,
                            "#46039f"
                          ],
                          [
                            0.2222222222222222,
                            "#7201a8"
                          ],
                          [
                            0.3333333333333333,
                            "#9c179e"
                          ],
                          [
                            0.4444444444444444,
                            "#bd3786"
                          ],
                          [
                            0.5555555555555556,
                            "#d8576b"
                          ],
                          [
                            0.6666666666666666,
                            "#ed7953"
                          ],
                          [
                            0.7777777777777778,
                            "#fb9f3a"
                          ],
                          [
                            0.8888888888888888,
                            "#fdca26"
                          ],
                          [
                            1,
                            "#f0f921"
                          ]
                        ],
                        "type": "contour"
                      }
                    ],
                    "contourcarpet": [
                      {
                        "colorbar": {
                          "outlinewidth": 0,
                          "ticks": ""
                        },
                        "type": "contourcarpet"
                      }
                    ],
                    "heatmap": [
                      {
                        "colorbar": {
                          "outlinewidth": 0,
                          "ticks": ""
                        },
                        "colorscale": [
                          [
                            0,
                            "#0d0887"
                          ],
                          [
                            0.1111111111111111,
                            "#46039f"
                          ],
                          [
                            0.2222222222222222,
                            "#7201a8"
                          ],
                          [
                            0.3333333333333333,
                            "#9c179e"
                          ],
                          [
                            0.4444444444444444,
                            "#bd3786"
                          ],
                          [
                            0.5555555555555556,
                            "#d8576b"
                          ],
                          [
                            0.6666666666666666,
                            "#ed7953"
                          ],
                          [
                            0.7777777777777778,
                            "#fb9f3a"
                          ],
                          [
                            0.8888888888888888,
                            "#fdca26"
                          ],
                          [
                            1,
                            "#f0f921"
                          ]
                        ],
                        "type": "heatmap"
                      }
                    ],
                    "heatmapgl": [
                      {
                        "colorbar": {
                          "outlinewidth": 0,
                          "ticks": ""
                        },
                        "colorscale": [
                          [
                            0,
                            "#0d0887"
                          ],
                          [
                            0.1111111111111111,
                            "#46039f"
                          ],
                          [
                            0.2222222222222222,
                            "#7201a8"
                          ],
                          [
                            0.3333333333333333,
                            "#9c179e"
                          ],
                          [
                            0.4444444444444444,
                            "#bd3786"
                          ],
                          [
                            0.5555555555555556,
                            "#d8576b"
                          ],
                          [
                            0.6666666666666666,
                            "#ed7953"
                          ],
                          [
                            0.7777777777777778,
                            "#fb9f3a"
                          ],
                          [
                            0.8888888888888888,
                            "#fdca26"
                          ],
                          [
                            1,
                            "#f0f921"
                          ]
                        ],
                        "type": "heatmapgl"
                      }
                    ],
                    "histogram": [
                      {
                        "marker": {
                          "pattern": {
                            "fillmode": "overlay",
                            "size": 10,
                            "solidity": 0.2
                          }
                        },
                        "type": "histogram"
                      }
                    ],
                    "histogram2d": [
                      {
                        "colorbar": {
                          "outlinewidth": 0,
                          "ticks": ""
                        },
                        "colorscale": [
                          [
                            0,
                            "#0d0887"
                          ],
                          [
                            0.1111111111111111,
                            "#46039f"
                          ],
                          [
                            0.2222222222222222,
                            "#7201a8"
                          ],
                          [
                            0.3333333333333333,
                            "#9c179e"
                          ],
                          [
                            0.4444444444444444,
                            "#bd3786"
                          ],
                          [
                            0.5555555555555556,
                            "#d8576b"
                          ],
                          [
                            0.6666666666666666,
                            "#ed7953"
                          ],
                          [
                            0.7777777777777778,
                            "#fb9f3a"
                          ],
                          [
                            0.8888888888888888,
                            "#fdca26"
                          ],
                          [
                            1,
                            "#f0f921"
                          ]
                        ],
                        "type": "histogram2d"
                      }
                    ],
                    "histogram2dcontour": [
                      {
                        "colorbar": {
                          "outlinewidth": 0,
                          "ticks": ""
                        },
                        "colorscale": [
                          [
                            0,
                            "#0d0887"
                          ],
                          [
                            0.1111111111111111,
                            "#46039f"
                          ],
                          [
                            0.2222222222222222,
                            "#7201a8"
                          ],
                          [
                            0.3333333333333333,
                            "#9c179e"
                          ],
                          [
                            0.4444444444444444,
                            "#bd3786"
                          ],
                          [
                            0.5555555555555556,
                            "#d8576b"
                          ],
                          [
                            0.6666666666666666,
                            "#ed7953"
                          ],
                          [
                            0.7777777777777778,
                            "#fb9f3a"
                          ],
                          [
                            0.8888888888888888,
                            "#fdca26"
                          ],
                          [
                            1,
                            "#f0f921"
                          ]
                        ],
                        "type": "histogram2dcontour"
                      }
                    ],
                    "mesh3d": [
                      {
                        "colorbar": {
                          "outlinewidth": 0,
                          "ticks": ""
                        },
                        "type": "mesh3d"
                      }
                    ],
                    "parcoords": [
                      {
                        "line": {
                          "colorbar": {
                            "outlinewidth": 0,
                            "ticks": ""
                          }
                        },
                        "type": "parcoords"
                      }
                    ],
                    "pie": [
                      {
                        "automargin": true,
                        "type": "pie"
                      }
                    ],
                    "scatter": [
                      {
                        "fillpattern": {
                          "fillmode": "overlay",
                          "size": 10,
                          "solidity": 0.2
                        },
                        "type": "scatter"
                      }
                    ],
                    "scatter3d": [
                      {
                        "line": {
                          "colorbar": {
                            "outlinewidth": 0,
                            "ticks": ""
                          }
                        },
                        "marker": {
                          "colorbar": {
                            "outlinewidth": 0,
                            "ticks": ""
                          }
                        },
                        "type": "scatter3d"
                      }
                    ],
                    "scattercarpet": [
                      {
                        "marker": {
                          "colorbar": {
                            "outlinewidth": 0,
                            "ticks": ""
                          }
                        },
                        "type": "scattercarpet"
                      }
                    ],
                    "scattergeo": [
                      {
                        "marker": {
                          "colorbar": {
                            "outlinewidth": 0,
                            "ticks": ""
                          }
                        },
                        "type": "scattergeo"
                      }
                    ],
                    "scattergl": [
                      {
                        "marker": {
                          "colorbar": {
                            "outlinewidth": 0,
                            "ticks": ""
                          }
                        },
                        "type": "scattergl"
                      }
                    ],
                    "scattermapbox": [
                      {
                        "marker": {
                          "colorbar": {
                            "outlinewidth": 0,
                            "ticks": ""
                          }
                        },
                        "type": "scattermapbox"
                      }
                    ],
                    "scatterpolar": [
                      {
                        "marker": {
                          "colorbar": {
                            "outlinewidth": 0,
                            "ticks": ""
                          }
                        },
                        "type": "scatterpolar"
                      }
                    ],
                    "scatterpolargl": [
                      {
                        "marker": {
                          "colorbar": {
                            "outlinewidth": 0,
                            "ticks": ""
                          }
                        },
                        "type": "scatterpolargl"
                      }
                    ],
                    "scatterternary": [
                      {
                        "marker": {
                          "colorbar": {
                            "outlinewidth": 0,
                            "ticks": ""
                          }
                        },
                        "type": "scatterternary"
                      }
                    ],
                    "surface": [
                      {
                        "colorbar": {
                          "outlinewidth": 0,
                          "ticks": ""
                        },
                        "colorscale": [
                          [
                            0,
                            "#0d0887"
                          ],
                          [
                            0.1111111111111111,
                            "#46039f"
                          ],
                          [
                            0.2222222222222222,
                            "#7201a8"
                          ],
                          [
                            0.3333333333333333,
                            "#9c179e"
                          ],
                          [
                            0.4444444444444444,
                            "#bd3786"
                          ],
                          [
                            0.5555555555555556,
                            "#d8576b"
                          ],
                          [
                            0.6666666666666666,
                            "#ed7953"
                          ],
                          [
                            0.7777777777777778,
                            "#fb9f3a"
                          ],
                          [
                            0.8888888888888888,
                            "#fdca26"
                          ],
                          [
                            1,
                            "#f0f921"
                          ]
                        ],
                        "type": "surface"
                      }
                    ],
                    "table": [
                      {
                        "cells": {
                          "fill": {
                            "color": "#EBF0F8"
                          },
                          "line": {
                            "color": "white"
                          }
                        },
                        "header": {
                          "fill": {
                            "color": "#C8D4E3"
                          },
                          "line": {
                            "color": "white"
                          }
                        },
                        "type": "table"
                      }
                    ]
                  },
                  "layout": {
                    "annotationdefaults": {
                      "arrowcolor": "#2a3f5f",
                      "arrowhead": 0,
                      "arrowwidth": 1
                    },
                    "autotypenumbers": "strict",
                    "coloraxis": {
                      "colorbar": {
                        "outlinewidth": 0,
                        "ticks": ""
                      }
                    },
                    "colorscale": {
                      "diverging": [
                        [
                          0,
                          "#8e0152"
                        ],
                        [
                          0.1,
                          "#c51b7d"
                        ],
                        [
                          0.2,
                          "#de77ae"
                        ],
                        [
                          0.3,
                          "#f1b6da"
                        ],
                        [
                          0.4,
                          "#fde0ef"
                        ],
                        [
                          0.5,
                          "#f7f7f7"
                        ],
                        [
                          0.6,
                          "#e6f5d0"
                        ],
                        [
                          0.7,
                          "#b8e186"
                        ],
                        [
                          0.8,
                          "#7fbc41"
                        ],
                        [
                          0.9,
                          "#4d9221"
                        ],
                        [
                          1,
                          "#276419"
                        ]
                      ],
                      "sequential": [
                        [
                          0,
                          "#0d0887"
                        ],
                        [
                          0.1111111111111111,
                          "#46039f"
                        ],
                        [
                          0.2222222222222222,
                          "#7201a8"
                        ],
                        [
                          0.3333333333333333,
                          "#9c179e"
                        ],
                        [
                          0.4444444444444444,
                          "#bd3786"
                        ],
                        [
                          0.5555555555555556,
                          "#d8576b"
                        ],
                        [
                          0.6666666666666666,
                          "#ed7953"
                        ],
                        [
                          0.7777777777777778,
                          "#fb9f3a"
                        ],
                        [
                          0.8888888888888888,
                          "#fdca26"
                        ],
                        [
                          1,
                          "#f0f921"
                        ]
                      ],
                      "sequentialminus": [
                        [
                          0,
                          "#0d0887"
                        ],
                        [
                          0.1111111111111111,
                          "#46039f"
                        ],
                        [
                          0.2222222222222222,
                          "#7201a8"
                        ],
                        [
                          0.3333333333333333,
                          "#9c179e"
                        ],
                        [
                          0.4444444444444444,
                          "#bd3786"
                        ],
                        [
                          0.5555555555555556,
                          "#d8576b"
                        ],
                        [
                          0.6666666666666666,
                          "#ed7953"
                        ],
                        [
                          0.7777777777777778,
                          "#fb9f3a"
                        ],
                        [
                          0.8888888888888888,
                          "#fdca26"
                        ],
                        [
                          1,
                          "#f0f921"
                        ]
                      ]
                    },
                    "colorway": [
                      "#636efa",
                      "#EF553B",
                      "#00cc96",
                      "#ab63fa",
                      "#FFA15A",
                      "#19d3f3",
                      "#FF6692",
                      "#B6E880",
                      "#FF97FF",
                      "#FECB52"
                    ],
                    "font": {
                      "color": "#2a3f5f"
                    },
                    "geo": {
                      "bgcolor": "white",
                      "lakecolor": "white",
                      "landcolor": "#E5ECF6",
                      "showlakes": true,
                      "showland": true,
                      "subunitcolor": "white"
                    },
                    "hoverlabel": {
                      "align": "left"
                    },
                    "hovermode": "closest",
                    "mapbox": {
                      "style": "light"
                    },
                    "paper_bgcolor": "white",
                    "plot_bgcolor": "#E5ECF6",
                    "polar": {
                      "angularaxis": {
                        "gridcolor": "white",
                        "linecolor": "white",
                        "ticks": ""
                      },
                      "bgcolor": "#E5ECF6",
                      "radialaxis": {
                        "gridcolor": "white",
                        "linecolor": "white",
                        "ticks": ""
                      }
                    },
                    "scene": {
                      "xaxis": {
                        "backgroundcolor": "#E5ECF6",
                        "gridcolor": "white",
                        "gridwidth": 2,
                        "linecolor": "white",
                        "showbackground": true,
                        "ticks": "",
                        "zerolinecolor": "white"
                      },
                      "yaxis": {
                        "backgroundcolor": "#E5ECF6",
                        "gridcolor": "white",
                        "gridwidth": 2,
                        "linecolor": "white",
                        "showbackground": true,
                        "ticks": "",
                        "zerolinecolor": "white"
                      },
                      "zaxis": {
                        "backgroundcolor": "#E5ECF6",
                        "gridcolor": "white",
                        "gridwidth": 2,
                        "linecolor": "white",
                        "showbackground": true,
                        "ticks": "",
                        "zerolinecolor": "white"
                      }
                    },
                    "shapedefaults": {
                      "line": {
                        "color": "#2a3f5f"
                      }
                    },
                    "ternary": {
                      "aaxis": {
                        "gridcolor": "white",
                        "linecolor": "white",
                        "ticks": ""
                      },
                      "baxis": {
                        "gridcolor": "white",
                        "linecolor": "white",
                        "ticks": ""
                      },
                      "bgcolor": "#E5ECF6",
                      "caxis": {
                        "gridcolor": "white",
                        "linecolor": "white",
                        "ticks": ""
                      }
                    },
                    "title": {
                      "x": 0.05
                    },
                    "xaxis": {
                      "automargin": true,
                      "gridcolor": "white",
                      "linecolor": "white",
                      "ticks": "",
                      "title": {
                        "standoff": 15
                      },
                      "zerolinecolor": "white",
                      "zerolinewidth": 2
                    },
                    "yaxis": {
                      "automargin": true,
                      "gridcolor": "white",
                      "linecolor": "white",
                      "ticks": "",
                      "title": {
                        "standoff": 15
                      },
                      "zerolinecolor": "white",
                      "zerolinewidth": 2
                    }
                  }
                },
                "title": {
                  "text": "Boxplot do IPCA"
                },
                "xaxis": {
                  "anchor": "y",
                  "domain": [
                    0,
                    1
                  ],
                  "title": {
                    "text": "IPCA"
                  }
                },
                "yaxis": {
                  "anchor": "x",
                  "domain": [
                    0,
                    1
                  ],
                  "title": {
                    "text": "Variação"
                  }
                }
              }
            }
          },
          "metadata": {},
          "output_type": "display_data"
        },
        {
          "data": {
            "application/vnd.plotly.v1+json": {
              "config": {
                "plotlyServerURL": "https://plot.ly"
              },
              "data": [
                {
                  "alignmentgroup": "True",
                  "hovertemplate": "var_ipca=%{x}<extra></extra>",
                  "legendgroup": "",
                  "marker": {
                    "color": "#636efa"
                  },
                  "name": "",
                  "notched": false,
                  "offsetgroup": "",
                  "orientation": "h",
                  "showlegend": false,
                  "type": "box",
                  "x": [
                    null,
                    6.62,
                    4.62,
                    6.04,
                    5.29,
                    5.7,
                    5.31,
                    5.55,
                    4.95,
                    4.23,
                    9.48,
                    6.67,
                    6.61,
                    6.84,
                    6.4,
                    4.97,
                    6.46,
                    5.56,
                    5.52,
                    6.26,
                    5.5,
                    5.26,
                    5.08,
                    5.27,
                    5.93,
                    6.97,
                    6.64,
                    5.71,
                    5.89,
                    6.66,
                    7.1,
                    6.36,
                    5.97,
                    5.08,
                    4.44,
                    5.29,
                    7.81,
                    8.64,
                    7.86,
                    7.34,
                    6.58,
                    6.48,
                    9.88,
                    10.08,
                    9.11,
                    10.3,
                    8.87,
                    7.38,
                    8.68,
                    9.67,
                    9.5,
                    8.94,
                    9.54,
                    9.05,
                    10.08,
                    9.72,
                    9.35,
                    11.75,
                    10.44,
                    10.53,
                    11.98,
                    11.76,
                    10.87,
                    10.16,
                    8.2,
                    7.2,
                    8.49,
                    10.31,
                    12.05,
                    11.12,
                    10.62,
                    13.97,
                    15.07,
                    14.37,
                    12.72,
                    4.77,
                    0.78,
                    1.4,
                    1.27,
                    1.71,
                    3.55,
                    1.72,
                    1.9,
                    5.45,
                    11.65,
                    13.21,
                    12.64,
                    16.37,
                    19.1,
                    21.45,
                    19.71,
                    9.21,
                    4.87,
                    7.78,
                    11.22,
                    15.08,
                    14.15,
                    18.89,
                    15.7,
                    17.6,
                    19.29,
                    17.42,
                    22,
                    21.91,
                    21.59,
                    27.45,
                    25.62,
                    27.94,
                    28.7,
                    37.49,
                    16.78,
                    6.82,
                    8.33,
                    17.92,
                    28.65,
                    27.74,
                    33.71,
                    37.56,
                    39.77,
                    47.82,
                    51.5,
                    67.55,
                    75.73,
                    82.39,
                    15.52,
                    7.59,
                    11.75,
                    12.92,
                    12.88,
                    14.41,
                    14.36,
                    16.81,
                    18.44,
                    20.75,
                    20.72,
                    11.92,
                    4.99,
                    7.43,
                    11.19,
                    12.41,
                    15.63,
                    15.63,
                    20.23,
                    25.21,
                    23.71,
                    25.94,
                    24.32,
                    21.4,
                    19.93,
                    24.86,
                    20.21,
                    21.83,
                    22.14,
                    24.63,
                    25.24,
                    22.49,
                    25.24,
                    30.35,
                    24.98,
                    27.26,
                    27.75,
                    27.69,
                    30.07,
                    30.72,
                    32.96,
                    35.69,
                    33.92,
                    35.56,
                    36.84,
                    41.31,
                    40.27,
                    42.75,
                    42.68,
                    44.03,
                    47.43,
                    6.84,
                    1.86,
                    1.53,
                    2.62,
                    2.81,
                    1.71,
                    1.7,
                    1.02,
                    1.55,
                    2.43,
                    2.67,
                    2.26,
                    2.36,
                    0.99,
                    0.99,
                    1.41,
                    1.47,
                    1.56,
                    1.34,
                    1.03,
                    0.35,
                    1.26,
                    1.22,
                    1.19,
                    1.11,
                    0.44,
                    0.15,
                    0.3,
                    0.32,
                    0.47,
                    1.18,
                    0.5,
                    0.51,
                    0.88,
                    0.41,
                    0.54,
                    0.22,
                    -0.02,
                    0.06,
                    0.23,
                    0.17,
                    0.43,
                    0.71,
                    0.46,
                    0.34,
                    0.24,
                    0.5,
                    0.02,
                    -0.12,
                    -0.51,
                    -0.22,
                    0.02,
                    -0.12,
                    0.33,
                    0.7,
                    1.05,
                    1.1,
                    0.56,
                    0.3,
                    0.19,
                    1.09,
                    0.56,
                    0.31,
                    1.19,
                    0.95,
                    0.6,
                    0.62,
                    0.13,
                    0.22,
                    0.42,
                    0.01,
                    0.23,
                    1.61,
                    1.31,
                    0.23,
                    0.14,
                    0.32,
                    0.59,
                    0.57,
                    0.46,
                    0.38,
                    0.58,
                    0.41,
                    0.52,
                    1.33,
                    0.7,
                    0.28,
                    0.83,
                    0.71,
                    0.65,
                    0.52,
                    0.36,
                    0.6,
                    0.8,
                    0.21,
                    0.42,
                    1.19,
                    0.65,
                    0.72,
                    1.31,
                    3.02,
                    2.1,
                    2.25,
                    1.57,
                    1.23,
                    0.97,
                    0.61,
                    -0.15,
                    0.2,
                    0.34,
                    0.78,
                    0.29,
                    0.34,
                    0.52,
                    0.76,
                    0.61,
                    0.47,
                    0.37,
                    0.51,
                    0.71,
                    0.91,
                    0.69,
                    0.33,
                    0.44,
                    0.69,
                    0.86,
                    0.58,
                    0.59,
                    0.61,
                    0.87,
                    0.49,
                    -0.02,
                    0.25,
                    0.17,
                    0.35,
                    0.75,
                    0.55,
                    0.36,
                    0.59,
                    0.41,
                    0.43,
                    0.21,
                    0.1,
                    -0.21,
                    0.19,
                    0.05,
                    0.21,
                    0.33,
                    0.31,
                    0.48,
                    0.44,
                    0.44,
                    0.37,
                    0.25,
                    0.28,
                    0.28,
                    0.24,
                    0.47,
                    0.18,
                    0.3,
                    0.38,
                    0.74,
                    0.54,
                    0.49,
                    0.48,
                    0.55,
                    0.79,
                    0.74,
                    0.53,
                    0.28,
                    0.26,
                    0.45,
                    0.36,
                    0.28,
                    0.48,
                    0.55,
                    0.2,
                    0.48,
                    0.47,
                    0.36,
                    0.24,
                    0.15,
                    0.24,
                    0.28,
                    0.41,
                    0.37,
                    0.75,
                    0.78,
                    0.52,
                    0.57,
                    0.43,
                    0,
                    0.01,
                    0.04,
                    0.45,
                    0.75,
                    0.83,
                    0.63,
                    0.83,
                    0.8,
                    0.79,
                    0.77,
                    0.47,
                    0.15,
                    0.16,
                    0.37,
                    0.53,
                    0.43,
                    0.52,
                    0.5,
                    0.56,
                    0.45,
                    0.21,
                    0.64,
                    0.36,
                    0.08,
                    0.43,
                    0.41,
                    0.57,
                    0.59,
                    0.6,
                    0.79,
                    0.86,
                    0.6,
                    0.47,
                    0.55,
                    0.37,
                    0.26,
                    0.03,
                    0.24,
                    0.35,
                    0.57,
                    0.54,
                    0.92,
                    0.55,
                    0.69,
                    0.92,
                    0.67,
                    0.46,
                    0.4,
                    0.01,
                    0.25,
                    0.57,
                    0.42,
                    0.51,
                    0.78,
                    1.24,
                    1.22,
                    1.32,
                    0.71,
                    0.74,
                    0.79,
                    0.62,
                    0.22,
                    0.54,
                    0.82,
                    1.01,
                    0.96,
                    1.27,
                    0.9,
                    0.43,
                    0.61,
                    0.78,
                    0.35,
                    0.52,
                    0.44,
                    0.08,
                    0.26,
                    0.18,
                    0.3,
                    0.38,
                    0.33,
                    0.25,
                    0.14,
                    0.31,
                    -0.23,
                    0.24,
                    0.19,
                    0.16,
                    0.42,
                    0.28,
                    0.44,
                    0.29,
                    0.32,
                    0.09,
                    0.22,
                    0.4,
                    1.26,
                    0.33,
                    -0.09,
                    0.48,
                    0.45,
                    -0.21,
                    0.15,
                    0.32,
                    0.43,
                    0.75,
                    0.57,
                    0.13,
                    0.01,
                    0.19,
                    0.11,
                    -0.04,
                    0.1,
                    0.51,
                    1.15,
                    0.21,
                    0.25,
                    0.07,
                    -0.31,
                    -0.38,
                    0.26,
                    0.36,
                    0.24,
                    0.64,
                    0.86,
                    0.89,
                    1.35,
                    0.25,
                    0.86,
                    0.93,
                    0.31,
                    0.83,
                    0.53,
                    0.96,
                    0.87,
                    1.16,
                    1.25,
                    0.95,
                    0.73,
                    0.54,
                    1.01,
                    1.62,
                    1.06,
                    0.47,
                    0.67,
                    -0.68,
                    -0.36,
                    -0.29,
                    0.59,
                    0.41,
                    0.62,
                    0.53,
                    0.84,
                    0.71,
                    0.61,
                    0.23,
                    -0.08,
                    0.12,
                    0.23,
                    0.26,
                    0.24
                  ],
                  "x0": " ",
                  "xaxis": "x",
                  "y0": " ",
                  "yaxis": "y"
                }
              ],
              "layout": {
                "boxmode": "group",
                "legend": {
                  "tracegroupgap": 0
                },
                "template": {
                  "data": {
                    "bar": [
                      {
                        "error_x": {
                          "color": "#2a3f5f"
                        },
                        "error_y": {
                          "color": "#2a3f5f"
                        },
                        "marker": {
                          "line": {
                            "color": "#E5ECF6",
                            "width": 0.5
                          },
                          "pattern": {
                            "fillmode": "overlay",
                            "size": 10,
                            "solidity": 0.2
                          }
                        },
                        "type": "bar"
                      }
                    ],
                    "barpolar": [
                      {
                        "marker": {
                          "line": {
                            "color": "#E5ECF6",
                            "width": 0.5
                          },
                          "pattern": {
                            "fillmode": "overlay",
                            "size": 10,
                            "solidity": 0.2
                          }
                        },
                        "type": "barpolar"
                      }
                    ],
                    "carpet": [
                      {
                        "aaxis": {
                          "endlinecolor": "#2a3f5f",
                          "gridcolor": "white",
                          "linecolor": "white",
                          "minorgridcolor": "white",
                          "startlinecolor": "#2a3f5f"
                        },
                        "baxis": {
                          "endlinecolor": "#2a3f5f",
                          "gridcolor": "white",
                          "linecolor": "white",
                          "minorgridcolor": "white",
                          "startlinecolor": "#2a3f5f"
                        },
                        "type": "carpet"
                      }
                    ],
                    "choropleth": [
                      {
                        "colorbar": {
                          "outlinewidth": 0,
                          "ticks": ""
                        },
                        "type": "choropleth"
                      }
                    ],
                    "contour": [
                      {
                        "colorbar": {
                          "outlinewidth": 0,
                          "ticks": ""
                        },
                        "colorscale": [
                          [
                            0,
                            "#0d0887"
                          ],
                          [
                            0.1111111111111111,
                            "#46039f"
                          ],
                          [
                            0.2222222222222222,
                            "#7201a8"
                          ],
                          [
                            0.3333333333333333,
                            "#9c179e"
                          ],
                          [
                            0.4444444444444444,
                            "#bd3786"
                          ],
                          [
                            0.5555555555555556,
                            "#d8576b"
                          ],
                          [
                            0.6666666666666666,
                            "#ed7953"
                          ],
                          [
                            0.7777777777777778,
                            "#fb9f3a"
                          ],
                          [
                            0.8888888888888888,
                            "#fdca26"
                          ],
                          [
                            1,
                            "#f0f921"
                          ]
                        ],
                        "type": "contour"
                      }
                    ],
                    "contourcarpet": [
                      {
                        "colorbar": {
                          "outlinewidth": 0,
                          "ticks": ""
                        },
                        "type": "contourcarpet"
                      }
                    ],
                    "heatmap": [
                      {
                        "colorbar": {
                          "outlinewidth": 0,
                          "ticks": ""
                        },
                        "colorscale": [
                          [
                            0,
                            "#0d0887"
                          ],
                          [
                            0.1111111111111111,
                            "#46039f"
                          ],
                          [
                            0.2222222222222222,
                            "#7201a8"
                          ],
                          [
                            0.3333333333333333,
                            "#9c179e"
                          ],
                          [
                            0.4444444444444444,
                            "#bd3786"
                          ],
                          [
                            0.5555555555555556,
                            "#d8576b"
                          ],
                          [
                            0.6666666666666666,
                            "#ed7953"
                          ],
                          [
                            0.7777777777777778,
                            "#fb9f3a"
                          ],
                          [
                            0.8888888888888888,
                            "#fdca26"
                          ],
                          [
                            1,
                            "#f0f921"
                          ]
                        ],
                        "type": "heatmap"
                      }
                    ],
                    "heatmapgl": [
                      {
                        "colorbar": {
                          "outlinewidth": 0,
                          "ticks": ""
                        },
                        "colorscale": [
                          [
                            0,
                            "#0d0887"
                          ],
                          [
                            0.1111111111111111,
                            "#46039f"
                          ],
                          [
                            0.2222222222222222,
                            "#7201a8"
                          ],
                          [
                            0.3333333333333333,
                            "#9c179e"
                          ],
                          [
                            0.4444444444444444,
                            "#bd3786"
                          ],
                          [
                            0.5555555555555556,
                            "#d8576b"
                          ],
                          [
                            0.6666666666666666,
                            "#ed7953"
                          ],
                          [
                            0.7777777777777778,
                            "#fb9f3a"
                          ],
                          [
                            0.8888888888888888,
                            "#fdca26"
                          ],
                          [
                            1,
                            "#f0f921"
                          ]
                        ],
                        "type": "heatmapgl"
                      }
                    ],
                    "histogram": [
                      {
                        "marker": {
                          "pattern": {
                            "fillmode": "overlay",
                            "size": 10,
                            "solidity": 0.2
                          }
                        },
                        "type": "histogram"
                      }
                    ],
                    "histogram2d": [
                      {
                        "colorbar": {
                          "outlinewidth": 0,
                          "ticks": ""
                        },
                        "colorscale": [
                          [
                            0,
                            "#0d0887"
                          ],
                          [
                            0.1111111111111111,
                            "#46039f"
                          ],
                          [
                            0.2222222222222222,
                            "#7201a8"
                          ],
                          [
                            0.3333333333333333,
                            "#9c179e"
                          ],
                          [
                            0.4444444444444444,
                            "#bd3786"
                          ],
                          [
                            0.5555555555555556,
                            "#d8576b"
                          ],
                          [
                            0.6666666666666666,
                            "#ed7953"
                          ],
                          [
                            0.7777777777777778,
                            "#fb9f3a"
                          ],
                          [
                            0.8888888888888888,
                            "#fdca26"
                          ],
                          [
                            1,
                            "#f0f921"
                          ]
                        ],
                        "type": "histogram2d"
                      }
                    ],
                    "histogram2dcontour": [
                      {
                        "colorbar": {
                          "outlinewidth": 0,
                          "ticks": ""
                        },
                        "colorscale": [
                          [
                            0,
                            "#0d0887"
                          ],
                          [
                            0.1111111111111111,
                            "#46039f"
                          ],
                          [
                            0.2222222222222222,
                            "#7201a8"
                          ],
                          [
                            0.3333333333333333,
                            "#9c179e"
                          ],
                          [
                            0.4444444444444444,
                            "#bd3786"
                          ],
                          [
                            0.5555555555555556,
                            "#d8576b"
                          ],
                          [
                            0.6666666666666666,
                            "#ed7953"
                          ],
                          [
                            0.7777777777777778,
                            "#fb9f3a"
                          ],
                          [
                            0.8888888888888888,
                            "#fdca26"
                          ],
                          [
                            1,
                            "#f0f921"
                          ]
                        ],
                        "type": "histogram2dcontour"
                      }
                    ],
                    "mesh3d": [
                      {
                        "colorbar": {
                          "outlinewidth": 0,
                          "ticks": ""
                        },
                        "type": "mesh3d"
                      }
                    ],
                    "parcoords": [
                      {
                        "line": {
                          "colorbar": {
                            "outlinewidth": 0,
                            "ticks": ""
                          }
                        },
                        "type": "parcoords"
                      }
                    ],
                    "pie": [
                      {
                        "automargin": true,
                        "type": "pie"
                      }
                    ],
                    "scatter": [
                      {
                        "fillpattern": {
                          "fillmode": "overlay",
                          "size": 10,
                          "solidity": 0.2
                        },
                        "type": "scatter"
                      }
                    ],
                    "scatter3d": [
                      {
                        "line": {
                          "colorbar": {
                            "outlinewidth": 0,
                            "ticks": ""
                          }
                        },
                        "marker": {
                          "colorbar": {
                            "outlinewidth": 0,
                            "ticks": ""
                          }
                        },
                        "type": "scatter3d"
                      }
                    ],
                    "scattercarpet": [
                      {
                        "marker": {
                          "colorbar": {
                            "outlinewidth": 0,
                            "ticks": ""
                          }
                        },
                        "type": "scattercarpet"
                      }
                    ],
                    "scattergeo": [
                      {
                        "marker": {
                          "colorbar": {
                            "outlinewidth": 0,
                            "ticks": ""
                          }
                        },
                        "type": "scattergeo"
                      }
                    ],
                    "scattergl": [
                      {
                        "marker": {
                          "colorbar": {
                            "outlinewidth": 0,
                            "ticks": ""
                          }
                        },
                        "type": "scattergl"
                      }
                    ],
                    "scattermapbox": [
                      {
                        "marker": {
                          "colorbar": {
                            "outlinewidth": 0,
                            "ticks": ""
                          }
                        },
                        "type": "scattermapbox"
                      }
                    ],
                    "scatterpolar": [
                      {
                        "marker": {
                          "colorbar": {
                            "outlinewidth": 0,
                            "ticks": ""
                          }
                        },
                        "type": "scatterpolar"
                      }
                    ],
                    "scatterpolargl": [
                      {
                        "marker": {
                          "colorbar": {
                            "outlinewidth": 0,
                            "ticks": ""
                          }
                        },
                        "type": "scatterpolargl"
                      }
                    ],
                    "scatterternary": [
                      {
                        "marker": {
                          "colorbar": {
                            "outlinewidth": 0,
                            "ticks": ""
                          }
                        },
                        "type": "scatterternary"
                      }
                    ],
                    "surface": [
                      {
                        "colorbar": {
                          "outlinewidth": 0,
                          "ticks": ""
                        },
                        "colorscale": [
                          [
                            0,
                            "#0d0887"
                          ],
                          [
                            0.1111111111111111,
                            "#46039f"
                          ],
                          [
                            0.2222222222222222,
                            "#7201a8"
                          ],
                          [
                            0.3333333333333333,
                            "#9c179e"
                          ],
                          [
                            0.4444444444444444,
                            "#bd3786"
                          ],
                          [
                            0.5555555555555556,
                            "#d8576b"
                          ],
                          [
                            0.6666666666666666,
                            "#ed7953"
                          ],
                          [
                            0.7777777777777778,
                            "#fb9f3a"
                          ],
                          [
                            0.8888888888888888,
                            "#fdca26"
                          ],
                          [
                            1,
                            "#f0f921"
                          ]
                        ],
                        "type": "surface"
                      }
                    ],
                    "table": [
                      {
                        "cells": {
                          "fill": {
                            "color": "#EBF0F8"
                          },
                          "line": {
                            "color": "white"
                          }
                        },
                        "header": {
                          "fill": {
                            "color": "#C8D4E3"
                          },
                          "line": {
                            "color": "white"
                          }
                        },
                        "type": "table"
                      }
                    ]
                  },
                  "layout": {
                    "annotationdefaults": {
                      "arrowcolor": "#2a3f5f",
                      "arrowhead": 0,
                      "arrowwidth": 1
                    },
                    "autotypenumbers": "strict",
                    "coloraxis": {
                      "colorbar": {
                        "outlinewidth": 0,
                        "ticks": ""
                      }
                    },
                    "colorscale": {
                      "diverging": [
                        [
                          0,
                          "#8e0152"
                        ],
                        [
                          0.1,
                          "#c51b7d"
                        ],
                        [
                          0.2,
                          "#de77ae"
                        ],
                        [
                          0.3,
                          "#f1b6da"
                        ],
                        [
                          0.4,
                          "#fde0ef"
                        ],
                        [
                          0.5,
                          "#f7f7f7"
                        ],
                        [
                          0.6,
                          "#e6f5d0"
                        ],
                        [
                          0.7,
                          "#b8e186"
                        ],
                        [
                          0.8,
                          "#7fbc41"
                        ],
                        [
                          0.9,
                          "#4d9221"
                        ],
                        [
                          1,
                          "#276419"
                        ]
                      ],
                      "sequential": [
                        [
                          0,
                          "#0d0887"
                        ],
                        [
                          0.1111111111111111,
                          "#46039f"
                        ],
                        [
                          0.2222222222222222,
                          "#7201a8"
                        ],
                        [
                          0.3333333333333333,
                          "#9c179e"
                        ],
                        [
                          0.4444444444444444,
                          "#bd3786"
                        ],
                        [
                          0.5555555555555556,
                          "#d8576b"
                        ],
                        [
                          0.6666666666666666,
                          "#ed7953"
                        ],
                        [
                          0.7777777777777778,
                          "#fb9f3a"
                        ],
                        [
                          0.8888888888888888,
                          "#fdca26"
                        ],
                        [
                          1,
                          "#f0f921"
                        ]
                      ],
                      "sequentialminus": [
                        [
                          0,
                          "#0d0887"
                        ],
                        [
                          0.1111111111111111,
                          "#46039f"
                        ],
                        [
                          0.2222222222222222,
                          "#7201a8"
                        ],
                        [
                          0.3333333333333333,
                          "#9c179e"
                        ],
                        [
                          0.4444444444444444,
                          "#bd3786"
                        ],
                        [
                          0.5555555555555556,
                          "#d8576b"
                        ],
                        [
                          0.6666666666666666,
                          "#ed7953"
                        ],
                        [
                          0.7777777777777778,
                          "#fb9f3a"
                        ],
                        [
                          0.8888888888888888,
                          "#fdca26"
                        ],
                        [
                          1,
                          "#f0f921"
                        ]
                      ]
                    },
                    "colorway": [
                      "#636efa",
                      "#EF553B",
                      "#00cc96",
                      "#ab63fa",
                      "#FFA15A",
                      "#19d3f3",
                      "#FF6692",
                      "#B6E880",
                      "#FF97FF",
                      "#FECB52"
                    ],
                    "font": {
                      "color": "#2a3f5f"
                    },
                    "geo": {
                      "bgcolor": "white",
                      "lakecolor": "white",
                      "landcolor": "#E5ECF6",
                      "showlakes": true,
                      "showland": true,
                      "subunitcolor": "white"
                    },
                    "hoverlabel": {
                      "align": "left"
                    },
                    "hovermode": "closest",
                    "mapbox": {
                      "style": "light"
                    },
                    "paper_bgcolor": "white",
                    "plot_bgcolor": "#E5ECF6",
                    "polar": {
                      "angularaxis": {
                        "gridcolor": "white",
                        "linecolor": "white",
                        "ticks": ""
                      },
                      "bgcolor": "#E5ECF6",
                      "radialaxis": {
                        "gridcolor": "white",
                        "linecolor": "white",
                        "ticks": ""
                      }
                    },
                    "scene": {
                      "xaxis": {
                        "backgroundcolor": "#E5ECF6",
                        "gridcolor": "white",
                        "gridwidth": 2,
                        "linecolor": "white",
                        "showbackground": true,
                        "ticks": "",
                        "zerolinecolor": "white"
                      },
                      "yaxis": {
                        "backgroundcolor": "#E5ECF6",
                        "gridcolor": "white",
                        "gridwidth": 2,
                        "linecolor": "white",
                        "showbackground": true,
                        "ticks": "",
                        "zerolinecolor": "white"
                      },
                      "zaxis": {
                        "backgroundcolor": "#E5ECF6",
                        "gridcolor": "white",
                        "gridwidth": 2,
                        "linecolor": "white",
                        "showbackground": true,
                        "ticks": "",
                        "zerolinecolor": "white"
                      }
                    },
                    "shapedefaults": {
                      "line": {
                        "color": "#2a3f5f"
                      }
                    },
                    "ternary": {
                      "aaxis": {
                        "gridcolor": "white",
                        "linecolor": "white",
                        "ticks": ""
                      },
                      "baxis": {
                        "gridcolor": "white",
                        "linecolor": "white",
                        "ticks": ""
                      },
                      "bgcolor": "#E5ECF6",
                      "caxis": {
                        "gridcolor": "white",
                        "linecolor": "white",
                        "ticks": ""
                      }
                    },
                    "title": {
                      "x": 0.05
                    },
                    "xaxis": {
                      "automargin": true,
                      "gridcolor": "white",
                      "linecolor": "white",
                      "ticks": "",
                      "title": {
                        "standoff": 15
                      },
                      "zerolinecolor": "white",
                      "zerolinewidth": 2
                    },
                    "yaxis": {
                      "automargin": true,
                      "gridcolor": "white",
                      "linecolor": "white",
                      "ticks": "",
                      "title": {
                        "standoff": 15
                      },
                      "zerolinecolor": "white",
                      "zerolinewidth": 2
                    }
                  }
                },
                "title": {
                  "text": "Boxplot do IPCA em Escala Logarítmica"
                },
                "xaxis": {
                  "anchor": "y",
                  "domain": [
                    0,
                    1
                  ],
                  "title": {
                    "text": "IPCA (log)"
                  },
                  "type": "log"
                },
                "yaxis": {
                  "anchor": "x",
                  "domain": [
                    0,
                    1
                  ],
                  "title": {
                    "text": "Variação"
                  }
                }
              }
            }
          },
          "metadata": {},
          "output_type": "display_data"
        }
      ],
      "source": [
        "# Configuração do boxplot para o IPCA sem escala logarítmica\n",
        "fig_box_ipca = px.box(\n",
        "    ipca, \n",
        "    x='var_ipca', \n",
        "    title='Boxplot do IPCA',\n",
        "    labels={'ipca': 'Variação'}\n",
        ")\n",
        "\n",
        "# Configurando os eixos do gráfico\n",
        "fig_box_ipca.update_xaxes(title_text='IPCA')\n",
        "fig_box_ipca.update_yaxes(title_text='Variação')\n",
        "\n",
        "# Mostrar o boxplot do IPCA sem escala logarítmica\n",
        "fig_box_ipca.show()\n",
        "\n",
        "# _____________________________\n",
        "\n",
        "# Configuração do boxplot para o IPCA em escala logarítmica\n",
        "fig_box_ipca_log = px.box(\n",
        "    ipca, \n",
        "    x='var_ipca', \n",
        "    title='Boxplot do IPCA em Escala Logarítmica', \n",
        "    labels={'ipca': 'Variação'}\n",
        "    )\n",
        "\n",
        "# Configurando os eixos do gráfico\n",
        "fig_box_ipca_log.update_xaxes(title_text='IPCA (log)', type='log')\n",
        "fig_box_ipca_log.update_yaxes(title_text='Variação')\n",
        "\n",
        "# Mostrar o boxplot do IPCA em escala logarítmica\n",
        "fig_box_ipca_log.show()\n"
      ]
    },
    {
      "cell_type": "markdown",
      "metadata": {
        "id": "20_6UHsKJHEs"
      },
      "source": [
        "#### 2.2 IPCA-15"
      ]
    },
    {
      "cell_type": "code",
      "execution_count": 388,
      "metadata": {
        "colab": {
          "base_uri": "https://localhost:8080/",
          "height": 423
        },
        "id": "0zOv2Ys7JHEt",
        "outputId": "cf2955b0-39aa-45f4-eb51-ffc30bfb8cc7"
      },
      "outputs": [
        {
          "data": {
            "text/html": [
              "<div>\n",
              "<style scoped>\n",
              "    .dataframe tbody tr th:only-of-type {\n",
              "        vertical-align: middle;\n",
              "    }\n",
              "\n",
              "    .dataframe tbody tr th {\n",
              "        vertical-align: top;\n",
              "    }\n",
              "\n",
              "    .dataframe thead th {\n",
              "        text-align: right;\n",
              "    }\n",
              "</style>\n",
              "<table border=\"1\" class=\"dataframe\">\n",
              "  <thead>\n",
              "    <tr style=\"text-align: right;\">\n",
              "      <th></th>\n",
              "      <th>NC</th>\n",
              "      <th>NN</th>\n",
              "      <th>MC</th>\n",
              "      <th>MN</th>\n",
              "      <th>V</th>\n",
              "      <th>D1C</th>\n",
              "      <th>D1N</th>\n",
              "      <th>D2C</th>\n",
              "      <th>D2N</th>\n",
              "      <th>D3C</th>\n",
              "      <th>D3N</th>\n",
              "    </tr>\n",
              "  </thead>\n",
              "  <tbody>\n",
              "    <tr>\n",
              "      <th>0</th>\n",
              "      <td>1</td>\n",
              "      <td>Brasil</td>\n",
              "      <td>30</td>\n",
              "      <td>Número-índice</td>\n",
              "      <td>1584.3200000000000</td>\n",
              "      <td>1</td>\n",
              "      <td>Brasil</td>\n",
              "      <td>200005</td>\n",
              "      <td>maio 2000</td>\n",
              "      <td>1117</td>\n",
              "      <td>IPCA15 - Número-índice (base: dezembro de 1993...</td>\n",
              "    </tr>\n",
              "    <tr>\n",
              "      <th>1</th>\n",
              "      <td>1</td>\n",
              "      <td>Brasil</td>\n",
              "      <td>2</td>\n",
              "      <td>%</td>\n",
              "      <td>0.09</td>\n",
              "      <td>1</td>\n",
              "      <td>Brasil</td>\n",
              "      <td>200005</td>\n",
              "      <td>maio 2000</td>\n",
              "      <td>355</td>\n",
              "      <td>IPCA15 - Variação mensal</td>\n",
              "    </tr>\n",
              "    <tr>\n",
              "      <th>2</th>\n",
              "      <td>1</td>\n",
              "      <td>Brasil</td>\n",
              "      <td>2</td>\n",
              "      <td>%</td>\n",
              "      <td>0.65</td>\n",
              "      <td>1</td>\n",
              "      <td>Brasil</td>\n",
              "      <td>200005</td>\n",
              "      <td>maio 2000</td>\n",
              "      <td>1118</td>\n",
              "      <td>IPCA15 - Variação acumulada em 3 meses</td>\n",
              "    </tr>\n",
              "    <tr>\n",
              "      <th>3</th>\n",
              "      <td>1</td>\n",
              "      <td>Brasil</td>\n",
              "      <td>2</td>\n",
              "      <td>%</td>\n",
              "      <td>2.57</td>\n",
              "      <td>1</td>\n",
              "      <td>Brasil</td>\n",
              "      <td>200005</td>\n",
              "      <td>maio 2000</td>\n",
              "      <td>1119</td>\n",
              "      <td>IPCA15 - Variação acumulada em 6 meses</td>\n",
              "    </tr>\n",
              "    <tr>\n",
              "      <th>4</th>\n",
              "      <td>1</td>\n",
              "      <td>Brasil</td>\n",
              "      <td>2</td>\n",
              "      <td>%</td>\n",
              "      <td>1.65</td>\n",
              "      <td>1</td>\n",
              "      <td>Brasil</td>\n",
              "      <td>200005</td>\n",
              "      <td>maio 2000</td>\n",
              "      <td>356</td>\n",
              "      <td>IPCA15 - Variação acumulada no ano</td>\n",
              "    </tr>\n",
              "    <tr>\n",
              "      <th>...</th>\n",
              "      <td>...</td>\n",
              "      <td>...</td>\n",
              "      <td>...</td>\n",
              "      <td>...</td>\n",
              "      <td>...</td>\n",
              "      <td>...</td>\n",
              "      <td>...</td>\n",
              "      <td>...</td>\n",
              "      <td>...</td>\n",
              "      <td>...</td>\n",
              "      <td>...</td>\n",
              "    </tr>\n",
              "    <tr>\n",
              "      <th>1693</th>\n",
              "      <td>1</td>\n",
              "      <td>Brasil</td>\n",
              "      <td>2</td>\n",
              "      <td>%</td>\n",
              "      <td>0.33</td>\n",
              "      <td>1</td>\n",
              "      <td>Brasil</td>\n",
              "      <td>202311</td>\n",
              "      <td>novembro 2023</td>\n",
              "      <td>355</td>\n",
              "      <td>IPCA15 - Variação mensal</td>\n",
              "    </tr>\n",
              "    <tr>\n",
              "      <th>1694</th>\n",
              "      <td>1</td>\n",
              "      <td>Brasil</td>\n",
              "      <td>2</td>\n",
              "      <td>%</td>\n",
              "      <td>0.89</td>\n",
              "      <td>1</td>\n",
              "      <td>Brasil</td>\n",
              "      <td>202311</td>\n",
              "      <td>novembro 2023</td>\n",
              "      <td>1118</td>\n",
              "      <td>IPCA15 - Variação acumulada em 3 meses</td>\n",
              "    </tr>\n",
              "    <tr>\n",
              "      <th>1695</th>\n",
              "      <td>1</td>\n",
              "      <td>Brasil</td>\n",
              "      <td>2</td>\n",
              "      <td>%</td>\n",
              "      <td>1.14</td>\n",
              "      <td>1</td>\n",
              "      <td>Brasil</td>\n",
              "      <td>202311</td>\n",
              "      <td>novembro 2023</td>\n",
              "      <td>1119</td>\n",
              "      <td>IPCA15 - Variação acumulada em 6 meses</td>\n",
              "    </tr>\n",
              "    <tr>\n",
              "      <th>1696</th>\n",
              "      <td>1</td>\n",
              "      <td>Brasil</td>\n",
              "      <td>2</td>\n",
              "      <td>%</td>\n",
              "      <td>4.30</td>\n",
              "      <td>1</td>\n",
              "      <td>Brasil</td>\n",
              "      <td>202311</td>\n",
              "      <td>novembro 2023</td>\n",
              "      <td>356</td>\n",
              "      <td>IPCA15 - Variação acumulada no ano</td>\n",
              "    </tr>\n",
              "    <tr>\n",
              "      <th>1697</th>\n",
              "      <td>1</td>\n",
              "      <td>Brasil</td>\n",
              "      <td>2</td>\n",
              "      <td>%</td>\n",
              "      <td>4.84</td>\n",
              "      <td>1</td>\n",
              "      <td>Brasil</td>\n",
              "      <td>202311</td>\n",
              "      <td>novembro 2023</td>\n",
              "      <td>1120</td>\n",
              "      <td>IPCA15 - Variação acumulada em 12 meses</td>\n",
              "    </tr>\n",
              "  </tbody>\n",
              "</table>\n",
              "<p>1698 rows × 11 columns</p>\n",
              "</div>"
            ],
            "text/plain": [
              "     NC      NN  MC             MN                   V D1C     D1N     D2C  \\\n",
              "0     1  Brasil  30  Número-índice  1584.3200000000000   1  Brasil  200005   \n",
              "1     1  Brasil   2              %                0.09   1  Brasil  200005   \n",
              "2     1  Brasil   2              %                0.65   1  Brasil  200005   \n",
              "3     1  Brasil   2              %                2.57   1  Brasil  200005   \n",
              "4     1  Brasil   2              %                1.65   1  Brasil  200005   \n",
              "...  ..     ...  ..            ...                 ...  ..     ...     ...   \n",
              "1693  1  Brasil   2              %                0.33   1  Brasil  202311   \n",
              "1694  1  Brasil   2              %                0.89   1  Brasil  202311   \n",
              "1695  1  Brasil   2              %                1.14   1  Brasil  202311   \n",
              "1696  1  Brasil   2              %                4.30   1  Brasil  202311   \n",
              "1697  1  Brasil   2              %                4.84   1  Brasil  202311   \n",
              "\n",
              "                D2N   D3C                                                D3N  \n",
              "0         maio 2000  1117  IPCA15 - Número-índice (base: dezembro de 1993...  \n",
              "1         maio 2000   355                           IPCA15 - Variação mensal  \n",
              "2         maio 2000  1118             IPCA15 - Variação acumulada em 3 meses  \n",
              "3         maio 2000  1119             IPCA15 - Variação acumulada em 6 meses  \n",
              "4         maio 2000   356                 IPCA15 - Variação acumulada no ano  \n",
              "...             ...   ...                                                ...  \n",
              "1693  novembro 2023   355                           IPCA15 - Variação mensal  \n",
              "1694  novembro 2023  1118             IPCA15 - Variação acumulada em 3 meses  \n",
              "1695  novembro 2023  1119             IPCA15 - Variação acumulada em 6 meses  \n",
              "1696  novembro 2023   356                 IPCA15 - Variação acumulada no ano  \n",
              "1697  novembro 2023  1120            IPCA15 - Variação acumulada em 12 meses  \n",
              "\n",
              "[1698 rows x 11 columns]"
            ]
          },
          "execution_count": 388,
          "metadata": {},
          "output_type": "execute_result"
        }
      ],
      "source": [
        "ipca15_raw = sidra.get_table(\n",
        "    table_code = '3065 ',\n",
        "    territorial_level = '1',\n",
        "    ibge_territorial_code = 'all',\n",
        "    variable = 'all',\n",
        "    period = 'all',\n",
        "    header = 'n'\n",
        ")\n",
        "ipca15_raw"
      ]
    },
    {
      "cell_type": "code",
      "execution_count": 389,
      "metadata": {
        "colab": {
          "base_uri": "https://localhost:8080/",
          "height": 423
        },
        "id": "wA6KZaoUJHEu",
        "outputId": "7c7d4e7c-0be8-4af1-901b-4cf283a498f5"
      },
      "outputs": [
        {
          "data": {
            "text/html": [
              "<div>\n",
              "<style scoped>\n",
              "    .dataframe tbody tr th:only-of-type {\n",
              "        vertical-align: middle;\n",
              "    }\n",
              "\n",
              "    .dataframe tbody tr th {\n",
              "        vertical-align: top;\n",
              "    }\n",
              "\n",
              "    .dataframe thead th {\n",
              "        text-align: right;\n",
              "    }\n",
              "</style>\n",
              "<table border=\"1\" class=\"dataframe\">\n",
              "  <thead>\n",
              "    <tr style=\"text-align: right;\">\n",
              "      <th></th>\n",
              "      <th>var_ipca15</th>\n",
              "      <th>date</th>\n",
              "      <th>codigo</th>\n",
              "      <th>descricao</th>\n",
              "    </tr>\n",
              "  </thead>\n",
              "  <tbody>\n",
              "    <tr>\n",
              "      <th>0</th>\n",
              "      <td>1584.3200000000000</td>\n",
              "      <td>200005</td>\n",
              "      <td>1117</td>\n",
              "      <td>IPCA15 - Número-índice (base: dezembro de 1993...</td>\n",
              "    </tr>\n",
              "    <tr>\n",
              "      <th>1</th>\n",
              "      <td>0.09</td>\n",
              "      <td>200005</td>\n",
              "      <td>355</td>\n",
              "      <td>IPCA15 - Variação mensal</td>\n",
              "    </tr>\n",
              "    <tr>\n",
              "      <th>2</th>\n",
              "      <td>0.65</td>\n",
              "      <td>200005</td>\n",
              "      <td>1118</td>\n",
              "      <td>IPCA15 - Variação acumulada em 3 meses</td>\n",
              "    </tr>\n",
              "    <tr>\n",
              "      <th>3</th>\n",
              "      <td>2.57</td>\n",
              "      <td>200005</td>\n",
              "      <td>1119</td>\n",
              "      <td>IPCA15 - Variação acumulada em 6 meses</td>\n",
              "    </tr>\n",
              "    <tr>\n",
              "      <th>4</th>\n",
              "      <td>1.65</td>\n",
              "      <td>200005</td>\n",
              "      <td>356</td>\n",
              "      <td>IPCA15 - Variação acumulada no ano</td>\n",
              "    </tr>\n",
              "    <tr>\n",
              "      <th>...</th>\n",
              "      <td>...</td>\n",
              "      <td>...</td>\n",
              "      <td>...</td>\n",
              "      <td>...</td>\n",
              "    </tr>\n",
              "    <tr>\n",
              "      <th>1693</th>\n",
              "      <td>0.33</td>\n",
              "      <td>202311</td>\n",
              "      <td>355</td>\n",
              "      <td>IPCA15 - Variação mensal</td>\n",
              "    </tr>\n",
              "    <tr>\n",
              "      <th>1694</th>\n",
              "      <td>0.89</td>\n",
              "      <td>202311</td>\n",
              "      <td>1118</td>\n",
              "      <td>IPCA15 - Variação acumulada em 3 meses</td>\n",
              "    </tr>\n",
              "    <tr>\n",
              "      <th>1695</th>\n",
              "      <td>1.14</td>\n",
              "      <td>202311</td>\n",
              "      <td>1119</td>\n",
              "      <td>IPCA15 - Variação acumulada em 6 meses</td>\n",
              "    </tr>\n",
              "    <tr>\n",
              "      <th>1696</th>\n",
              "      <td>4.30</td>\n",
              "      <td>202311</td>\n",
              "      <td>356</td>\n",
              "      <td>IPCA15 - Variação acumulada no ano</td>\n",
              "    </tr>\n",
              "    <tr>\n",
              "      <th>1697</th>\n",
              "      <td>4.84</td>\n",
              "      <td>202311</td>\n",
              "      <td>1120</td>\n",
              "      <td>IPCA15 - Variação acumulada em 12 meses</td>\n",
              "    </tr>\n",
              "  </tbody>\n",
              "</table>\n",
              "<p>1698 rows × 4 columns</p>\n",
              "</div>"
            ],
            "text/plain": [
              "              var_ipca15    date codigo  \\\n",
              "0     1584.3200000000000  200005   1117   \n",
              "1                   0.09  200005    355   \n",
              "2                   0.65  200005   1118   \n",
              "3                   2.57  200005   1119   \n",
              "4                   1.65  200005    356   \n",
              "...                  ...     ...    ...   \n",
              "1693                0.33  202311    355   \n",
              "1694                0.89  202311   1118   \n",
              "1695                1.14  202311   1119   \n",
              "1696                4.30  202311    356   \n",
              "1697                4.84  202311   1120   \n",
              "\n",
              "                                              descricao  \n",
              "0     IPCA15 - Número-índice (base: dezembro de 1993...  \n",
              "1                              IPCA15 - Variação mensal  \n",
              "2                IPCA15 - Variação acumulada em 3 meses  \n",
              "3                IPCA15 - Variação acumulada em 6 meses  \n",
              "4                    IPCA15 - Variação acumulada no ano  \n",
              "...                                                 ...  \n",
              "1693                           IPCA15 - Variação mensal  \n",
              "1694             IPCA15 - Variação acumulada em 3 meses  \n",
              "1695             IPCA15 - Variação acumulada em 6 meses  \n",
              "1696                 IPCA15 - Variação acumulada no ano  \n",
              "1697            IPCA15 - Variação acumulada em 12 meses  \n",
              "\n",
              "[1698 rows x 4 columns]"
            ]
          },
          "execution_count": 389,
          "metadata": {},
          "output_type": "execute_result"
        }
      ],
      "source": [
        "#### Selecionando as colunas de interesse\n",
        "ipca15 = (\n",
        "    ipca15_raw.loc[0:, ['V', 'D2C', 'D3C', 'D3N']]\n",
        "    .rename(columns = {\n",
        "        'V': 'var_ipca15',\n",
        "        'D2C': 'date',\n",
        "        'D3C': 'codigo',\n",
        "        'D3N': 'descricao'\n",
        "    })\n",
        ")\n",
        "ipca15"
      ]
    },
    {
      "cell_type": "code",
      "execution_count": 390,
      "metadata": {
        "colab": {
          "base_uri": "https://localhost:8080/",
          "height": 423
        },
        "id": "6LIXxKFiQAIA",
        "outputId": "5609e103-dd88-4eec-edcd-ca9e50d07212"
      },
      "outputs": [
        {
          "data": {
            "text/html": [
              "<div>\n",
              "<style scoped>\n",
              "    .dataframe tbody tr th:only-of-type {\n",
              "        vertical-align: middle;\n",
              "    }\n",
              "\n",
              "    .dataframe tbody tr th {\n",
              "        vertical-align: top;\n",
              "    }\n",
              "\n",
              "    .dataframe thead th {\n",
              "        text-align: right;\n",
              "    }\n",
              "</style>\n",
              "<table border=\"1\" class=\"dataframe\">\n",
              "  <thead>\n",
              "    <tr style=\"text-align: right;\">\n",
              "      <th></th>\n",
              "      <th>var_ipca15</th>\n",
              "      <th>date</th>\n",
              "      <th>codigo</th>\n",
              "      <th>descricao</th>\n",
              "    </tr>\n",
              "  </thead>\n",
              "  <tbody>\n",
              "    <tr>\n",
              "      <th>1</th>\n",
              "      <td>0.09</td>\n",
              "      <td>200005</td>\n",
              "      <td>355</td>\n",
              "      <td>IPCA15 - Variação mensal</td>\n",
              "    </tr>\n",
              "    <tr>\n",
              "      <th>2</th>\n",
              "      <td>0.65</td>\n",
              "      <td>200005</td>\n",
              "      <td>1118</td>\n",
              "      <td>IPCA15 - Variação acumulada em 3 meses</td>\n",
              "    </tr>\n",
              "    <tr>\n",
              "      <th>3</th>\n",
              "      <td>2.57</td>\n",
              "      <td>200005</td>\n",
              "      <td>1119</td>\n",
              "      <td>IPCA15 - Variação acumulada em 6 meses</td>\n",
              "    </tr>\n",
              "    <tr>\n",
              "      <th>4</th>\n",
              "      <td>1.65</td>\n",
              "      <td>200005</td>\n",
              "      <td>356</td>\n",
              "      <td>IPCA15 - Variação acumulada no ano</td>\n",
              "    </tr>\n",
              "    <tr>\n",
              "      <th>5</th>\n",
              "      <td>6.57</td>\n",
              "      <td>200005</td>\n",
              "      <td>1120</td>\n",
              "      <td>IPCA15 - Variação acumulada em 12 meses</td>\n",
              "    </tr>\n",
              "    <tr>\n",
              "      <th>...</th>\n",
              "      <td>...</td>\n",
              "      <td>...</td>\n",
              "      <td>...</td>\n",
              "      <td>...</td>\n",
              "    </tr>\n",
              "    <tr>\n",
              "      <th>1693</th>\n",
              "      <td>0.33</td>\n",
              "      <td>202311</td>\n",
              "      <td>355</td>\n",
              "      <td>IPCA15 - Variação mensal</td>\n",
              "    </tr>\n",
              "    <tr>\n",
              "      <th>1694</th>\n",
              "      <td>0.89</td>\n",
              "      <td>202311</td>\n",
              "      <td>1118</td>\n",
              "      <td>IPCA15 - Variação acumulada em 3 meses</td>\n",
              "    </tr>\n",
              "    <tr>\n",
              "      <th>1695</th>\n",
              "      <td>1.14</td>\n",
              "      <td>202311</td>\n",
              "      <td>1119</td>\n",
              "      <td>IPCA15 - Variação acumulada em 6 meses</td>\n",
              "    </tr>\n",
              "    <tr>\n",
              "      <th>1696</th>\n",
              "      <td>4.30</td>\n",
              "      <td>202311</td>\n",
              "      <td>356</td>\n",
              "      <td>IPCA15 - Variação acumulada no ano</td>\n",
              "    </tr>\n",
              "    <tr>\n",
              "      <th>1697</th>\n",
              "      <td>4.84</td>\n",
              "      <td>202311</td>\n",
              "      <td>1120</td>\n",
              "      <td>IPCA15 - Variação acumulada em 12 meses</td>\n",
              "    </tr>\n",
              "  </tbody>\n",
              "</table>\n",
              "<p>1415 rows × 4 columns</p>\n",
              "</div>"
            ],
            "text/plain": [
              "     var_ipca15    date codigo                                descricao\n",
              "1          0.09  200005    355                 IPCA15 - Variação mensal\n",
              "2          0.65  200005   1118   IPCA15 - Variação acumulada em 3 meses\n",
              "3          2.57  200005   1119   IPCA15 - Variação acumulada em 6 meses\n",
              "4          1.65  200005    356       IPCA15 - Variação acumulada no ano\n",
              "5          6.57  200005   1120  IPCA15 - Variação acumulada em 12 meses\n",
              "...         ...     ...    ...                                      ...\n",
              "1693       0.33  202311    355                 IPCA15 - Variação mensal\n",
              "1694       0.89  202311   1118   IPCA15 - Variação acumulada em 3 meses\n",
              "1695       1.14  202311   1119   IPCA15 - Variação acumulada em 6 meses\n",
              "1696       4.30  202311    356       IPCA15 - Variação acumulada no ano\n",
              "1697       4.84  202311   1120  IPCA15 - Variação acumulada em 12 meses\n",
              "\n",
              "[1415 rows x 4 columns]"
            ]
          },
          "execution_count": 390,
          "metadata": {},
          "output_type": "execute_result"
        }
      ],
      "source": [
        "# Remover linhas onde o valor na coluna 'codigo' é igual a 1117\n",
        "ipca15 = ipca15[ipca15['codigo'] != '1117']\n",
        "ipca15"
      ]
    },
    {
      "cell_type": "code",
      "execution_count": 391,
      "metadata": {},
      "outputs": [
        {
          "data": {
            "text/html": [
              "<div>\n",
              "<style scoped>\n",
              "    .dataframe tbody tr th:only-of-type {\n",
              "        vertical-align: middle;\n",
              "    }\n",
              "\n",
              "    .dataframe tbody tr th {\n",
              "        vertical-align: top;\n",
              "    }\n",
              "\n",
              "    .dataframe thead th {\n",
              "        text-align: right;\n",
              "    }\n",
              "</style>\n",
              "<table border=\"1\" class=\"dataframe\">\n",
              "  <thead>\n",
              "    <tr style=\"text-align: right;\">\n",
              "      <th></th>\n",
              "      <th>var_ipca15</th>\n",
              "    </tr>\n",
              "    <tr>\n",
              "      <th>date</th>\n",
              "      <th></th>\n",
              "    </tr>\n",
              "  </thead>\n",
              "  <tbody>\n",
              "    <tr>\n",
              "      <th>2000-05</th>\n",
              "      <td>0.09</td>\n",
              "    </tr>\n",
              "    <tr>\n",
              "      <th>2000-06</th>\n",
              "      <td>0.08</td>\n",
              "    </tr>\n",
              "    <tr>\n",
              "      <th>2000-07</th>\n",
              "      <td>0.78</td>\n",
              "    </tr>\n",
              "    <tr>\n",
              "      <th>2000-08</th>\n",
              "      <td>1.99</td>\n",
              "    </tr>\n",
              "    <tr>\n",
              "      <th>2000-09</th>\n",
              "      <td>0.45</td>\n",
              "    </tr>\n",
              "    <tr>\n",
              "      <th>...</th>\n",
              "      <td>...</td>\n",
              "    </tr>\n",
              "    <tr>\n",
              "      <th>2023-07</th>\n",
              "      <td>-0.07</td>\n",
              "    </tr>\n",
              "    <tr>\n",
              "      <th>2023-08</th>\n",
              "      <td>0.28</td>\n",
              "    </tr>\n",
              "    <tr>\n",
              "      <th>2023-09</th>\n",
              "      <td>0.35</td>\n",
              "    </tr>\n",
              "    <tr>\n",
              "      <th>2023-10</th>\n",
              "      <td>0.21</td>\n",
              "    </tr>\n",
              "    <tr>\n",
              "      <th>2023-11</th>\n",
              "      <td>0.33</td>\n",
              "    </tr>\n",
              "  </tbody>\n",
              "</table>\n",
              "<p>283 rows × 1 columns</p>\n",
              "</div>"
            ],
            "text/plain": [
              "        var_ipca15\n",
              "date              \n",
              "2000-05       0.09\n",
              "2000-06       0.08\n",
              "2000-07       0.78\n",
              "2000-08       1.99\n",
              "2000-09       0.45\n",
              "...            ...\n",
              "2023-07      -0.07\n",
              "2023-08       0.28\n",
              "2023-09       0.35\n",
              "2023-10       0.21\n",
              "2023-11       0.33\n",
              "\n",
              "[283 rows x 1 columns]"
            ]
          },
          "execution_count": 391,
          "metadata": {},
          "output_type": "execute_result"
        }
      ],
      "source": [
        "# Converter a coluna 'date' para formato datetime\n",
        "ipca15['date'] = pd.to_datetime(ipca15['date'], format='%Y%m')\n",
        "\n",
        "# Formatar a coluna 'date'\n",
        "ipca15['date'] = ipca15['date'].dt.to_period('M')\n",
        "\n",
        "# transformando a coluna 'date' em índice\n",
        "ipca15.set_index('date', inplace=True)\n",
        "\n",
        "# Selecionando somente as colunas com o código 355\n",
        "ipca15 = ipca15.loc[ipca15['codigo'] == '355']\n",
        "\n",
        "# Deixando de fora as outras colunas\n",
        "ipca15 = ipca15[['var_ipca15']]\n",
        "ipca15"
      ]
    },
    {
      "cell_type": "code",
      "execution_count": 392,
      "metadata": {},
      "outputs": [
        {
          "name": "stdout",
          "output_type": "stream",
          "text": [
            "<class 'pandas.core.frame.DataFrame'>\n",
            "PeriodIndex: 283 entries, 2000-05 to 2023-11\n",
            "Freq: M\n",
            "Data columns (total 1 columns):\n",
            " #   Column      Non-Null Count  Dtype  \n",
            "---  ------      --------------  -----  \n",
            " 0   var_ipca15  283 non-null    float64\n",
            "dtypes: float64(1)\n",
            "memory usage: 4.4 KB\n"
          ]
        }
      ],
      "source": [
        "# Iterar sobre as colunas e converter para float, tratando valores não numéricos como NaN\n",
        "for coluna in ipca15:\n",
        "    ipca15[coluna] = pd.to_numeric(ipca15[coluna], errors='coerce')\n",
        "\n",
        "ipca15.info()"
      ]
    },
    {
      "cell_type": "markdown",
      "metadata": {},
      "source": [
        "Nesse passo:\n",
        "1. Criaremos 3 colunas com os valores e as colunas: 'acum_3m_ipca15', 'acum_12m_ipca15' e 'acum_ano_ipca15'\n",
        "2. Converteremos todas em float e faremos os seus cálculos\n",
        "3. Reorganizamos as colunas"
      ]
    },
    {
      "cell_type": "code",
      "execution_count": 393,
      "metadata": {},
      "outputs": [
        {
          "data": {
            "text/html": [
              "<div>\n",
              "<style scoped>\n",
              "    .dataframe tbody tr th:only-of-type {\n",
              "        vertical-align: middle;\n",
              "    }\n",
              "\n",
              "    .dataframe tbody tr th {\n",
              "        vertical-align: top;\n",
              "    }\n",
              "\n",
              "    .dataframe thead th {\n",
              "        text-align: right;\n",
              "    }\n",
              "</style>\n",
              "<table border=\"1\" class=\"dataframe\">\n",
              "  <thead>\n",
              "    <tr style=\"text-align: right;\">\n",
              "      <th></th>\n",
              "      <th>var_ipca15</th>\n",
              "      <th>acum_3m_ipca15</th>\n",
              "    </tr>\n",
              "    <tr>\n",
              "      <th>date</th>\n",
              "      <th></th>\n",
              "      <th></th>\n",
              "    </tr>\n",
              "  </thead>\n",
              "  <tbody>\n",
              "    <tr>\n",
              "      <th>2000-05</th>\n",
              "      <td>0.09</td>\n",
              "      <td>NaN</td>\n",
              "    </tr>\n",
              "    <tr>\n",
              "      <th>2000-06</th>\n",
              "      <td>0.08</td>\n",
              "      <td>0.17</td>\n",
              "    </tr>\n",
              "    <tr>\n",
              "      <th>2000-07</th>\n",
              "      <td>0.78</td>\n",
              "      <td>NaN</td>\n",
              "    </tr>\n",
              "    <tr>\n",
              "      <th>2000-08</th>\n",
              "      <td>1.99</td>\n",
              "      <td>NaN</td>\n",
              "    </tr>\n",
              "    <tr>\n",
              "      <th>2000-09</th>\n",
              "      <td>0.45</td>\n",
              "      <td>3.22</td>\n",
              "    </tr>\n",
              "    <tr>\n",
              "      <th>...</th>\n",
              "      <td>...</td>\n",
              "      <td>...</td>\n",
              "    </tr>\n",
              "    <tr>\n",
              "      <th>2023-07</th>\n",
              "      <td>-0.07</td>\n",
              "      <td>NaN</td>\n",
              "    </tr>\n",
              "    <tr>\n",
              "      <th>2023-08</th>\n",
              "      <td>0.28</td>\n",
              "      <td>NaN</td>\n",
              "    </tr>\n",
              "    <tr>\n",
              "      <th>2023-09</th>\n",
              "      <td>0.35</td>\n",
              "      <td>0.56</td>\n",
              "    </tr>\n",
              "    <tr>\n",
              "      <th>2023-10</th>\n",
              "      <td>0.21</td>\n",
              "      <td>NaN</td>\n",
              "    </tr>\n",
              "    <tr>\n",
              "      <th>2023-11</th>\n",
              "      <td>0.33</td>\n",
              "      <td>0.54</td>\n",
              "    </tr>\n",
              "  </tbody>\n",
              "</table>\n",
              "<p>283 rows × 2 columns</p>\n",
              "</div>"
            ],
            "text/plain": [
              "         var_ipca15  acum_3m_ipca15\n",
              "date                               \n",
              "2000-05        0.09             NaN\n",
              "2000-06        0.08            0.17\n",
              "2000-07        0.78             NaN\n",
              "2000-08        1.99             NaN\n",
              "2000-09        0.45            3.22\n",
              "...             ...             ...\n",
              "2023-07       -0.07             NaN\n",
              "2023-08        0.28             NaN\n",
              "2023-09        0.35            0.56\n",
              "2023-10        0.21             NaN\n",
              "2023-11        0.33            0.54\n",
              "\n",
              "[283 rows x 2 columns]"
            ]
          },
          "execution_count": 393,
          "metadata": {},
          "output_type": "execute_result"
        }
      ],
      "source": [
        "# Calcular o valor acumulado para trimestre (rolling window de 3 meses)\n",
        "ipca15['acum_3m_ipca15'] = ipca15['var_ipca15'].groupby(pd.Grouper(freq='3M')).cumsum()\n",
        "\n",
        "# Ordene o DataFrame pelo índice (data)\n",
        "ipca15.sort_index(inplace=True)\n",
        "\n",
        "# Crie a coluna acum_3m_ipca preenchida com NaN\n",
        "ipca15['acum_3m_ipca15'] = float('nan')\n",
        "\n",
        "# Itere sobre os anos no DataFrame\n",
        "for year in ipca.index.year.unique():\n",
        "    # Selecione os dados do ano atual\n",
        "    year_data = ipca15[ipca15.index.year == year]\n",
        "\n",
        "    # Itere sobre os trimestres\n",
        "    for start_month in range(1, 13, 3):\n",
        "        end_month = start_month + 2\n",
        "\n",
        "        # Selecione os dados dos três meses do trimestre\n",
        "        current_trimester_data = year_data[year_data.index.month.isin([start_month, start_month + 1, end_month])]\n",
        "\n",
        "        # Se o trimestre atual não tiver dados, continue para o próximo trimestre\n",
        "        if current_trimester_data.empty:\n",
        "            continue\n",
        "\n",
        "        # Calcule o valor acumulado para o trimestre atual\n",
        "        ipca15.loc[current_trimester_data.index[-1], 'acum_3m_ipca15'] = current_trimester_data['var_ipca15'].sum()\n",
        "\n",
        "# fim do laço\n",
        "ipca15\n"
      ]
    },
    {
      "cell_type": "code",
      "execution_count": 394,
      "metadata": {},
      "outputs": [
        {
          "data": {
            "text/html": [
              "<div>\n",
              "<style scoped>\n",
              "    .dataframe tbody tr th:only-of-type {\n",
              "        vertical-align: middle;\n",
              "    }\n",
              "\n",
              "    .dataframe tbody tr th {\n",
              "        vertical-align: top;\n",
              "    }\n",
              "\n",
              "    .dataframe thead th {\n",
              "        text-align: right;\n",
              "    }\n",
              "</style>\n",
              "<table border=\"1\" class=\"dataframe\">\n",
              "  <thead>\n",
              "    <tr style=\"text-align: right;\">\n",
              "      <th></th>\n",
              "      <th>var_ipca15</th>\n",
              "      <th>acum_3m_ipca15</th>\n",
              "      <th>acum_12m_ipca15</th>\n",
              "    </tr>\n",
              "    <tr>\n",
              "      <th>date</th>\n",
              "      <th></th>\n",
              "      <th></th>\n",
              "      <th></th>\n",
              "    </tr>\n",
              "  </thead>\n",
              "  <tbody>\n",
              "    <tr>\n",
              "      <th>2000-05</th>\n",
              "      <td>0.09</td>\n",
              "      <td>NaN</td>\n",
              "      <td>0.09</td>\n",
              "    </tr>\n",
              "    <tr>\n",
              "      <th>2000-06</th>\n",
              "      <td>0.08</td>\n",
              "      <td>0.17</td>\n",
              "      <td>0.17</td>\n",
              "    </tr>\n",
              "    <tr>\n",
              "      <th>2000-07</th>\n",
              "      <td>0.78</td>\n",
              "      <td>NaN</td>\n",
              "      <td>0.95</td>\n",
              "    </tr>\n",
              "    <tr>\n",
              "      <th>2000-08</th>\n",
              "      <td>1.99</td>\n",
              "      <td>NaN</td>\n",
              "      <td>2.94</td>\n",
              "    </tr>\n",
              "    <tr>\n",
              "      <th>2000-09</th>\n",
              "      <td>0.45</td>\n",
              "      <td>3.22</td>\n",
              "      <td>3.39</td>\n",
              "    </tr>\n",
              "    <tr>\n",
              "      <th>...</th>\n",
              "      <td>...</td>\n",
              "      <td>...</td>\n",
              "      <td>...</td>\n",
              "    </tr>\n",
              "    <tr>\n",
              "      <th>2023-07</th>\n",
              "      <td>-0.07</td>\n",
              "      <td>NaN</td>\n",
              "      <td>0.48</td>\n",
              "    </tr>\n",
              "    <tr>\n",
              "      <th>2023-08</th>\n",
              "      <td>0.28</td>\n",
              "      <td>NaN</td>\n",
              "      <td>0.76</td>\n",
              "    </tr>\n",
              "    <tr>\n",
              "      <th>2023-09</th>\n",
              "      <td>0.35</td>\n",
              "      <td>0.56</td>\n",
              "      <td>1.11</td>\n",
              "    </tr>\n",
              "    <tr>\n",
              "      <th>2023-10</th>\n",
              "      <td>0.21</td>\n",
              "      <td>NaN</td>\n",
              "      <td>1.32</td>\n",
              "    </tr>\n",
              "    <tr>\n",
              "      <th>2023-11</th>\n",
              "      <td>0.33</td>\n",
              "      <td>0.54</td>\n",
              "      <td>1.65</td>\n",
              "    </tr>\n",
              "  </tbody>\n",
              "</table>\n",
              "<p>283 rows × 3 columns</p>\n",
              "</div>"
            ],
            "text/plain": [
              "         var_ipca15  acum_3m_ipca15  acum_12m_ipca15\n",
              "date                                                \n",
              "2000-05        0.09             NaN             0.09\n",
              "2000-06        0.08            0.17             0.17\n",
              "2000-07        0.78             NaN             0.95\n",
              "2000-08        1.99             NaN             2.94\n",
              "2000-09        0.45            3.22             3.39\n",
              "...             ...             ...              ...\n",
              "2023-07       -0.07             NaN             0.48\n",
              "2023-08        0.28             NaN             0.76\n",
              "2023-09        0.35            0.56             1.11\n",
              "2023-10        0.21             NaN             1.32\n",
              "2023-11        0.33            0.54             1.65\n",
              "\n",
              "[283 rows x 3 columns]"
            ]
          },
          "execution_count": 394,
          "metadata": {},
          "output_type": "execute_result"
        }
      ],
      "source": [
        "# Calcular o valor acumulado para 12 meses (rolling window de 12 meses)\n",
        "ipca15['acum_12m_ipca15'] = ipca15['var_ipca15'].groupby(pd.Grouper(freq='12M')).cumsum()\n",
        "ipca15"
      ]
    },
    {
      "cell_type": "code",
      "execution_count": 395,
      "metadata": {},
      "outputs": [
        {
          "data": {
            "text/html": [
              "<div>\n",
              "<style scoped>\n",
              "    .dataframe tbody tr th:only-of-type {\n",
              "        vertical-align: middle;\n",
              "    }\n",
              "\n",
              "    .dataframe tbody tr th {\n",
              "        vertical-align: top;\n",
              "    }\n",
              "\n",
              "    .dataframe thead th {\n",
              "        text-align: right;\n",
              "    }\n",
              "</style>\n",
              "<table border=\"1\" class=\"dataframe\">\n",
              "  <thead>\n",
              "    <tr style=\"text-align: right;\">\n",
              "      <th></th>\n",
              "      <th>var_ipca15</th>\n",
              "      <th>acum_3m_ipca15</th>\n",
              "      <th>acum_12m_ipca15</th>\n",
              "      <th>acum_ano_ipca15</th>\n",
              "    </tr>\n",
              "    <tr>\n",
              "      <th>date</th>\n",
              "      <th></th>\n",
              "      <th></th>\n",
              "      <th></th>\n",
              "      <th></th>\n",
              "    </tr>\n",
              "  </thead>\n",
              "  <tbody>\n",
              "    <tr>\n",
              "      <th>2000-05</th>\n",
              "      <td>0.09</td>\n",
              "      <td>NaN</td>\n",
              "      <td>0.09</td>\n",
              "      <td>NaN</td>\n",
              "    </tr>\n",
              "    <tr>\n",
              "      <th>2000-06</th>\n",
              "      <td>0.08</td>\n",
              "      <td>0.17</td>\n",
              "      <td>0.17</td>\n",
              "      <td>NaN</td>\n",
              "    </tr>\n",
              "    <tr>\n",
              "      <th>2000-07</th>\n",
              "      <td>0.78</td>\n",
              "      <td>NaN</td>\n",
              "      <td>0.95</td>\n",
              "      <td>NaN</td>\n",
              "    </tr>\n",
              "    <tr>\n",
              "      <th>2000-08</th>\n",
              "      <td>1.99</td>\n",
              "      <td>NaN</td>\n",
              "      <td>2.94</td>\n",
              "      <td>NaN</td>\n",
              "    </tr>\n",
              "    <tr>\n",
              "      <th>2000-09</th>\n",
              "      <td>0.45</td>\n",
              "      <td>3.22</td>\n",
              "      <td>3.39</td>\n",
              "      <td>NaN</td>\n",
              "    </tr>\n",
              "    <tr>\n",
              "      <th>...</th>\n",
              "      <td>...</td>\n",
              "      <td>...</td>\n",
              "      <td>...</td>\n",
              "      <td>...</td>\n",
              "    </tr>\n",
              "    <tr>\n",
              "      <th>2023-07</th>\n",
              "      <td>-0.07</td>\n",
              "      <td>NaN</td>\n",
              "      <td>0.48</td>\n",
              "      <td>NaN</td>\n",
              "    </tr>\n",
              "    <tr>\n",
              "      <th>2023-08</th>\n",
              "      <td>0.28</td>\n",
              "      <td>NaN</td>\n",
              "      <td>0.76</td>\n",
              "      <td>NaN</td>\n",
              "    </tr>\n",
              "    <tr>\n",
              "      <th>2023-09</th>\n",
              "      <td>0.35</td>\n",
              "      <td>0.56</td>\n",
              "      <td>1.11</td>\n",
              "      <td>NaN</td>\n",
              "    </tr>\n",
              "    <tr>\n",
              "      <th>2023-10</th>\n",
              "      <td>0.21</td>\n",
              "      <td>NaN</td>\n",
              "      <td>1.32</td>\n",
              "      <td>NaN</td>\n",
              "    </tr>\n",
              "    <tr>\n",
              "      <th>2023-11</th>\n",
              "      <td>0.33</td>\n",
              "      <td>0.54</td>\n",
              "      <td>1.65</td>\n",
              "      <td>NaN</td>\n",
              "    </tr>\n",
              "  </tbody>\n",
              "</table>\n",
              "<p>283 rows × 4 columns</p>\n",
              "</div>"
            ],
            "text/plain": [
              "         var_ipca15  acum_3m_ipca15  acum_12m_ipca15  acum_ano_ipca15\n",
              "date                                                                 \n",
              "2000-05        0.09             NaN             0.09              NaN\n",
              "2000-06        0.08            0.17             0.17              NaN\n",
              "2000-07        0.78             NaN             0.95              NaN\n",
              "2000-08        1.99             NaN             2.94              NaN\n",
              "2000-09        0.45            3.22             3.39              NaN\n",
              "...             ...             ...              ...              ...\n",
              "2023-07       -0.07             NaN             0.48              NaN\n",
              "2023-08        0.28             NaN             0.76              NaN\n",
              "2023-09        0.35            0.56             1.11              NaN\n",
              "2023-10        0.21             NaN             1.32              NaN\n",
              "2023-11        0.33            0.54             1.65              NaN\n",
              "\n",
              "[283 rows x 4 columns]"
            ]
          },
          "execution_count": 395,
          "metadata": {},
          "output_type": "execute_result"
        }
      ],
      "source": [
        "# Calcular o valor acumulado do ano\n",
        "ipca15['acum_ano_ipca15'] = ipca15.groupby(ipca15.index.year)['var_ipca15'].cumsum().where(ipca15.index.month == 12)\n",
        "ipca15"
      ]
    },
    {
      "cell_type": "code",
      "execution_count": 396,
      "metadata": {},
      "outputs": [
        {
          "data": {
            "text/html": [
              "<div>\n",
              "<style scoped>\n",
              "    .dataframe tbody tr th:only-of-type {\n",
              "        vertical-align: middle;\n",
              "    }\n",
              "\n",
              "    .dataframe tbody tr th {\n",
              "        vertical-align: top;\n",
              "    }\n",
              "\n",
              "    .dataframe thead th {\n",
              "        text-align: right;\n",
              "    }\n",
              "</style>\n",
              "<table border=\"1\" class=\"dataframe\">\n",
              "  <thead>\n",
              "    <tr style=\"text-align: right;\">\n",
              "      <th></th>\n",
              "      <th>var_ipca15</th>\n",
              "      <th>acum_3m_ipca15</th>\n",
              "      <th>acum_12m_ipca15</th>\n",
              "      <th>acum_ano_ipca15</th>\n",
              "    </tr>\n",
              "  </thead>\n",
              "  <tbody>\n",
              "    <tr>\n",
              "      <th>count</th>\n",
              "      <td>283.000000</td>\n",
              "      <td>95.000000</td>\n",
              "      <td>283.000000</td>\n",
              "      <td>23.000000</td>\n",
              "    </tr>\n",
              "    <tr>\n",
              "      <th>mean</th>\n",
              "      <td>0.507668</td>\n",
              "      <td>1.512316</td>\n",
              "      <td>2.965477</td>\n",
              "      <td>6.063043</td>\n",
              "    </tr>\n",
              "    <tr>\n",
              "      <th>std</th>\n",
              "      <td>0.405487</td>\n",
              "      <td>1.012051</td>\n",
              "      <td>2.494037</td>\n",
              "      <td>2.336171</td>\n",
              "    </tr>\n",
              "    <tr>\n",
              "      <th>min</th>\n",
              "      <td>-0.730000</td>\n",
              "      <td>-0.970000</td>\n",
              "      <td>-0.590000</td>\n",
              "      <td>2.900000</td>\n",
              "    </tr>\n",
              "    <tr>\n",
              "      <th>25%</th>\n",
              "      <td>0.245000</td>\n",
              "      <td>0.950000</td>\n",
              "      <td>1.040000</td>\n",
              "      <td>4.220000</td>\n",
              "    </tr>\n",
              "    <tr>\n",
              "      <th>50%</th>\n",
              "      <td>0.460000</td>\n",
              "      <td>1.370000</td>\n",
              "      <td>2.540000</td>\n",
              "      <td>5.730000</td>\n",
              "    </tr>\n",
              "    <tr>\n",
              "      <th>75%</th>\n",
              "      <td>0.690000</td>\n",
              "      <td>1.990000</td>\n",
              "      <td>4.210000</td>\n",
              "      <td>6.835000</td>\n",
              "    </tr>\n",
              "    <tr>\n",
              "      <th>max</th>\n",
              "      <td>3.050000</td>\n",
              "      <td>6.030000</td>\n",
              "      <td>15.620000</td>\n",
              "      <td>11.410000</td>\n",
              "    </tr>\n",
              "  </tbody>\n",
              "</table>\n",
              "</div>"
            ],
            "text/plain": [
              "       var_ipca15  acum_3m_ipca15  acum_12m_ipca15  acum_ano_ipca15\n",
              "count  283.000000       95.000000       283.000000        23.000000\n",
              "mean     0.507668        1.512316         2.965477         6.063043\n",
              "std      0.405487        1.012051         2.494037         2.336171\n",
              "min     -0.730000       -0.970000        -0.590000         2.900000\n",
              "25%      0.245000        0.950000         1.040000         4.220000\n",
              "50%      0.460000        1.370000         2.540000         5.730000\n",
              "75%      0.690000        1.990000         4.210000         6.835000\n",
              "max      3.050000        6.030000        15.620000        11.410000"
            ]
          },
          "execution_count": 396,
          "metadata": {},
          "output_type": "execute_result"
        }
      ],
      "source": [
        "ipca15.describe()"
      ]
    },
    {
      "cell_type": "markdown",
      "metadata": {},
      "source": [
        "> **Parte legal - Visualização**"
      ]
    },
    {
      "cell_type": "code",
      "execution_count": 397,
      "metadata": {},
      "outputs": [
        {
          "data": {
            "application/vnd.plotly.v1+json": {
              "config": {
                "plotlyServerURL": "https://plot.ly"
              },
              "data": [
                {
                  "alignmentgroup": "True",
                  "hovertemplate": "var_ipca15=%{x}<extra></extra>",
                  "legendgroup": "",
                  "marker": {
                    "color": "#636efa"
                  },
                  "name": "",
                  "notched": false,
                  "offsetgroup": "",
                  "orientation": "h",
                  "showlegend": false,
                  "type": "box",
                  "x": [
                    0.09,
                    0.08,
                    0.78,
                    1.99,
                    0.45,
                    0.18,
                    0.17,
                    0.6,
                    0.63,
                    0.5,
                    0.36,
                    0.5,
                    0.49,
                    0.38,
                    0.94,
                    1.18,
                    0.38,
                    0.37,
                    0.99,
                    0.55,
                    0.62,
                    0.44,
                    0.4,
                    0.78,
                    0.42,
                    0.33,
                    0.77,
                    1,
                    0.62,
                    0.9,
                    2.08,
                    3.05,
                    1.98,
                    2.19,
                    1.14,
                    1.14,
                    0.85,
                    0.22,
                    -0.18,
                    0.27,
                    0.57,
                    0.66,
                    0.17,
                    0.46,
                    0.68,
                    0.9,
                    0.4,
                    0.21,
                    0.54,
                    0.56,
                    0.93,
                    0.79,
                    0.49,
                    0.32,
                    0.63,
                    0.84,
                    0.68,
                    0.74,
                    0.35,
                    0.74,
                    0.83,
                    0.12,
                    0.11,
                    0.28,
                    0.16,
                    0.56,
                    0.78,
                    0.38,
                    0.51,
                    0.52,
                    0.37,
                    0.17,
                    0.27,
                    -0.15,
                    -0.02,
                    0.19,
                    0.05,
                    0.29,
                    0.37,
                    0.35,
                    0.52,
                    0.46,
                    0.41,
                    0.22,
                    0.26,
                    0.29,
                    0.24,
                    0.42,
                    0.29,
                    0.24,
                    0.23,
                    0.7,
                    0.7,
                    0.64,
                    0.23,
                    0.59,
                    0.56,
                    0.9,
                    0.63,
                    0.35,
                    0.26,
                    0.3,
                    0.49,
                    0.29,
                    0.4,
                    0.63,
                    0.11,
                    0.36,
                    0.59,
                    0.38,
                    0.22,
                    0.23,
                    0.19,
                    0.18,
                    0.44,
                    0.38,
                    0.52,
                    0.94,
                    0.55,
                    0.48,
                    0.63,
                    0.19,
                    -0.09,
                    -0.05,
                    0.31,
                    0.62,
                    0.86,
                    0.69,
                    0.76,
                    0.97,
                    0.6,
                    0.77,
                    0.7,
                    0.23,
                    0.1,
                    0.27,
                    0.53,
                    0.42,
                    0.46,
                    0.56,
                    0.65,
                    0.53,
                    0.25,
                    0.43,
                    0.51,
                    0.18,
                    0.33,
                    0.39,
                    0.48,
                    0.65,
                    0.54,
                    0.69,
                    0.88,
                    0.68,
                    0.49,
                    0.51,
                    0.46,
                    0.38,
                    0.07,
                    0.16,
                    0.27,
                    0.48,
                    0.57,
                    0.75,
                    0.67,
                    0.7,
                    0.73,
                    0.78,
                    0.58,
                    0.47,
                    0.17,
                    0.14,
                    0.39,
                    0.48,
                    0.38,
                    0.79,
                    0.89,
                    1.33,
                    1.24,
                    1.07,
                    0.6,
                    0.99,
                    0.59,
                    0.43,
                    0.39,
                    0.66,
                    0.85,
                    1.18,
                    0.92,
                    1.42,
                    0.43,
                    0.51,
                    0.86,
                    0.4,
                    0.54,
                    0.45,
                    0.23,
                    0.19,
                    0.26,
                    0.19,
                    0.31,
                    0.54,
                    0.15,
                    0.21,
                    0.24,
                    0.16,
                    -0.18,
                    0.35,
                    0.11,
                    0.34,
                    0.32,
                    0.35,
                    0.39,
                    0.38,
                    0.1,
                    0.21,
                    0.14,
                    1.11,
                    0.64,
                    0.13,
                    0.09,
                    0.58,
                    0.19,
                    -0.16,
                    0.3,
                    0.34,
                    0.54,
                    0.72,
                    0.35,
                    0.06,
                    0.09,
                    0.08,
                    0.09,
                    0.09,
                    0.14,
                    1.05,
                    0.71,
                    0.22,
                    0.02,
                    -0.01,
                    -0.59,
                    0.02,
                    0.3,
                    0.23,
                    0.45,
                    0.94,
                    0.81,
                    1.06,
                    0.78,
                    0.48,
                    0.93,
                    0.6,
                    0.44,
                    0.83,
                    0.72,
                    0.89,
                    1.14,
                    1.2,
                    1.17,
                    0.78,
                    0.58,
                    0.99,
                    0.95,
                    1.73,
                    0.59,
                    0.69,
                    0.13,
                    -0.73,
                    -0.37,
                    0.16,
                    0.53,
                    0.52,
                    0.55,
                    0.76,
                    0.69,
                    0.57,
                    0.51,
                    0.04,
                    -0.07,
                    0.28,
                    0.35,
                    0.21,
                    0.33
                  ],
                  "x0": " ",
                  "xaxis": "x",
                  "y0": " ",
                  "yaxis": "y"
                }
              ],
              "layout": {
                "boxmode": "group",
                "legend": {
                  "tracegroupgap": 0
                },
                "template": {
                  "data": {
                    "bar": [
                      {
                        "error_x": {
                          "color": "#2a3f5f"
                        },
                        "error_y": {
                          "color": "#2a3f5f"
                        },
                        "marker": {
                          "line": {
                            "color": "#E5ECF6",
                            "width": 0.5
                          },
                          "pattern": {
                            "fillmode": "overlay",
                            "size": 10,
                            "solidity": 0.2
                          }
                        },
                        "type": "bar"
                      }
                    ],
                    "barpolar": [
                      {
                        "marker": {
                          "line": {
                            "color": "#E5ECF6",
                            "width": 0.5
                          },
                          "pattern": {
                            "fillmode": "overlay",
                            "size": 10,
                            "solidity": 0.2
                          }
                        },
                        "type": "barpolar"
                      }
                    ],
                    "carpet": [
                      {
                        "aaxis": {
                          "endlinecolor": "#2a3f5f",
                          "gridcolor": "white",
                          "linecolor": "white",
                          "minorgridcolor": "white",
                          "startlinecolor": "#2a3f5f"
                        },
                        "baxis": {
                          "endlinecolor": "#2a3f5f",
                          "gridcolor": "white",
                          "linecolor": "white",
                          "minorgridcolor": "white",
                          "startlinecolor": "#2a3f5f"
                        },
                        "type": "carpet"
                      }
                    ],
                    "choropleth": [
                      {
                        "colorbar": {
                          "outlinewidth": 0,
                          "ticks": ""
                        },
                        "type": "choropleth"
                      }
                    ],
                    "contour": [
                      {
                        "colorbar": {
                          "outlinewidth": 0,
                          "ticks": ""
                        },
                        "colorscale": [
                          [
                            0,
                            "#0d0887"
                          ],
                          [
                            0.1111111111111111,
                            "#46039f"
                          ],
                          [
                            0.2222222222222222,
                            "#7201a8"
                          ],
                          [
                            0.3333333333333333,
                            "#9c179e"
                          ],
                          [
                            0.4444444444444444,
                            "#bd3786"
                          ],
                          [
                            0.5555555555555556,
                            "#d8576b"
                          ],
                          [
                            0.6666666666666666,
                            "#ed7953"
                          ],
                          [
                            0.7777777777777778,
                            "#fb9f3a"
                          ],
                          [
                            0.8888888888888888,
                            "#fdca26"
                          ],
                          [
                            1,
                            "#f0f921"
                          ]
                        ],
                        "type": "contour"
                      }
                    ],
                    "contourcarpet": [
                      {
                        "colorbar": {
                          "outlinewidth": 0,
                          "ticks": ""
                        },
                        "type": "contourcarpet"
                      }
                    ],
                    "heatmap": [
                      {
                        "colorbar": {
                          "outlinewidth": 0,
                          "ticks": ""
                        },
                        "colorscale": [
                          [
                            0,
                            "#0d0887"
                          ],
                          [
                            0.1111111111111111,
                            "#46039f"
                          ],
                          [
                            0.2222222222222222,
                            "#7201a8"
                          ],
                          [
                            0.3333333333333333,
                            "#9c179e"
                          ],
                          [
                            0.4444444444444444,
                            "#bd3786"
                          ],
                          [
                            0.5555555555555556,
                            "#d8576b"
                          ],
                          [
                            0.6666666666666666,
                            "#ed7953"
                          ],
                          [
                            0.7777777777777778,
                            "#fb9f3a"
                          ],
                          [
                            0.8888888888888888,
                            "#fdca26"
                          ],
                          [
                            1,
                            "#f0f921"
                          ]
                        ],
                        "type": "heatmap"
                      }
                    ],
                    "heatmapgl": [
                      {
                        "colorbar": {
                          "outlinewidth": 0,
                          "ticks": ""
                        },
                        "colorscale": [
                          [
                            0,
                            "#0d0887"
                          ],
                          [
                            0.1111111111111111,
                            "#46039f"
                          ],
                          [
                            0.2222222222222222,
                            "#7201a8"
                          ],
                          [
                            0.3333333333333333,
                            "#9c179e"
                          ],
                          [
                            0.4444444444444444,
                            "#bd3786"
                          ],
                          [
                            0.5555555555555556,
                            "#d8576b"
                          ],
                          [
                            0.6666666666666666,
                            "#ed7953"
                          ],
                          [
                            0.7777777777777778,
                            "#fb9f3a"
                          ],
                          [
                            0.8888888888888888,
                            "#fdca26"
                          ],
                          [
                            1,
                            "#f0f921"
                          ]
                        ],
                        "type": "heatmapgl"
                      }
                    ],
                    "histogram": [
                      {
                        "marker": {
                          "pattern": {
                            "fillmode": "overlay",
                            "size": 10,
                            "solidity": 0.2
                          }
                        },
                        "type": "histogram"
                      }
                    ],
                    "histogram2d": [
                      {
                        "colorbar": {
                          "outlinewidth": 0,
                          "ticks": ""
                        },
                        "colorscale": [
                          [
                            0,
                            "#0d0887"
                          ],
                          [
                            0.1111111111111111,
                            "#46039f"
                          ],
                          [
                            0.2222222222222222,
                            "#7201a8"
                          ],
                          [
                            0.3333333333333333,
                            "#9c179e"
                          ],
                          [
                            0.4444444444444444,
                            "#bd3786"
                          ],
                          [
                            0.5555555555555556,
                            "#d8576b"
                          ],
                          [
                            0.6666666666666666,
                            "#ed7953"
                          ],
                          [
                            0.7777777777777778,
                            "#fb9f3a"
                          ],
                          [
                            0.8888888888888888,
                            "#fdca26"
                          ],
                          [
                            1,
                            "#f0f921"
                          ]
                        ],
                        "type": "histogram2d"
                      }
                    ],
                    "histogram2dcontour": [
                      {
                        "colorbar": {
                          "outlinewidth": 0,
                          "ticks": ""
                        },
                        "colorscale": [
                          [
                            0,
                            "#0d0887"
                          ],
                          [
                            0.1111111111111111,
                            "#46039f"
                          ],
                          [
                            0.2222222222222222,
                            "#7201a8"
                          ],
                          [
                            0.3333333333333333,
                            "#9c179e"
                          ],
                          [
                            0.4444444444444444,
                            "#bd3786"
                          ],
                          [
                            0.5555555555555556,
                            "#d8576b"
                          ],
                          [
                            0.6666666666666666,
                            "#ed7953"
                          ],
                          [
                            0.7777777777777778,
                            "#fb9f3a"
                          ],
                          [
                            0.8888888888888888,
                            "#fdca26"
                          ],
                          [
                            1,
                            "#f0f921"
                          ]
                        ],
                        "type": "histogram2dcontour"
                      }
                    ],
                    "mesh3d": [
                      {
                        "colorbar": {
                          "outlinewidth": 0,
                          "ticks": ""
                        },
                        "type": "mesh3d"
                      }
                    ],
                    "parcoords": [
                      {
                        "line": {
                          "colorbar": {
                            "outlinewidth": 0,
                            "ticks": ""
                          }
                        },
                        "type": "parcoords"
                      }
                    ],
                    "pie": [
                      {
                        "automargin": true,
                        "type": "pie"
                      }
                    ],
                    "scatter": [
                      {
                        "fillpattern": {
                          "fillmode": "overlay",
                          "size": 10,
                          "solidity": 0.2
                        },
                        "type": "scatter"
                      }
                    ],
                    "scatter3d": [
                      {
                        "line": {
                          "colorbar": {
                            "outlinewidth": 0,
                            "ticks": ""
                          }
                        },
                        "marker": {
                          "colorbar": {
                            "outlinewidth": 0,
                            "ticks": ""
                          }
                        },
                        "type": "scatter3d"
                      }
                    ],
                    "scattercarpet": [
                      {
                        "marker": {
                          "colorbar": {
                            "outlinewidth": 0,
                            "ticks": ""
                          }
                        },
                        "type": "scattercarpet"
                      }
                    ],
                    "scattergeo": [
                      {
                        "marker": {
                          "colorbar": {
                            "outlinewidth": 0,
                            "ticks": ""
                          }
                        },
                        "type": "scattergeo"
                      }
                    ],
                    "scattergl": [
                      {
                        "marker": {
                          "colorbar": {
                            "outlinewidth": 0,
                            "ticks": ""
                          }
                        },
                        "type": "scattergl"
                      }
                    ],
                    "scattermapbox": [
                      {
                        "marker": {
                          "colorbar": {
                            "outlinewidth": 0,
                            "ticks": ""
                          }
                        },
                        "type": "scattermapbox"
                      }
                    ],
                    "scatterpolar": [
                      {
                        "marker": {
                          "colorbar": {
                            "outlinewidth": 0,
                            "ticks": ""
                          }
                        },
                        "type": "scatterpolar"
                      }
                    ],
                    "scatterpolargl": [
                      {
                        "marker": {
                          "colorbar": {
                            "outlinewidth": 0,
                            "ticks": ""
                          }
                        },
                        "type": "scatterpolargl"
                      }
                    ],
                    "scatterternary": [
                      {
                        "marker": {
                          "colorbar": {
                            "outlinewidth": 0,
                            "ticks": ""
                          }
                        },
                        "type": "scatterternary"
                      }
                    ],
                    "surface": [
                      {
                        "colorbar": {
                          "outlinewidth": 0,
                          "ticks": ""
                        },
                        "colorscale": [
                          [
                            0,
                            "#0d0887"
                          ],
                          [
                            0.1111111111111111,
                            "#46039f"
                          ],
                          [
                            0.2222222222222222,
                            "#7201a8"
                          ],
                          [
                            0.3333333333333333,
                            "#9c179e"
                          ],
                          [
                            0.4444444444444444,
                            "#bd3786"
                          ],
                          [
                            0.5555555555555556,
                            "#d8576b"
                          ],
                          [
                            0.6666666666666666,
                            "#ed7953"
                          ],
                          [
                            0.7777777777777778,
                            "#fb9f3a"
                          ],
                          [
                            0.8888888888888888,
                            "#fdca26"
                          ],
                          [
                            1,
                            "#f0f921"
                          ]
                        ],
                        "type": "surface"
                      }
                    ],
                    "table": [
                      {
                        "cells": {
                          "fill": {
                            "color": "#EBF0F8"
                          },
                          "line": {
                            "color": "white"
                          }
                        },
                        "header": {
                          "fill": {
                            "color": "#C8D4E3"
                          },
                          "line": {
                            "color": "white"
                          }
                        },
                        "type": "table"
                      }
                    ]
                  },
                  "layout": {
                    "annotationdefaults": {
                      "arrowcolor": "#2a3f5f",
                      "arrowhead": 0,
                      "arrowwidth": 1
                    },
                    "autotypenumbers": "strict",
                    "coloraxis": {
                      "colorbar": {
                        "outlinewidth": 0,
                        "ticks": ""
                      }
                    },
                    "colorscale": {
                      "diverging": [
                        [
                          0,
                          "#8e0152"
                        ],
                        [
                          0.1,
                          "#c51b7d"
                        ],
                        [
                          0.2,
                          "#de77ae"
                        ],
                        [
                          0.3,
                          "#f1b6da"
                        ],
                        [
                          0.4,
                          "#fde0ef"
                        ],
                        [
                          0.5,
                          "#f7f7f7"
                        ],
                        [
                          0.6,
                          "#e6f5d0"
                        ],
                        [
                          0.7,
                          "#b8e186"
                        ],
                        [
                          0.8,
                          "#7fbc41"
                        ],
                        [
                          0.9,
                          "#4d9221"
                        ],
                        [
                          1,
                          "#276419"
                        ]
                      ],
                      "sequential": [
                        [
                          0,
                          "#0d0887"
                        ],
                        [
                          0.1111111111111111,
                          "#46039f"
                        ],
                        [
                          0.2222222222222222,
                          "#7201a8"
                        ],
                        [
                          0.3333333333333333,
                          "#9c179e"
                        ],
                        [
                          0.4444444444444444,
                          "#bd3786"
                        ],
                        [
                          0.5555555555555556,
                          "#d8576b"
                        ],
                        [
                          0.6666666666666666,
                          "#ed7953"
                        ],
                        [
                          0.7777777777777778,
                          "#fb9f3a"
                        ],
                        [
                          0.8888888888888888,
                          "#fdca26"
                        ],
                        [
                          1,
                          "#f0f921"
                        ]
                      ],
                      "sequentialminus": [
                        [
                          0,
                          "#0d0887"
                        ],
                        [
                          0.1111111111111111,
                          "#46039f"
                        ],
                        [
                          0.2222222222222222,
                          "#7201a8"
                        ],
                        [
                          0.3333333333333333,
                          "#9c179e"
                        ],
                        [
                          0.4444444444444444,
                          "#bd3786"
                        ],
                        [
                          0.5555555555555556,
                          "#d8576b"
                        ],
                        [
                          0.6666666666666666,
                          "#ed7953"
                        ],
                        [
                          0.7777777777777778,
                          "#fb9f3a"
                        ],
                        [
                          0.8888888888888888,
                          "#fdca26"
                        ],
                        [
                          1,
                          "#f0f921"
                        ]
                      ]
                    },
                    "colorway": [
                      "#636efa",
                      "#EF553B",
                      "#00cc96",
                      "#ab63fa",
                      "#FFA15A",
                      "#19d3f3",
                      "#FF6692",
                      "#B6E880",
                      "#FF97FF",
                      "#FECB52"
                    ],
                    "font": {
                      "color": "#2a3f5f"
                    },
                    "geo": {
                      "bgcolor": "white",
                      "lakecolor": "white",
                      "landcolor": "#E5ECF6",
                      "showlakes": true,
                      "showland": true,
                      "subunitcolor": "white"
                    },
                    "hoverlabel": {
                      "align": "left"
                    },
                    "hovermode": "closest",
                    "mapbox": {
                      "style": "light"
                    },
                    "paper_bgcolor": "white",
                    "plot_bgcolor": "#E5ECF6",
                    "polar": {
                      "angularaxis": {
                        "gridcolor": "white",
                        "linecolor": "white",
                        "ticks": ""
                      },
                      "bgcolor": "#E5ECF6",
                      "radialaxis": {
                        "gridcolor": "white",
                        "linecolor": "white",
                        "ticks": ""
                      }
                    },
                    "scene": {
                      "xaxis": {
                        "backgroundcolor": "#E5ECF6",
                        "gridcolor": "white",
                        "gridwidth": 2,
                        "linecolor": "white",
                        "showbackground": true,
                        "ticks": "",
                        "zerolinecolor": "white"
                      },
                      "yaxis": {
                        "backgroundcolor": "#E5ECF6",
                        "gridcolor": "white",
                        "gridwidth": 2,
                        "linecolor": "white",
                        "showbackground": true,
                        "ticks": "",
                        "zerolinecolor": "white"
                      },
                      "zaxis": {
                        "backgroundcolor": "#E5ECF6",
                        "gridcolor": "white",
                        "gridwidth": 2,
                        "linecolor": "white",
                        "showbackground": true,
                        "ticks": "",
                        "zerolinecolor": "white"
                      }
                    },
                    "shapedefaults": {
                      "line": {
                        "color": "#2a3f5f"
                      }
                    },
                    "ternary": {
                      "aaxis": {
                        "gridcolor": "white",
                        "linecolor": "white",
                        "ticks": ""
                      },
                      "baxis": {
                        "gridcolor": "white",
                        "linecolor": "white",
                        "ticks": ""
                      },
                      "bgcolor": "#E5ECF6",
                      "caxis": {
                        "gridcolor": "white",
                        "linecolor": "white",
                        "ticks": ""
                      }
                    },
                    "title": {
                      "x": 0.05
                    },
                    "xaxis": {
                      "automargin": true,
                      "gridcolor": "white",
                      "linecolor": "white",
                      "ticks": "",
                      "title": {
                        "standoff": 15
                      },
                      "zerolinecolor": "white",
                      "zerolinewidth": 2
                    },
                    "yaxis": {
                      "automargin": true,
                      "gridcolor": "white",
                      "linecolor": "white",
                      "ticks": "",
                      "title": {
                        "standoff": 15
                      },
                      "zerolinecolor": "white",
                      "zerolinewidth": 2
                    }
                  }
                },
                "title": {
                  "text": "Boxplot do IPCA-15"
                },
                "xaxis": {
                  "anchor": "y",
                  "domain": [
                    0,
                    1
                  ],
                  "title": {
                    "text": "IPCA-15"
                  }
                },
                "yaxis": {
                  "anchor": "x",
                  "domain": [
                    0,
                    1
                  ],
                  "title": {
                    "text": "Variação"
                  }
                }
              }
            }
          },
          "metadata": {},
          "output_type": "display_data"
        },
        {
          "data": {
            "application/vnd.plotly.v1+json": {
              "config": {
                "plotlyServerURL": "https://plot.ly"
              },
              "data": [
                {
                  "alignmentgroup": "True",
                  "hovertemplate": "var_ipca15=%{x}<extra></extra>",
                  "legendgroup": "",
                  "marker": {
                    "color": "#636efa"
                  },
                  "name": "",
                  "notched": false,
                  "offsetgroup": "",
                  "orientation": "h",
                  "showlegend": false,
                  "type": "box",
                  "x": [
                    0.09,
                    0.08,
                    0.78,
                    1.99,
                    0.45,
                    0.18,
                    0.17,
                    0.6,
                    0.63,
                    0.5,
                    0.36,
                    0.5,
                    0.49,
                    0.38,
                    0.94,
                    1.18,
                    0.38,
                    0.37,
                    0.99,
                    0.55,
                    0.62,
                    0.44,
                    0.4,
                    0.78,
                    0.42,
                    0.33,
                    0.77,
                    1,
                    0.62,
                    0.9,
                    2.08,
                    3.05,
                    1.98,
                    2.19,
                    1.14,
                    1.14,
                    0.85,
                    0.22,
                    -0.18,
                    0.27,
                    0.57,
                    0.66,
                    0.17,
                    0.46,
                    0.68,
                    0.9,
                    0.4,
                    0.21,
                    0.54,
                    0.56,
                    0.93,
                    0.79,
                    0.49,
                    0.32,
                    0.63,
                    0.84,
                    0.68,
                    0.74,
                    0.35,
                    0.74,
                    0.83,
                    0.12,
                    0.11,
                    0.28,
                    0.16,
                    0.56,
                    0.78,
                    0.38,
                    0.51,
                    0.52,
                    0.37,
                    0.17,
                    0.27,
                    -0.15,
                    -0.02,
                    0.19,
                    0.05,
                    0.29,
                    0.37,
                    0.35,
                    0.52,
                    0.46,
                    0.41,
                    0.22,
                    0.26,
                    0.29,
                    0.24,
                    0.42,
                    0.29,
                    0.24,
                    0.23,
                    0.7,
                    0.7,
                    0.64,
                    0.23,
                    0.59,
                    0.56,
                    0.9,
                    0.63,
                    0.35,
                    0.26,
                    0.3,
                    0.49,
                    0.29,
                    0.4,
                    0.63,
                    0.11,
                    0.36,
                    0.59,
                    0.38,
                    0.22,
                    0.23,
                    0.19,
                    0.18,
                    0.44,
                    0.38,
                    0.52,
                    0.94,
                    0.55,
                    0.48,
                    0.63,
                    0.19,
                    -0.09,
                    -0.05,
                    0.31,
                    0.62,
                    0.86,
                    0.69,
                    0.76,
                    0.97,
                    0.6,
                    0.77,
                    0.7,
                    0.23,
                    0.1,
                    0.27,
                    0.53,
                    0.42,
                    0.46,
                    0.56,
                    0.65,
                    0.53,
                    0.25,
                    0.43,
                    0.51,
                    0.18,
                    0.33,
                    0.39,
                    0.48,
                    0.65,
                    0.54,
                    0.69,
                    0.88,
                    0.68,
                    0.49,
                    0.51,
                    0.46,
                    0.38,
                    0.07,
                    0.16,
                    0.27,
                    0.48,
                    0.57,
                    0.75,
                    0.67,
                    0.7,
                    0.73,
                    0.78,
                    0.58,
                    0.47,
                    0.17,
                    0.14,
                    0.39,
                    0.48,
                    0.38,
                    0.79,
                    0.89,
                    1.33,
                    1.24,
                    1.07,
                    0.6,
                    0.99,
                    0.59,
                    0.43,
                    0.39,
                    0.66,
                    0.85,
                    1.18,
                    0.92,
                    1.42,
                    0.43,
                    0.51,
                    0.86,
                    0.4,
                    0.54,
                    0.45,
                    0.23,
                    0.19,
                    0.26,
                    0.19,
                    0.31,
                    0.54,
                    0.15,
                    0.21,
                    0.24,
                    0.16,
                    -0.18,
                    0.35,
                    0.11,
                    0.34,
                    0.32,
                    0.35,
                    0.39,
                    0.38,
                    0.1,
                    0.21,
                    0.14,
                    1.11,
                    0.64,
                    0.13,
                    0.09,
                    0.58,
                    0.19,
                    -0.16,
                    0.3,
                    0.34,
                    0.54,
                    0.72,
                    0.35,
                    0.06,
                    0.09,
                    0.08,
                    0.09,
                    0.09,
                    0.14,
                    1.05,
                    0.71,
                    0.22,
                    0.02,
                    -0.01,
                    -0.59,
                    0.02,
                    0.3,
                    0.23,
                    0.45,
                    0.94,
                    0.81,
                    1.06,
                    0.78,
                    0.48,
                    0.93,
                    0.6,
                    0.44,
                    0.83,
                    0.72,
                    0.89,
                    1.14,
                    1.2,
                    1.17,
                    0.78,
                    0.58,
                    0.99,
                    0.95,
                    1.73,
                    0.59,
                    0.69,
                    0.13,
                    -0.73,
                    -0.37,
                    0.16,
                    0.53,
                    0.52,
                    0.55,
                    0.76,
                    0.69,
                    0.57,
                    0.51,
                    0.04,
                    -0.07,
                    0.28,
                    0.35,
                    0.21,
                    0.33
                  ],
                  "x0": " ",
                  "xaxis": "x",
                  "y0": " ",
                  "yaxis": "y"
                }
              ],
              "layout": {
                "boxmode": "group",
                "legend": {
                  "tracegroupgap": 0
                },
                "template": {
                  "data": {
                    "bar": [
                      {
                        "error_x": {
                          "color": "#2a3f5f"
                        },
                        "error_y": {
                          "color": "#2a3f5f"
                        },
                        "marker": {
                          "line": {
                            "color": "#E5ECF6",
                            "width": 0.5
                          },
                          "pattern": {
                            "fillmode": "overlay",
                            "size": 10,
                            "solidity": 0.2
                          }
                        },
                        "type": "bar"
                      }
                    ],
                    "barpolar": [
                      {
                        "marker": {
                          "line": {
                            "color": "#E5ECF6",
                            "width": 0.5
                          },
                          "pattern": {
                            "fillmode": "overlay",
                            "size": 10,
                            "solidity": 0.2
                          }
                        },
                        "type": "barpolar"
                      }
                    ],
                    "carpet": [
                      {
                        "aaxis": {
                          "endlinecolor": "#2a3f5f",
                          "gridcolor": "white",
                          "linecolor": "white",
                          "minorgridcolor": "white",
                          "startlinecolor": "#2a3f5f"
                        },
                        "baxis": {
                          "endlinecolor": "#2a3f5f",
                          "gridcolor": "white",
                          "linecolor": "white",
                          "minorgridcolor": "white",
                          "startlinecolor": "#2a3f5f"
                        },
                        "type": "carpet"
                      }
                    ],
                    "choropleth": [
                      {
                        "colorbar": {
                          "outlinewidth": 0,
                          "ticks": ""
                        },
                        "type": "choropleth"
                      }
                    ],
                    "contour": [
                      {
                        "colorbar": {
                          "outlinewidth": 0,
                          "ticks": ""
                        },
                        "colorscale": [
                          [
                            0,
                            "#0d0887"
                          ],
                          [
                            0.1111111111111111,
                            "#46039f"
                          ],
                          [
                            0.2222222222222222,
                            "#7201a8"
                          ],
                          [
                            0.3333333333333333,
                            "#9c179e"
                          ],
                          [
                            0.4444444444444444,
                            "#bd3786"
                          ],
                          [
                            0.5555555555555556,
                            "#d8576b"
                          ],
                          [
                            0.6666666666666666,
                            "#ed7953"
                          ],
                          [
                            0.7777777777777778,
                            "#fb9f3a"
                          ],
                          [
                            0.8888888888888888,
                            "#fdca26"
                          ],
                          [
                            1,
                            "#f0f921"
                          ]
                        ],
                        "type": "contour"
                      }
                    ],
                    "contourcarpet": [
                      {
                        "colorbar": {
                          "outlinewidth": 0,
                          "ticks": ""
                        },
                        "type": "contourcarpet"
                      }
                    ],
                    "heatmap": [
                      {
                        "colorbar": {
                          "outlinewidth": 0,
                          "ticks": ""
                        },
                        "colorscale": [
                          [
                            0,
                            "#0d0887"
                          ],
                          [
                            0.1111111111111111,
                            "#46039f"
                          ],
                          [
                            0.2222222222222222,
                            "#7201a8"
                          ],
                          [
                            0.3333333333333333,
                            "#9c179e"
                          ],
                          [
                            0.4444444444444444,
                            "#bd3786"
                          ],
                          [
                            0.5555555555555556,
                            "#d8576b"
                          ],
                          [
                            0.6666666666666666,
                            "#ed7953"
                          ],
                          [
                            0.7777777777777778,
                            "#fb9f3a"
                          ],
                          [
                            0.8888888888888888,
                            "#fdca26"
                          ],
                          [
                            1,
                            "#f0f921"
                          ]
                        ],
                        "type": "heatmap"
                      }
                    ],
                    "heatmapgl": [
                      {
                        "colorbar": {
                          "outlinewidth": 0,
                          "ticks": ""
                        },
                        "colorscale": [
                          [
                            0,
                            "#0d0887"
                          ],
                          [
                            0.1111111111111111,
                            "#46039f"
                          ],
                          [
                            0.2222222222222222,
                            "#7201a8"
                          ],
                          [
                            0.3333333333333333,
                            "#9c179e"
                          ],
                          [
                            0.4444444444444444,
                            "#bd3786"
                          ],
                          [
                            0.5555555555555556,
                            "#d8576b"
                          ],
                          [
                            0.6666666666666666,
                            "#ed7953"
                          ],
                          [
                            0.7777777777777778,
                            "#fb9f3a"
                          ],
                          [
                            0.8888888888888888,
                            "#fdca26"
                          ],
                          [
                            1,
                            "#f0f921"
                          ]
                        ],
                        "type": "heatmapgl"
                      }
                    ],
                    "histogram": [
                      {
                        "marker": {
                          "pattern": {
                            "fillmode": "overlay",
                            "size": 10,
                            "solidity": 0.2
                          }
                        },
                        "type": "histogram"
                      }
                    ],
                    "histogram2d": [
                      {
                        "colorbar": {
                          "outlinewidth": 0,
                          "ticks": ""
                        },
                        "colorscale": [
                          [
                            0,
                            "#0d0887"
                          ],
                          [
                            0.1111111111111111,
                            "#46039f"
                          ],
                          [
                            0.2222222222222222,
                            "#7201a8"
                          ],
                          [
                            0.3333333333333333,
                            "#9c179e"
                          ],
                          [
                            0.4444444444444444,
                            "#bd3786"
                          ],
                          [
                            0.5555555555555556,
                            "#d8576b"
                          ],
                          [
                            0.6666666666666666,
                            "#ed7953"
                          ],
                          [
                            0.7777777777777778,
                            "#fb9f3a"
                          ],
                          [
                            0.8888888888888888,
                            "#fdca26"
                          ],
                          [
                            1,
                            "#f0f921"
                          ]
                        ],
                        "type": "histogram2d"
                      }
                    ],
                    "histogram2dcontour": [
                      {
                        "colorbar": {
                          "outlinewidth": 0,
                          "ticks": ""
                        },
                        "colorscale": [
                          [
                            0,
                            "#0d0887"
                          ],
                          [
                            0.1111111111111111,
                            "#46039f"
                          ],
                          [
                            0.2222222222222222,
                            "#7201a8"
                          ],
                          [
                            0.3333333333333333,
                            "#9c179e"
                          ],
                          [
                            0.4444444444444444,
                            "#bd3786"
                          ],
                          [
                            0.5555555555555556,
                            "#d8576b"
                          ],
                          [
                            0.6666666666666666,
                            "#ed7953"
                          ],
                          [
                            0.7777777777777778,
                            "#fb9f3a"
                          ],
                          [
                            0.8888888888888888,
                            "#fdca26"
                          ],
                          [
                            1,
                            "#f0f921"
                          ]
                        ],
                        "type": "histogram2dcontour"
                      }
                    ],
                    "mesh3d": [
                      {
                        "colorbar": {
                          "outlinewidth": 0,
                          "ticks": ""
                        },
                        "type": "mesh3d"
                      }
                    ],
                    "parcoords": [
                      {
                        "line": {
                          "colorbar": {
                            "outlinewidth": 0,
                            "ticks": ""
                          }
                        },
                        "type": "parcoords"
                      }
                    ],
                    "pie": [
                      {
                        "automargin": true,
                        "type": "pie"
                      }
                    ],
                    "scatter": [
                      {
                        "fillpattern": {
                          "fillmode": "overlay",
                          "size": 10,
                          "solidity": 0.2
                        },
                        "type": "scatter"
                      }
                    ],
                    "scatter3d": [
                      {
                        "line": {
                          "colorbar": {
                            "outlinewidth": 0,
                            "ticks": ""
                          }
                        },
                        "marker": {
                          "colorbar": {
                            "outlinewidth": 0,
                            "ticks": ""
                          }
                        },
                        "type": "scatter3d"
                      }
                    ],
                    "scattercarpet": [
                      {
                        "marker": {
                          "colorbar": {
                            "outlinewidth": 0,
                            "ticks": ""
                          }
                        },
                        "type": "scattercarpet"
                      }
                    ],
                    "scattergeo": [
                      {
                        "marker": {
                          "colorbar": {
                            "outlinewidth": 0,
                            "ticks": ""
                          }
                        },
                        "type": "scattergeo"
                      }
                    ],
                    "scattergl": [
                      {
                        "marker": {
                          "colorbar": {
                            "outlinewidth": 0,
                            "ticks": ""
                          }
                        },
                        "type": "scattergl"
                      }
                    ],
                    "scattermapbox": [
                      {
                        "marker": {
                          "colorbar": {
                            "outlinewidth": 0,
                            "ticks": ""
                          }
                        },
                        "type": "scattermapbox"
                      }
                    ],
                    "scatterpolar": [
                      {
                        "marker": {
                          "colorbar": {
                            "outlinewidth": 0,
                            "ticks": ""
                          }
                        },
                        "type": "scatterpolar"
                      }
                    ],
                    "scatterpolargl": [
                      {
                        "marker": {
                          "colorbar": {
                            "outlinewidth": 0,
                            "ticks": ""
                          }
                        },
                        "type": "scatterpolargl"
                      }
                    ],
                    "scatterternary": [
                      {
                        "marker": {
                          "colorbar": {
                            "outlinewidth": 0,
                            "ticks": ""
                          }
                        },
                        "type": "scatterternary"
                      }
                    ],
                    "surface": [
                      {
                        "colorbar": {
                          "outlinewidth": 0,
                          "ticks": ""
                        },
                        "colorscale": [
                          [
                            0,
                            "#0d0887"
                          ],
                          [
                            0.1111111111111111,
                            "#46039f"
                          ],
                          [
                            0.2222222222222222,
                            "#7201a8"
                          ],
                          [
                            0.3333333333333333,
                            "#9c179e"
                          ],
                          [
                            0.4444444444444444,
                            "#bd3786"
                          ],
                          [
                            0.5555555555555556,
                            "#d8576b"
                          ],
                          [
                            0.6666666666666666,
                            "#ed7953"
                          ],
                          [
                            0.7777777777777778,
                            "#fb9f3a"
                          ],
                          [
                            0.8888888888888888,
                            "#fdca26"
                          ],
                          [
                            1,
                            "#f0f921"
                          ]
                        ],
                        "type": "surface"
                      }
                    ],
                    "table": [
                      {
                        "cells": {
                          "fill": {
                            "color": "#EBF0F8"
                          },
                          "line": {
                            "color": "white"
                          }
                        },
                        "header": {
                          "fill": {
                            "color": "#C8D4E3"
                          },
                          "line": {
                            "color": "white"
                          }
                        },
                        "type": "table"
                      }
                    ]
                  },
                  "layout": {
                    "annotationdefaults": {
                      "arrowcolor": "#2a3f5f",
                      "arrowhead": 0,
                      "arrowwidth": 1
                    },
                    "autotypenumbers": "strict",
                    "coloraxis": {
                      "colorbar": {
                        "outlinewidth": 0,
                        "ticks": ""
                      }
                    },
                    "colorscale": {
                      "diverging": [
                        [
                          0,
                          "#8e0152"
                        ],
                        [
                          0.1,
                          "#c51b7d"
                        ],
                        [
                          0.2,
                          "#de77ae"
                        ],
                        [
                          0.3,
                          "#f1b6da"
                        ],
                        [
                          0.4,
                          "#fde0ef"
                        ],
                        [
                          0.5,
                          "#f7f7f7"
                        ],
                        [
                          0.6,
                          "#e6f5d0"
                        ],
                        [
                          0.7,
                          "#b8e186"
                        ],
                        [
                          0.8,
                          "#7fbc41"
                        ],
                        [
                          0.9,
                          "#4d9221"
                        ],
                        [
                          1,
                          "#276419"
                        ]
                      ],
                      "sequential": [
                        [
                          0,
                          "#0d0887"
                        ],
                        [
                          0.1111111111111111,
                          "#46039f"
                        ],
                        [
                          0.2222222222222222,
                          "#7201a8"
                        ],
                        [
                          0.3333333333333333,
                          "#9c179e"
                        ],
                        [
                          0.4444444444444444,
                          "#bd3786"
                        ],
                        [
                          0.5555555555555556,
                          "#d8576b"
                        ],
                        [
                          0.6666666666666666,
                          "#ed7953"
                        ],
                        [
                          0.7777777777777778,
                          "#fb9f3a"
                        ],
                        [
                          0.8888888888888888,
                          "#fdca26"
                        ],
                        [
                          1,
                          "#f0f921"
                        ]
                      ],
                      "sequentialminus": [
                        [
                          0,
                          "#0d0887"
                        ],
                        [
                          0.1111111111111111,
                          "#46039f"
                        ],
                        [
                          0.2222222222222222,
                          "#7201a8"
                        ],
                        [
                          0.3333333333333333,
                          "#9c179e"
                        ],
                        [
                          0.4444444444444444,
                          "#bd3786"
                        ],
                        [
                          0.5555555555555556,
                          "#d8576b"
                        ],
                        [
                          0.6666666666666666,
                          "#ed7953"
                        ],
                        [
                          0.7777777777777778,
                          "#fb9f3a"
                        ],
                        [
                          0.8888888888888888,
                          "#fdca26"
                        ],
                        [
                          1,
                          "#f0f921"
                        ]
                      ]
                    },
                    "colorway": [
                      "#636efa",
                      "#EF553B",
                      "#00cc96",
                      "#ab63fa",
                      "#FFA15A",
                      "#19d3f3",
                      "#FF6692",
                      "#B6E880",
                      "#FF97FF",
                      "#FECB52"
                    ],
                    "font": {
                      "color": "#2a3f5f"
                    },
                    "geo": {
                      "bgcolor": "white",
                      "lakecolor": "white",
                      "landcolor": "#E5ECF6",
                      "showlakes": true,
                      "showland": true,
                      "subunitcolor": "white"
                    },
                    "hoverlabel": {
                      "align": "left"
                    },
                    "hovermode": "closest",
                    "mapbox": {
                      "style": "light"
                    },
                    "paper_bgcolor": "white",
                    "plot_bgcolor": "#E5ECF6",
                    "polar": {
                      "angularaxis": {
                        "gridcolor": "white",
                        "linecolor": "white",
                        "ticks": ""
                      },
                      "bgcolor": "#E5ECF6",
                      "radialaxis": {
                        "gridcolor": "white",
                        "linecolor": "white",
                        "ticks": ""
                      }
                    },
                    "scene": {
                      "xaxis": {
                        "backgroundcolor": "#E5ECF6",
                        "gridcolor": "white",
                        "gridwidth": 2,
                        "linecolor": "white",
                        "showbackground": true,
                        "ticks": "",
                        "zerolinecolor": "white"
                      },
                      "yaxis": {
                        "backgroundcolor": "#E5ECF6",
                        "gridcolor": "white",
                        "gridwidth": 2,
                        "linecolor": "white",
                        "showbackground": true,
                        "ticks": "",
                        "zerolinecolor": "white"
                      },
                      "zaxis": {
                        "backgroundcolor": "#E5ECF6",
                        "gridcolor": "white",
                        "gridwidth": 2,
                        "linecolor": "white",
                        "showbackground": true,
                        "ticks": "",
                        "zerolinecolor": "white"
                      }
                    },
                    "shapedefaults": {
                      "line": {
                        "color": "#2a3f5f"
                      }
                    },
                    "ternary": {
                      "aaxis": {
                        "gridcolor": "white",
                        "linecolor": "white",
                        "ticks": ""
                      },
                      "baxis": {
                        "gridcolor": "white",
                        "linecolor": "white",
                        "ticks": ""
                      },
                      "bgcolor": "#E5ECF6",
                      "caxis": {
                        "gridcolor": "white",
                        "linecolor": "white",
                        "ticks": ""
                      }
                    },
                    "title": {
                      "x": 0.05
                    },
                    "xaxis": {
                      "automargin": true,
                      "gridcolor": "white",
                      "linecolor": "white",
                      "ticks": "",
                      "title": {
                        "standoff": 15
                      },
                      "zerolinecolor": "white",
                      "zerolinewidth": 2
                    },
                    "yaxis": {
                      "automargin": true,
                      "gridcolor": "white",
                      "linecolor": "white",
                      "ticks": "",
                      "title": {
                        "standoff": 15
                      },
                      "zerolinecolor": "white",
                      "zerolinewidth": 2
                    }
                  }
                },
                "title": {
                  "text": "Boxplot do IPCA-15 em Escala Logarítmica"
                },
                "xaxis": {
                  "anchor": "y",
                  "domain": [
                    0,
                    1
                  ],
                  "title": {
                    "text": "IPCA-15 (log)"
                  },
                  "type": "log"
                },
                "yaxis": {
                  "anchor": "x",
                  "domain": [
                    0,
                    1
                  ],
                  "title": {
                    "text": "Variação"
                  }
                }
              }
            }
          },
          "metadata": {},
          "output_type": "display_data"
        }
      ],
      "source": [
        "# Configuração do boxplot para o IPCA sem escala logarítmica\n",
        "fig_box_ipca = px.box(\n",
        "    ipca15, \n",
        "    x='var_ipca15', \n",
        "    title='Boxplot do IPCA-15',\n",
        "    labels={'ipca15': 'Variação'}\n",
        ")\n",
        "\n",
        "# Configurando os eixos do gráfico\n",
        "fig_box_ipca.update_xaxes(title_text='IPCA-15')\n",
        "fig_box_ipca.update_yaxes(title_text='Variação')\n",
        "\n",
        "# Mostrar o boxplot do IPCA sem escala logarítmica\n",
        "fig_box_ipca.show()\n",
        "\n",
        "# Configuração do boxplot para o IPCA em escala logarítmica\n",
        "fig_box_ipca_log = px.box(\n",
        "    ipca15, \n",
        "    x='var_ipca15', \n",
        "    title='Boxplot do IPCA-15 em Escala Logarítmica', \n",
        "    labels={'ipca15': 'Variação'}\n",
        "    )\n",
        "\n",
        "# Configurando os eixos do gráfico\n",
        "fig_box_ipca_log.update_xaxes(title_text='IPCA-15 (log)', type='log')\n",
        "fig_box_ipca_log.update_yaxes(title_text='Variação')\n",
        "\n",
        "# Mostrar o boxplot do IPCA em escala logarítmica\n",
        "fig_box_ipca_log.show()"
      ]
    },
    {
      "cell_type": "markdown",
      "metadata": {
        "id": "KXPmXLFn-UIp"
      },
      "source": [
        "## 3.0 Unindo os dataframes"
      ]
    },
    {
      "cell_type": "markdown",
      "metadata": {},
      "source": [
        "De imediato, apenas indicadores referentes ao IPCA e ao IPCA-15 serão adicionados. COm o passar do tempo, implementaremos outras variáveis."
      ]
    },
    {
      "cell_type": "code",
      "execution_count": 398,
      "metadata": {
        "colab": {
          "base_uri": "https://localhost:8080/",
          "height": 455
        },
        "id": "0dNRlurbwGmC",
        "outputId": "5b23393c-6aec-4331-b7a0-cbc60094d346"
      },
      "outputs": [
        {
          "data": {
            "text/html": [
              "<div>\n",
              "<style scoped>\n",
              "    .dataframe tbody tr th:only-of-type {\n",
              "        vertical-align: middle;\n",
              "    }\n",
              "\n",
              "    .dataframe tbody tr th {\n",
              "        vertical-align: top;\n",
              "    }\n",
              "\n",
              "    .dataframe thead th {\n",
              "        text-align: right;\n",
              "    }\n",
              "</style>\n",
              "<table border=\"1\" class=\"dataframe\">\n",
              "  <thead>\n",
              "    <tr style=\"text-align: right;\">\n",
              "      <th></th>\n",
              "      <th>var_ipca</th>\n",
              "      <th>acum_3m_ipca</th>\n",
              "      <th>acum_12m_ipca</th>\n",
              "      <th>acum_ano_ipca</th>\n",
              "      <th>var_ipca15</th>\n",
              "      <th>acum_3m_ipca15</th>\n",
              "      <th>acum_12m_ipca15</th>\n",
              "      <th>acum_ano_ipca15</th>\n",
              "    </tr>\n",
              "    <tr>\n",
              "      <th>date</th>\n",
              "      <th></th>\n",
              "      <th></th>\n",
              "      <th></th>\n",
              "      <th></th>\n",
              "      <th></th>\n",
              "      <th></th>\n",
              "      <th></th>\n",
              "      <th></th>\n",
              "    </tr>\n",
              "  </thead>\n",
              "  <tbody>\n",
              "    <tr>\n",
              "      <th>1979-12</th>\n",
              "      <td>NaN</td>\n",
              "      <td>0.00</td>\n",
              "      <td>NaN</td>\n",
              "      <td>NaN</td>\n",
              "      <td>NaN</td>\n",
              "      <td>NaN</td>\n",
              "      <td>NaN</td>\n",
              "      <td>NaN</td>\n",
              "    </tr>\n",
              "    <tr>\n",
              "      <th>1980-01</th>\n",
              "      <td>6.62</td>\n",
              "      <td>NaN</td>\n",
              "      <td>6.62</td>\n",
              "      <td>NaN</td>\n",
              "      <td>NaN</td>\n",
              "      <td>NaN</td>\n",
              "      <td>NaN</td>\n",
              "      <td>NaN</td>\n",
              "    </tr>\n",
              "    <tr>\n",
              "      <th>1980-02</th>\n",
              "      <td>4.62</td>\n",
              "      <td>NaN</td>\n",
              "      <td>11.24</td>\n",
              "      <td>NaN</td>\n",
              "      <td>NaN</td>\n",
              "      <td>NaN</td>\n",
              "      <td>NaN</td>\n",
              "      <td>NaN</td>\n",
              "    </tr>\n",
              "    <tr>\n",
              "      <th>1980-03</th>\n",
              "      <td>6.04</td>\n",
              "      <td>17.28</td>\n",
              "      <td>17.28</td>\n",
              "      <td>NaN</td>\n",
              "      <td>NaN</td>\n",
              "      <td>NaN</td>\n",
              "      <td>NaN</td>\n",
              "      <td>NaN</td>\n",
              "    </tr>\n",
              "    <tr>\n",
              "      <th>1980-04</th>\n",
              "      <td>5.29</td>\n",
              "      <td>NaN</td>\n",
              "      <td>22.57</td>\n",
              "      <td>NaN</td>\n",
              "      <td>NaN</td>\n",
              "      <td>NaN</td>\n",
              "      <td>NaN</td>\n",
              "      <td>NaN</td>\n",
              "    </tr>\n",
              "    <tr>\n",
              "      <th>...</th>\n",
              "      <td>...</td>\n",
              "      <td>...</td>\n",
              "      <td>...</td>\n",
              "      <td>...</td>\n",
              "      <td>...</td>\n",
              "      <td>...</td>\n",
              "      <td>...</td>\n",
              "      <td>...</td>\n",
              "    </tr>\n",
              "    <tr>\n",
              "      <th>2023-06</th>\n",
              "      <td>-0.08</td>\n",
              "      <td>0.76</td>\n",
              "      <td>3.46</td>\n",
              "      <td>NaN</td>\n",
              "      <td>0.04</td>\n",
              "      <td>1.12</td>\n",
              "      <td>0.55</td>\n",
              "      <td>NaN</td>\n",
              "    </tr>\n",
              "    <tr>\n",
              "      <th>2023-07</th>\n",
              "      <td>0.12</td>\n",
              "      <td>NaN</td>\n",
              "      <td>3.58</td>\n",
              "      <td>NaN</td>\n",
              "      <td>-0.07</td>\n",
              "      <td>NaN</td>\n",
              "      <td>0.48</td>\n",
              "      <td>NaN</td>\n",
              "    </tr>\n",
              "    <tr>\n",
              "      <th>2023-08</th>\n",
              "      <td>0.23</td>\n",
              "      <td>NaN</td>\n",
              "      <td>3.81</td>\n",
              "      <td>NaN</td>\n",
              "      <td>0.28</td>\n",
              "      <td>NaN</td>\n",
              "      <td>0.76</td>\n",
              "      <td>NaN</td>\n",
              "    </tr>\n",
              "    <tr>\n",
              "      <th>2023-09</th>\n",
              "      <td>0.26</td>\n",
              "      <td>0.61</td>\n",
              "      <td>4.07</td>\n",
              "      <td>NaN</td>\n",
              "      <td>0.35</td>\n",
              "      <td>0.56</td>\n",
              "      <td>1.11</td>\n",
              "      <td>NaN</td>\n",
              "    </tr>\n",
              "    <tr>\n",
              "      <th>2023-10</th>\n",
              "      <td>0.24</td>\n",
              "      <td>0.24</td>\n",
              "      <td>4.31</td>\n",
              "      <td>NaN</td>\n",
              "      <td>0.21</td>\n",
              "      <td>NaN</td>\n",
              "      <td>1.32</td>\n",
              "      <td>NaN</td>\n",
              "    </tr>\n",
              "  </tbody>\n",
              "</table>\n",
              "<p>527 rows × 8 columns</p>\n",
              "</div>"
            ],
            "text/plain": [
              "         var_ipca  acum_3m_ipca  acum_12m_ipca  acum_ano_ipca  var_ipca15  \\\n",
              "date                                                                        \n",
              "1979-12       NaN          0.00            NaN            NaN         NaN   \n",
              "1980-01      6.62           NaN           6.62            NaN         NaN   \n",
              "1980-02      4.62           NaN          11.24            NaN         NaN   \n",
              "1980-03      6.04         17.28          17.28            NaN         NaN   \n",
              "1980-04      5.29           NaN          22.57            NaN         NaN   \n",
              "...           ...           ...            ...            ...         ...   \n",
              "2023-06     -0.08          0.76           3.46            NaN        0.04   \n",
              "2023-07      0.12           NaN           3.58            NaN       -0.07   \n",
              "2023-08      0.23           NaN           3.81            NaN        0.28   \n",
              "2023-09      0.26          0.61           4.07            NaN        0.35   \n",
              "2023-10      0.24          0.24           4.31            NaN        0.21   \n",
              "\n",
              "         acum_3m_ipca15  acum_12m_ipca15  acum_ano_ipca15  \n",
              "date                                                       \n",
              "1979-12             NaN              NaN              NaN  \n",
              "1980-01             NaN              NaN              NaN  \n",
              "1980-02             NaN              NaN              NaN  \n",
              "1980-03             NaN              NaN              NaN  \n",
              "1980-04             NaN              NaN              NaN  \n",
              "...                 ...              ...              ...  \n",
              "2023-06            1.12             0.55              NaN  \n",
              "2023-07             NaN             0.48              NaN  \n",
              "2023-08             NaN             0.76              NaN  \n",
              "2023-09            0.56             1.11              NaN  \n",
              "2023-10             NaN             1.32              NaN  \n",
              "\n",
              "[527 rows x 8 columns]"
            ]
          },
          "execution_count": 398,
          "metadata": {},
          "output_type": "execute_result"
        }
      ],
      "source": [
        "dataset_inflacao = pd.merge(ipca, ipca15, on='date', how='left')\n",
        "dataset_inflacao"
      ]
    },
    {
      "cell_type": "markdown",
      "metadata": {},
      "source": [
        "## 4.0 Machine Learning"
      ]
    },
    {
      "cell_type": "markdown",
      "metadata": {
        "id": "9-xbB6yIyOGA"
      },
      "source": [
        "### Prevendo um Padrão Inflacionário"
      ]
    },
    {
      "cell_type": "markdown",
      "metadata": {},
      "source": [
        "Se imagine nessa situação, querido padauan. Você é responsável por prever como a taxa de inflação em um país irá se comportar nos próximos meses. A inflação é a medida do aumento geral dos preços de bens e serviços, e prever sua trajetória é crucial para **muitas decisões econômicas**. \n",
        "Ou seja, o destino de muitas pessoas *(principalmente os mais vulneráveis)* está em suas mãos (nem tanto).\n",
        "\n",
        "Resumidamente, estudar e tentar prever um padrão inflacionário, pode ser útil para:\n",
        "\n",
        "- Tomada de Decisões Econômicas\n",
        "- Criação de medidas e leis para ajustes fiscais\n",
        "- Antecipação de Tendências\n",
        "- Ajustes em Estratégias Financeiras\n",
        "- Planejamento Empresarial\n",
        "- etc...etc...etc...\n",
        "\n",
        "O modelo de machine learning, neste caso, é treinado com dados históricos, como as taxas de inflação mensais ao longo do tempo, juntamente com outros fatores econômicos relevantes, para que o modelo aprenda com esses dados passados e fazer previsões razoáveis sobre a inflação futura.\n",
        "\n",
        "-- \n",
        "\n",
        "**E por quê usar o IPCA e o IPCA-15?** <br>\n",
        "\n",
        "Ambos são indicadores importantes utilizados para medir a variação de preços no Brasil. Eles compartilham uma base comum, mas têm algumas diferenças fundamentais.\n",
        "\n",
        "- IPCA: Geralmente é utilizado como o principal indicador de inflação para análises macroeconômicas e tomada de decisões de política monetária. Seu cálculo abrange um período mais longo e uma gama mais ampla de produtos e serviços.\n",
        "\n",
        "- IPCA-15: Pode ser usado para ter uma visão preliminar da inflação antes da divulgação oficial do IPCA. Pode ser especialmente útil para analistas de mercado e investidores que buscam informações antecipadas sobre a direção da inflação."
      ]
    },
    {
      "cell_type": "markdown",
      "metadata": {},
      "source": [
        "> Chega de papo"
      ]
    },
    {
      "cell_type": "markdown",
      "metadata": {},
      "source": [
        "Aqui criamos um dataset 'filtrado' do \"dataset_inflacao\", apenas com os índices mensais do IPCA e do IPCA-15"
      ]
    },
    {
      "cell_type": "code",
      "execution_count": 399,
      "metadata": {
        "colab": {
          "base_uri": "https://localhost:8080/",
          "height": 455
        },
        "id": "_Mw1KF6cyftw",
        "outputId": "70f21b95-d12f-4e0a-c5b8-50fdf32cbbe1"
      },
      "outputs": [
        {
          "data": {
            "text/html": [
              "<div>\n",
              "<style scoped>\n",
              "    .dataframe tbody tr th:only-of-type {\n",
              "        vertical-align: middle;\n",
              "    }\n",
              "\n",
              "    .dataframe tbody tr th {\n",
              "        vertical-align: top;\n",
              "    }\n",
              "\n",
              "    .dataframe thead th {\n",
              "        text-align: right;\n",
              "    }\n",
              "</style>\n",
              "<table border=\"1\" class=\"dataframe\">\n",
              "  <thead>\n",
              "    <tr style=\"text-align: right;\">\n",
              "      <th></th>\n",
              "      <th>var_ipca</th>\n",
              "      <th>var_ipca15</th>\n",
              "    </tr>\n",
              "    <tr>\n",
              "      <th>date</th>\n",
              "      <th></th>\n",
              "      <th></th>\n",
              "    </tr>\n",
              "  </thead>\n",
              "  <tbody>\n",
              "    <tr>\n",
              "      <th>1979-12</th>\n",
              "      <td>NaN</td>\n",
              "      <td>NaN</td>\n",
              "    </tr>\n",
              "    <tr>\n",
              "      <th>1980-01</th>\n",
              "      <td>6.62</td>\n",
              "      <td>NaN</td>\n",
              "    </tr>\n",
              "    <tr>\n",
              "      <th>1980-02</th>\n",
              "      <td>4.62</td>\n",
              "      <td>NaN</td>\n",
              "    </tr>\n",
              "    <tr>\n",
              "      <th>1980-03</th>\n",
              "      <td>6.04</td>\n",
              "      <td>NaN</td>\n",
              "    </tr>\n",
              "    <tr>\n",
              "      <th>1980-04</th>\n",
              "      <td>5.29</td>\n",
              "      <td>NaN</td>\n",
              "    </tr>\n",
              "    <tr>\n",
              "      <th>...</th>\n",
              "      <td>...</td>\n",
              "      <td>...</td>\n",
              "    </tr>\n",
              "    <tr>\n",
              "      <th>2023-06</th>\n",
              "      <td>-0.08</td>\n",
              "      <td>0.04</td>\n",
              "    </tr>\n",
              "    <tr>\n",
              "      <th>2023-07</th>\n",
              "      <td>0.12</td>\n",
              "      <td>-0.07</td>\n",
              "    </tr>\n",
              "    <tr>\n",
              "      <th>2023-08</th>\n",
              "      <td>0.23</td>\n",
              "      <td>0.28</td>\n",
              "    </tr>\n",
              "    <tr>\n",
              "      <th>2023-09</th>\n",
              "      <td>0.26</td>\n",
              "      <td>0.35</td>\n",
              "    </tr>\n",
              "    <tr>\n",
              "      <th>2023-10</th>\n",
              "      <td>0.24</td>\n",
              "      <td>0.21</td>\n",
              "    </tr>\n",
              "  </tbody>\n",
              "</table>\n",
              "<p>527 rows × 2 columns</p>\n",
              "</div>"
            ],
            "text/plain": [
              "         var_ipca  var_ipca15\n",
              "date                         \n",
              "1979-12       NaN         NaN\n",
              "1980-01      6.62         NaN\n",
              "1980-02      4.62         NaN\n",
              "1980-03      6.04         NaN\n",
              "1980-04      5.29         NaN\n",
              "...           ...         ...\n",
              "2023-06     -0.08        0.04\n",
              "2023-07      0.12       -0.07\n",
              "2023-08      0.23        0.28\n",
              "2023-09      0.26        0.35\n",
              "2023-10      0.24        0.21\n",
              "\n",
              "[527 rows x 2 columns]"
            ]
          },
          "execution_count": 399,
          "metadata": {},
          "output_type": "execute_result"
        }
      ],
      "source": [
        "padrao_inflacionario = dataset_inflacao[['var_ipca', 'var_ipca15']]\n",
        "padrao_inflacionario"
      ]
    },
    {
      "cell_type": "markdown",
      "metadata": {},
      "source": [
        "#### 4.1 Correlação"
      ]
    },
    {
      "cell_type": "markdown",
      "metadata": {},
      "source": [
        "Aqui criamos uma matriz de correlação para nos mostrar a relação entre duas variáveis. Em particular, ela quantifica o grau de associação linear entre duas variáveis. "
      ]
    },
    {
      "cell_type": "code",
      "execution_count": 400,
      "metadata": {
        "colab": {
          "base_uri": "https://localhost:8080/",
          "height": 112
        },
        "id": "n5TP0lAV01Do",
        "outputId": "2818c0ef-86b1-478a-8441-f1de2026900f"
      },
      "outputs": [
        {
          "data": {
            "text/html": [
              "<div>\n",
              "<style scoped>\n",
              "    .dataframe tbody tr th:only-of-type {\n",
              "        vertical-align: middle;\n",
              "    }\n",
              "\n",
              "    .dataframe tbody tr th {\n",
              "        vertical-align: top;\n",
              "    }\n",
              "\n",
              "    .dataframe thead th {\n",
              "        text-align: right;\n",
              "    }\n",
              "</style>\n",
              "<table border=\"1\" class=\"dataframe\">\n",
              "  <thead>\n",
              "    <tr style=\"text-align: right;\">\n",
              "      <th></th>\n",
              "      <th>var_ipca</th>\n",
              "      <th>var_ipca15</th>\n",
              "    </tr>\n",
              "  </thead>\n",
              "  <tbody>\n",
              "    <tr>\n",
              "      <th>var_ipca</th>\n",
              "      <td>1.00000</td>\n",
              "      <td>0.85661</td>\n",
              "    </tr>\n",
              "    <tr>\n",
              "      <th>var_ipca15</th>\n",
              "      <td>0.85661</td>\n",
              "      <td>1.00000</td>\n",
              "    </tr>\n",
              "  </tbody>\n",
              "</table>\n",
              "</div>"
            ],
            "text/plain": [
              "            var_ipca  var_ipca15\n",
              "var_ipca     1.00000     0.85661\n",
              "var_ipca15   0.85661     1.00000"
            ]
          },
          "execution_count": 400,
          "metadata": {},
          "output_type": "execute_result"
        }
      ],
      "source": [
        "# correlacao\n",
        "padrao_inflacionario.corr()"
      ]
    },
    {
      "cell_type": "markdown",
      "metadata": {},
      "source": [
        "Nota-se uma correlação de 0.85661 *(ou 85%)*, o que está próximo de 1 *(100%)*. Isso indica uma forte correlação positiva entre as variações do IPCA e do IPCA-15. Em termos simples, quando há um aumento na variação de um índice, é provável que haja um aumento correspondente na variação do outro índice.\n",
        "\n",
        "Bora plotar?"
      ]
    },
    {
      "cell_type": "code",
      "execution_count": 401,
      "metadata": {
        "colab": {
          "base_uri": "https://localhost:8080/",
          "height": 542
        },
        "id": "ywyEM6FjAqrq",
        "outputId": "3a6b3db7-15f1-406b-87bc-7e383c2b36a8"
      },
      "outputs": [
        {
          "data": {
            "application/vnd.plotly.v1+json": {
              "config": {
                "plotlyServerURL": "https://plot.ly"
              },
              "data": [
                {
                  "hovertemplate": "Variável=var_ipca<br>Data=%{x}<br>Variação=%{y}<extra></extra>",
                  "legendgroup": "var_ipca",
                  "line": {
                    "color": "#636efa",
                    "dash": "solid"
                  },
                  "marker": {
                    "symbol": "circle"
                  },
                  "mode": "lines",
                  "name": "var_ipca",
                  "orientation": "v",
                  "showlegend": true,
                  "type": "scatter",
                  "x": [
                    "2005-01",
                    "2005-02",
                    "2005-03",
                    "2005-04",
                    "2005-05",
                    "2005-06",
                    "2005-07",
                    "2005-08",
                    "2005-09",
                    "2005-10",
                    "2005-11",
                    "2005-12",
                    "2006-01",
                    "2006-02",
                    "2006-03",
                    "2006-04",
                    "2006-05",
                    "2006-06",
                    "2006-07",
                    "2006-08",
                    "2006-09",
                    "2006-10",
                    "2006-11",
                    "2006-12",
                    "2007-01",
                    "2007-02",
                    "2007-03",
                    "2007-04",
                    "2007-05",
                    "2007-06",
                    "2007-07",
                    "2007-08",
                    "2007-09",
                    "2007-10",
                    "2007-11",
                    "2007-12",
                    "2008-01",
                    "2008-02",
                    "2008-03",
                    "2008-04",
                    "2008-05",
                    "2008-06",
                    "2008-07",
                    "2008-08",
                    "2008-09",
                    "2008-10",
                    "2008-11",
                    "2008-12",
                    "2009-01",
                    "2009-02",
                    "2009-03",
                    "2009-04",
                    "2009-05",
                    "2009-06",
                    "2009-07",
                    "2009-08",
                    "2009-09",
                    "2009-10",
                    "2009-11",
                    "2009-12",
                    "2010-01",
                    "2010-02",
                    "2010-03",
                    "2010-04",
                    "2010-05",
                    "2010-06",
                    "2010-07",
                    "2010-08",
                    "2010-09",
                    "2010-10",
                    "2010-11",
                    "2010-12",
                    "2011-01",
                    "2011-02",
                    "2011-03",
                    "2011-04",
                    "2011-05",
                    "2011-06",
                    "2011-07",
                    "2011-08",
                    "2011-09",
                    "2011-10",
                    "2011-11",
                    "2011-12",
                    "2012-01",
                    "2012-02",
                    "2012-03",
                    "2012-04",
                    "2012-05",
                    "2012-06",
                    "2012-07",
                    "2012-08",
                    "2012-09",
                    "2012-10",
                    "2012-11",
                    "2012-12",
                    "2013-01",
                    "2013-02",
                    "2013-03",
                    "2013-04",
                    "2013-05",
                    "2013-06",
                    "2013-07",
                    "2013-08",
                    "2013-09",
                    "2013-10",
                    "2013-11",
                    "2013-12",
                    "2014-01",
                    "2014-02",
                    "2014-03",
                    "2014-04",
                    "2014-05",
                    "2014-06",
                    "2014-07",
                    "2014-08",
                    "2014-09",
                    "2014-10",
                    "2014-11",
                    "2014-12",
                    "2015-01",
                    "2015-02",
                    "2015-03",
                    "2015-04",
                    "2015-05",
                    "2015-06",
                    "2015-07",
                    "2015-08",
                    "2015-09",
                    "2015-10",
                    "2015-11",
                    "2015-12",
                    "2016-01",
                    "2016-02",
                    "2016-03",
                    "2016-04",
                    "2016-05",
                    "2016-06",
                    "2016-07",
                    "2016-08",
                    "2016-09",
                    "2016-10",
                    "2016-11",
                    "2016-12",
                    "2017-01",
                    "2017-02",
                    "2017-03",
                    "2017-04",
                    "2017-05",
                    "2017-06",
                    "2017-07",
                    "2017-08",
                    "2017-09",
                    "2017-10",
                    "2017-11",
                    "2017-12",
                    "2018-01",
                    "2018-02",
                    "2018-03",
                    "2018-04",
                    "2018-05",
                    "2018-06",
                    "2018-07",
                    "2018-08",
                    "2018-09",
                    "2018-10",
                    "2018-11",
                    "2018-12",
                    "2019-01",
                    "2019-02",
                    "2019-03",
                    "2019-04",
                    "2019-05",
                    "2019-06",
                    "2019-07",
                    "2019-08",
                    "2019-09",
                    "2019-10",
                    "2019-11",
                    "2019-12",
                    "2020-01",
                    "2020-02",
                    "2020-03",
                    "2020-04",
                    "2020-05",
                    "2020-06",
                    "2020-07",
                    "2020-08",
                    "2020-09",
                    "2020-10",
                    "2020-11",
                    "2020-12",
                    "2021-01",
                    "2021-02",
                    "2021-03",
                    "2021-04",
                    "2021-05",
                    "2021-06",
                    "2021-07",
                    "2021-08",
                    "2021-09",
                    "2021-10",
                    "2021-11",
                    "2021-12",
                    "2022-01",
                    "2022-02",
                    "2022-03",
                    "2022-04",
                    "2022-05",
                    "2022-06",
                    "2022-07",
                    "2022-08",
                    "2022-09",
                    "2022-10",
                    "2022-11",
                    "2022-12",
                    "2023-01",
                    "2023-02",
                    "2023-03",
                    "2023-04",
                    "2023-05",
                    "2023-06",
                    "2023-07",
                    "2023-08",
                    "2023-09",
                    "2023-10"
                  ],
                  "xaxis": "x",
                  "y": [
                    0.58,
                    0.59,
                    0.61,
                    0.87,
                    0.49,
                    -0.02,
                    0.25,
                    0.17,
                    0.35,
                    0.75,
                    0.55,
                    0.36,
                    0.59,
                    0.41,
                    0.43,
                    0.21,
                    0.1,
                    -0.21,
                    0.19,
                    0.05,
                    0.21,
                    0.33,
                    0.31,
                    0.48,
                    0.44,
                    0.44,
                    0.37,
                    0.25,
                    0.28,
                    0.28,
                    0.24,
                    0.47,
                    0.18,
                    0.3,
                    0.38,
                    0.74,
                    0.54,
                    0.49,
                    0.48,
                    0.55,
                    0.79,
                    0.74,
                    0.53,
                    0.28,
                    0.26,
                    0.45,
                    0.36,
                    0.28,
                    0.48,
                    0.55,
                    0.2,
                    0.48,
                    0.47,
                    0.36,
                    0.24,
                    0.15,
                    0.24,
                    0.28,
                    0.41,
                    0.37,
                    0.75,
                    0.78,
                    0.52,
                    0.57,
                    0.43,
                    0,
                    0.01,
                    0.04,
                    0.45,
                    0.75,
                    0.83,
                    0.63,
                    0.83,
                    0.8,
                    0.79,
                    0.77,
                    0.47,
                    0.15,
                    0.16,
                    0.37,
                    0.53,
                    0.43,
                    0.52,
                    0.5,
                    0.56,
                    0.45,
                    0.21,
                    0.64,
                    0.36,
                    0.08,
                    0.43,
                    0.41,
                    0.57,
                    0.59,
                    0.6,
                    0.79,
                    0.86,
                    0.6,
                    0.47,
                    0.55,
                    0.37,
                    0.26,
                    0.03,
                    0.24,
                    0.35,
                    0.57,
                    0.54,
                    0.92,
                    0.55,
                    0.69,
                    0.92,
                    0.67,
                    0.46,
                    0.4,
                    0.01,
                    0.25,
                    0.57,
                    0.42,
                    0.51,
                    0.78,
                    1.24,
                    1.22,
                    1.32,
                    0.71,
                    0.74,
                    0.79,
                    0.62,
                    0.22,
                    0.54,
                    0.82,
                    1.01,
                    0.96,
                    1.27,
                    0.9,
                    0.43,
                    0.61,
                    0.78,
                    0.35,
                    0.52,
                    0.44,
                    0.08,
                    0.26,
                    0.18,
                    0.3,
                    0.38,
                    0.33,
                    0.25,
                    0.14,
                    0.31,
                    -0.23,
                    0.24,
                    0.19,
                    0.16,
                    0.42,
                    0.28,
                    0.44,
                    0.29,
                    0.32,
                    0.09,
                    0.22,
                    0.4,
                    1.26,
                    0.33,
                    -0.09,
                    0.48,
                    0.45,
                    -0.21,
                    0.15,
                    0.32,
                    0.43,
                    0.75,
                    0.57,
                    0.13,
                    0.01,
                    0.19,
                    0.11,
                    -0.04,
                    0.1,
                    0.51,
                    1.15,
                    0.21,
                    0.25,
                    0.07,
                    -0.31,
                    -0.38,
                    0.26,
                    0.36,
                    0.24,
                    0.64,
                    0.86,
                    0.89,
                    1.35,
                    0.25,
                    0.86,
                    0.93,
                    0.31,
                    0.83,
                    0.53,
                    0.96,
                    0.87,
                    1.16,
                    1.25,
                    0.95,
                    0.73,
                    0.54,
                    1.01,
                    1.62,
                    1.06,
                    0.47,
                    0.67,
                    -0.68,
                    -0.36,
                    -0.29,
                    0.59,
                    0.41,
                    0.62,
                    0.53,
                    0.84,
                    0.71,
                    0.61,
                    0.23,
                    -0.08,
                    0.12,
                    0.23,
                    0.26,
                    0.24
                  ],
                  "yaxis": "y"
                },
                {
                  "hovertemplate": "Variável=var_ipca15<br>Data=%{x}<br>Variação=%{y}<extra></extra>",
                  "legendgroup": "var_ipca15",
                  "line": {
                    "color": "#EF553B",
                    "dash": "solid"
                  },
                  "marker": {
                    "symbol": "circle"
                  },
                  "mode": "lines",
                  "name": "var_ipca15",
                  "orientation": "v",
                  "showlegend": true,
                  "type": "scatter",
                  "x": [
                    "2005-01",
                    "2005-02",
                    "2005-03",
                    "2005-04",
                    "2005-05",
                    "2005-06",
                    "2005-07",
                    "2005-08",
                    "2005-09",
                    "2005-10",
                    "2005-11",
                    "2005-12",
                    "2006-01",
                    "2006-02",
                    "2006-03",
                    "2006-04",
                    "2006-05",
                    "2006-06",
                    "2006-07",
                    "2006-08",
                    "2006-09",
                    "2006-10",
                    "2006-11",
                    "2006-12",
                    "2007-01",
                    "2007-02",
                    "2007-03",
                    "2007-04",
                    "2007-05",
                    "2007-06",
                    "2007-07",
                    "2007-08",
                    "2007-09",
                    "2007-10",
                    "2007-11",
                    "2007-12",
                    "2008-01",
                    "2008-02",
                    "2008-03",
                    "2008-04",
                    "2008-05",
                    "2008-06",
                    "2008-07",
                    "2008-08",
                    "2008-09",
                    "2008-10",
                    "2008-11",
                    "2008-12",
                    "2009-01",
                    "2009-02",
                    "2009-03",
                    "2009-04",
                    "2009-05",
                    "2009-06",
                    "2009-07",
                    "2009-08",
                    "2009-09",
                    "2009-10",
                    "2009-11",
                    "2009-12",
                    "2010-01",
                    "2010-02",
                    "2010-03",
                    "2010-04",
                    "2010-05",
                    "2010-06",
                    "2010-07",
                    "2010-08",
                    "2010-09",
                    "2010-10",
                    "2010-11",
                    "2010-12",
                    "2011-01",
                    "2011-02",
                    "2011-03",
                    "2011-04",
                    "2011-05",
                    "2011-06",
                    "2011-07",
                    "2011-08",
                    "2011-09",
                    "2011-10",
                    "2011-11",
                    "2011-12",
                    "2012-01",
                    "2012-02",
                    "2012-03",
                    "2012-04",
                    "2012-05",
                    "2012-06",
                    "2012-07",
                    "2012-08",
                    "2012-09",
                    "2012-10",
                    "2012-11",
                    "2012-12",
                    "2013-01",
                    "2013-02",
                    "2013-03",
                    "2013-04",
                    "2013-05",
                    "2013-06",
                    "2013-07",
                    "2013-08",
                    "2013-09",
                    "2013-10",
                    "2013-11",
                    "2013-12",
                    "2014-01",
                    "2014-02",
                    "2014-03",
                    "2014-04",
                    "2014-05",
                    "2014-06",
                    "2014-07",
                    "2014-08",
                    "2014-09",
                    "2014-10",
                    "2014-11",
                    "2014-12",
                    "2015-01",
                    "2015-02",
                    "2015-03",
                    "2015-04",
                    "2015-05",
                    "2015-06",
                    "2015-07",
                    "2015-08",
                    "2015-09",
                    "2015-10",
                    "2015-11",
                    "2015-12",
                    "2016-01",
                    "2016-02",
                    "2016-03",
                    "2016-04",
                    "2016-05",
                    "2016-06",
                    "2016-07",
                    "2016-08",
                    "2016-09",
                    "2016-10",
                    "2016-11",
                    "2016-12",
                    "2017-01",
                    "2017-02",
                    "2017-03",
                    "2017-04",
                    "2017-05",
                    "2017-06",
                    "2017-07",
                    "2017-08",
                    "2017-09",
                    "2017-10",
                    "2017-11",
                    "2017-12",
                    "2018-01",
                    "2018-02",
                    "2018-03",
                    "2018-04",
                    "2018-05",
                    "2018-06",
                    "2018-07",
                    "2018-08",
                    "2018-09",
                    "2018-10",
                    "2018-11",
                    "2018-12",
                    "2019-01",
                    "2019-02",
                    "2019-03",
                    "2019-04",
                    "2019-05",
                    "2019-06",
                    "2019-07",
                    "2019-08",
                    "2019-09",
                    "2019-10",
                    "2019-11",
                    "2019-12",
                    "2020-01",
                    "2020-02",
                    "2020-03",
                    "2020-04",
                    "2020-05",
                    "2020-06",
                    "2020-07",
                    "2020-08",
                    "2020-09",
                    "2020-10",
                    "2020-11",
                    "2020-12",
                    "2021-01",
                    "2021-02",
                    "2021-03",
                    "2021-04",
                    "2021-05",
                    "2021-06",
                    "2021-07",
                    "2021-08",
                    "2021-09",
                    "2021-10",
                    "2021-11",
                    "2021-12",
                    "2022-01",
                    "2022-02",
                    "2022-03",
                    "2022-04",
                    "2022-05",
                    "2022-06",
                    "2022-07",
                    "2022-08",
                    "2022-09",
                    "2022-10",
                    "2022-11",
                    "2022-12",
                    "2023-01",
                    "2023-02",
                    "2023-03",
                    "2023-04",
                    "2023-05",
                    "2023-06",
                    "2023-07",
                    "2023-08",
                    "2023-09",
                    "2023-10"
                  ],
                  "xaxis": "x",
                  "y": [
                    0.68,
                    0.74,
                    0.35,
                    0.74,
                    0.83,
                    0.12,
                    0.11,
                    0.28,
                    0.16,
                    0.56,
                    0.78,
                    0.38,
                    0.51,
                    0.52,
                    0.37,
                    0.17,
                    0.27,
                    -0.15,
                    -0.02,
                    0.19,
                    0.05,
                    0.29,
                    0.37,
                    0.35,
                    0.52,
                    0.46,
                    0.41,
                    0.22,
                    0.26,
                    0.29,
                    0.24,
                    0.42,
                    0.29,
                    0.24,
                    0.23,
                    0.7,
                    0.7,
                    0.64,
                    0.23,
                    0.59,
                    0.56,
                    0.9,
                    0.63,
                    0.35,
                    0.26,
                    0.3,
                    0.49,
                    0.29,
                    0.4,
                    0.63,
                    0.11,
                    0.36,
                    0.59,
                    0.38,
                    0.22,
                    0.23,
                    0.19,
                    0.18,
                    0.44,
                    0.38,
                    0.52,
                    0.94,
                    0.55,
                    0.48,
                    0.63,
                    0.19,
                    -0.09,
                    -0.05,
                    0.31,
                    0.62,
                    0.86,
                    0.69,
                    0.76,
                    0.97,
                    0.6,
                    0.77,
                    0.7,
                    0.23,
                    0.1,
                    0.27,
                    0.53,
                    0.42,
                    0.46,
                    0.56,
                    0.65,
                    0.53,
                    0.25,
                    0.43,
                    0.51,
                    0.18,
                    0.33,
                    0.39,
                    0.48,
                    0.65,
                    0.54,
                    0.69,
                    0.88,
                    0.68,
                    0.49,
                    0.51,
                    0.46,
                    0.38,
                    0.07,
                    0.16,
                    0.27,
                    0.48,
                    0.57,
                    0.75,
                    0.67,
                    0.7,
                    0.73,
                    0.78,
                    0.58,
                    0.47,
                    0.17,
                    0.14,
                    0.39,
                    0.48,
                    0.38,
                    0.79,
                    0.89,
                    1.33,
                    1.24,
                    1.07,
                    0.6,
                    0.99,
                    0.59,
                    0.43,
                    0.39,
                    0.66,
                    0.85,
                    1.18,
                    0.92,
                    1.42,
                    0.43,
                    0.51,
                    0.86,
                    0.4,
                    0.54,
                    0.45,
                    0.23,
                    0.19,
                    0.26,
                    0.19,
                    0.31,
                    0.54,
                    0.15,
                    0.21,
                    0.24,
                    0.16,
                    -0.18,
                    0.35,
                    0.11,
                    0.34,
                    0.32,
                    0.35,
                    0.39,
                    0.38,
                    0.1,
                    0.21,
                    0.14,
                    1.11,
                    0.64,
                    0.13,
                    0.09,
                    0.58,
                    0.19,
                    -0.16,
                    0.3,
                    0.34,
                    0.54,
                    0.72,
                    0.35,
                    0.06,
                    0.09,
                    0.08,
                    0.09,
                    0.09,
                    0.14,
                    1.05,
                    0.71,
                    0.22,
                    0.02,
                    -0.01,
                    -0.59,
                    0.02,
                    0.3,
                    0.23,
                    0.45,
                    0.94,
                    0.81,
                    1.06,
                    0.78,
                    0.48,
                    0.93,
                    0.6,
                    0.44,
                    0.83,
                    0.72,
                    0.89,
                    1.14,
                    1.2,
                    1.17,
                    0.78,
                    0.58,
                    0.99,
                    0.95,
                    1.73,
                    0.59,
                    0.69,
                    0.13,
                    -0.73,
                    -0.37,
                    0.16,
                    0.53,
                    0.52,
                    0.55,
                    0.76,
                    0.69,
                    0.57,
                    0.51,
                    0.04,
                    -0.07,
                    0.28,
                    0.35,
                    0.21
                  ],
                  "yaxis": "y"
                }
              ],
              "layout": {
                "legend": {
                  "title": {
                    "text": "Variável"
                  },
                  "tracegroupgap": 0
                },
                "template": {
                  "data": {
                    "bar": [
                      {
                        "error_x": {
                          "color": "#2a3f5f"
                        },
                        "error_y": {
                          "color": "#2a3f5f"
                        },
                        "marker": {
                          "line": {
                            "color": "#E5ECF6",
                            "width": 0.5
                          },
                          "pattern": {
                            "fillmode": "overlay",
                            "size": 10,
                            "solidity": 0.2
                          }
                        },
                        "type": "bar"
                      }
                    ],
                    "barpolar": [
                      {
                        "marker": {
                          "line": {
                            "color": "#E5ECF6",
                            "width": 0.5
                          },
                          "pattern": {
                            "fillmode": "overlay",
                            "size": 10,
                            "solidity": 0.2
                          }
                        },
                        "type": "barpolar"
                      }
                    ],
                    "carpet": [
                      {
                        "aaxis": {
                          "endlinecolor": "#2a3f5f",
                          "gridcolor": "white",
                          "linecolor": "white",
                          "minorgridcolor": "white",
                          "startlinecolor": "#2a3f5f"
                        },
                        "baxis": {
                          "endlinecolor": "#2a3f5f",
                          "gridcolor": "white",
                          "linecolor": "white",
                          "minorgridcolor": "white",
                          "startlinecolor": "#2a3f5f"
                        },
                        "type": "carpet"
                      }
                    ],
                    "choropleth": [
                      {
                        "colorbar": {
                          "outlinewidth": 0,
                          "ticks": ""
                        },
                        "type": "choropleth"
                      }
                    ],
                    "contour": [
                      {
                        "colorbar": {
                          "outlinewidth": 0,
                          "ticks": ""
                        },
                        "colorscale": [
                          [
                            0,
                            "#0d0887"
                          ],
                          [
                            0.1111111111111111,
                            "#46039f"
                          ],
                          [
                            0.2222222222222222,
                            "#7201a8"
                          ],
                          [
                            0.3333333333333333,
                            "#9c179e"
                          ],
                          [
                            0.4444444444444444,
                            "#bd3786"
                          ],
                          [
                            0.5555555555555556,
                            "#d8576b"
                          ],
                          [
                            0.6666666666666666,
                            "#ed7953"
                          ],
                          [
                            0.7777777777777778,
                            "#fb9f3a"
                          ],
                          [
                            0.8888888888888888,
                            "#fdca26"
                          ],
                          [
                            1,
                            "#f0f921"
                          ]
                        ],
                        "type": "contour"
                      }
                    ],
                    "contourcarpet": [
                      {
                        "colorbar": {
                          "outlinewidth": 0,
                          "ticks": ""
                        },
                        "type": "contourcarpet"
                      }
                    ],
                    "heatmap": [
                      {
                        "colorbar": {
                          "outlinewidth": 0,
                          "ticks": ""
                        },
                        "colorscale": [
                          [
                            0,
                            "#0d0887"
                          ],
                          [
                            0.1111111111111111,
                            "#46039f"
                          ],
                          [
                            0.2222222222222222,
                            "#7201a8"
                          ],
                          [
                            0.3333333333333333,
                            "#9c179e"
                          ],
                          [
                            0.4444444444444444,
                            "#bd3786"
                          ],
                          [
                            0.5555555555555556,
                            "#d8576b"
                          ],
                          [
                            0.6666666666666666,
                            "#ed7953"
                          ],
                          [
                            0.7777777777777778,
                            "#fb9f3a"
                          ],
                          [
                            0.8888888888888888,
                            "#fdca26"
                          ],
                          [
                            1,
                            "#f0f921"
                          ]
                        ],
                        "type": "heatmap"
                      }
                    ],
                    "heatmapgl": [
                      {
                        "colorbar": {
                          "outlinewidth": 0,
                          "ticks": ""
                        },
                        "colorscale": [
                          [
                            0,
                            "#0d0887"
                          ],
                          [
                            0.1111111111111111,
                            "#46039f"
                          ],
                          [
                            0.2222222222222222,
                            "#7201a8"
                          ],
                          [
                            0.3333333333333333,
                            "#9c179e"
                          ],
                          [
                            0.4444444444444444,
                            "#bd3786"
                          ],
                          [
                            0.5555555555555556,
                            "#d8576b"
                          ],
                          [
                            0.6666666666666666,
                            "#ed7953"
                          ],
                          [
                            0.7777777777777778,
                            "#fb9f3a"
                          ],
                          [
                            0.8888888888888888,
                            "#fdca26"
                          ],
                          [
                            1,
                            "#f0f921"
                          ]
                        ],
                        "type": "heatmapgl"
                      }
                    ],
                    "histogram": [
                      {
                        "marker": {
                          "pattern": {
                            "fillmode": "overlay",
                            "size": 10,
                            "solidity": 0.2
                          }
                        },
                        "type": "histogram"
                      }
                    ],
                    "histogram2d": [
                      {
                        "colorbar": {
                          "outlinewidth": 0,
                          "ticks": ""
                        },
                        "colorscale": [
                          [
                            0,
                            "#0d0887"
                          ],
                          [
                            0.1111111111111111,
                            "#46039f"
                          ],
                          [
                            0.2222222222222222,
                            "#7201a8"
                          ],
                          [
                            0.3333333333333333,
                            "#9c179e"
                          ],
                          [
                            0.4444444444444444,
                            "#bd3786"
                          ],
                          [
                            0.5555555555555556,
                            "#d8576b"
                          ],
                          [
                            0.6666666666666666,
                            "#ed7953"
                          ],
                          [
                            0.7777777777777778,
                            "#fb9f3a"
                          ],
                          [
                            0.8888888888888888,
                            "#fdca26"
                          ],
                          [
                            1,
                            "#f0f921"
                          ]
                        ],
                        "type": "histogram2d"
                      }
                    ],
                    "histogram2dcontour": [
                      {
                        "colorbar": {
                          "outlinewidth": 0,
                          "ticks": ""
                        },
                        "colorscale": [
                          [
                            0,
                            "#0d0887"
                          ],
                          [
                            0.1111111111111111,
                            "#46039f"
                          ],
                          [
                            0.2222222222222222,
                            "#7201a8"
                          ],
                          [
                            0.3333333333333333,
                            "#9c179e"
                          ],
                          [
                            0.4444444444444444,
                            "#bd3786"
                          ],
                          [
                            0.5555555555555556,
                            "#d8576b"
                          ],
                          [
                            0.6666666666666666,
                            "#ed7953"
                          ],
                          [
                            0.7777777777777778,
                            "#fb9f3a"
                          ],
                          [
                            0.8888888888888888,
                            "#fdca26"
                          ],
                          [
                            1,
                            "#f0f921"
                          ]
                        ],
                        "type": "histogram2dcontour"
                      }
                    ],
                    "mesh3d": [
                      {
                        "colorbar": {
                          "outlinewidth": 0,
                          "ticks": ""
                        },
                        "type": "mesh3d"
                      }
                    ],
                    "parcoords": [
                      {
                        "line": {
                          "colorbar": {
                            "outlinewidth": 0,
                            "ticks": ""
                          }
                        },
                        "type": "parcoords"
                      }
                    ],
                    "pie": [
                      {
                        "automargin": true,
                        "type": "pie"
                      }
                    ],
                    "scatter": [
                      {
                        "fillpattern": {
                          "fillmode": "overlay",
                          "size": 10,
                          "solidity": 0.2
                        },
                        "type": "scatter"
                      }
                    ],
                    "scatter3d": [
                      {
                        "line": {
                          "colorbar": {
                            "outlinewidth": 0,
                            "ticks": ""
                          }
                        },
                        "marker": {
                          "colorbar": {
                            "outlinewidth": 0,
                            "ticks": ""
                          }
                        },
                        "type": "scatter3d"
                      }
                    ],
                    "scattercarpet": [
                      {
                        "marker": {
                          "colorbar": {
                            "outlinewidth": 0,
                            "ticks": ""
                          }
                        },
                        "type": "scattercarpet"
                      }
                    ],
                    "scattergeo": [
                      {
                        "marker": {
                          "colorbar": {
                            "outlinewidth": 0,
                            "ticks": ""
                          }
                        },
                        "type": "scattergeo"
                      }
                    ],
                    "scattergl": [
                      {
                        "marker": {
                          "colorbar": {
                            "outlinewidth": 0,
                            "ticks": ""
                          }
                        },
                        "type": "scattergl"
                      }
                    ],
                    "scattermapbox": [
                      {
                        "marker": {
                          "colorbar": {
                            "outlinewidth": 0,
                            "ticks": ""
                          }
                        },
                        "type": "scattermapbox"
                      }
                    ],
                    "scatterpolar": [
                      {
                        "marker": {
                          "colorbar": {
                            "outlinewidth": 0,
                            "ticks": ""
                          }
                        },
                        "type": "scatterpolar"
                      }
                    ],
                    "scatterpolargl": [
                      {
                        "marker": {
                          "colorbar": {
                            "outlinewidth": 0,
                            "ticks": ""
                          }
                        },
                        "type": "scatterpolargl"
                      }
                    ],
                    "scatterternary": [
                      {
                        "marker": {
                          "colorbar": {
                            "outlinewidth": 0,
                            "ticks": ""
                          }
                        },
                        "type": "scatterternary"
                      }
                    ],
                    "surface": [
                      {
                        "colorbar": {
                          "outlinewidth": 0,
                          "ticks": ""
                        },
                        "colorscale": [
                          [
                            0,
                            "#0d0887"
                          ],
                          [
                            0.1111111111111111,
                            "#46039f"
                          ],
                          [
                            0.2222222222222222,
                            "#7201a8"
                          ],
                          [
                            0.3333333333333333,
                            "#9c179e"
                          ],
                          [
                            0.4444444444444444,
                            "#bd3786"
                          ],
                          [
                            0.5555555555555556,
                            "#d8576b"
                          ],
                          [
                            0.6666666666666666,
                            "#ed7953"
                          ],
                          [
                            0.7777777777777778,
                            "#fb9f3a"
                          ],
                          [
                            0.8888888888888888,
                            "#fdca26"
                          ],
                          [
                            1,
                            "#f0f921"
                          ]
                        ],
                        "type": "surface"
                      }
                    ],
                    "table": [
                      {
                        "cells": {
                          "fill": {
                            "color": "#EBF0F8"
                          },
                          "line": {
                            "color": "white"
                          }
                        },
                        "header": {
                          "fill": {
                            "color": "#C8D4E3"
                          },
                          "line": {
                            "color": "white"
                          }
                        },
                        "type": "table"
                      }
                    ]
                  },
                  "layout": {
                    "annotationdefaults": {
                      "arrowcolor": "#2a3f5f",
                      "arrowhead": 0,
                      "arrowwidth": 1
                    },
                    "autotypenumbers": "strict",
                    "coloraxis": {
                      "colorbar": {
                        "outlinewidth": 0,
                        "ticks": ""
                      }
                    },
                    "colorscale": {
                      "diverging": [
                        [
                          0,
                          "#8e0152"
                        ],
                        [
                          0.1,
                          "#c51b7d"
                        ],
                        [
                          0.2,
                          "#de77ae"
                        ],
                        [
                          0.3,
                          "#f1b6da"
                        ],
                        [
                          0.4,
                          "#fde0ef"
                        ],
                        [
                          0.5,
                          "#f7f7f7"
                        ],
                        [
                          0.6,
                          "#e6f5d0"
                        ],
                        [
                          0.7,
                          "#b8e186"
                        ],
                        [
                          0.8,
                          "#7fbc41"
                        ],
                        [
                          0.9,
                          "#4d9221"
                        ],
                        [
                          1,
                          "#276419"
                        ]
                      ],
                      "sequential": [
                        [
                          0,
                          "#0d0887"
                        ],
                        [
                          0.1111111111111111,
                          "#46039f"
                        ],
                        [
                          0.2222222222222222,
                          "#7201a8"
                        ],
                        [
                          0.3333333333333333,
                          "#9c179e"
                        ],
                        [
                          0.4444444444444444,
                          "#bd3786"
                        ],
                        [
                          0.5555555555555556,
                          "#d8576b"
                        ],
                        [
                          0.6666666666666666,
                          "#ed7953"
                        ],
                        [
                          0.7777777777777778,
                          "#fb9f3a"
                        ],
                        [
                          0.8888888888888888,
                          "#fdca26"
                        ],
                        [
                          1,
                          "#f0f921"
                        ]
                      ],
                      "sequentialminus": [
                        [
                          0,
                          "#0d0887"
                        ],
                        [
                          0.1111111111111111,
                          "#46039f"
                        ],
                        [
                          0.2222222222222222,
                          "#7201a8"
                        ],
                        [
                          0.3333333333333333,
                          "#9c179e"
                        ],
                        [
                          0.4444444444444444,
                          "#bd3786"
                        ],
                        [
                          0.5555555555555556,
                          "#d8576b"
                        ],
                        [
                          0.6666666666666666,
                          "#ed7953"
                        ],
                        [
                          0.7777777777777778,
                          "#fb9f3a"
                        ],
                        [
                          0.8888888888888888,
                          "#fdca26"
                        ],
                        [
                          1,
                          "#f0f921"
                        ]
                      ]
                    },
                    "colorway": [
                      "#636efa",
                      "#EF553B",
                      "#00cc96",
                      "#ab63fa",
                      "#FFA15A",
                      "#19d3f3",
                      "#FF6692",
                      "#B6E880",
                      "#FF97FF",
                      "#FECB52"
                    ],
                    "font": {
                      "color": "#2a3f5f"
                    },
                    "geo": {
                      "bgcolor": "white",
                      "lakecolor": "white",
                      "landcolor": "#E5ECF6",
                      "showlakes": true,
                      "showland": true,
                      "subunitcolor": "white"
                    },
                    "hoverlabel": {
                      "align": "left"
                    },
                    "hovermode": "closest",
                    "mapbox": {
                      "style": "light"
                    },
                    "paper_bgcolor": "white",
                    "plot_bgcolor": "#E5ECF6",
                    "polar": {
                      "angularaxis": {
                        "gridcolor": "white",
                        "linecolor": "white",
                        "ticks": ""
                      },
                      "bgcolor": "#E5ECF6",
                      "radialaxis": {
                        "gridcolor": "white",
                        "linecolor": "white",
                        "ticks": ""
                      }
                    },
                    "scene": {
                      "xaxis": {
                        "backgroundcolor": "#E5ECF6",
                        "gridcolor": "white",
                        "gridwidth": 2,
                        "linecolor": "white",
                        "showbackground": true,
                        "ticks": "",
                        "zerolinecolor": "white"
                      },
                      "yaxis": {
                        "backgroundcolor": "#E5ECF6",
                        "gridcolor": "white",
                        "gridwidth": 2,
                        "linecolor": "white",
                        "showbackground": true,
                        "ticks": "",
                        "zerolinecolor": "white"
                      },
                      "zaxis": {
                        "backgroundcolor": "#E5ECF6",
                        "gridcolor": "white",
                        "gridwidth": 2,
                        "linecolor": "white",
                        "showbackground": true,
                        "ticks": "",
                        "zerolinecolor": "white"
                      }
                    },
                    "shapedefaults": {
                      "line": {
                        "color": "#2a3f5f"
                      }
                    },
                    "ternary": {
                      "aaxis": {
                        "gridcolor": "white",
                        "linecolor": "white",
                        "ticks": ""
                      },
                      "baxis": {
                        "gridcolor": "white",
                        "linecolor": "white",
                        "ticks": ""
                      },
                      "bgcolor": "#E5ECF6",
                      "caxis": {
                        "gridcolor": "white",
                        "linecolor": "white",
                        "ticks": ""
                      }
                    },
                    "title": {
                      "x": 0.05
                    },
                    "xaxis": {
                      "automargin": true,
                      "gridcolor": "white",
                      "linecolor": "white",
                      "ticks": "",
                      "title": {
                        "standoff": 15
                      },
                      "zerolinecolor": "white",
                      "zerolinewidth": 2
                    },
                    "yaxis": {
                      "automargin": true,
                      "gridcolor": "white",
                      "linecolor": "white",
                      "ticks": "",
                      "title": {
                        "standoff": 15
                      },
                      "zerolinecolor": "white",
                      "zerolinewidth": 2
                    }
                  }
                },
                "title": {
                  "text": "Desempenho de Variáveis de Inflação a partir de 2005"
                },
                "xaxis": {
                  "anchor": "y",
                  "domain": [
                    0,
                    1
                  ],
                  "title": {
                    "text": "Data"
                  }
                },
                "yaxis": {
                  "anchor": "x",
                  "domain": [
                    0,
                    1
                  ],
                  "title": {
                    "text": "Variação"
                  }
                }
              }
            }
          },
          "metadata": {},
          "output_type": "display_data"
        }
      ],
      "source": [
        "# Reseta o índice e converte a coluna 'date' para string\n",
        "dataset_inflacao_reset = padrao_inflacionario.reset_index()\n",
        "dataset_inflacao_reset['date'] = dataset_inflacao_reset['date'].astype(str)\n",
        "\n",
        "# Filtra dados a partir de janeiro de 2005 (uma série temporal menor para melhor visualizarmos)\n",
        "dataset_inflacao_reset = dataset_inflacao_reset[dataset_inflacao_reset['date'] >= '2005-01']\n",
        "\n",
        "# Cria gráfico de linhas para as variáveis var_ipca e var_ipca15 (para analisarmos seu comportamento)\n",
        "fig = px.line(dataset_inflacao_reset, x='date', y=['var_ipca', 'var_ipca15'],\n",
        "              labels={'value': 'Variação', 'variable': 'Variável', 'date': 'Data'},\n",
        "              title='Desempenho de Variáveis de Inflação a partir de 2005')\n",
        "\n",
        "# Layout do gráfico\n",
        "fig.update_layout(xaxis_title='Data', yaxis_title='Variação')\n",
        "\n",
        "# Mostrar o gráfico\n",
        "fig.show()"
      ]
    },
    {
      "cell_type": "markdown",
      "metadata": {},
      "source": [
        "Como visto tabela de correlação, amos índices estão praticamente juntos *nessa longa estrada da vida*... (pegou a referência?)\n",
        "\n",
        "Bora dar uma olhada nas estatísticas descritivas:"
      ]
    },
    {
      "cell_type": "code",
      "execution_count": 402,
      "metadata": {
        "colab": {
          "base_uri": "https://localhost:8080/",
          "height": 300
        },
        "id": "AJjGlXH0Cve7",
        "outputId": "b94a8014-c5b0-483e-b567-19aa14b52d00"
      },
      "outputs": [
        {
          "data": {
            "text/html": [
              "<div>\n",
              "<style scoped>\n",
              "    .dataframe tbody tr th:only-of-type {\n",
              "        vertical-align: middle;\n",
              "    }\n",
              "\n",
              "    .dataframe tbody tr th {\n",
              "        vertical-align: top;\n",
              "    }\n",
              "\n",
              "    .dataframe thead th {\n",
              "        text-align: right;\n",
              "    }\n",
              "</style>\n",
              "<table border=\"1\" class=\"dataframe\">\n",
              "  <thead>\n",
              "    <tr style=\"text-align: right;\">\n",
              "      <th></th>\n",
              "      <th>var_ipca</th>\n",
              "      <th>var_ipca15</th>\n",
              "    </tr>\n",
              "  </thead>\n",
              "  <tbody>\n",
              "    <tr>\n",
              "      <th>count</th>\n",
              "      <td>526.000000</td>\n",
              "      <td>282.000000</td>\n",
              "    </tr>\n",
              "    <tr>\n",
              "      <th>mean</th>\n",
              "      <td>5.832015</td>\n",
              "      <td>0.508298</td>\n",
              "    </tr>\n",
              "    <tr>\n",
              "      <th>std</th>\n",
              "      <td>10.777222</td>\n",
              "      <td>0.406069</td>\n",
              "    </tr>\n",
              "    <tr>\n",
              "      <th>min</th>\n",
              "      <td>-0.680000</td>\n",
              "      <td>-0.730000</td>\n",
              "    </tr>\n",
              "    <tr>\n",
              "      <th>25%</th>\n",
              "      <td>0.370000</td>\n",
              "      <td>0.242500</td>\n",
              "    </tr>\n",
              "    <tr>\n",
              "      <th>50%</th>\n",
              "      <td>0.750000</td>\n",
              "      <td>0.465000</td>\n",
              "    </tr>\n",
              "    <tr>\n",
              "      <th>75%</th>\n",
              "      <td>6.667500</td>\n",
              "      <td>0.690000</td>\n",
              "    </tr>\n",
              "    <tr>\n",
              "      <th>max</th>\n",
              "      <td>82.390000</td>\n",
              "      <td>3.050000</td>\n",
              "    </tr>\n",
              "  </tbody>\n",
              "</table>\n",
              "</div>"
            ],
            "text/plain": [
              "         var_ipca  var_ipca15\n",
              "count  526.000000  282.000000\n",
              "mean     5.832015    0.508298\n",
              "std     10.777222    0.406069\n",
              "min     -0.680000   -0.730000\n",
              "25%      0.370000    0.242500\n",
              "50%      0.750000    0.465000\n",
              "75%      6.667500    0.690000\n",
              "max     82.390000    3.050000"
            ]
          },
          "execution_count": 402,
          "metadata": {},
          "output_type": "execute_result"
        }
      ],
      "source": [
        "padrao_inflacionario.describe()"
      ]
    },
    {
      "cell_type": "markdown",
      "metadata": {},
      "source": [
        "**Nota-se:** <br>\n",
        "\n",
        "1. A média da variação do IPCA (var_ipca) é significativamente maior (5.83) em comparação com a média da variação do IPCA-15 (var_ipca15) que é relativamente próxima de zero (0.51).\n",
        "\n",
        "Isso indica que, em média, o IPCA tem variações mais expressivas do que o IPCA-15. Muito se deve ao fato dos períodos de alta inflação em nossa história e também, ao fato do IPCA-15 começar a ser registrado em meados dos anos 2000.\n",
        "\n",
        "2. O desvio padrão do IPCA (std = 10.78) é elevado, indicando uma grande dispersão nos valores. Já o IPCA-15 (std = 0.41) possui um desvio padrão mais baixo, indicando menor dispersão.\n",
        "\n",
        "3. Os valores mínimos e máximos indicam que tanto o IPCA quanto o IPCA-15 tiveram variações negativas em alguns momentos, mas também experimentaram aumentos significativos.\n",
        "\n",
        "4. O desvio padrão elevado e o valor máximo significativo no IPCA indicam que eventos incomuns ou extremos (hiperinflação e deflação) podem ter impacto substancial na variação do IPCA.\n",
        "\n",
        "**Observação:** <br>\n",
        "*Deflação* é fenômeno caracterizado pela redução generalizada e sustentada dos preços dos bens e serviços ao longo do tempo. Em outras palavras, é o oposto da inflação.\n",
        "\n",
        "Igualmente prejudicial, ou até pior que a irmã. E sobre esse assunto, além de autores como Marcos Mendes, Marcos Lisboa, Fabio Giambiagi, entre outros caras absurdos, recomendo a leitura desse [artigo](https://fraser.stlouisfed.org/title/statements-speeches-ben-s-bernanke-453/deflation-making-sure-doesn-t-happen-8874) escrito por **Ben S. Bernanke, ex-presidente do Federal Reserve dos EUA** na década dos anos 2000 e que marcou época em meio ao medo global do fenômeno da deflação."
      ]
    },
    {
      "cell_type": "code",
      "execution_count": 403,
      "metadata": {
        "colab": {
          "base_uri": "https://localhost:8080/",
          "height": 455
        },
        "id": "Yw3w_QyvoEjR",
        "outputId": "deb79aff-be18-47cf-9536-7f8fbfac6aa0"
      },
      "outputs": [
        {
          "data": {
            "text/html": [
              "<div>\n",
              "<style scoped>\n",
              "    .dataframe tbody tr th:only-of-type {\n",
              "        vertical-align: middle;\n",
              "    }\n",
              "\n",
              "    .dataframe tbody tr th {\n",
              "        vertical-align: top;\n",
              "    }\n",
              "\n",
              "    .dataframe thead th {\n",
              "        text-align: right;\n",
              "    }\n",
              "</style>\n",
              "<table border=\"1\" class=\"dataframe\">\n",
              "  <thead>\n",
              "    <tr style=\"text-align: right;\">\n",
              "      <th></th>\n",
              "      <th>var_ipca</th>\n",
              "      <th>var_ipca15</th>\n",
              "    </tr>\n",
              "    <tr>\n",
              "      <th>date</th>\n",
              "      <th></th>\n",
              "      <th></th>\n",
              "    </tr>\n",
              "  </thead>\n",
              "  <tbody>\n",
              "    <tr>\n",
              "      <th>1979-12</th>\n",
              "      <td>NaN</td>\n",
              "      <td>NaN</td>\n",
              "    </tr>\n",
              "    <tr>\n",
              "      <th>1980-01</th>\n",
              "      <td>6.62</td>\n",
              "      <td>NaN</td>\n",
              "    </tr>\n",
              "    <tr>\n",
              "      <th>1980-02</th>\n",
              "      <td>4.62</td>\n",
              "      <td>NaN</td>\n",
              "    </tr>\n",
              "    <tr>\n",
              "      <th>1980-03</th>\n",
              "      <td>6.04</td>\n",
              "      <td>NaN</td>\n",
              "    </tr>\n",
              "    <tr>\n",
              "      <th>1980-04</th>\n",
              "      <td>5.29</td>\n",
              "      <td>NaN</td>\n",
              "    </tr>\n",
              "    <tr>\n",
              "      <th>...</th>\n",
              "      <td>...</td>\n",
              "      <td>...</td>\n",
              "    </tr>\n",
              "    <tr>\n",
              "      <th>2023-06</th>\n",
              "      <td>-0.08</td>\n",
              "      <td>0.04</td>\n",
              "    </tr>\n",
              "    <tr>\n",
              "      <th>2023-07</th>\n",
              "      <td>0.12</td>\n",
              "      <td>-0.07</td>\n",
              "    </tr>\n",
              "    <tr>\n",
              "      <th>2023-08</th>\n",
              "      <td>0.23</td>\n",
              "      <td>0.28</td>\n",
              "    </tr>\n",
              "    <tr>\n",
              "      <th>2023-09</th>\n",
              "      <td>0.26</td>\n",
              "      <td>0.35</td>\n",
              "    </tr>\n",
              "    <tr>\n",
              "      <th>2023-10</th>\n",
              "      <td>0.24</td>\n",
              "      <td>0.21</td>\n",
              "    </tr>\n",
              "  </tbody>\n",
              "</table>\n",
              "<p>527 rows × 2 columns</p>\n",
              "</div>"
            ],
            "text/plain": [
              "         var_ipca  var_ipca15\n",
              "date                         \n",
              "1979-12       NaN         NaN\n",
              "1980-01      6.62         NaN\n",
              "1980-02      4.62         NaN\n",
              "1980-03      6.04         NaN\n",
              "1980-04      5.29         NaN\n",
              "...           ...         ...\n",
              "2023-06     -0.08        0.04\n",
              "2023-07      0.12       -0.07\n",
              "2023-08      0.23        0.28\n",
              "2023-09      0.26        0.35\n",
              "2023-10      0.24        0.21\n",
              "\n",
              "[527 rows x 2 columns]"
            ]
          },
          "execution_count": 403,
          "metadata": {},
          "output_type": "execute_result"
        }
      ],
      "source": [
        "# substituindo os valore iguais a 0 por NaN\n",
        "padrao_infla_raw = padrao_inflacionario.replace(['0', 0], np.nan)\n",
        "padrao_infla_raw"
      ]
    },
    {
      "cell_type": "code",
      "execution_count": 404,
      "metadata": {
        "colab": {
          "base_uri": "https://localhost:8080/"
        },
        "id": "ivFYgsKdsP7y",
        "outputId": "57c4c664-65bf-4dbf-a871-ef087f2811aa"
      },
      "outputs": [
        {
          "data": {
            "text/plain": [
              "var_ipca        1\n",
              "var_ipca15    245\n",
              "dtype: int64"
            ]
          },
          "execution_count": 404,
          "metadata": {},
          "output_type": "execute_result"
        }
      ],
      "source": [
        "# verificamos a presença de valores nulos\n",
        "padrao_inflacionario.isna().sum()"
      ]
    },
    {
      "cell_type": "code",
      "execution_count": 405,
      "metadata": {
        "colab": {
          "base_uri": "https://localhost:8080/",
          "height": 455
        },
        "id": "NRo4ZtdJq3A2",
        "outputId": "de7bd3c3-272f-47c6-fa61-2659ecf9acfe"
      },
      "outputs": [
        {
          "data": {
            "text/html": [
              "<div>\n",
              "<style scoped>\n",
              "    .dataframe tbody tr th:only-of-type {\n",
              "        vertical-align: middle;\n",
              "    }\n",
              "\n",
              "    .dataframe tbody tr th {\n",
              "        vertical-align: top;\n",
              "    }\n",
              "\n",
              "    .dataframe thead th {\n",
              "        text-align: right;\n",
              "    }\n",
              "</style>\n",
              "<table border=\"1\" class=\"dataframe\">\n",
              "  <thead>\n",
              "    <tr style=\"text-align: right;\">\n",
              "      <th></th>\n",
              "      <th>var_ipca</th>\n",
              "      <th>var_ipca15</th>\n",
              "    </tr>\n",
              "    <tr>\n",
              "      <th>date</th>\n",
              "      <th></th>\n",
              "      <th></th>\n",
              "    </tr>\n",
              "  </thead>\n",
              "  <tbody>\n",
              "    <tr>\n",
              "      <th>2000-05</th>\n",
              "      <td>0.01</td>\n",
              "      <td>0.09</td>\n",
              "    </tr>\n",
              "    <tr>\n",
              "      <th>2000-06</th>\n",
              "      <td>0.23</td>\n",
              "      <td>0.08</td>\n",
              "    </tr>\n",
              "    <tr>\n",
              "      <th>2000-07</th>\n",
              "      <td>1.61</td>\n",
              "      <td>0.78</td>\n",
              "    </tr>\n",
              "    <tr>\n",
              "      <th>2000-08</th>\n",
              "      <td>1.31</td>\n",
              "      <td>1.99</td>\n",
              "    </tr>\n",
              "    <tr>\n",
              "      <th>2000-09</th>\n",
              "      <td>0.23</td>\n",
              "      <td>0.45</td>\n",
              "    </tr>\n",
              "    <tr>\n",
              "      <th>...</th>\n",
              "      <td>...</td>\n",
              "      <td>...</td>\n",
              "    </tr>\n",
              "    <tr>\n",
              "      <th>2023-06</th>\n",
              "      <td>-0.08</td>\n",
              "      <td>0.04</td>\n",
              "    </tr>\n",
              "    <tr>\n",
              "      <th>2023-07</th>\n",
              "      <td>0.12</td>\n",
              "      <td>-0.07</td>\n",
              "    </tr>\n",
              "    <tr>\n",
              "      <th>2023-08</th>\n",
              "      <td>0.23</td>\n",
              "      <td>0.28</td>\n",
              "    </tr>\n",
              "    <tr>\n",
              "      <th>2023-09</th>\n",
              "      <td>0.26</td>\n",
              "      <td>0.35</td>\n",
              "    </tr>\n",
              "    <tr>\n",
              "      <th>2023-10</th>\n",
              "      <td>0.24</td>\n",
              "      <td>0.21</td>\n",
              "    </tr>\n",
              "  </tbody>\n",
              "</table>\n",
              "<p>282 rows × 2 columns</p>\n",
              "</div>"
            ],
            "text/plain": [
              "         var_ipca  var_ipca15\n",
              "date                         \n",
              "2000-05      0.01        0.09\n",
              "2000-06      0.23        0.08\n",
              "2000-07      1.61        0.78\n",
              "2000-08      1.31        1.99\n",
              "2000-09      0.23        0.45\n",
              "...           ...         ...\n",
              "2023-06     -0.08        0.04\n",
              "2023-07      0.12       -0.07\n",
              "2023-08      0.23        0.28\n",
              "2023-09      0.26        0.35\n",
              "2023-10      0.24        0.21\n",
              "\n",
              "[282 rows x 2 columns]"
            ]
          },
          "execution_count": 405,
          "metadata": {},
          "output_type": "execute_result"
        }
      ],
      "source": [
        "# fazendo o drop desses valores\n",
        "padrao_inflacionario = padrao_inflacionario.dropna()\n",
        "padrao_inflacionario"
      ]
    },
    {
      "cell_type": "markdown",
      "metadata": {},
      "source": [
        "Fazemos essa exclusão para eliminar possíveis erros de coleta, mas, essa decisão é apenas didática, já que para aplicarmos uma técnica dessa seria necessária uma análise mais atenta."
      ]
    },
    {
      "cell_type": "code",
      "execution_count": 406,
      "metadata": {
        "colab": {
          "base_uri": "https://localhost:8080/"
        },
        "id": "ZKAgGim1sHDT",
        "outputId": "91dd4f1f-e568-4c7b-9ccf-c78abd1aba36"
      },
      "outputs": [
        {
          "data": {
            "text/plain": [
              "var_ipca      0\n",
              "var_ipca15    0\n",
              "dtype: int64"
            ]
          },
          "execution_count": 406,
          "metadata": {},
          "output_type": "execute_result"
        }
      ],
      "source": [
        "padrao_inflacionario.isna().sum()"
      ]
    },
    {
      "cell_type": "code",
      "execution_count": 407,
      "metadata": {
        "colab": {
          "base_uri": "https://localhost:8080/"
        },
        "id": "hCC0x0Dks6D8",
        "outputId": "87d1f418-2d1c-48c3-ab08-26030ebe097d"
      },
      "outputs": [
        {
          "data": {
            "text/plain": [
              "(282, 2)"
            ]
          },
          "execution_count": 407,
          "metadata": {},
          "output_type": "execute_result"
        }
      ],
      "source": [
        "# o tamanho do dataframe despencou de 527 linhas (no momento) para 282 linhas.\n",
        "padrao_inflacionario.shape"
      ]
    },
    {
      "cell_type": "markdown",
      "metadata": {
        "id": "zLOPb8TotARJ"
      },
      "source": [
        "#### 4.2 Coeficiente de pearson"
      ]
    },
    {
      "cell_type": "markdown",
      "metadata": {
        "id": "3-rvUMiq36-k"
      },
      "source": [
        "**O que é?** <br>\n",
        "O **coeficiente de correlação de Pearson** ajuda a medir como duas coisas estão relacionadas em seus valores. Uma maneira de como funciona, imagine comparar duas variáveis, como o tempo gasto estudando para um teste e a nota que você obtém no teste.\n",
        "\n",
        "**Para leigos:**<br>\n",
        "\n",
        "Imagine que você está observando o comportamento de duas variáveis: *o número de horas de estudo que um estudante faz antes de um exame* e as *notas que ele obtém nos exames*.\n",
        "Aí você se pergunta: *\"Existe alguma relação entre o tempo de estudo e as notas dos alunos?\"*\n",
        "\n",
        "- Se o **coeficiente for +1**:  isso significa que há uma relação **positiva perfeita**. Em outras palavras, quando o tempo de estudo aumenta, as notas sempre aumentam na mesma direção. É como dizer que, à medida que você estuda mais, suas notas sempre sobem.\n",
        "\n",
        "- Se o **coeficiente for -1**, isso significa que há uma relação **negativa perfeita**. Neste caso, à medida que o tempo de estudo aumenta, as notas sempre diminuem na mesma direção. É como dizer que, quando você estuda mais, suas notas sempre caem.\n",
        "\n",
        "- Se o **coeficiente for 0**, não há relação entre o tempo de estudo e as notas. É como dizer que o tempo de estudo não afeta as notas dos alunos de forma consistente.\n",
        "\n",
        "- Se o **coeficiente estiver em algum lugar entre -1 e +1**, isso indica que existe uma relação, mas ela não é perfeita. Quanto mais próximo de +1, mais forte é a relação positiva, e quanto mais próximo de -1, mais forte é a relação negativa. Quanto mais próximo de 0, mais fraca é a relação.\n",
        "\n",
        "Resumindo: o coeficiente de correlação de Pearson ajuda a quantificar e medir o quão forte e em que direção duas variáveis estão relacionadas, como o tempo de estudo e as notas dos alunos."
      ]
    },
    {
      "cell_type": "code",
      "execution_count": 408,
      "metadata": {},
      "outputs": [],
      "source": [
        "# !pip install statistics\n",
        "# ! pip install scipy"
      ]
    },
    {
      "cell_type": "markdown",
      "metadata": {},
      "source": [
        "^^^^ Vai demorar um tiquinho..."
      ]
    },
    {
      "cell_type": "code",
      "execution_count": 409,
      "metadata": {
        "id": "dH8kN_ictDOl"
      },
      "outputs": [],
      "source": [
        "from scipy import stats"
      ]
    },
    {
      "cell_type": "code",
      "execution_count": 410,
      "metadata": {
        "colab": {
          "base_uri": "https://localhost:8080/"
        },
        "id": "iVTMclFJtg18",
        "outputId": "6d2b1bf4-2830-4d3f-c835-157ab6deb080"
      },
      "outputs": [
        {
          "data": {
            "text/plain": [
              "PearsonRResult(statistic=0.8566095183823411, pvalue=1.898273877664776e-82)"
            ]
          },
          "execution_count": 410,
          "metadata": {},
          "output_type": "execute_result"
        }
      ],
      "source": [
        "stats.pearsonr(\n",
        "    padrao_inflacionario['var_ipca'],\n",
        "    padrao_inflacionario['var_ipca15']\n",
        ")"
      ]
    },
    {
      "cell_type": "markdown",
      "metadata": {},
      "source": [
        "**Ficou confuso, né pai?** <br>\n",
        "\n",
        "- O número 0.86 significa que as variáveis estão fortemente relacionadas. Se uma delas sobe, a outra também tende a subir, e vice-versa. Quanto mais próximo de 1, mais forte é essa relação. <br>\n",
        "\n",
        "Você: *\"Mass isso eu já se-eiiii...!\"*\n",
        "\n",
        "- O **Valor-p (p-value)**: O número 1.898273877664776e-82 é muito, muito pequeno. Isso indica que é altamente improvável que a forte relação observada seja devido ao acaso. Em outras palavras, há uma evidência estatística sólida de que há uma conexão real entre as variáveis, não é algo que aconteceu por mero acaso.\n",
        "\n",
        "Em resumo, o resultado sugere que as variáveis estão fortemente ligadas de uma forma que não pode ser explicada apenas por coincidência estatística."
      ]
    },
    {
      "cell_type": "markdown",
      "metadata": {},
      "source": [
        "Agora eu vou plotar essarelação, ein....olha....PLOTEI!\n",
        "\n",
        "Trago um gráfico de dispersão que explora a relação entre as variações do IPCA e do IPCA-15. "
      ]
    },
    {
      "cell_type": "code",
      "execution_count": 411,
      "metadata": {
        "colab": {
          "base_uri": "https://localhost:8080/",
          "height": 542
        },
        "id": "IyEa1evM3qYB",
        "outputId": "cf8afa7c-512f-4c14-9895-74ba201400b0"
      },
      "outputs": [
        {
          "data": {
            "application/vnd.plotly.v1+json": {
              "config": {
                "plotlyServerURL": "https://plot.ly"
              },
              "data": [
                {
                  "hovertemplate": "Indicador=var_ipca<br>date=%{x}<br>Variação=%{y}<extra></extra>",
                  "legendgroup": "var_ipca",
                  "marker": {
                    "color": "blue",
                    "symbol": "circle"
                  },
                  "mode": "markers",
                  "name": "var_ipca",
                  "orientation": "v",
                  "showlegend": true,
                  "type": "scatter",
                  "x": [
                    "2000-05-01T00:00:00",
                    "2000-06-01T00:00:00",
                    "2000-07-01T00:00:00",
                    "2000-08-01T00:00:00",
                    "2000-09-01T00:00:00",
                    "2000-10-01T00:00:00",
                    "2000-11-01T00:00:00",
                    "2000-12-01T00:00:00",
                    "2001-01-01T00:00:00",
                    "2001-02-01T00:00:00",
                    "2001-03-01T00:00:00",
                    "2001-04-01T00:00:00",
                    "2001-05-01T00:00:00",
                    "2001-06-01T00:00:00",
                    "2001-07-01T00:00:00",
                    "2001-08-01T00:00:00",
                    "2001-09-01T00:00:00",
                    "2001-10-01T00:00:00",
                    "2001-11-01T00:00:00",
                    "2001-12-01T00:00:00",
                    "2002-01-01T00:00:00",
                    "2002-02-01T00:00:00",
                    "2002-03-01T00:00:00",
                    "2002-04-01T00:00:00",
                    "2002-05-01T00:00:00",
                    "2002-06-01T00:00:00",
                    "2002-07-01T00:00:00",
                    "2002-08-01T00:00:00",
                    "2002-09-01T00:00:00",
                    "2002-10-01T00:00:00",
                    "2002-11-01T00:00:00",
                    "2002-12-01T00:00:00",
                    "2003-01-01T00:00:00",
                    "2003-02-01T00:00:00",
                    "2003-03-01T00:00:00",
                    "2003-04-01T00:00:00",
                    "2003-05-01T00:00:00",
                    "2003-06-01T00:00:00",
                    "2003-07-01T00:00:00",
                    "2003-08-01T00:00:00",
                    "2003-09-01T00:00:00",
                    "2003-10-01T00:00:00",
                    "2003-11-01T00:00:00",
                    "2003-12-01T00:00:00",
                    "2004-01-01T00:00:00",
                    "2004-02-01T00:00:00",
                    "2004-03-01T00:00:00",
                    "2004-04-01T00:00:00",
                    "2004-05-01T00:00:00",
                    "2004-06-01T00:00:00",
                    "2004-07-01T00:00:00",
                    "2004-08-01T00:00:00",
                    "2004-09-01T00:00:00",
                    "2004-10-01T00:00:00",
                    "2004-11-01T00:00:00",
                    "2004-12-01T00:00:00",
                    "2005-01-01T00:00:00",
                    "2005-02-01T00:00:00",
                    "2005-03-01T00:00:00",
                    "2005-04-01T00:00:00",
                    "2005-05-01T00:00:00",
                    "2005-06-01T00:00:00",
                    "2005-07-01T00:00:00",
                    "2005-08-01T00:00:00",
                    "2005-09-01T00:00:00",
                    "2005-10-01T00:00:00",
                    "2005-11-01T00:00:00",
                    "2005-12-01T00:00:00",
                    "2006-01-01T00:00:00",
                    "2006-02-01T00:00:00",
                    "2006-03-01T00:00:00",
                    "2006-04-01T00:00:00",
                    "2006-05-01T00:00:00",
                    "2006-06-01T00:00:00",
                    "2006-07-01T00:00:00",
                    "2006-08-01T00:00:00",
                    "2006-09-01T00:00:00",
                    "2006-10-01T00:00:00",
                    "2006-11-01T00:00:00",
                    "2006-12-01T00:00:00",
                    "2007-01-01T00:00:00",
                    "2007-02-01T00:00:00",
                    "2007-03-01T00:00:00",
                    "2007-04-01T00:00:00",
                    "2007-05-01T00:00:00",
                    "2007-06-01T00:00:00",
                    "2007-07-01T00:00:00",
                    "2007-08-01T00:00:00",
                    "2007-09-01T00:00:00",
                    "2007-10-01T00:00:00",
                    "2007-11-01T00:00:00",
                    "2007-12-01T00:00:00",
                    "2008-01-01T00:00:00",
                    "2008-02-01T00:00:00",
                    "2008-03-01T00:00:00",
                    "2008-04-01T00:00:00",
                    "2008-05-01T00:00:00",
                    "2008-06-01T00:00:00",
                    "2008-07-01T00:00:00",
                    "2008-08-01T00:00:00",
                    "2008-09-01T00:00:00",
                    "2008-10-01T00:00:00",
                    "2008-11-01T00:00:00",
                    "2008-12-01T00:00:00",
                    "2009-01-01T00:00:00",
                    "2009-02-01T00:00:00",
                    "2009-03-01T00:00:00",
                    "2009-04-01T00:00:00",
                    "2009-05-01T00:00:00",
                    "2009-06-01T00:00:00",
                    "2009-07-01T00:00:00",
                    "2009-08-01T00:00:00",
                    "2009-09-01T00:00:00",
                    "2009-10-01T00:00:00",
                    "2009-11-01T00:00:00",
                    "2009-12-01T00:00:00",
                    "2010-01-01T00:00:00",
                    "2010-02-01T00:00:00",
                    "2010-03-01T00:00:00",
                    "2010-04-01T00:00:00",
                    "2010-05-01T00:00:00",
                    "2010-06-01T00:00:00",
                    "2010-07-01T00:00:00",
                    "2010-08-01T00:00:00",
                    "2010-09-01T00:00:00",
                    "2010-10-01T00:00:00",
                    "2010-11-01T00:00:00",
                    "2010-12-01T00:00:00",
                    "2011-01-01T00:00:00",
                    "2011-02-01T00:00:00",
                    "2011-03-01T00:00:00",
                    "2011-04-01T00:00:00",
                    "2011-05-01T00:00:00",
                    "2011-06-01T00:00:00",
                    "2011-07-01T00:00:00",
                    "2011-08-01T00:00:00",
                    "2011-09-01T00:00:00",
                    "2011-10-01T00:00:00",
                    "2011-11-01T00:00:00",
                    "2011-12-01T00:00:00",
                    "2012-01-01T00:00:00",
                    "2012-02-01T00:00:00",
                    "2012-03-01T00:00:00",
                    "2012-04-01T00:00:00",
                    "2012-05-01T00:00:00",
                    "2012-06-01T00:00:00",
                    "2012-07-01T00:00:00",
                    "2012-08-01T00:00:00",
                    "2012-09-01T00:00:00",
                    "2012-10-01T00:00:00",
                    "2012-11-01T00:00:00",
                    "2012-12-01T00:00:00",
                    "2013-01-01T00:00:00",
                    "2013-02-01T00:00:00",
                    "2013-03-01T00:00:00",
                    "2013-04-01T00:00:00",
                    "2013-05-01T00:00:00",
                    "2013-06-01T00:00:00",
                    "2013-07-01T00:00:00",
                    "2013-08-01T00:00:00",
                    "2013-09-01T00:00:00",
                    "2013-10-01T00:00:00",
                    "2013-11-01T00:00:00",
                    "2013-12-01T00:00:00",
                    "2014-01-01T00:00:00",
                    "2014-02-01T00:00:00",
                    "2014-03-01T00:00:00",
                    "2014-04-01T00:00:00",
                    "2014-05-01T00:00:00",
                    "2014-06-01T00:00:00",
                    "2014-07-01T00:00:00",
                    "2014-08-01T00:00:00",
                    "2014-09-01T00:00:00",
                    "2014-10-01T00:00:00",
                    "2014-11-01T00:00:00",
                    "2014-12-01T00:00:00",
                    "2015-01-01T00:00:00",
                    "2015-02-01T00:00:00",
                    "2015-03-01T00:00:00",
                    "2015-04-01T00:00:00",
                    "2015-05-01T00:00:00",
                    "2015-06-01T00:00:00",
                    "2015-07-01T00:00:00",
                    "2015-08-01T00:00:00",
                    "2015-09-01T00:00:00",
                    "2015-10-01T00:00:00",
                    "2015-11-01T00:00:00",
                    "2015-12-01T00:00:00",
                    "2016-01-01T00:00:00",
                    "2016-02-01T00:00:00",
                    "2016-03-01T00:00:00",
                    "2016-04-01T00:00:00",
                    "2016-05-01T00:00:00",
                    "2016-06-01T00:00:00",
                    "2016-07-01T00:00:00",
                    "2016-08-01T00:00:00",
                    "2016-09-01T00:00:00",
                    "2016-10-01T00:00:00",
                    "2016-11-01T00:00:00",
                    "2016-12-01T00:00:00",
                    "2017-01-01T00:00:00",
                    "2017-02-01T00:00:00",
                    "2017-03-01T00:00:00",
                    "2017-04-01T00:00:00",
                    "2017-05-01T00:00:00",
                    "2017-06-01T00:00:00",
                    "2017-07-01T00:00:00",
                    "2017-08-01T00:00:00",
                    "2017-09-01T00:00:00",
                    "2017-10-01T00:00:00",
                    "2017-11-01T00:00:00",
                    "2017-12-01T00:00:00",
                    "2018-01-01T00:00:00",
                    "2018-02-01T00:00:00",
                    "2018-03-01T00:00:00",
                    "2018-04-01T00:00:00",
                    "2018-05-01T00:00:00",
                    "2018-06-01T00:00:00",
                    "2018-07-01T00:00:00",
                    "2018-08-01T00:00:00",
                    "2018-09-01T00:00:00",
                    "2018-10-01T00:00:00",
                    "2018-11-01T00:00:00",
                    "2018-12-01T00:00:00",
                    "2019-01-01T00:00:00",
                    "2019-02-01T00:00:00",
                    "2019-03-01T00:00:00",
                    "2019-04-01T00:00:00",
                    "2019-05-01T00:00:00",
                    "2019-06-01T00:00:00",
                    "2019-07-01T00:00:00",
                    "2019-08-01T00:00:00",
                    "2019-09-01T00:00:00",
                    "2019-10-01T00:00:00",
                    "2019-11-01T00:00:00",
                    "2019-12-01T00:00:00",
                    "2020-01-01T00:00:00",
                    "2020-02-01T00:00:00",
                    "2020-03-01T00:00:00",
                    "2020-04-01T00:00:00",
                    "2020-05-01T00:00:00",
                    "2020-06-01T00:00:00",
                    "2020-07-01T00:00:00",
                    "2020-08-01T00:00:00",
                    "2020-09-01T00:00:00",
                    "2020-10-01T00:00:00",
                    "2020-11-01T00:00:00",
                    "2020-12-01T00:00:00",
                    "2021-01-01T00:00:00",
                    "2021-02-01T00:00:00",
                    "2021-03-01T00:00:00",
                    "2021-04-01T00:00:00",
                    "2021-05-01T00:00:00",
                    "2021-06-01T00:00:00",
                    "2021-07-01T00:00:00",
                    "2021-08-01T00:00:00",
                    "2021-09-01T00:00:00",
                    "2021-10-01T00:00:00",
                    "2021-11-01T00:00:00",
                    "2021-12-01T00:00:00",
                    "2022-01-01T00:00:00",
                    "2022-02-01T00:00:00",
                    "2022-03-01T00:00:00",
                    "2022-04-01T00:00:00",
                    "2022-05-01T00:00:00",
                    "2022-06-01T00:00:00",
                    "2022-07-01T00:00:00",
                    "2022-08-01T00:00:00",
                    "2022-09-01T00:00:00",
                    "2022-10-01T00:00:00",
                    "2022-11-01T00:00:00",
                    "2022-12-01T00:00:00",
                    "2023-01-01T00:00:00",
                    "2023-02-01T00:00:00",
                    "2023-03-01T00:00:00",
                    "2023-04-01T00:00:00",
                    "2023-05-01T00:00:00",
                    "2023-06-01T00:00:00",
                    "2023-07-01T00:00:00",
                    "2023-08-01T00:00:00",
                    "2023-09-01T00:00:00",
                    "2023-10-01T00:00:00"
                  ],
                  "xaxis": "x",
                  "y": [
                    0.01,
                    0.23,
                    1.61,
                    1.31,
                    0.23,
                    0.14,
                    0.32,
                    0.59,
                    0.57,
                    0.46,
                    0.38,
                    0.58,
                    0.41,
                    0.52,
                    1.33,
                    0.7,
                    0.28,
                    0.83,
                    0.71,
                    0.65,
                    0.52,
                    0.36,
                    0.6,
                    0.8,
                    0.21,
                    0.42,
                    1.19,
                    0.65,
                    0.72,
                    1.31,
                    3.02,
                    2.1,
                    2.25,
                    1.57,
                    1.23,
                    0.97,
                    0.61,
                    -0.15,
                    0.2,
                    0.34,
                    0.78,
                    0.29,
                    0.34,
                    0.52,
                    0.76,
                    0.61,
                    0.47,
                    0.37,
                    0.51,
                    0.71,
                    0.91,
                    0.69,
                    0.33,
                    0.44,
                    0.69,
                    0.86,
                    0.58,
                    0.59,
                    0.61,
                    0.87,
                    0.49,
                    -0.02,
                    0.25,
                    0.17,
                    0.35,
                    0.75,
                    0.55,
                    0.36,
                    0.59,
                    0.41,
                    0.43,
                    0.21,
                    0.1,
                    -0.21,
                    0.19,
                    0.05,
                    0.21,
                    0.33,
                    0.31,
                    0.48,
                    0.44,
                    0.44,
                    0.37,
                    0.25,
                    0.28,
                    0.28,
                    0.24,
                    0.47,
                    0.18,
                    0.3,
                    0.38,
                    0.74,
                    0.54,
                    0.49,
                    0.48,
                    0.55,
                    0.79,
                    0.74,
                    0.53,
                    0.28,
                    0.26,
                    0.45,
                    0.36,
                    0.28,
                    0.48,
                    0.55,
                    0.2,
                    0.48,
                    0.47,
                    0.36,
                    0.24,
                    0.15,
                    0.24,
                    0.28,
                    0.41,
                    0.37,
                    0.75,
                    0.78,
                    0.52,
                    0.57,
                    0.43,
                    0,
                    0.01,
                    0.04,
                    0.45,
                    0.75,
                    0.83,
                    0.63,
                    0.83,
                    0.8,
                    0.79,
                    0.77,
                    0.47,
                    0.15,
                    0.16,
                    0.37,
                    0.53,
                    0.43,
                    0.52,
                    0.5,
                    0.56,
                    0.45,
                    0.21,
                    0.64,
                    0.36,
                    0.08,
                    0.43,
                    0.41,
                    0.57,
                    0.59,
                    0.6,
                    0.79,
                    0.86,
                    0.6,
                    0.47,
                    0.55,
                    0.37,
                    0.26,
                    0.03,
                    0.24,
                    0.35,
                    0.57,
                    0.54,
                    0.92,
                    0.55,
                    0.69,
                    0.92,
                    0.67,
                    0.46,
                    0.4,
                    0.01,
                    0.25,
                    0.57,
                    0.42,
                    0.51,
                    0.78,
                    1.24,
                    1.22,
                    1.32,
                    0.71,
                    0.74,
                    0.79,
                    0.62,
                    0.22,
                    0.54,
                    0.82,
                    1.01,
                    0.96,
                    1.27,
                    0.9,
                    0.43,
                    0.61,
                    0.78,
                    0.35,
                    0.52,
                    0.44,
                    0.08,
                    0.26,
                    0.18,
                    0.3,
                    0.38,
                    0.33,
                    0.25,
                    0.14,
                    0.31,
                    -0.23,
                    0.24,
                    0.19,
                    0.16,
                    0.42,
                    0.28,
                    0.44,
                    0.29,
                    0.32,
                    0.09,
                    0.22,
                    0.4,
                    1.26,
                    0.33,
                    -0.09,
                    0.48,
                    0.45,
                    -0.21,
                    0.15,
                    0.32,
                    0.43,
                    0.75,
                    0.57,
                    0.13,
                    0.01,
                    0.19,
                    0.11,
                    -0.04,
                    0.1,
                    0.51,
                    1.15,
                    0.21,
                    0.25,
                    0.07,
                    -0.31,
                    -0.38,
                    0.26,
                    0.36,
                    0.24,
                    0.64,
                    0.86,
                    0.89,
                    1.35,
                    0.25,
                    0.86,
                    0.93,
                    0.31,
                    0.83,
                    0.53,
                    0.96,
                    0.87,
                    1.16,
                    1.25,
                    0.95,
                    0.73,
                    0.54,
                    1.01,
                    1.62,
                    1.06,
                    0.47,
                    0.67,
                    -0.68,
                    -0.36,
                    -0.29,
                    0.59,
                    0.41,
                    0.62,
                    0.53,
                    0.84,
                    0.71,
                    0.61,
                    0.23,
                    -0.08,
                    0.12,
                    0.23,
                    0.26,
                    0.24
                  ],
                  "yaxis": "y"
                },
                {
                  "hovertemplate": "Indicador=var_ipca15<br>date=%{x}<br>Variação=%{y}<extra></extra>",
                  "legendgroup": "var_ipca15",
                  "marker": {
                    "color": "red",
                    "symbol": "circle"
                  },
                  "mode": "markers",
                  "name": "var_ipca15",
                  "orientation": "v",
                  "showlegend": true,
                  "type": "scatter",
                  "x": [
                    "2000-05-01T00:00:00",
                    "2000-06-01T00:00:00",
                    "2000-07-01T00:00:00",
                    "2000-08-01T00:00:00",
                    "2000-09-01T00:00:00",
                    "2000-10-01T00:00:00",
                    "2000-11-01T00:00:00",
                    "2000-12-01T00:00:00",
                    "2001-01-01T00:00:00",
                    "2001-02-01T00:00:00",
                    "2001-03-01T00:00:00",
                    "2001-04-01T00:00:00",
                    "2001-05-01T00:00:00",
                    "2001-06-01T00:00:00",
                    "2001-07-01T00:00:00",
                    "2001-08-01T00:00:00",
                    "2001-09-01T00:00:00",
                    "2001-10-01T00:00:00",
                    "2001-11-01T00:00:00",
                    "2001-12-01T00:00:00",
                    "2002-01-01T00:00:00",
                    "2002-02-01T00:00:00",
                    "2002-03-01T00:00:00",
                    "2002-04-01T00:00:00",
                    "2002-05-01T00:00:00",
                    "2002-06-01T00:00:00",
                    "2002-07-01T00:00:00",
                    "2002-08-01T00:00:00",
                    "2002-09-01T00:00:00",
                    "2002-10-01T00:00:00",
                    "2002-11-01T00:00:00",
                    "2002-12-01T00:00:00",
                    "2003-01-01T00:00:00",
                    "2003-02-01T00:00:00",
                    "2003-03-01T00:00:00",
                    "2003-04-01T00:00:00",
                    "2003-05-01T00:00:00",
                    "2003-06-01T00:00:00",
                    "2003-07-01T00:00:00",
                    "2003-08-01T00:00:00",
                    "2003-09-01T00:00:00",
                    "2003-10-01T00:00:00",
                    "2003-11-01T00:00:00",
                    "2003-12-01T00:00:00",
                    "2004-01-01T00:00:00",
                    "2004-02-01T00:00:00",
                    "2004-03-01T00:00:00",
                    "2004-04-01T00:00:00",
                    "2004-05-01T00:00:00",
                    "2004-06-01T00:00:00",
                    "2004-07-01T00:00:00",
                    "2004-08-01T00:00:00",
                    "2004-09-01T00:00:00",
                    "2004-10-01T00:00:00",
                    "2004-11-01T00:00:00",
                    "2004-12-01T00:00:00",
                    "2005-01-01T00:00:00",
                    "2005-02-01T00:00:00",
                    "2005-03-01T00:00:00",
                    "2005-04-01T00:00:00",
                    "2005-05-01T00:00:00",
                    "2005-06-01T00:00:00",
                    "2005-07-01T00:00:00",
                    "2005-08-01T00:00:00",
                    "2005-09-01T00:00:00",
                    "2005-10-01T00:00:00",
                    "2005-11-01T00:00:00",
                    "2005-12-01T00:00:00",
                    "2006-01-01T00:00:00",
                    "2006-02-01T00:00:00",
                    "2006-03-01T00:00:00",
                    "2006-04-01T00:00:00",
                    "2006-05-01T00:00:00",
                    "2006-06-01T00:00:00",
                    "2006-07-01T00:00:00",
                    "2006-08-01T00:00:00",
                    "2006-09-01T00:00:00",
                    "2006-10-01T00:00:00",
                    "2006-11-01T00:00:00",
                    "2006-12-01T00:00:00",
                    "2007-01-01T00:00:00",
                    "2007-02-01T00:00:00",
                    "2007-03-01T00:00:00",
                    "2007-04-01T00:00:00",
                    "2007-05-01T00:00:00",
                    "2007-06-01T00:00:00",
                    "2007-07-01T00:00:00",
                    "2007-08-01T00:00:00",
                    "2007-09-01T00:00:00",
                    "2007-10-01T00:00:00",
                    "2007-11-01T00:00:00",
                    "2007-12-01T00:00:00",
                    "2008-01-01T00:00:00",
                    "2008-02-01T00:00:00",
                    "2008-03-01T00:00:00",
                    "2008-04-01T00:00:00",
                    "2008-05-01T00:00:00",
                    "2008-06-01T00:00:00",
                    "2008-07-01T00:00:00",
                    "2008-08-01T00:00:00",
                    "2008-09-01T00:00:00",
                    "2008-10-01T00:00:00",
                    "2008-11-01T00:00:00",
                    "2008-12-01T00:00:00",
                    "2009-01-01T00:00:00",
                    "2009-02-01T00:00:00",
                    "2009-03-01T00:00:00",
                    "2009-04-01T00:00:00",
                    "2009-05-01T00:00:00",
                    "2009-06-01T00:00:00",
                    "2009-07-01T00:00:00",
                    "2009-08-01T00:00:00",
                    "2009-09-01T00:00:00",
                    "2009-10-01T00:00:00",
                    "2009-11-01T00:00:00",
                    "2009-12-01T00:00:00",
                    "2010-01-01T00:00:00",
                    "2010-02-01T00:00:00",
                    "2010-03-01T00:00:00",
                    "2010-04-01T00:00:00",
                    "2010-05-01T00:00:00",
                    "2010-06-01T00:00:00",
                    "2010-07-01T00:00:00",
                    "2010-08-01T00:00:00",
                    "2010-09-01T00:00:00",
                    "2010-10-01T00:00:00",
                    "2010-11-01T00:00:00",
                    "2010-12-01T00:00:00",
                    "2011-01-01T00:00:00",
                    "2011-02-01T00:00:00",
                    "2011-03-01T00:00:00",
                    "2011-04-01T00:00:00",
                    "2011-05-01T00:00:00",
                    "2011-06-01T00:00:00",
                    "2011-07-01T00:00:00",
                    "2011-08-01T00:00:00",
                    "2011-09-01T00:00:00",
                    "2011-10-01T00:00:00",
                    "2011-11-01T00:00:00",
                    "2011-12-01T00:00:00",
                    "2012-01-01T00:00:00",
                    "2012-02-01T00:00:00",
                    "2012-03-01T00:00:00",
                    "2012-04-01T00:00:00",
                    "2012-05-01T00:00:00",
                    "2012-06-01T00:00:00",
                    "2012-07-01T00:00:00",
                    "2012-08-01T00:00:00",
                    "2012-09-01T00:00:00",
                    "2012-10-01T00:00:00",
                    "2012-11-01T00:00:00",
                    "2012-12-01T00:00:00",
                    "2013-01-01T00:00:00",
                    "2013-02-01T00:00:00",
                    "2013-03-01T00:00:00",
                    "2013-04-01T00:00:00",
                    "2013-05-01T00:00:00",
                    "2013-06-01T00:00:00",
                    "2013-07-01T00:00:00",
                    "2013-08-01T00:00:00",
                    "2013-09-01T00:00:00",
                    "2013-10-01T00:00:00",
                    "2013-11-01T00:00:00",
                    "2013-12-01T00:00:00",
                    "2014-01-01T00:00:00",
                    "2014-02-01T00:00:00",
                    "2014-03-01T00:00:00",
                    "2014-04-01T00:00:00",
                    "2014-05-01T00:00:00",
                    "2014-06-01T00:00:00",
                    "2014-07-01T00:00:00",
                    "2014-08-01T00:00:00",
                    "2014-09-01T00:00:00",
                    "2014-10-01T00:00:00",
                    "2014-11-01T00:00:00",
                    "2014-12-01T00:00:00",
                    "2015-01-01T00:00:00",
                    "2015-02-01T00:00:00",
                    "2015-03-01T00:00:00",
                    "2015-04-01T00:00:00",
                    "2015-05-01T00:00:00",
                    "2015-06-01T00:00:00",
                    "2015-07-01T00:00:00",
                    "2015-08-01T00:00:00",
                    "2015-09-01T00:00:00",
                    "2015-10-01T00:00:00",
                    "2015-11-01T00:00:00",
                    "2015-12-01T00:00:00",
                    "2016-01-01T00:00:00",
                    "2016-02-01T00:00:00",
                    "2016-03-01T00:00:00",
                    "2016-04-01T00:00:00",
                    "2016-05-01T00:00:00",
                    "2016-06-01T00:00:00",
                    "2016-07-01T00:00:00",
                    "2016-08-01T00:00:00",
                    "2016-09-01T00:00:00",
                    "2016-10-01T00:00:00",
                    "2016-11-01T00:00:00",
                    "2016-12-01T00:00:00",
                    "2017-01-01T00:00:00",
                    "2017-02-01T00:00:00",
                    "2017-03-01T00:00:00",
                    "2017-04-01T00:00:00",
                    "2017-05-01T00:00:00",
                    "2017-06-01T00:00:00",
                    "2017-07-01T00:00:00",
                    "2017-08-01T00:00:00",
                    "2017-09-01T00:00:00",
                    "2017-10-01T00:00:00",
                    "2017-11-01T00:00:00",
                    "2017-12-01T00:00:00",
                    "2018-01-01T00:00:00",
                    "2018-02-01T00:00:00",
                    "2018-03-01T00:00:00",
                    "2018-04-01T00:00:00",
                    "2018-05-01T00:00:00",
                    "2018-06-01T00:00:00",
                    "2018-07-01T00:00:00",
                    "2018-08-01T00:00:00",
                    "2018-09-01T00:00:00",
                    "2018-10-01T00:00:00",
                    "2018-11-01T00:00:00",
                    "2018-12-01T00:00:00",
                    "2019-01-01T00:00:00",
                    "2019-02-01T00:00:00",
                    "2019-03-01T00:00:00",
                    "2019-04-01T00:00:00",
                    "2019-05-01T00:00:00",
                    "2019-06-01T00:00:00",
                    "2019-07-01T00:00:00",
                    "2019-08-01T00:00:00",
                    "2019-09-01T00:00:00",
                    "2019-10-01T00:00:00",
                    "2019-11-01T00:00:00",
                    "2019-12-01T00:00:00",
                    "2020-01-01T00:00:00",
                    "2020-02-01T00:00:00",
                    "2020-03-01T00:00:00",
                    "2020-04-01T00:00:00",
                    "2020-05-01T00:00:00",
                    "2020-06-01T00:00:00",
                    "2020-07-01T00:00:00",
                    "2020-08-01T00:00:00",
                    "2020-09-01T00:00:00",
                    "2020-10-01T00:00:00",
                    "2020-11-01T00:00:00",
                    "2020-12-01T00:00:00",
                    "2021-01-01T00:00:00",
                    "2021-02-01T00:00:00",
                    "2021-03-01T00:00:00",
                    "2021-04-01T00:00:00",
                    "2021-05-01T00:00:00",
                    "2021-06-01T00:00:00",
                    "2021-07-01T00:00:00",
                    "2021-08-01T00:00:00",
                    "2021-09-01T00:00:00",
                    "2021-10-01T00:00:00",
                    "2021-11-01T00:00:00",
                    "2021-12-01T00:00:00",
                    "2022-01-01T00:00:00",
                    "2022-02-01T00:00:00",
                    "2022-03-01T00:00:00",
                    "2022-04-01T00:00:00",
                    "2022-05-01T00:00:00",
                    "2022-06-01T00:00:00",
                    "2022-07-01T00:00:00",
                    "2022-08-01T00:00:00",
                    "2022-09-01T00:00:00",
                    "2022-10-01T00:00:00",
                    "2022-11-01T00:00:00",
                    "2022-12-01T00:00:00",
                    "2023-01-01T00:00:00",
                    "2023-02-01T00:00:00",
                    "2023-03-01T00:00:00",
                    "2023-04-01T00:00:00",
                    "2023-05-01T00:00:00",
                    "2023-06-01T00:00:00",
                    "2023-07-01T00:00:00",
                    "2023-08-01T00:00:00",
                    "2023-09-01T00:00:00",
                    "2023-10-01T00:00:00"
                  ],
                  "xaxis": "x",
                  "y": [
                    0.09,
                    0.08,
                    0.78,
                    1.99,
                    0.45,
                    0.18,
                    0.17,
                    0.6,
                    0.63,
                    0.5,
                    0.36,
                    0.5,
                    0.49,
                    0.38,
                    0.94,
                    1.18,
                    0.38,
                    0.37,
                    0.99,
                    0.55,
                    0.62,
                    0.44,
                    0.4,
                    0.78,
                    0.42,
                    0.33,
                    0.77,
                    1,
                    0.62,
                    0.9,
                    2.08,
                    3.05,
                    1.98,
                    2.19,
                    1.14,
                    1.14,
                    0.85,
                    0.22,
                    -0.18,
                    0.27,
                    0.57,
                    0.66,
                    0.17,
                    0.46,
                    0.68,
                    0.9,
                    0.4,
                    0.21,
                    0.54,
                    0.56,
                    0.93,
                    0.79,
                    0.49,
                    0.32,
                    0.63,
                    0.84,
                    0.68,
                    0.74,
                    0.35,
                    0.74,
                    0.83,
                    0.12,
                    0.11,
                    0.28,
                    0.16,
                    0.56,
                    0.78,
                    0.38,
                    0.51,
                    0.52,
                    0.37,
                    0.17,
                    0.27,
                    -0.15,
                    -0.02,
                    0.19,
                    0.05,
                    0.29,
                    0.37,
                    0.35,
                    0.52,
                    0.46,
                    0.41,
                    0.22,
                    0.26,
                    0.29,
                    0.24,
                    0.42,
                    0.29,
                    0.24,
                    0.23,
                    0.7,
                    0.7,
                    0.64,
                    0.23,
                    0.59,
                    0.56,
                    0.9,
                    0.63,
                    0.35,
                    0.26,
                    0.3,
                    0.49,
                    0.29,
                    0.4,
                    0.63,
                    0.11,
                    0.36,
                    0.59,
                    0.38,
                    0.22,
                    0.23,
                    0.19,
                    0.18,
                    0.44,
                    0.38,
                    0.52,
                    0.94,
                    0.55,
                    0.48,
                    0.63,
                    0.19,
                    -0.09,
                    -0.05,
                    0.31,
                    0.62,
                    0.86,
                    0.69,
                    0.76,
                    0.97,
                    0.6,
                    0.77,
                    0.7,
                    0.23,
                    0.1,
                    0.27,
                    0.53,
                    0.42,
                    0.46,
                    0.56,
                    0.65,
                    0.53,
                    0.25,
                    0.43,
                    0.51,
                    0.18,
                    0.33,
                    0.39,
                    0.48,
                    0.65,
                    0.54,
                    0.69,
                    0.88,
                    0.68,
                    0.49,
                    0.51,
                    0.46,
                    0.38,
                    0.07,
                    0.16,
                    0.27,
                    0.48,
                    0.57,
                    0.75,
                    0.67,
                    0.7,
                    0.73,
                    0.78,
                    0.58,
                    0.47,
                    0.17,
                    0.14,
                    0.39,
                    0.48,
                    0.38,
                    0.79,
                    0.89,
                    1.33,
                    1.24,
                    1.07,
                    0.6,
                    0.99,
                    0.59,
                    0.43,
                    0.39,
                    0.66,
                    0.85,
                    1.18,
                    0.92,
                    1.42,
                    0.43,
                    0.51,
                    0.86,
                    0.4,
                    0.54,
                    0.45,
                    0.23,
                    0.19,
                    0.26,
                    0.19,
                    0.31,
                    0.54,
                    0.15,
                    0.21,
                    0.24,
                    0.16,
                    -0.18,
                    0.35,
                    0.11,
                    0.34,
                    0.32,
                    0.35,
                    0.39,
                    0.38,
                    0.1,
                    0.21,
                    0.14,
                    1.11,
                    0.64,
                    0.13,
                    0.09,
                    0.58,
                    0.19,
                    -0.16,
                    0.3,
                    0.34,
                    0.54,
                    0.72,
                    0.35,
                    0.06,
                    0.09,
                    0.08,
                    0.09,
                    0.09,
                    0.14,
                    1.05,
                    0.71,
                    0.22,
                    0.02,
                    -0.01,
                    -0.59,
                    0.02,
                    0.3,
                    0.23,
                    0.45,
                    0.94,
                    0.81,
                    1.06,
                    0.78,
                    0.48,
                    0.93,
                    0.6,
                    0.44,
                    0.83,
                    0.72,
                    0.89,
                    1.14,
                    1.2,
                    1.17,
                    0.78,
                    0.58,
                    0.99,
                    0.95,
                    1.73,
                    0.59,
                    0.69,
                    0.13,
                    -0.73,
                    -0.37,
                    0.16,
                    0.53,
                    0.52,
                    0.55,
                    0.76,
                    0.69,
                    0.57,
                    0.51,
                    0.04,
                    -0.07,
                    0.28,
                    0.35,
                    0.21
                  ],
                  "yaxis": "y"
                }
              ],
              "layout": {
                "legend": {
                  "title": {
                    "text": "Indicador"
                  },
                  "tracegroupgap": 0
                },
                "template": {
                  "data": {
                    "bar": [
                      {
                        "error_x": {
                          "color": "#2a3f5f"
                        },
                        "error_y": {
                          "color": "#2a3f5f"
                        },
                        "marker": {
                          "line": {
                            "color": "#E5ECF6",
                            "width": 0.5
                          },
                          "pattern": {
                            "fillmode": "overlay",
                            "size": 10,
                            "solidity": 0.2
                          }
                        },
                        "type": "bar"
                      }
                    ],
                    "barpolar": [
                      {
                        "marker": {
                          "line": {
                            "color": "#E5ECF6",
                            "width": 0.5
                          },
                          "pattern": {
                            "fillmode": "overlay",
                            "size": 10,
                            "solidity": 0.2
                          }
                        },
                        "type": "barpolar"
                      }
                    ],
                    "carpet": [
                      {
                        "aaxis": {
                          "endlinecolor": "#2a3f5f",
                          "gridcolor": "white",
                          "linecolor": "white",
                          "minorgridcolor": "white",
                          "startlinecolor": "#2a3f5f"
                        },
                        "baxis": {
                          "endlinecolor": "#2a3f5f",
                          "gridcolor": "white",
                          "linecolor": "white",
                          "minorgridcolor": "white",
                          "startlinecolor": "#2a3f5f"
                        },
                        "type": "carpet"
                      }
                    ],
                    "choropleth": [
                      {
                        "colorbar": {
                          "outlinewidth": 0,
                          "ticks": ""
                        },
                        "type": "choropleth"
                      }
                    ],
                    "contour": [
                      {
                        "colorbar": {
                          "outlinewidth": 0,
                          "ticks": ""
                        },
                        "colorscale": [
                          [
                            0,
                            "#0d0887"
                          ],
                          [
                            0.1111111111111111,
                            "#46039f"
                          ],
                          [
                            0.2222222222222222,
                            "#7201a8"
                          ],
                          [
                            0.3333333333333333,
                            "#9c179e"
                          ],
                          [
                            0.4444444444444444,
                            "#bd3786"
                          ],
                          [
                            0.5555555555555556,
                            "#d8576b"
                          ],
                          [
                            0.6666666666666666,
                            "#ed7953"
                          ],
                          [
                            0.7777777777777778,
                            "#fb9f3a"
                          ],
                          [
                            0.8888888888888888,
                            "#fdca26"
                          ],
                          [
                            1,
                            "#f0f921"
                          ]
                        ],
                        "type": "contour"
                      }
                    ],
                    "contourcarpet": [
                      {
                        "colorbar": {
                          "outlinewidth": 0,
                          "ticks": ""
                        },
                        "type": "contourcarpet"
                      }
                    ],
                    "heatmap": [
                      {
                        "colorbar": {
                          "outlinewidth": 0,
                          "ticks": ""
                        },
                        "colorscale": [
                          [
                            0,
                            "#0d0887"
                          ],
                          [
                            0.1111111111111111,
                            "#46039f"
                          ],
                          [
                            0.2222222222222222,
                            "#7201a8"
                          ],
                          [
                            0.3333333333333333,
                            "#9c179e"
                          ],
                          [
                            0.4444444444444444,
                            "#bd3786"
                          ],
                          [
                            0.5555555555555556,
                            "#d8576b"
                          ],
                          [
                            0.6666666666666666,
                            "#ed7953"
                          ],
                          [
                            0.7777777777777778,
                            "#fb9f3a"
                          ],
                          [
                            0.8888888888888888,
                            "#fdca26"
                          ],
                          [
                            1,
                            "#f0f921"
                          ]
                        ],
                        "type": "heatmap"
                      }
                    ],
                    "heatmapgl": [
                      {
                        "colorbar": {
                          "outlinewidth": 0,
                          "ticks": ""
                        },
                        "colorscale": [
                          [
                            0,
                            "#0d0887"
                          ],
                          [
                            0.1111111111111111,
                            "#46039f"
                          ],
                          [
                            0.2222222222222222,
                            "#7201a8"
                          ],
                          [
                            0.3333333333333333,
                            "#9c179e"
                          ],
                          [
                            0.4444444444444444,
                            "#bd3786"
                          ],
                          [
                            0.5555555555555556,
                            "#d8576b"
                          ],
                          [
                            0.6666666666666666,
                            "#ed7953"
                          ],
                          [
                            0.7777777777777778,
                            "#fb9f3a"
                          ],
                          [
                            0.8888888888888888,
                            "#fdca26"
                          ],
                          [
                            1,
                            "#f0f921"
                          ]
                        ],
                        "type": "heatmapgl"
                      }
                    ],
                    "histogram": [
                      {
                        "marker": {
                          "pattern": {
                            "fillmode": "overlay",
                            "size": 10,
                            "solidity": 0.2
                          }
                        },
                        "type": "histogram"
                      }
                    ],
                    "histogram2d": [
                      {
                        "colorbar": {
                          "outlinewidth": 0,
                          "ticks": ""
                        },
                        "colorscale": [
                          [
                            0,
                            "#0d0887"
                          ],
                          [
                            0.1111111111111111,
                            "#46039f"
                          ],
                          [
                            0.2222222222222222,
                            "#7201a8"
                          ],
                          [
                            0.3333333333333333,
                            "#9c179e"
                          ],
                          [
                            0.4444444444444444,
                            "#bd3786"
                          ],
                          [
                            0.5555555555555556,
                            "#d8576b"
                          ],
                          [
                            0.6666666666666666,
                            "#ed7953"
                          ],
                          [
                            0.7777777777777778,
                            "#fb9f3a"
                          ],
                          [
                            0.8888888888888888,
                            "#fdca26"
                          ],
                          [
                            1,
                            "#f0f921"
                          ]
                        ],
                        "type": "histogram2d"
                      }
                    ],
                    "histogram2dcontour": [
                      {
                        "colorbar": {
                          "outlinewidth": 0,
                          "ticks": ""
                        },
                        "colorscale": [
                          [
                            0,
                            "#0d0887"
                          ],
                          [
                            0.1111111111111111,
                            "#46039f"
                          ],
                          [
                            0.2222222222222222,
                            "#7201a8"
                          ],
                          [
                            0.3333333333333333,
                            "#9c179e"
                          ],
                          [
                            0.4444444444444444,
                            "#bd3786"
                          ],
                          [
                            0.5555555555555556,
                            "#d8576b"
                          ],
                          [
                            0.6666666666666666,
                            "#ed7953"
                          ],
                          [
                            0.7777777777777778,
                            "#fb9f3a"
                          ],
                          [
                            0.8888888888888888,
                            "#fdca26"
                          ],
                          [
                            1,
                            "#f0f921"
                          ]
                        ],
                        "type": "histogram2dcontour"
                      }
                    ],
                    "mesh3d": [
                      {
                        "colorbar": {
                          "outlinewidth": 0,
                          "ticks": ""
                        },
                        "type": "mesh3d"
                      }
                    ],
                    "parcoords": [
                      {
                        "line": {
                          "colorbar": {
                            "outlinewidth": 0,
                            "ticks": ""
                          }
                        },
                        "type": "parcoords"
                      }
                    ],
                    "pie": [
                      {
                        "automargin": true,
                        "type": "pie"
                      }
                    ],
                    "scatter": [
                      {
                        "fillpattern": {
                          "fillmode": "overlay",
                          "size": 10,
                          "solidity": 0.2
                        },
                        "type": "scatter"
                      }
                    ],
                    "scatter3d": [
                      {
                        "line": {
                          "colorbar": {
                            "outlinewidth": 0,
                            "ticks": ""
                          }
                        },
                        "marker": {
                          "colorbar": {
                            "outlinewidth": 0,
                            "ticks": ""
                          }
                        },
                        "type": "scatter3d"
                      }
                    ],
                    "scattercarpet": [
                      {
                        "marker": {
                          "colorbar": {
                            "outlinewidth": 0,
                            "ticks": ""
                          }
                        },
                        "type": "scattercarpet"
                      }
                    ],
                    "scattergeo": [
                      {
                        "marker": {
                          "colorbar": {
                            "outlinewidth": 0,
                            "ticks": ""
                          }
                        },
                        "type": "scattergeo"
                      }
                    ],
                    "scattergl": [
                      {
                        "marker": {
                          "colorbar": {
                            "outlinewidth": 0,
                            "ticks": ""
                          }
                        },
                        "type": "scattergl"
                      }
                    ],
                    "scattermapbox": [
                      {
                        "marker": {
                          "colorbar": {
                            "outlinewidth": 0,
                            "ticks": ""
                          }
                        },
                        "type": "scattermapbox"
                      }
                    ],
                    "scatterpolar": [
                      {
                        "marker": {
                          "colorbar": {
                            "outlinewidth": 0,
                            "ticks": ""
                          }
                        },
                        "type": "scatterpolar"
                      }
                    ],
                    "scatterpolargl": [
                      {
                        "marker": {
                          "colorbar": {
                            "outlinewidth": 0,
                            "ticks": ""
                          }
                        },
                        "type": "scatterpolargl"
                      }
                    ],
                    "scatterternary": [
                      {
                        "marker": {
                          "colorbar": {
                            "outlinewidth": 0,
                            "ticks": ""
                          }
                        },
                        "type": "scatterternary"
                      }
                    ],
                    "surface": [
                      {
                        "colorbar": {
                          "outlinewidth": 0,
                          "ticks": ""
                        },
                        "colorscale": [
                          [
                            0,
                            "#0d0887"
                          ],
                          [
                            0.1111111111111111,
                            "#46039f"
                          ],
                          [
                            0.2222222222222222,
                            "#7201a8"
                          ],
                          [
                            0.3333333333333333,
                            "#9c179e"
                          ],
                          [
                            0.4444444444444444,
                            "#bd3786"
                          ],
                          [
                            0.5555555555555556,
                            "#d8576b"
                          ],
                          [
                            0.6666666666666666,
                            "#ed7953"
                          ],
                          [
                            0.7777777777777778,
                            "#fb9f3a"
                          ],
                          [
                            0.8888888888888888,
                            "#fdca26"
                          ],
                          [
                            1,
                            "#f0f921"
                          ]
                        ],
                        "type": "surface"
                      }
                    ],
                    "table": [
                      {
                        "cells": {
                          "fill": {
                            "color": "#EBF0F8"
                          },
                          "line": {
                            "color": "white"
                          }
                        },
                        "header": {
                          "fill": {
                            "color": "#C8D4E3"
                          },
                          "line": {
                            "color": "white"
                          }
                        },
                        "type": "table"
                      }
                    ]
                  },
                  "layout": {
                    "annotationdefaults": {
                      "arrowcolor": "#2a3f5f",
                      "arrowhead": 0,
                      "arrowwidth": 1
                    },
                    "autotypenumbers": "strict",
                    "coloraxis": {
                      "colorbar": {
                        "outlinewidth": 0,
                        "ticks": ""
                      }
                    },
                    "colorscale": {
                      "diverging": [
                        [
                          0,
                          "#8e0152"
                        ],
                        [
                          0.1,
                          "#c51b7d"
                        ],
                        [
                          0.2,
                          "#de77ae"
                        ],
                        [
                          0.3,
                          "#f1b6da"
                        ],
                        [
                          0.4,
                          "#fde0ef"
                        ],
                        [
                          0.5,
                          "#f7f7f7"
                        ],
                        [
                          0.6,
                          "#e6f5d0"
                        ],
                        [
                          0.7,
                          "#b8e186"
                        ],
                        [
                          0.8,
                          "#7fbc41"
                        ],
                        [
                          0.9,
                          "#4d9221"
                        ],
                        [
                          1,
                          "#276419"
                        ]
                      ],
                      "sequential": [
                        [
                          0,
                          "#0d0887"
                        ],
                        [
                          0.1111111111111111,
                          "#46039f"
                        ],
                        [
                          0.2222222222222222,
                          "#7201a8"
                        ],
                        [
                          0.3333333333333333,
                          "#9c179e"
                        ],
                        [
                          0.4444444444444444,
                          "#bd3786"
                        ],
                        [
                          0.5555555555555556,
                          "#d8576b"
                        ],
                        [
                          0.6666666666666666,
                          "#ed7953"
                        ],
                        [
                          0.7777777777777778,
                          "#fb9f3a"
                        ],
                        [
                          0.8888888888888888,
                          "#fdca26"
                        ],
                        [
                          1,
                          "#f0f921"
                        ]
                      ],
                      "sequentialminus": [
                        [
                          0,
                          "#0d0887"
                        ],
                        [
                          0.1111111111111111,
                          "#46039f"
                        ],
                        [
                          0.2222222222222222,
                          "#7201a8"
                        ],
                        [
                          0.3333333333333333,
                          "#9c179e"
                        ],
                        [
                          0.4444444444444444,
                          "#bd3786"
                        ],
                        [
                          0.5555555555555556,
                          "#d8576b"
                        ],
                        [
                          0.6666666666666666,
                          "#ed7953"
                        ],
                        [
                          0.7777777777777778,
                          "#fb9f3a"
                        ],
                        [
                          0.8888888888888888,
                          "#fdca26"
                        ],
                        [
                          1,
                          "#f0f921"
                        ]
                      ]
                    },
                    "colorway": [
                      "#636efa",
                      "#EF553B",
                      "#00cc96",
                      "#ab63fa",
                      "#FFA15A",
                      "#19d3f3",
                      "#FF6692",
                      "#B6E880",
                      "#FF97FF",
                      "#FECB52"
                    ],
                    "font": {
                      "color": "#2a3f5f"
                    },
                    "geo": {
                      "bgcolor": "white",
                      "lakecolor": "white",
                      "landcolor": "#E5ECF6",
                      "showlakes": true,
                      "showland": true,
                      "subunitcolor": "white"
                    },
                    "hoverlabel": {
                      "align": "left"
                    },
                    "hovermode": "closest",
                    "mapbox": {
                      "style": "light"
                    },
                    "paper_bgcolor": "white",
                    "plot_bgcolor": "#E5ECF6",
                    "polar": {
                      "angularaxis": {
                        "gridcolor": "white",
                        "linecolor": "white",
                        "ticks": ""
                      },
                      "bgcolor": "#E5ECF6",
                      "radialaxis": {
                        "gridcolor": "white",
                        "linecolor": "white",
                        "ticks": ""
                      }
                    },
                    "scene": {
                      "xaxis": {
                        "backgroundcolor": "#E5ECF6",
                        "gridcolor": "white",
                        "gridwidth": 2,
                        "linecolor": "white",
                        "showbackground": true,
                        "ticks": "",
                        "zerolinecolor": "white"
                      },
                      "yaxis": {
                        "backgroundcolor": "#E5ECF6",
                        "gridcolor": "white",
                        "gridwidth": 2,
                        "linecolor": "white",
                        "showbackground": true,
                        "ticks": "",
                        "zerolinecolor": "white"
                      },
                      "zaxis": {
                        "backgroundcolor": "#E5ECF6",
                        "gridcolor": "white",
                        "gridwidth": 2,
                        "linecolor": "white",
                        "showbackground": true,
                        "ticks": "",
                        "zerolinecolor": "white"
                      }
                    },
                    "shapedefaults": {
                      "line": {
                        "color": "#2a3f5f"
                      }
                    },
                    "ternary": {
                      "aaxis": {
                        "gridcolor": "white",
                        "linecolor": "white",
                        "ticks": ""
                      },
                      "baxis": {
                        "gridcolor": "white",
                        "linecolor": "white",
                        "ticks": ""
                      },
                      "bgcolor": "#E5ECF6",
                      "caxis": {
                        "gridcolor": "white",
                        "linecolor": "white",
                        "ticks": ""
                      }
                    },
                    "title": {
                      "x": 0.05
                    },
                    "xaxis": {
                      "automargin": true,
                      "gridcolor": "white",
                      "linecolor": "white",
                      "ticks": "",
                      "title": {
                        "standoff": 15
                      },
                      "zerolinecolor": "white",
                      "zerolinewidth": 2
                    },
                    "yaxis": {
                      "automargin": true,
                      "gridcolor": "white",
                      "linecolor": "white",
                      "ticks": "",
                      "title": {
                        "standoff": 15
                      },
                      "zerolinecolor": "white",
                      "zerolinewidth": 2
                    }
                  }
                },
                "title": {
                  "text": "Correlação IPCA x IPCA15"
                },
                "xaxis": {
                  "anchor": "y",
                  "domain": [
                    0,
                    1
                  ],
                  "title": {
                    "text": "Data"
                  }
                },
                "yaxis": {
                  "anchor": "x",
                  "domain": [
                    0,
                    1
                  ],
                  "title": {
                    "text": "Variação"
                  }
                }
              }
            }
          },
          "metadata": {},
          "output_type": "display_data"
        }
      ],
      "source": [
        "# Garantindo que os dados de data estejam no formato adequado para a criação do gráfico\n",
        "padrao_inflacionario.index = padrao_inflacionario.index.to_timestamp()\n",
        "\n",
        "# Dados para plot\n",
        "fig = px.scatter(padrao_inflacionario, \n",
        "                 x=padrao_inflacionario.index, \n",
        "                 y=['var_ipca', 'var_ipca15'],\n",
        "                 color_discrete_map={'var_ipca': 'blue', 'var_ipca15': 'red'},\n",
        "                 labels={'variable': 'Indicador', 'value': 'Variação'},\n",
        "                 title='Correlação IPCA x IPCA15')\n",
        "\n",
        "# Configuração dos eixos\n",
        "fig.update_xaxes(title_text='Data')\n",
        "fig.update_yaxes(title_text='Variação')\n",
        "\n",
        "fig.show()"
      ]
    },
    {
      "cell_type": "markdown",
      "metadata": {
        "id": "UaiHRz7Q4ETs"
      },
      "source": [
        "#### 4.3 Regressao Linear"
      ]
    },
    {
      "cell_type": "markdown",
      "metadata": {
        "id": "nJeYmUJ54ID0"
      },
      "source": [
        "**O que é:**<br>\n",
        "\n",
        "A regressão linear é uma técnica estatística utilizada para modelar a relação entre uma variável dependente (a variável que você está tentando prever) e uma ou mais variáveis independentes (variáveis explicativas) de maneira linear.\n",
        "\n",
        "**Para leigos:** <br>\n",
        "É muito amplamente utilizada em áreas como estatística, economia, ciências sociais e muitas outras, para modelar e prever relações entre variáveis. Muito eficiente para entender como uma variável é afetada por outras variáveis e fazer previsões com base nesses relacionamentos.\n",
        "\n",
        "**Nesse caso:** <br>\n",
        "Usaremos RL para entender e modelar a relação linear entre as duas variáveis. "
      ]
    },
    {
      "cell_type": "code",
      "execution_count": 412,
      "metadata": {},
      "outputs": [],
      "source": [
        "# !pip install scikit-learn"
      ]
    },
    {
      "cell_type": "code",
      "execution_count": 413,
      "metadata": {
        "id": "mBJsfMnu4t7n"
      },
      "outputs": [],
      "source": [
        "from sklearn.linear_model import LinearRegression"
      ]
    },
    {
      "cell_type": "code",
      "execution_count": 414,
      "metadata": {
        "id": "19za4M404G_Y"
      },
      "outputs": [],
      "source": [
        "# criando uma instância do modelo\n",
        "l_regression = LinearRegression()"
      ]
    },
    {
      "cell_type": "markdown",
      "metadata": {
        "id": "8bywrfKI4-5s"
      },
      "source": [
        "Transformar Series do Pandas em arrays (geralmente, arrays NumPy) é necessário ao fazer o ajuste (fit) de dados em muitos modelos de aprendizado de máquina e estatística por algumas razões, como:\n",
        "\n",
        "- Compatibilidade com Modelos\n",
        "- Eficiência Computacional\n",
        "- Maior Flexibilidade\n",
        "- Integração com Bibliotecas de Aprendizado de Máquina\n",
        "- Padronização de Dados"
      ]
    },
    {
      "cell_type": "code",
      "execution_count": 415,
      "metadata": {
        "colab": {
          "base_uri": "https://localhost:8080/",
          "height": 74
        },
        "id": "ZmFuCOZ65E-S",
        "outputId": "5c6b95e3-2a33-4851-dc5c-2f5be3647738"
      },
      "outputs": [
        {
          "data": {
            "text/html": [
              "<style>#sk-container-id-5 {color: black;}#sk-container-id-5 pre{padding: 0;}#sk-container-id-5 div.sk-toggleable {background-color: white;}#sk-container-id-5 label.sk-toggleable__label {cursor: pointer;display: block;width: 100%;margin-bottom: 0;padding: 0.3em;box-sizing: border-box;text-align: center;}#sk-container-id-5 label.sk-toggleable__label-arrow:before {content: \"▸\";float: left;margin-right: 0.25em;color: #696969;}#sk-container-id-5 label.sk-toggleable__label-arrow:hover:before {color: black;}#sk-container-id-5 div.sk-estimator:hover label.sk-toggleable__label-arrow:before {color: black;}#sk-container-id-5 div.sk-toggleable__content {max-height: 0;max-width: 0;overflow: hidden;text-align: left;background-color: #f0f8ff;}#sk-container-id-5 div.sk-toggleable__content pre {margin: 0.2em;color: black;border-radius: 0.25em;background-color: #f0f8ff;}#sk-container-id-5 input.sk-toggleable__control:checked~div.sk-toggleable__content {max-height: 200px;max-width: 100%;overflow: auto;}#sk-container-id-5 input.sk-toggleable__control:checked~label.sk-toggleable__label-arrow:before {content: \"▾\";}#sk-container-id-5 div.sk-estimator input.sk-toggleable__control:checked~label.sk-toggleable__label {background-color: #d4ebff;}#sk-container-id-5 div.sk-label input.sk-toggleable__control:checked~label.sk-toggleable__label {background-color: #d4ebff;}#sk-container-id-5 input.sk-hidden--visually {border: 0;clip: rect(1px 1px 1px 1px);clip: rect(1px, 1px, 1px, 1px);height: 1px;margin: -1px;overflow: hidden;padding: 0;position: absolute;width: 1px;}#sk-container-id-5 div.sk-estimator {font-family: monospace;background-color: #f0f8ff;border: 1px dotted black;border-radius: 0.25em;box-sizing: border-box;margin-bottom: 0.5em;}#sk-container-id-5 div.sk-estimator:hover {background-color: #d4ebff;}#sk-container-id-5 div.sk-parallel-item::after {content: \"\";width: 100%;border-bottom: 1px solid gray;flex-grow: 1;}#sk-container-id-5 div.sk-label:hover label.sk-toggleable__label {background-color: #d4ebff;}#sk-container-id-5 div.sk-serial::before {content: \"\";position: absolute;border-left: 1px solid gray;box-sizing: border-box;top: 0;bottom: 0;left: 50%;z-index: 0;}#sk-container-id-5 div.sk-serial {display: flex;flex-direction: column;align-items: center;background-color: white;padding-right: 0.2em;padding-left: 0.2em;position: relative;}#sk-container-id-5 div.sk-item {position: relative;z-index: 1;}#sk-container-id-5 div.sk-parallel {display: flex;align-items: stretch;justify-content: center;background-color: white;position: relative;}#sk-container-id-5 div.sk-item::before, #sk-container-id-5 div.sk-parallel-item::before {content: \"\";position: absolute;border-left: 1px solid gray;box-sizing: border-box;top: 0;bottom: 0;left: 50%;z-index: -1;}#sk-container-id-5 div.sk-parallel-item {display: flex;flex-direction: column;z-index: 1;position: relative;background-color: white;}#sk-container-id-5 div.sk-parallel-item:first-child::after {align-self: flex-end;width: 50%;}#sk-container-id-5 div.sk-parallel-item:last-child::after {align-self: flex-start;width: 50%;}#sk-container-id-5 div.sk-parallel-item:only-child::after {width: 0;}#sk-container-id-5 div.sk-dashed-wrapped {border: 1px dashed gray;margin: 0 0.4em 0.5em 0.4em;box-sizing: border-box;padding-bottom: 0.4em;background-color: white;}#sk-container-id-5 div.sk-label label {font-family: monospace;font-weight: bold;display: inline-block;line-height: 1.2em;}#sk-container-id-5 div.sk-label-container {text-align: center;}#sk-container-id-5 div.sk-container {/* jupyter's `normalize.less` sets `[hidden] { display: none; }` but bootstrap.min.css set `[hidden] { display: none !important; }` so we also need the `!important` here to be able to override the default hidden behavior on the sphinx rendered scikit-learn.org. See: https://github.com/scikit-learn/scikit-learn/issues/21755 */display: inline-block !important;position: relative;}#sk-container-id-5 div.sk-text-repr-fallback {display: none;}</style><div id=\"sk-container-id-5\" class=\"sk-top-container\"><div class=\"sk-text-repr-fallback\"><pre>LinearRegression()</pre><b>In a Jupyter environment, please rerun this cell to show the HTML representation or trust the notebook. <br />On GitHub, the HTML representation is unable to render, please try loading this page with nbviewer.org.</b></div><div class=\"sk-container\" hidden><div class=\"sk-item\"><div class=\"sk-estimator sk-toggleable\"><input class=\"sk-toggleable__control sk-hidden--visually\" id=\"sk-estimator-id-5\" type=\"checkbox\" checked><label for=\"sk-estimator-id-5\" class=\"sk-toggleable__label sk-toggleable__label-arrow\">LinearRegression</label><div class=\"sk-toggleable__content\"><pre>LinearRegression()</pre></div></div></div></div></div>"
            ],
            "text/plain": [
              "LinearRegression()"
            ]
          },
          "execution_count": 415,
          "metadata": {},
          "output_type": "execute_result"
        }
      ],
      "source": [
        "l_regression.fit(\n",
        "    padrao_inflacionario['var_ipca'].values.reshape(-1, 1),\n",
        "    padrao_inflacionario['var_ipca15'].values.reshape(-1, 1)\n",
        ")"
      ]
    },
    {
      "cell_type": "markdown",
      "metadata": {},
      "source": [
        "#### 4.3.1 Calcuando o Intercepto"
      ]
    },
    {
      "cell_type": "markdown",
      "metadata": {},
      "source": [
        "Calcular o intercepto em uma regressão linear é essencial para obter um modelo que seja estatisticamente válido, tenha significado prático e melhor se ajuste aos dados do mundo real. Ele dá mais flexibilidade ao modelo e permite que a linha de regressão se ajuste de maneira mais realista aos padrões dos dados observados. \n",
        "\n",
        "Ou seja, é como encontrar o ponto de partida da linha no gráfico.\n",
        "\n"
      ]
    },
    {
      "cell_type": "code",
      "execution_count": 416,
      "metadata": {
        "colab": {
          "base_uri": "https://localhost:8080/"
        },
        "id": "gd3aCqpf5BXX",
        "outputId": "0245d833-9b00-48cd-82e2-3a1b3d7951cd"
      },
      "outputs": [
        {
          "data": {
            "text/plain": [
              "array([0.06968155])"
            ]
          },
          "execution_count": 416,
          "metadata": {},
          "output_type": "execute_result"
        }
      ],
      "source": [
        "# Intercepto\n",
        "l_regression.intercept_"
      ]
    },
    {
      "cell_type": "markdown",
      "metadata": {},
      "source": [
        "#### 4.3.2 Calcuando o coeficiente de RL"
      ]
    },
    {
      "cell_type": "code",
      "execution_count": 417,
      "metadata": {
        "colab": {
          "base_uri": "https://localhost:8080/"
        },
        "id": "O-GWjA0W5xaB",
        "outputId": "9934e1ad-2d30-408f-a7dc-dbf90937f017"
      },
      "outputs": [
        {
          "data": {
            "text/plain": [
              "array([[0.86267124]])"
            ]
          },
          "execution_count": 417,
          "metadata": {},
          "output_type": "execute_result"
        }
      ],
      "source": [
        "# Coeficiente de regressão lionear\n",
        "l_regression.coef_"
      ]
    },
    {
      "cell_type": "markdown",
      "metadata": {},
      "source": [
        "Aqui mostra-se tratar de uma regressão linear simples, isso representa a inclinação da linha de regressão, indicando a taxa de mudança na variável dependente (y) em relação à variável independente (x). \n",
        "\n",
        "Se não entendeu, comente aí: *\"Tendi é nada!\"*"
      ]
    },
    {
      "cell_type": "code",
      "execution_count": 419,
      "metadata": {
        "colab": {
          "base_uri": "https://localhost:8080/",
          "height": 545
        },
        "id": "ewF98u355-9P",
        "outputId": "6101b81b-0333-41dc-9aba-d0f69d890886"
      },
      "outputs": [
        {
          "data": {
            "image/png": "[encoded data removed]",
            "text/plain": [
              "<Figure size 800x600 with 1 Axes>"
            ]
          },
          "metadata": {},
          "output_type": "display_data"
        }
      ],
      "source": [
        "# Plotando o intercepto\n",
        "plt.figure(figsize = (8, 6))\n",
        "plt.scatter(padrao_inflacionario['var_ipca15'], padrao_inflacionario['var_ipca'], c= 'blue')\n",
        "\n",
        "#  criamos a var X e convertemos os valores em um array NumPy\n",
        "x = np.array(padrao_inflacionario['var_ipca15'])\n",
        "# criamos a linha de regressão linear com base na fórmula: y = m . x + b\n",
        "y = l_regression.intercept_ + x * l_regression.coef_\n",
        "\n",
        "plt.title('Coeficiente de Interceptação')\n",
        "plt.plot(x, y[0],'r' )\n",
        "plt.show()"
      ]
    },
    {
      "cell_type": "markdown",
      "metadata": {},
      "source": [
        "### 4.4 OLS (Ordinary Least Squares)"
      ]
    },
    {
      "cell_type": "markdown",
      "metadata": {
        "id": "Pf9mOxnsvqs0"
      },
      "source": [
        "Aqui retornamos uma 'tabela' contendo um resumo de estatísticas para análise da regressão, como:\n",
        "\n",
        "- **Coeficientes:** Os valores estimados dos coeficientes do modelo, que representam a magnitude da mudança na variável dependente para uma unidade de mudança na variável independente correspondente. Esses coeficientes indicam a **inclinação da linha de regressão**.\n",
        "\n",
        "- **Erro Padrão dos Coeficientes:** O erro padrão dos coeficientes, que mede a **precisão** das estimativas dos coeficientes.\n",
        "\n",
        "- **Valores p:** Os valores p associados a cada coeficiente, que indicam a **significância estatística** dos coeficientes. Um valor p baixo sugere que o coeficiente é estatisticamente significativo.\n",
        "\n",
        "- **Estatísticas de Ajuste:** Estatísticas como R² (coeficiente de determinação), F-statistic e log-verossimilhança que ajudam a avaliar a qualidade do ajuste do modelo.\n",
        "\n",
        "- **Resíduos:** Os resíduos da regressão, que são as diferenças entre os valores reais e os valores previstos pelo modelo. Os resíduos são usados para verificar a suposição de que os erros são distribuídos de forma normal e independente.\n",
        "\n",
        "- **Testes Estatísticos:** Testes estatísticos adicionais, como testes de heterocedasticidade, multicolinearidade, autocorrelação, entre outros, que ajudam a verificar a **validade** das suposições do modelo."
      ]
    },
    {
      "cell_type": "code",
      "execution_count": 420,
      "metadata": {
        "id": "xILKa0YvwV_n"
      },
      "outputs": [],
      "source": [
        "import statsmodels.api as sm"
      ]
    },
    {
      "cell_type": "code",
      "execution_count": 421,
      "metadata": {
        "colab": {
          "base_uri": "https://localhost:8080/"
        },
        "id": "x5I0J4BzvIdN",
        "outputId": "6f34b04a-3ea4-4f49-b8fc-a996cd5d7c19"
      },
      "outputs": [
        {
          "name": "stdout",
          "output_type": "stream",
          "text": [
            "                            OLS Regression Results                            \n",
            "==============================================================================\n",
            "Dep. Variable:             var_ipca15   R-squared:                       0.734\n",
            "Model:                            OLS   Adj. R-squared:                  0.733\n",
            "Method:                 Least Squares   F-statistic:                     771.8\n",
            "Date:                Wed, 06 Dec 2023   Prob (F-statistic):           1.90e-82\n",
            "Time:                        21:05:42   Log-Likelihood:                 41.112\n",
            "No. Observations:                 282   AIC:                            -78.22\n",
            "Df Residuals:                     280   BIC:                            -70.94\n",
            "Df Model:                           1                                         \n",
            "Covariance Type:            nonrobust                                         \n",
            "==============================================================================\n",
            "                 coef    std err          t      P>|t|      [0.025      0.975]\n",
            "------------------------------------------------------------------------------\n",
            "const          0.0697      0.020      3.460      0.001       0.030       0.109\n",
            "var_ipca       0.8627      0.031     27.781      0.000       0.802       0.924\n",
            "==============================================================================\n",
            "Omnibus:                       75.547   Durbin-Watson:                   2.506\n",
            "Prob(Omnibus):                  0.000   Jarque-Bera (JB):              346.484\n",
            "Skew:                           1.015   Prob(JB):                     5.78e-76\n",
            "Kurtosis:                       8.037   Cond. No.                         3.22\n",
            "==============================================================================\n",
            "\n",
            "Notes:\n",
            "[1] Standard Errors assume that the covariance matrix of the errors is correctly specified.\n"
          ]
        }
      ],
      "source": [
        "# Armazena a coluna do ipca\n",
        "variavel_a = padrao_inflacionario['var_ipca']\n",
        "# Armazena a coluna do ipca-15\n",
        "variavel_b = padrao_inflacionario['var_ipca15']\n",
        "\n",
        "# Adiciona uma constante ao conjunto de dados(ideal para estimar o termo de interceptação na regressão linear)\n",
        "constante = sm.add_constant(variavel_a)\n",
        "\n",
        "# Cria um objeto de modelo de regressão linear (para estimar os parâmetros do modelo)\n",
        "ordinary_LS = sm.OLS(variavel_b, constante)\n",
        "\n",
        "# Ajusta o modelo de regressão linear criado anteriormente\n",
        "modelo_ajustado = ordinary_LS.fit()\n",
        "\n",
        "print(modelo_ajustado.summary())"
      ]
    },
    {
      "cell_type": "markdown",
      "metadata": {},
      "source": [
        "*NÃO SE DESESPERE MEI FIIII** <br>\n",
        "\n",
        "Esse monte de números letras é um resumo estatístico do modelo de regressão linear entre as variáveis. Vamos interpretar cada parte de maneira sossegadinha:\n",
        "\n",
        "- **R-squared (R²): 0.734** <br>\n",
        "\n",
        "O R² é uma medida que varia de 0 a 1 e indica a proporção da variabilidade na variável de *resposta* (var_ipca15) que é explicada pelas variáveis *independentes* ( var_ipca). Neste modelo, aproximadamente 73.4% da variabilidade em var_ipca15 é explicada pela variável var_ipca.\n",
        "\n",
        "--\n",
        "\n",
        "**Coeficientes (const e var_ipca):** <br>\n",
        "\n",
        "- **const (constante): 0.0697**<br>\n",
        "Este é o termo de intercepto na equação da regressão. Significa que quando var_ipca é zero, var_ipca15 é esperado ser 0.0697.\n",
        "\n",
        "- **var_ipca: 0.8627**<br>\n",
        "Este é o coeficiente associado à variável var_ipca. Indica que, em média, um aumento de uma unidade em var_ipca está associado a um aumento de 0.8627 unidades em var_ipca15.\n",
        "\n",
        "- **P>|t| (valor p):**<br>\n",
        "const (constante): 0.001\n",
        "\n",
        "-**var_ipca: 0.000:**<br>\n",
        "O *valor p* testa a hipótese nula de que o coeficiente associado a cada variável é igual a zero. No caso de *valores p pequenos* (- geralmente abaixo de 0.05) indicam que a variável é **estatisticamente significativa**. Neste caso, ambas as variáveis (const e var_ipca) são **altamente significativas**.\n",
        "\n",
        "- **Prob (F-statistic): 1.90e-82**<br>\n",
        "\n",
        "O *teste F* avalia se o modelo como um todo é estatisticamente significativo. Um **valor de p muito pequeno** sugere que pelo menos uma das variáveis *independentes* é útil na previsão da *variável dependente*. Neste caso, o modelo é altamente significativo.\n",
        "\n",
        "- **Omnibus, Skew, Kurtosis:**\n",
        "\n",
        "Essas estatísticas testam a normalidade dos resíduos. Em um mundo pefdeito, gostaríamos que os resíduos fossem normalmente distribuídos para que as inferências do modelo fossem válidas.\n",
        "\n",
        "--\n",
        "\n",
        "**Em suma, queridos:** <br>\n",
        "\n",
        "Esse embaralhamento de números fornece informações adicionais sobre a especificação do modelo, como o tipo de covariância usado, insights sobre quão bem o modelo se ajusta aos dados, a significância estatística das variáveis e se as premissas da regressão linear estão sendo atendidas."
      ]
    },
    {
      "cell_type": "markdown",
      "metadata": {
        "id": "8T2HYl7MwzyL"
      },
      "source": [
        "### 5.0 Criando Modelo"
      ]
    },
    {
      "cell_type": "markdown",
      "metadata": {},
      "source": [
        "Iiiiiiiiiihaaaaaaaaaaa.....agora a cobra vai fumar..... <br>\n",
        "*Ratinnnnho-o-O-o-o-O-o-O.... (saudosismo barato)*"
      ]
    },
    {
      "cell_type": "code",
      "execution_count": null,
      "metadata": {
        "id": "KbU-78nvyGFD"
      },
      "outputs": [],
      "source": [
        "# pacotão do train_test_split\n",
        "from sklearn.model_selection import train_test_split"
      ]
    },
    {
      "cell_type": "code",
      "execution_count": 422,
      "metadata": {
        "id": "jGuuxGGzw5UF"
      },
      "outputs": [],
      "source": [
        "# dados de treino (independentes)\n",
        "dt_train = padrao_inflacionario['var_ipca15'].values.reshape(-1, 1)\n",
        "\n",
        "# dados de teste (dependentes)\n",
        "dt_test = padrao_inflacionario['var_ipca'].values.reshape(-1, 1)"
      ]
    },
    {
      "cell_type": "markdown",
      "metadata": {},
      "source": [
        "Atenção:\n",
        "\n",
        "A função **reshape()** modifica a forma da matriz para ter uma coluna e ajusta automaticamente o número de linhas para ser compatível. O resultado é uma matriz bidimensional onde cada linha contém um valor de 'var_ipca15'. Isso é útil para muitos modelos de machine learning que esperam entradas bidimensionais."
      ]
    },
    {
      "cell_type": "code",
      "execution_count": 423,
      "metadata": {
        "id": "wvF6y9Bbxqfr"
      },
      "outputs": [],
      "source": [
        "# fazendo o fit dos conjuntos (treino) com o dados fornecidos\n",
        "x_train, x_test, y_train, y_test = train_test_split(dt_train, dt_test, test_size = 0.15, random_state = 0, shuffle = False)"
      ]
    },
    {
      "cell_type": "markdown",
      "metadata": {},
      "source": [
        "A função **shuffle()** impede a reordenacao aleatoria dos dados antes de dividi-los"
      ]
    },
    {
      "cell_type": "code",
      "execution_count": 428,
      "metadata": {
        "colab": {
          "base_uri": "https://localhost:8080/"
        },
        "id": "VUh4B0NGyf92",
        "outputId": "b2b87897-5e1d-4792-bc00-e7501af4a002"
      },
      "outputs": [
        {
          "name": "stdout",
          "output_type": "stream",
          "text": [
            "O conjunto dos dados de treino tem: 282 linhas!\n",
            "O conjunto dos dados de teste tem: 282 linhas!\n",
            "\n",
            "O que é bão demais!\n"
          ]
        }
      ],
      "source": [
        "# shape\n",
        "print(f\"O conjunto dos dados de treino tem: {len(dt_train)} linhas!\")\n",
        "print(f\"O conjunto dos dados de teste tem: {len(dt_test)} linhas!\\n\")\n",
        "print('O que é bão demais!')"
      ]
    },
    {
      "cell_type": "markdown",
      "metadata": {},
      "source": [
        "Aqui treinamos e exibimos os parâmetros de um modelo de regressão linear usando a biblioteca scikit-learn "
      ]
    },
    {
      "cell_type": "code",
      "execution_count": 429,
      "metadata": {
        "colab": {
          "base_uri": "https://localhost:8080/"
        },
        "id": "lvmzclyQydsg",
        "outputId": "8c1b7b0f-2797-402d-a06d-f26c22c3249d"
      },
      "outputs": [
        {
          "name": "stdout",
          "output_type": "stream",
          "text": [
            "Intercepto: [0.07658398]\n",
            "Coeficiente: [[0.84794979]]\n"
          ]
        }
      ],
      "source": [
        "# treinando o modelo\n",
        "l_regression = LinearRegression()\n",
        "l_regression.fit(x_train, y_train)\n",
        "\n",
        "print(f'Intercepto: {l_regression.intercept_}')\n",
        "print(f'Coeficiente: {l_regression.coef_}')"
      ]
    },
    {
      "cell_type": "markdown",
      "metadata": {
        "id": "MXh3xsvQzf2S"
      },
      "source": [
        "#### 5.1 Fazendo Predicões"
      ]
    },
    {
      "cell_type": "markdown",
      "metadata": {},
      "source": [
        "Booora ver se essa parada tá funfando, mermão!\n",
        "\n",
        "Resumindo, essas linhas de código realizam previsões usando o modelo treinado (l_regression) no conjunto de teste (x_test), e em seguida, cria um DataFrame (data_pred) para comparar os valores reais com as previsões do modelo. Isso permite avaliar o desempenho do modelo em relação aos dados de teste."
      ]
    },
    {
      "cell_type": "code",
      "execution_count": 430,
      "metadata": {
        "id": "klmVV7UNzjTT"
      },
      "outputs": [],
      "source": [
        "# Faz as previsões e armazena o resultado na variável predict\n",
        "predict = l_regression.predict(x_test)\n",
        "\n",
        "# Aqui obtemos as previsões correspondentes para as mesmas instâncias e salvamos em um DataFrame chamado data_pred\n",
        "# O squeeze() é usado para transformar os arrays em séries, facilitando a construção do DataFrame\n",
        "data_pred = pd.DataFrame(\n",
        "    {'Valor Real': y_test.squeeze(), \n",
        "     'Previsõees': predict.squeeze()\n",
        "     })"
      ]
    },
    {
      "cell_type": "code",
      "execution_count": 431,
      "metadata": {
        "colab": {
          "base_uri": "https://localhost:8080/",
          "height": 206
        },
        "id": "eZGRj4G05gPF",
        "outputId": "39a727f0-176b-45c6-f54e-ab7d8b36dffd"
      },
      "outputs": [
        {
          "data": {
            "text/html": [
              "<div>\n",
              "<style scoped>\n",
              "    .dataframe tbody tr th:only-of-type {\n",
              "        vertical-align: middle;\n",
              "    }\n",
              "\n",
              "    .dataframe tbody tr th {\n",
              "        vertical-align: top;\n",
              "    }\n",
              "\n",
              "    .dataframe thead th {\n",
              "        text-align: right;\n",
              "    }\n",
              "</style>\n",
              "<table border=\"1\" class=\"dataframe\">\n",
              "  <thead>\n",
              "    <tr style=\"text-align: right;\">\n",
              "      <th></th>\n",
              "      <th>Valor Real</th>\n",
              "      <th>Previsõees</th>\n",
              "    </tr>\n",
              "  </thead>\n",
              "  <tbody>\n",
              "    <tr>\n",
              "      <th>0</th>\n",
              "      <td>-0.31</td>\n",
              "      <td>0.068104</td>\n",
              "    </tr>\n",
              "    <tr>\n",
              "      <th>1</th>\n",
              "      <td>-0.38</td>\n",
              "      <td>-0.423706</td>\n",
              "    </tr>\n",
              "    <tr>\n",
              "      <th>2</th>\n",
              "      <td>0.26</td>\n",
              "      <td>0.093543</td>\n",
              "    </tr>\n",
              "    <tr>\n",
              "      <th>3</th>\n",
              "      <td>0.36</td>\n",
              "      <td>0.330969</td>\n",
              "    </tr>\n",
              "    <tr>\n",
              "      <th>4</th>\n",
              "      <td>0.24</td>\n",
              "      <td>0.271612</td>\n",
              "    </tr>\n",
              "  </tbody>\n",
              "</table>\n",
              "</div>"
            ],
            "text/plain": [
              "   Valor Real  Previsõees\n",
              "0       -0.31    0.068104\n",
              "1       -0.38   -0.423706\n",
              "2        0.26    0.093543\n",
              "3        0.36    0.330969\n",
              "4        0.24    0.271612"
            ]
          },
          "execution_count": 431,
          "metadata": {},
          "output_type": "execute_result"
        }
      ],
      "source": [
        "# Visualizando os resultados\n",
        "data_pred.head()"
      ]
    },
    {
      "cell_type": "code",
      "execution_count": 433,
      "metadata": {
        "id": "QXfWaYLa5r8c"
      },
      "outputs": [],
      "source": [
        "conj_train, conj_test, ipca15_train, ipca15_test = train_test_split(\n",
        "    padrao_inflacionario.index, \n",
        "    padrao_inflacionario['var_ipca15'], \n",
        "    test_size = 0.15, \n",
        "    random_state = 0, \n",
        "    shuffle = False\n",
        "    )"
      ]
    },
    {
      "cell_type": "markdown",
      "metadata": {},
      "source": [
        "Sei que você pode ter ficado perdido (ou perdida) aqui, mas esumindo essas linhas:\n",
        "- dividem o conjunto de dados em conjuntos de treino e teste\n",
        "- mantém a ordem original dos dados e garantindo reprordutibilidade na divisão\n",
        "- as datas e valores associados à variável alvo (IPCA-15) são divididos e armazenados em diferentes variáveis para uso posterior no treinamento e avaliação do modelo."
      ]
    },
    {
      "cell_type": "code",
      "execution_count": 434,
      "metadata": {
        "colab": {
          "base_uri": "https://localhost:8080/"
        },
        "id": "Xa1WjF3NBpEY",
        "outputId": "a3f4c4ca-f090-481e-f379-571c04ed7bd0"
      },
      "outputs": [
        {
          "data": {
            "text/plain": [
              "DatetimeIndex(['2020-04-01', '2020-05-01', '2020-06-01', '2020-07-01',\n",
              "               '2020-08-01', '2020-09-01', '2020-10-01', '2020-11-01',\n",
              "               '2020-12-01', '2021-01-01', '2021-02-01', '2021-03-01',\n",
              "               '2021-04-01', '2021-05-01', '2021-06-01', '2021-07-01',\n",
              "               '2021-08-01', '2021-09-01', '2021-10-01', '2021-11-01',\n",
              "               '2021-12-01', '2022-01-01', '2022-02-01', '2022-03-01',\n",
              "               '2022-04-01', '2022-05-01', '2022-06-01', '2022-07-01',\n",
              "               '2022-08-01', '2022-09-01', '2022-10-01', '2022-11-01',\n",
              "               '2022-12-01', '2023-01-01', '2023-02-01', '2023-03-01',\n",
              "               '2023-04-01', '2023-05-01', '2023-06-01', '2023-07-01',\n",
              "               '2023-08-01', '2023-09-01', '2023-10-01'],\n",
              "              dtype='datetime64[ns]', name='date', freq=None)"
            ]
          },
          "execution_count": 434,
          "metadata": {},
          "output_type": "execute_result"
        }
      ],
      "source": [
        "# Dando uma bisoiada nos dados de treino\n",
        "conj_test"
      ]
    },
    {
      "cell_type": "code",
      "execution_count": 436,
      "metadata": {},
      "outputs": [
        {
          "data": {
            "application/vnd.plotly.v1+json": {
              "config": {
                "plotlyServerURL": "https://plot.ly"
              },
              "data": [
                {
                  "line": {
                    "color": "black"
                  },
                  "mode": "lines",
                  "name": "IPCA - Treino",
                  "type": "scatter",
                  "x": [
                    "2000-05-01T00:00:00",
                    "2000-06-01T00:00:00",
                    "2000-07-01T00:00:00",
                    "2000-08-01T00:00:00",
                    "2000-09-01T00:00:00",
                    "2000-10-01T00:00:00",
                    "2000-11-01T00:00:00",
                    "2000-12-01T00:00:00",
                    "2001-01-01T00:00:00",
                    "2001-02-01T00:00:00",
                    "2001-03-01T00:00:00",
                    "2001-04-01T00:00:00",
                    "2001-05-01T00:00:00",
                    "2001-06-01T00:00:00",
                    "2001-07-01T00:00:00",
                    "2001-08-01T00:00:00",
                    "2001-09-01T00:00:00",
                    "2001-10-01T00:00:00",
                    "2001-11-01T00:00:00",
                    "2001-12-01T00:00:00",
                    "2002-01-01T00:00:00",
                    "2002-02-01T00:00:00",
                    "2002-03-01T00:00:00",
                    "2002-04-01T00:00:00",
                    "2002-05-01T00:00:00",
                    "2002-06-01T00:00:00",
                    "2002-07-01T00:00:00",
                    "2002-08-01T00:00:00",
                    "2002-09-01T00:00:00",
                    "2002-10-01T00:00:00",
                    "2002-11-01T00:00:00",
                    "2002-12-01T00:00:00",
                    "2003-01-01T00:00:00",
                    "2003-02-01T00:00:00",
                    "2003-03-01T00:00:00",
                    "2003-04-01T00:00:00",
                    "2003-05-01T00:00:00",
                    "2003-06-01T00:00:00",
                    "2003-07-01T00:00:00",
                    "2003-08-01T00:00:00",
                    "2003-09-01T00:00:00",
                    "2003-10-01T00:00:00",
                    "2003-11-01T00:00:00",
                    "2003-12-01T00:00:00",
                    "2004-01-01T00:00:00",
                    "2004-02-01T00:00:00",
                    "2004-03-01T00:00:00",
                    "2004-04-01T00:00:00",
                    "2004-05-01T00:00:00",
                    "2004-06-01T00:00:00",
                    "2004-07-01T00:00:00",
                    "2004-08-01T00:00:00",
                    "2004-09-01T00:00:00",
                    "2004-10-01T00:00:00",
                    "2004-11-01T00:00:00",
                    "2004-12-01T00:00:00",
                    "2005-01-01T00:00:00",
                    "2005-02-01T00:00:00",
                    "2005-03-01T00:00:00",
                    "2005-04-01T00:00:00",
                    "2005-05-01T00:00:00",
                    "2005-06-01T00:00:00",
                    "2005-07-01T00:00:00",
                    "2005-08-01T00:00:00",
                    "2005-09-01T00:00:00",
                    "2005-10-01T00:00:00",
                    "2005-11-01T00:00:00",
                    "2005-12-01T00:00:00",
                    "2006-01-01T00:00:00",
                    "2006-02-01T00:00:00",
                    "2006-03-01T00:00:00",
                    "2006-04-01T00:00:00",
                    "2006-05-01T00:00:00",
                    "2006-06-01T00:00:00",
                    "2006-07-01T00:00:00",
                    "2006-08-01T00:00:00",
                    "2006-09-01T00:00:00",
                    "2006-10-01T00:00:00",
                    "2006-11-01T00:00:00",
                    "2006-12-01T00:00:00",
                    "2007-01-01T00:00:00",
                    "2007-02-01T00:00:00",
                    "2007-03-01T00:00:00",
                    "2007-04-01T00:00:00",
                    "2007-05-01T00:00:00",
                    "2007-06-01T00:00:00",
                    "2007-07-01T00:00:00",
                    "2007-08-01T00:00:00",
                    "2007-09-01T00:00:00",
                    "2007-10-01T00:00:00",
                    "2007-11-01T00:00:00",
                    "2007-12-01T00:00:00",
                    "2008-01-01T00:00:00",
                    "2008-02-01T00:00:00",
                    "2008-03-01T00:00:00",
                    "2008-04-01T00:00:00",
                    "2008-05-01T00:00:00",
                    "2008-06-01T00:00:00",
                    "2008-07-01T00:00:00",
                    "2008-08-01T00:00:00",
                    "2008-09-01T00:00:00",
                    "2008-10-01T00:00:00",
                    "2008-11-01T00:00:00",
                    "2008-12-01T00:00:00",
                    "2009-01-01T00:00:00",
                    "2009-02-01T00:00:00",
                    "2009-03-01T00:00:00",
                    "2009-04-01T00:00:00",
                    "2009-05-01T00:00:00",
                    "2009-06-01T00:00:00",
                    "2009-07-01T00:00:00",
                    "2009-08-01T00:00:00",
                    "2009-09-01T00:00:00",
                    "2009-10-01T00:00:00",
                    "2009-11-01T00:00:00",
                    "2009-12-01T00:00:00",
                    "2010-01-01T00:00:00",
                    "2010-02-01T00:00:00",
                    "2010-03-01T00:00:00",
                    "2010-04-01T00:00:00",
                    "2010-05-01T00:00:00",
                    "2010-06-01T00:00:00",
                    "2010-07-01T00:00:00",
                    "2010-08-01T00:00:00",
                    "2010-09-01T00:00:00",
                    "2010-10-01T00:00:00",
                    "2010-11-01T00:00:00",
                    "2010-12-01T00:00:00",
                    "2011-01-01T00:00:00",
                    "2011-02-01T00:00:00",
                    "2011-03-01T00:00:00",
                    "2011-04-01T00:00:00",
                    "2011-05-01T00:00:00",
                    "2011-06-01T00:00:00",
                    "2011-07-01T00:00:00",
                    "2011-08-01T00:00:00",
                    "2011-09-01T00:00:00",
                    "2011-10-01T00:00:00",
                    "2011-11-01T00:00:00",
                    "2011-12-01T00:00:00",
                    "2012-01-01T00:00:00",
                    "2012-02-01T00:00:00",
                    "2012-03-01T00:00:00",
                    "2012-04-01T00:00:00",
                    "2012-05-01T00:00:00",
                    "2012-06-01T00:00:00",
                    "2012-07-01T00:00:00",
                    "2012-08-01T00:00:00",
                    "2012-09-01T00:00:00",
                    "2012-10-01T00:00:00",
                    "2012-11-01T00:00:00",
                    "2012-12-01T00:00:00",
                    "2013-01-01T00:00:00",
                    "2013-02-01T00:00:00",
                    "2013-03-01T00:00:00",
                    "2013-04-01T00:00:00",
                    "2013-05-01T00:00:00",
                    "2013-06-01T00:00:00",
                    "2013-07-01T00:00:00",
                    "2013-08-01T00:00:00",
                    "2013-09-01T00:00:00",
                    "2013-10-01T00:00:00",
                    "2013-11-01T00:00:00",
                    "2013-12-01T00:00:00",
                    "2014-01-01T00:00:00",
                    "2014-02-01T00:00:00",
                    "2014-03-01T00:00:00",
                    "2014-04-01T00:00:00",
                    "2014-05-01T00:00:00",
                    "2014-06-01T00:00:00",
                    "2014-07-01T00:00:00",
                    "2014-08-01T00:00:00",
                    "2014-09-01T00:00:00",
                    "2014-10-01T00:00:00",
                    "2014-11-01T00:00:00",
                    "2014-12-01T00:00:00",
                    "2015-01-01T00:00:00",
                    "2015-02-01T00:00:00",
                    "2015-03-01T00:00:00",
                    "2015-04-01T00:00:00",
                    "2015-05-01T00:00:00",
                    "2015-06-01T00:00:00",
                    "2015-07-01T00:00:00",
                    "2015-08-01T00:00:00",
                    "2015-09-01T00:00:00",
                    "2015-10-01T00:00:00",
                    "2015-11-01T00:00:00",
                    "2015-12-01T00:00:00",
                    "2016-01-01T00:00:00",
                    "2016-02-01T00:00:00",
                    "2016-03-01T00:00:00",
                    "2016-04-01T00:00:00",
                    "2016-05-01T00:00:00",
                    "2016-06-01T00:00:00",
                    "2016-07-01T00:00:00",
                    "2016-08-01T00:00:00",
                    "2016-09-01T00:00:00",
                    "2016-10-01T00:00:00",
                    "2016-11-01T00:00:00",
                    "2016-12-01T00:00:00",
                    "2017-01-01T00:00:00",
                    "2017-02-01T00:00:00",
                    "2017-03-01T00:00:00",
                    "2017-04-01T00:00:00",
                    "2017-05-01T00:00:00",
                    "2017-06-01T00:00:00",
                    "2017-07-01T00:00:00",
                    "2017-08-01T00:00:00",
                    "2017-09-01T00:00:00",
                    "2017-10-01T00:00:00",
                    "2017-11-01T00:00:00",
                    "2017-12-01T00:00:00",
                    "2018-01-01T00:00:00",
                    "2018-02-01T00:00:00",
                    "2018-03-01T00:00:00",
                    "2018-04-01T00:00:00",
                    "2018-05-01T00:00:00",
                    "2018-06-01T00:00:00",
                    "2018-07-01T00:00:00",
                    "2018-08-01T00:00:00",
                    "2018-09-01T00:00:00",
                    "2018-10-01T00:00:00",
                    "2018-11-01T00:00:00",
                    "2018-12-01T00:00:00",
                    "2019-01-01T00:00:00",
                    "2019-02-01T00:00:00",
                    "2019-03-01T00:00:00",
                    "2019-04-01T00:00:00",
                    "2019-05-01T00:00:00",
                    "2019-06-01T00:00:00",
                    "2019-07-01T00:00:00",
                    "2019-08-01T00:00:00",
                    "2019-09-01T00:00:00",
                    "2019-10-01T00:00:00",
                    "2019-11-01T00:00:00",
                    "2019-12-01T00:00:00",
                    "2020-01-01T00:00:00",
                    "2020-02-01T00:00:00",
                    "2020-03-01T00:00:00"
                  ],
                  "y": [
                    0.09,
                    0.08,
                    0.78,
                    1.99,
                    0.45,
                    0.18,
                    0.17,
                    0.6,
                    0.63,
                    0.5,
                    0.36,
                    0.5,
                    0.49,
                    0.38,
                    0.94,
                    1.18,
                    0.38,
                    0.37,
                    0.99,
                    0.55,
                    0.62,
                    0.44,
                    0.4,
                    0.78,
                    0.42,
                    0.33,
                    0.77,
                    1,
                    0.62,
                    0.9,
                    2.08,
                    3.05,
                    1.98,
                    2.19,
                    1.14,
                    1.14,
                    0.85,
                    0.22,
                    -0.18,
                    0.27,
                    0.57,
                    0.66,
                    0.17,
                    0.46,
                    0.68,
                    0.9,
                    0.4,
                    0.21,
                    0.54,
                    0.56,
                    0.93,
                    0.79,
                    0.49,
                    0.32,
                    0.63,
                    0.84,
                    0.68,
                    0.74,
                    0.35,
                    0.74,
                    0.83,
                    0.12,
                    0.11,
                    0.28,
                    0.16,
                    0.56,
                    0.78,
                    0.38,
                    0.51,
                    0.52,
                    0.37,
                    0.17,
                    0.27,
                    -0.15,
                    -0.02,
                    0.19,
                    0.05,
                    0.29,
                    0.37,
                    0.35,
                    0.52,
                    0.46,
                    0.41,
                    0.22,
                    0.26,
                    0.29,
                    0.24,
                    0.42,
                    0.29,
                    0.24,
                    0.23,
                    0.7,
                    0.7,
                    0.64,
                    0.23,
                    0.59,
                    0.56,
                    0.9,
                    0.63,
                    0.35,
                    0.26,
                    0.3,
                    0.49,
                    0.29,
                    0.4,
                    0.63,
                    0.11,
                    0.36,
                    0.59,
                    0.38,
                    0.22,
                    0.23,
                    0.19,
                    0.18,
                    0.44,
                    0.38,
                    0.52,
                    0.94,
                    0.55,
                    0.48,
                    0.63,
                    0.19,
                    -0.09,
                    -0.05,
                    0.31,
                    0.62,
                    0.86,
                    0.69,
                    0.76,
                    0.97,
                    0.6,
                    0.77,
                    0.7,
                    0.23,
                    0.1,
                    0.27,
                    0.53,
                    0.42,
                    0.46,
                    0.56,
                    0.65,
                    0.53,
                    0.25,
                    0.43,
                    0.51,
                    0.18,
                    0.33,
                    0.39,
                    0.48,
                    0.65,
                    0.54,
                    0.69,
                    0.88,
                    0.68,
                    0.49,
                    0.51,
                    0.46,
                    0.38,
                    0.07,
                    0.16,
                    0.27,
                    0.48,
                    0.57,
                    0.75,
                    0.67,
                    0.7,
                    0.73,
                    0.78,
                    0.58,
                    0.47,
                    0.17,
                    0.14,
                    0.39,
                    0.48,
                    0.38,
                    0.79,
                    0.89,
                    1.33,
                    1.24,
                    1.07,
                    0.6,
                    0.99,
                    0.59,
                    0.43,
                    0.39,
                    0.66,
                    0.85,
                    1.18,
                    0.92,
                    1.42,
                    0.43,
                    0.51,
                    0.86,
                    0.4,
                    0.54,
                    0.45,
                    0.23,
                    0.19,
                    0.26,
                    0.19,
                    0.31,
                    0.54,
                    0.15,
                    0.21,
                    0.24,
                    0.16,
                    -0.18,
                    0.35,
                    0.11,
                    0.34,
                    0.32,
                    0.35,
                    0.39,
                    0.38,
                    0.1,
                    0.21,
                    0.14,
                    1.11,
                    0.64,
                    0.13,
                    0.09,
                    0.58,
                    0.19,
                    -0.16,
                    0.3,
                    0.34,
                    0.54,
                    0.72,
                    0.35,
                    0.06,
                    0.09,
                    0.08,
                    0.09,
                    0.09,
                    0.14,
                    1.05,
                    0.71,
                    0.22,
                    0.02
                  ]
                },
                {
                  "line": {
                    "color": "red"
                  },
                  "mode": "lines",
                  "name": "IPCA - Teste",
                  "type": "scatter",
                  "x": [
                    "2000-05-01T00:00:00",
                    "2000-06-01T00:00:00",
                    "2000-07-01T00:00:00",
                    "2000-08-01T00:00:00",
                    "2000-09-01T00:00:00",
                    "2000-10-01T00:00:00",
                    "2000-11-01T00:00:00",
                    "2000-12-01T00:00:00",
                    "2001-01-01T00:00:00",
                    "2001-02-01T00:00:00",
                    "2001-03-01T00:00:00",
                    "2001-04-01T00:00:00",
                    "2001-05-01T00:00:00",
                    "2001-06-01T00:00:00",
                    "2001-07-01T00:00:00",
                    "2001-08-01T00:00:00",
                    "2001-09-01T00:00:00",
                    "2001-10-01T00:00:00",
                    "2001-11-01T00:00:00",
                    "2001-12-01T00:00:00",
                    "2002-01-01T00:00:00",
                    "2002-02-01T00:00:00",
                    "2002-03-01T00:00:00",
                    "2002-04-01T00:00:00",
                    "2002-05-01T00:00:00",
                    "2002-06-01T00:00:00",
                    "2002-07-01T00:00:00",
                    "2002-08-01T00:00:00",
                    "2002-09-01T00:00:00",
                    "2002-10-01T00:00:00",
                    "2002-11-01T00:00:00",
                    "2002-12-01T00:00:00",
                    "2003-01-01T00:00:00",
                    "2003-02-01T00:00:00",
                    "2003-03-01T00:00:00",
                    "2003-04-01T00:00:00",
                    "2003-05-01T00:00:00",
                    "2003-06-01T00:00:00",
                    "2003-07-01T00:00:00",
                    "2003-08-01T00:00:00",
                    "2003-09-01T00:00:00",
                    "2003-10-01T00:00:00",
                    "2003-11-01T00:00:00",
                    "2003-12-01T00:00:00",
                    "2004-01-01T00:00:00",
                    "2004-02-01T00:00:00",
                    "2004-03-01T00:00:00",
                    "2004-04-01T00:00:00",
                    "2004-05-01T00:00:00",
                    "2004-06-01T00:00:00",
                    "2004-07-01T00:00:00",
                    "2004-08-01T00:00:00",
                    "2004-09-01T00:00:00",
                    "2004-10-01T00:00:00",
                    "2004-11-01T00:00:00",
                    "2004-12-01T00:00:00",
                    "2005-01-01T00:00:00",
                    "2005-02-01T00:00:00",
                    "2005-03-01T00:00:00",
                    "2005-04-01T00:00:00",
                    "2005-05-01T00:00:00",
                    "2005-06-01T00:00:00",
                    "2005-07-01T00:00:00",
                    "2005-08-01T00:00:00",
                    "2005-09-01T00:00:00",
                    "2005-10-01T00:00:00",
                    "2005-11-01T00:00:00",
                    "2005-12-01T00:00:00",
                    "2006-01-01T00:00:00",
                    "2006-02-01T00:00:00",
                    "2006-03-01T00:00:00",
                    "2006-04-01T00:00:00",
                    "2006-05-01T00:00:00",
                    "2006-06-01T00:00:00",
                    "2006-07-01T00:00:00",
                    "2006-08-01T00:00:00",
                    "2006-09-01T00:00:00",
                    "2006-10-01T00:00:00",
                    "2006-11-01T00:00:00",
                    "2006-12-01T00:00:00",
                    "2007-01-01T00:00:00",
                    "2007-02-01T00:00:00",
                    "2007-03-01T00:00:00",
                    "2007-04-01T00:00:00",
                    "2007-05-01T00:00:00",
                    "2007-06-01T00:00:00",
                    "2007-07-01T00:00:00",
                    "2007-08-01T00:00:00",
                    "2007-09-01T00:00:00",
                    "2007-10-01T00:00:00",
                    "2007-11-01T00:00:00",
                    "2007-12-01T00:00:00",
                    "2008-01-01T00:00:00",
                    "2008-02-01T00:00:00",
                    "2008-03-01T00:00:00",
                    "2008-04-01T00:00:00",
                    "2008-05-01T00:00:00",
                    "2008-06-01T00:00:00",
                    "2008-07-01T00:00:00",
                    "2008-08-01T00:00:00",
                    "2008-09-01T00:00:00",
                    "2008-10-01T00:00:00",
                    "2008-11-01T00:00:00",
                    "2008-12-01T00:00:00",
                    "2009-01-01T00:00:00",
                    "2009-02-01T00:00:00",
                    "2009-03-01T00:00:00",
                    "2009-04-01T00:00:00",
                    "2009-05-01T00:00:00",
                    "2009-06-01T00:00:00",
                    "2009-07-01T00:00:00",
                    "2009-08-01T00:00:00",
                    "2009-09-01T00:00:00",
                    "2009-10-01T00:00:00",
                    "2009-11-01T00:00:00",
                    "2009-12-01T00:00:00",
                    "2010-01-01T00:00:00",
                    "2010-02-01T00:00:00",
                    "2010-03-01T00:00:00",
                    "2010-04-01T00:00:00",
                    "2010-05-01T00:00:00",
                    "2010-06-01T00:00:00",
                    "2010-07-01T00:00:00",
                    "2010-08-01T00:00:00",
                    "2010-09-01T00:00:00",
                    "2010-10-01T00:00:00",
                    "2010-11-01T00:00:00",
                    "2010-12-01T00:00:00",
                    "2011-01-01T00:00:00",
                    "2011-02-01T00:00:00",
                    "2011-03-01T00:00:00",
                    "2011-04-01T00:00:00",
                    "2011-05-01T00:00:00",
                    "2011-06-01T00:00:00",
                    "2011-07-01T00:00:00",
                    "2011-08-01T00:00:00",
                    "2011-09-01T00:00:00",
                    "2011-10-01T00:00:00",
                    "2011-11-01T00:00:00",
                    "2011-12-01T00:00:00",
                    "2012-01-01T00:00:00",
                    "2012-02-01T00:00:00",
                    "2012-03-01T00:00:00",
                    "2012-04-01T00:00:00",
                    "2012-05-01T00:00:00",
                    "2012-06-01T00:00:00",
                    "2012-07-01T00:00:00",
                    "2012-08-01T00:00:00",
                    "2012-09-01T00:00:00",
                    "2012-10-01T00:00:00",
                    "2012-11-01T00:00:00",
                    "2012-12-01T00:00:00",
                    "2013-01-01T00:00:00",
                    "2013-02-01T00:00:00",
                    "2013-03-01T00:00:00",
                    "2013-04-01T00:00:00",
                    "2013-05-01T00:00:00",
                    "2013-06-01T00:00:00",
                    "2013-07-01T00:00:00",
                    "2013-08-01T00:00:00",
                    "2013-09-01T00:00:00",
                    "2013-10-01T00:00:00",
                    "2013-11-01T00:00:00",
                    "2013-12-01T00:00:00",
                    "2014-01-01T00:00:00",
                    "2014-02-01T00:00:00",
                    "2014-03-01T00:00:00",
                    "2014-04-01T00:00:00",
                    "2014-05-01T00:00:00",
                    "2014-06-01T00:00:00",
                    "2014-07-01T00:00:00",
                    "2014-08-01T00:00:00",
                    "2014-09-01T00:00:00",
                    "2014-10-01T00:00:00",
                    "2014-11-01T00:00:00",
                    "2014-12-01T00:00:00",
                    "2015-01-01T00:00:00",
                    "2015-02-01T00:00:00",
                    "2015-03-01T00:00:00",
                    "2015-04-01T00:00:00",
                    "2015-05-01T00:00:00",
                    "2015-06-01T00:00:00",
                    "2015-07-01T00:00:00",
                    "2015-08-01T00:00:00",
                    "2015-09-01T00:00:00",
                    "2015-10-01T00:00:00",
                    "2015-11-01T00:00:00",
                    "2015-12-01T00:00:00",
                    "2016-01-01T00:00:00",
                    "2016-02-01T00:00:00",
                    "2016-03-01T00:00:00",
                    "2016-04-01T00:00:00",
                    "2016-05-01T00:00:00",
                    "2016-06-01T00:00:00",
                    "2016-07-01T00:00:00",
                    "2016-08-01T00:00:00",
                    "2016-09-01T00:00:00",
                    "2016-10-01T00:00:00",
                    "2016-11-01T00:00:00",
                    "2016-12-01T00:00:00",
                    "2017-01-01T00:00:00",
                    "2017-02-01T00:00:00",
                    "2017-03-01T00:00:00",
                    "2017-04-01T00:00:00",
                    "2017-05-01T00:00:00",
                    "2017-06-01T00:00:00",
                    "2017-07-01T00:00:00",
                    "2017-08-01T00:00:00",
                    "2017-09-01T00:00:00",
                    "2017-10-01T00:00:00",
                    "2017-11-01T00:00:00",
                    "2017-12-01T00:00:00",
                    "2018-01-01T00:00:00",
                    "2018-02-01T00:00:00",
                    "2018-03-01T00:00:00",
                    "2018-04-01T00:00:00",
                    "2018-05-01T00:00:00",
                    "2018-06-01T00:00:00",
                    "2018-07-01T00:00:00",
                    "2018-08-01T00:00:00",
                    "2018-09-01T00:00:00",
                    "2018-10-01T00:00:00",
                    "2018-11-01T00:00:00",
                    "2018-12-01T00:00:00",
                    "2019-01-01T00:00:00",
                    "2019-02-01T00:00:00",
                    "2019-03-01T00:00:00",
                    "2019-04-01T00:00:00",
                    "2019-05-01T00:00:00",
                    "2019-06-01T00:00:00",
                    "2019-07-01T00:00:00",
                    "2019-08-01T00:00:00",
                    "2019-09-01T00:00:00",
                    "2019-10-01T00:00:00",
                    "2019-11-01T00:00:00",
                    "2019-12-01T00:00:00",
                    "2020-01-01T00:00:00",
                    "2020-02-01T00:00:00",
                    "2020-03-01T00:00:00"
                  ],
                  "y": [
                    -0.01,
                    -0.59,
                    0.02,
                    0.3,
                    0.23,
                    0.45,
                    0.94,
                    0.81,
                    1.06,
                    0.78,
                    0.48,
                    0.93,
                    0.6,
                    0.44,
                    0.83,
                    0.72,
                    0.89,
                    1.14,
                    1.2,
                    1.17,
                    0.78,
                    0.58,
                    0.99,
                    0.95,
                    1.73,
                    0.59,
                    0.69,
                    0.13,
                    -0.73,
                    -0.37,
                    0.16,
                    0.53,
                    0.52,
                    0.55,
                    0.76,
                    0.69,
                    0.57,
                    0.51,
                    0.04,
                    -0.07,
                    0.28,
                    0.35,
                    0.21
                  ]
                },
                {
                  "line": {
                    "color": "green"
                  },
                  "mode": "lines",
                  "name": "IPCA - Predição",
                  "type": "scatter",
                  "x": [
                    "2000-05-01T00:00:00",
                    "2000-06-01T00:00:00",
                    "2000-07-01T00:00:00",
                    "2000-08-01T00:00:00",
                    "2000-09-01T00:00:00",
                    "2000-10-01T00:00:00",
                    "2000-11-01T00:00:00",
                    "2000-12-01T00:00:00",
                    "2001-01-01T00:00:00",
                    "2001-02-01T00:00:00",
                    "2001-03-01T00:00:00",
                    "2001-04-01T00:00:00",
                    "2001-05-01T00:00:00",
                    "2001-06-01T00:00:00",
                    "2001-07-01T00:00:00",
                    "2001-08-01T00:00:00",
                    "2001-09-01T00:00:00",
                    "2001-10-01T00:00:00",
                    "2001-11-01T00:00:00",
                    "2001-12-01T00:00:00",
                    "2002-01-01T00:00:00",
                    "2002-02-01T00:00:00",
                    "2002-03-01T00:00:00",
                    "2002-04-01T00:00:00",
                    "2002-05-01T00:00:00",
                    "2002-06-01T00:00:00",
                    "2002-07-01T00:00:00",
                    "2002-08-01T00:00:00",
                    "2002-09-01T00:00:00",
                    "2002-10-01T00:00:00",
                    "2002-11-01T00:00:00",
                    "2002-12-01T00:00:00",
                    "2003-01-01T00:00:00",
                    "2003-02-01T00:00:00",
                    "2003-03-01T00:00:00",
                    "2003-04-01T00:00:00",
                    "2003-05-01T00:00:00",
                    "2003-06-01T00:00:00",
                    "2003-07-01T00:00:00",
                    "2003-08-01T00:00:00",
                    "2003-09-01T00:00:00",
                    "2003-10-01T00:00:00",
                    "2003-11-01T00:00:00",
                    "2003-12-01T00:00:00",
                    "2004-01-01T00:00:00",
                    "2004-02-01T00:00:00",
                    "2004-03-01T00:00:00",
                    "2004-04-01T00:00:00",
                    "2004-05-01T00:00:00",
                    "2004-06-01T00:00:00",
                    "2004-07-01T00:00:00",
                    "2004-08-01T00:00:00",
                    "2004-09-01T00:00:00",
                    "2004-10-01T00:00:00",
                    "2004-11-01T00:00:00",
                    "2004-12-01T00:00:00",
                    "2005-01-01T00:00:00",
                    "2005-02-01T00:00:00",
                    "2005-03-01T00:00:00",
                    "2005-04-01T00:00:00",
                    "2005-05-01T00:00:00",
                    "2005-06-01T00:00:00",
                    "2005-07-01T00:00:00",
                    "2005-08-01T00:00:00",
                    "2005-09-01T00:00:00",
                    "2005-10-01T00:00:00",
                    "2005-11-01T00:00:00",
                    "2005-12-01T00:00:00",
                    "2006-01-01T00:00:00",
                    "2006-02-01T00:00:00",
                    "2006-03-01T00:00:00",
                    "2006-04-01T00:00:00",
                    "2006-05-01T00:00:00",
                    "2006-06-01T00:00:00",
                    "2006-07-01T00:00:00",
                    "2006-08-01T00:00:00",
                    "2006-09-01T00:00:00",
                    "2006-10-01T00:00:00",
                    "2006-11-01T00:00:00",
                    "2006-12-01T00:00:00",
                    "2007-01-01T00:00:00",
                    "2007-02-01T00:00:00",
                    "2007-03-01T00:00:00",
                    "2007-04-01T00:00:00",
                    "2007-05-01T00:00:00",
                    "2007-06-01T00:00:00",
                    "2007-07-01T00:00:00",
                    "2007-08-01T00:00:00",
                    "2007-09-01T00:00:00",
                    "2007-10-01T00:00:00",
                    "2007-11-01T00:00:00",
                    "2007-12-01T00:00:00",
                    "2008-01-01T00:00:00",
                    "2008-02-01T00:00:00",
                    "2008-03-01T00:00:00",
                    "2008-04-01T00:00:00",
                    "2008-05-01T00:00:00",
                    "2008-06-01T00:00:00",
                    "2008-07-01T00:00:00",
                    "2008-08-01T00:00:00",
                    "2008-09-01T00:00:00",
                    "2008-10-01T00:00:00",
                    "2008-11-01T00:00:00",
                    "2008-12-01T00:00:00",
                    "2009-01-01T00:00:00",
                    "2009-02-01T00:00:00",
                    "2009-03-01T00:00:00",
                    "2009-04-01T00:00:00",
                    "2009-05-01T00:00:00",
                    "2009-06-01T00:00:00",
                    "2009-07-01T00:00:00",
                    "2009-08-01T00:00:00",
                    "2009-09-01T00:00:00",
                    "2009-10-01T00:00:00",
                    "2009-11-01T00:00:00",
                    "2009-12-01T00:00:00",
                    "2010-01-01T00:00:00",
                    "2010-02-01T00:00:00",
                    "2010-03-01T00:00:00",
                    "2010-04-01T00:00:00",
                    "2010-05-01T00:00:00",
                    "2010-06-01T00:00:00",
                    "2010-07-01T00:00:00",
                    "2010-08-01T00:00:00",
                    "2010-09-01T00:00:00",
                    "2010-10-01T00:00:00",
                    "2010-11-01T00:00:00",
                    "2010-12-01T00:00:00",
                    "2011-01-01T00:00:00",
                    "2011-02-01T00:00:00",
                    "2011-03-01T00:00:00",
                    "2011-04-01T00:00:00",
                    "2011-05-01T00:00:00",
                    "2011-06-01T00:00:00",
                    "2011-07-01T00:00:00",
                    "2011-08-01T00:00:00",
                    "2011-09-01T00:00:00",
                    "2011-10-01T00:00:00",
                    "2011-11-01T00:00:00",
                    "2011-12-01T00:00:00",
                    "2012-01-01T00:00:00",
                    "2012-02-01T00:00:00",
                    "2012-03-01T00:00:00",
                    "2012-04-01T00:00:00",
                    "2012-05-01T00:00:00",
                    "2012-06-01T00:00:00",
                    "2012-07-01T00:00:00",
                    "2012-08-01T00:00:00",
                    "2012-09-01T00:00:00",
                    "2012-10-01T00:00:00",
                    "2012-11-01T00:00:00",
                    "2012-12-01T00:00:00",
                    "2013-01-01T00:00:00",
                    "2013-02-01T00:00:00",
                    "2013-03-01T00:00:00",
                    "2013-04-01T00:00:00",
                    "2013-05-01T00:00:00",
                    "2013-06-01T00:00:00",
                    "2013-07-01T00:00:00",
                    "2013-08-01T00:00:00",
                    "2013-09-01T00:00:00",
                    "2013-10-01T00:00:00",
                    "2013-11-01T00:00:00",
                    "2013-12-01T00:00:00",
                    "2014-01-01T00:00:00",
                    "2014-02-01T00:00:00",
                    "2014-03-01T00:00:00",
                    "2014-04-01T00:00:00",
                    "2014-05-01T00:00:00",
                    "2014-06-01T00:00:00",
                    "2014-07-01T00:00:00",
                    "2014-08-01T00:00:00",
                    "2014-09-01T00:00:00",
                    "2014-10-01T00:00:00",
                    "2014-11-01T00:00:00",
                    "2014-12-01T00:00:00",
                    "2015-01-01T00:00:00",
                    "2015-02-01T00:00:00",
                    "2015-03-01T00:00:00",
                    "2015-04-01T00:00:00",
                    "2015-05-01T00:00:00",
                    "2015-06-01T00:00:00",
                    "2015-07-01T00:00:00",
                    "2015-08-01T00:00:00",
                    "2015-09-01T00:00:00",
                    "2015-10-01T00:00:00",
                    "2015-11-01T00:00:00",
                    "2015-12-01T00:00:00",
                    "2016-01-01T00:00:00",
                    "2016-02-01T00:00:00",
                    "2016-03-01T00:00:00",
                    "2016-04-01T00:00:00",
                    "2016-05-01T00:00:00",
                    "2016-06-01T00:00:00",
                    "2016-07-01T00:00:00",
                    "2016-08-01T00:00:00",
                    "2016-09-01T00:00:00",
                    "2016-10-01T00:00:00",
                    "2016-11-01T00:00:00",
                    "2016-12-01T00:00:00",
                    "2017-01-01T00:00:00",
                    "2017-02-01T00:00:00",
                    "2017-03-01T00:00:00",
                    "2017-04-01T00:00:00",
                    "2017-05-01T00:00:00",
                    "2017-06-01T00:00:00",
                    "2017-07-01T00:00:00",
                    "2017-08-01T00:00:00",
                    "2017-09-01T00:00:00",
                    "2017-10-01T00:00:00",
                    "2017-11-01T00:00:00",
                    "2017-12-01T00:00:00",
                    "2018-01-01T00:00:00",
                    "2018-02-01T00:00:00",
                    "2018-03-01T00:00:00",
                    "2018-04-01T00:00:00",
                    "2018-05-01T00:00:00",
                    "2018-06-01T00:00:00",
                    "2018-07-01T00:00:00",
                    "2018-08-01T00:00:00",
                    "2018-09-01T00:00:00",
                    "2018-10-01T00:00:00",
                    "2018-11-01T00:00:00",
                    "2018-12-01T00:00:00",
                    "2019-01-01T00:00:00",
                    "2019-02-01T00:00:00",
                    "2019-03-01T00:00:00",
                    "2019-04-01T00:00:00",
                    "2019-05-01T00:00:00",
                    "2019-06-01T00:00:00",
                    "2019-07-01T00:00:00",
                    "2019-08-01T00:00:00",
                    "2019-09-01T00:00:00",
                    "2019-10-01T00:00:00",
                    "2019-11-01T00:00:00",
                    "2019-12-01T00:00:00",
                    "2020-01-01T00:00:00",
                    "2020-02-01T00:00:00",
                    "2020-03-01T00:00:00"
                  ],
                  "y": [
                    0.06810447810735229,
                    -0.4237064026473982,
                    0.09354297193949457,
                    0.33096891437282233,
                    0.27161242876449043,
                    0.4581613835335337,
                    0.8736567827918573,
                    0.7634233095192409,
                    0.9754107581204265,
                    0.7379848156870987,
                    0.48359987736567595,
                    0.8651772848478099,
                    0.585353852694245,
                    0.4496818855894863,
                    0.7803823054073358,
                    0.687107828022814,
                    0.8312592930716203,
                    1.0432467416728057,
                    1.0941237293370902,
                    1.068685235504948,
                    0.7379848156870987,
                    0.5683948568061501,
                    0.9160542725120944,
                    0.8821362807359048,
                    1.5435371203716037,
                    0.5768743547501975,
                    0.6616693341906719,
                    0.1868174493240162,
                    -0.5424193738640621,
                    -0.23715744787835485,
                    0.21225594315615848,
                    0.525997367085913,
                    0.5175178691418656,
                    0.542956362974008,
                    0.7210258197990038,
                    0.6616693341906719,
                    0.5599153588621026,
                    0.5090383711978183,
                    0.1105019678275894,
                    0.01722749044306776,
                    0.31400991848472753,
                    0.37336640409305943,
                    0.2546534328763955
                  ]
                }
              ],
              "layout": {
                "legend": {
                  "x": 0,
                  "y": 1
                },
                "template": {
                  "data": {
                    "bar": [
                      {
                        "error_x": {
                          "color": "#2a3f5f"
                        },
                        "error_y": {
                          "color": "#2a3f5f"
                        },
                        "marker": {
                          "line": {
                            "color": "#E5ECF6",
                            "width": 0.5
                          },
                          "pattern": {
                            "fillmode": "overlay",
                            "size": 10,
                            "solidity": 0.2
                          }
                        },
                        "type": "bar"
                      }
                    ],
                    "barpolar": [
                      {
                        "marker": {
                          "line": {
                            "color": "#E5ECF6",
                            "width": 0.5
                          },
                          "pattern": {
                            "fillmode": "overlay",
                            "size": 10,
                            "solidity": 0.2
                          }
                        },
                        "type": "barpolar"
                      }
                    ],
                    "carpet": [
                      {
                        "aaxis": {
                          "endlinecolor": "#2a3f5f",
                          "gridcolor": "white",
                          "linecolor": "white",
                          "minorgridcolor": "white",
                          "startlinecolor": "#2a3f5f"
                        },
                        "baxis": {
                          "endlinecolor": "#2a3f5f",
                          "gridcolor": "white",
                          "linecolor": "white",
                          "minorgridcolor": "white",
                          "startlinecolor": "#2a3f5f"
                        },
                        "type": "carpet"
                      }
                    ],
                    "choropleth": [
                      {
                        "colorbar": {
                          "outlinewidth": 0,
                          "ticks": ""
                        },
                        "type": "choropleth"
                      }
                    ],
                    "contour": [
                      {
                        "colorbar": {
                          "outlinewidth": 0,
                          "ticks": ""
                        },
                        "colorscale": [
                          [
                            0,
                            "#0d0887"
                          ],
                          [
                            0.1111111111111111,
                            "#46039f"
                          ],
                          [
                            0.2222222222222222,
                            "#7201a8"
                          ],
                          [
                            0.3333333333333333,
                            "#9c179e"
                          ],
                          [
                            0.4444444444444444,
                            "#bd3786"
                          ],
                          [
                            0.5555555555555556,
                            "#d8576b"
                          ],
                          [
                            0.6666666666666666,
                            "#ed7953"
                          ],
                          [
                            0.7777777777777778,
                            "#fb9f3a"
                          ],
                          [
                            0.8888888888888888,
                            "#fdca26"
                          ],
                          [
                            1,
                            "#f0f921"
                          ]
                        ],
                        "type": "contour"
                      }
                    ],
                    "contourcarpet": [
                      {
                        "colorbar": {
                          "outlinewidth": 0,
                          "ticks": ""
                        },
                        "type": "contourcarpet"
                      }
                    ],
                    "heatmap": [
                      {
                        "colorbar": {
                          "outlinewidth": 0,
                          "ticks": ""
                        },
                        "colorscale": [
                          [
                            0,
                            "#0d0887"
                          ],
                          [
                            0.1111111111111111,
                            "#46039f"
                          ],
                          [
                            0.2222222222222222,
                            "#7201a8"
                          ],
                          [
                            0.3333333333333333,
                            "#9c179e"
                          ],
                          [
                            0.4444444444444444,
                            "#bd3786"
                          ],
                          [
                            0.5555555555555556,
                            "#d8576b"
                          ],
                          [
                            0.6666666666666666,
                            "#ed7953"
                          ],
                          [
                            0.7777777777777778,
                            "#fb9f3a"
                          ],
                          [
                            0.8888888888888888,
                            "#fdca26"
                          ],
                          [
                            1,
                            "#f0f921"
                          ]
                        ],
                        "type": "heatmap"
                      }
                    ],
                    "heatmapgl": [
                      {
                        "colorbar": {
                          "outlinewidth": 0,
                          "ticks": ""
                        },
                        "colorscale": [
                          [
                            0,
                            "#0d0887"
                          ],
                          [
                            0.1111111111111111,
                            "#46039f"
                          ],
                          [
                            0.2222222222222222,
                            "#7201a8"
                          ],
                          [
                            0.3333333333333333,
                            "#9c179e"
                          ],
                          [
                            0.4444444444444444,
                            "#bd3786"
                          ],
                          [
                            0.5555555555555556,
                            "#d8576b"
                          ],
                          [
                            0.6666666666666666,
                            "#ed7953"
                          ],
                          [
                            0.7777777777777778,
                            "#fb9f3a"
                          ],
                          [
                            0.8888888888888888,
                            "#fdca26"
                          ],
                          [
                            1,
                            "#f0f921"
                          ]
                        ],
                        "type": "heatmapgl"
                      }
                    ],
                    "histogram": [
                      {
                        "marker": {
                          "pattern": {
                            "fillmode": "overlay",
                            "size": 10,
                            "solidity": 0.2
                          }
                        },
                        "type": "histogram"
                      }
                    ],
                    "histogram2d": [
                      {
                        "colorbar": {
                          "outlinewidth": 0,
                          "ticks": ""
                        },
                        "colorscale": [
                          [
                            0,
                            "#0d0887"
                          ],
                          [
                            0.1111111111111111,
                            "#46039f"
                          ],
                          [
                            0.2222222222222222,
                            "#7201a8"
                          ],
                          [
                            0.3333333333333333,
                            "#9c179e"
                          ],
                          [
                            0.4444444444444444,
                            "#bd3786"
                          ],
                          [
                            0.5555555555555556,
                            "#d8576b"
                          ],
                          [
                            0.6666666666666666,
                            "#ed7953"
                          ],
                          [
                            0.7777777777777778,
                            "#fb9f3a"
                          ],
                          [
                            0.8888888888888888,
                            "#fdca26"
                          ],
                          [
                            1,
                            "#f0f921"
                          ]
                        ],
                        "type": "histogram2d"
                      }
                    ],
                    "histogram2dcontour": [
                      {
                        "colorbar": {
                          "outlinewidth": 0,
                          "ticks": ""
                        },
                        "colorscale": [
                          [
                            0,
                            "#0d0887"
                          ],
                          [
                            0.1111111111111111,
                            "#46039f"
                          ],
                          [
                            0.2222222222222222,
                            "#7201a8"
                          ],
                          [
                            0.3333333333333333,
                            "#9c179e"
                          ],
                          [
                            0.4444444444444444,
                            "#bd3786"
                          ],
                          [
                            0.5555555555555556,
                            "#d8576b"
                          ],
                          [
                            0.6666666666666666,
                            "#ed7953"
                          ],
                          [
                            0.7777777777777778,
                            "#fb9f3a"
                          ],
                          [
                            0.8888888888888888,
                            "#fdca26"
                          ],
                          [
                            1,
                            "#f0f921"
                          ]
                        ],
                        "type": "histogram2dcontour"
                      }
                    ],
                    "mesh3d": [
                      {
                        "colorbar": {
                          "outlinewidth": 0,
                          "ticks": ""
                        },
                        "type": "mesh3d"
                      }
                    ],
                    "parcoords": [
                      {
                        "line": {
                          "colorbar": {
                            "outlinewidth": 0,
                            "ticks": ""
                          }
                        },
                        "type": "parcoords"
                      }
                    ],
                    "pie": [
                      {
                        "automargin": true,
                        "type": "pie"
                      }
                    ],
                    "scatter": [
                      {
                        "fillpattern": {
                          "fillmode": "overlay",
                          "size": 10,
                          "solidity": 0.2
                        },
                        "type": "scatter"
                      }
                    ],
                    "scatter3d": [
                      {
                        "line": {
                          "colorbar": {
                            "outlinewidth": 0,
                            "ticks": ""
                          }
                        },
                        "marker": {
                          "colorbar": {
                            "outlinewidth": 0,
                            "ticks": ""
                          }
                        },
                        "type": "scatter3d"
                      }
                    ],
                    "scattercarpet": [
                      {
                        "marker": {
                          "colorbar": {
                            "outlinewidth": 0,
                            "ticks": ""
                          }
                        },
                        "type": "scattercarpet"
                      }
                    ],
                    "scattergeo": [
                      {
                        "marker": {
                          "colorbar": {
                            "outlinewidth": 0,
                            "ticks": ""
                          }
                        },
                        "type": "scattergeo"
                      }
                    ],
                    "scattergl": [
                      {
                        "marker": {
                          "colorbar": {
                            "outlinewidth": 0,
                            "ticks": ""
                          }
                        },
                        "type": "scattergl"
                      }
                    ],
                    "scattermapbox": [
                      {
                        "marker": {
                          "colorbar": {
                            "outlinewidth": 0,
                            "ticks": ""
                          }
                        },
                        "type": "scattermapbox"
                      }
                    ],
                    "scatterpolar": [
                      {
                        "marker": {
                          "colorbar": {
                            "outlinewidth": 0,
                            "ticks": ""
                          }
                        },
                        "type": "scatterpolar"
                      }
                    ],
                    "scatterpolargl": [
                      {
                        "marker": {
                          "colorbar": {
                            "outlinewidth": 0,
                            "ticks": ""
                          }
                        },
                        "type": "scatterpolargl"
                      }
                    ],
                    "scatterternary": [
                      {
                        "marker": {
                          "colorbar": {
                            "outlinewidth": 0,
                            "ticks": ""
                          }
                        },
                        "type": "scatterternary"
                      }
                    ],
                    "surface": [
                      {
                        "colorbar": {
                          "outlinewidth": 0,
                          "ticks": ""
                        },
                        "colorscale": [
                          [
                            0,
                            "#0d0887"
                          ],
                          [
                            0.1111111111111111,
                            "#46039f"
                          ],
                          [
                            0.2222222222222222,
                            "#7201a8"
                          ],
                          [
                            0.3333333333333333,
                            "#9c179e"
                          ],
                          [
                            0.4444444444444444,
                            "#bd3786"
                          ],
                          [
                            0.5555555555555556,
                            "#d8576b"
                          ],
                          [
                            0.6666666666666666,
                            "#ed7953"
                          ],
                          [
                            0.7777777777777778,
                            "#fb9f3a"
                          ],
                          [
                            0.8888888888888888,
                            "#fdca26"
                          ],
                          [
                            1,
                            "#f0f921"
                          ]
                        ],
                        "type": "surface"
                      }
                    ],
                    "table": [
                      {
                        "cells": {
                          "fill": {
                            "color": "#EBF0F8"
                          },
                          "line": {
                            "color": "white"
                          }
                        },
                        "header": {
                          "fill": {
                            "color": "#C8D4E3"
                          },
                          "line": {
                            "color": "white"
                          }
                        },
                        "type": "table"
                      }
                    ]
                  },
                  "layout": {
                    "annotationdefaults": {
                      "arrowcolor": "#2a3f5f",
                      "arrowhead": 0,
                      "arrowwidth": 1
                    },
                    "autotypenumbers": "strict",
                    "coloraxis": {
                      "colorbar": {
                        "outlinewidth": 0,
                        "ticks": ""
                      }
                    },
                    "colorscale": {
                      "diverging": [
                        [
                          0,
                          "#8e0152"
                        ],
                        [
                          0.1,
                          "#c51b7d"
                        ],
                        [
                          0.2,
                          "#de77ae"
                        ],
                        [
                          0.3,
                          "#f1b6da"
                        ],
                        [
                          0.4,
                          "#fde0ef"
                        ],
                        [
                          0.5,
                          "#f7f7f7"
                        ],
                        [
                          0.6,
                          "#e6f5d0"
                        ],
                        [
                          0.7,
                          "#b8e186"
                        ],
                        [
                          0.8,
                          "#7fbc41"
                        ],
                        [
                          0.9,
                          "#4d9221"
                        ],
                        [
                          1,
                          "#276419"
                        ]
                      ],
                      "sequential": [
                        [
                          0,
                          "#0d0887"
                        ],
                        [
                          0.1111111111111111,
                          "#46039f"
                        ],
                        [
                          0.2222222222222222,
                          "#7201a8"
                        ],
                        [
                          0.3333333333333333,
                          "#9c179e"
                        ],
                        [
                          0.4444444444444444,
                          "#bd3786"
                        ],
                        [
                          0.5555555555555556,
                          "#d8576b"
                        ],
                        [
                          0.6666666666666666,
                          "#ed7953"
                        ],
                        [
                          0.7777777777777778,
                          "#fb9f3a"
                        ],
                        [
                          0.8888888888888888,
                          "#fdca26"
                        ],
                        [
                          1,
                          "#f0f921"
                        ]
                      ],
                      "sequentialminus": [
                        [
                          0,
                          "#0d0887"
                        ],
                        [
                          0.1111111111111111,
                          "#46039f"
                        ],
                        [
                          0.2222222222222222,
                          "#7201a8"
                        ],
                        [
                          0.3333333333333333,
                          "#9c179e"
                        ],
                        [
                          0.4444444444444444,
                          "#bd3786"
                        ],
                        [
                          0.5555555555555556,
                          "#d8576b"
                        ],
                        [
                          0.6666666666666666,
                          "#ed7953"
                        ],
                        [
                          0.7777777777777778,
                          "#fb9f3a"
                        ],
                        [
                          0.8888888888888888,
                          "#fdca26"
                        ],
                        [
                          1,
                          "#f0f921"
                        ]
                      ]
                    },
                    "colorway": [
                      "#636efa",
                      "#EF553B",
                      "#00cc96",
                      "#ab63fa",
                      "#FFA15A",
                      "#19d3f3",
                      "#FF6692",
                      "#B6E880",
                      "#FF97FF",
                      "#FECB52"
                    ],
                    "font": {
                      "color": "#2a3f5f"
                    },
                    "geo": {
                      "bgcolor": "white",
                      "lakecolor": "white",
                      "landcolor": "#E5ECF6",
                      "showlakes": true,
                      "showland": true,
                      "subunitcolor": "white"
                    },
                    "hoverlabel": {
                      "align": "left"
                    },
                    "hovermode": "closest",
                    "mapbox": {
                      "style": "light"
                    },
                    "paper_bgcolor": "white",
                    "plot_bgcolor": "#E5ECF6",
                    "polar": {
                      "angularaxis": {
                        "gridcolor": "white",
                        "linecolor": "white",
                        "ticks": ""
                      },
                      "bgcolor": "#E5ECF6",
                      "radialaxis": {
                        "gridcolor": "white",
                        "linecolor": "white",
                        "ticks": ""
                      }
                    },
                    "scene": {
                      "xaxis": {
                        "backgroundcolor": "#E5ECF6",
                        "gridcolor": "white",
                        "gridwidth": 2,
                        "linecolor": "white",
                        "showbackground": true,
                        "ticks": "",
                        "zerolinecolor": "white"
                      },
                      "yaxis": {
                        "backgroundcolor": "#E5ECF6",
                        "gridcolor": "white",
                        "gridwidth": 2,
                        "linecolor": "white",
                        "showbackground": true,
                        "ticks": "",
                        "zerolinecolor": "white"
                      },
                      "zaxis": {
                        "backgroundcolor": "#E5ECF6",
                        "gridcolor": "white",
                        "gridwidth": 2,
                        "linecolor": "white",
                        "showbackground": true,
                        "ticks": "",
                        "zerolinecolor": "white"
                      }
                    },
                    "shapedefaults": {
                      "line": {
                        "color": "#2a3f5f"
                      }
                    },
                    "ternary": {
                      "aaxis": {
                        "gridcolor": "white",
                        "linecolor": "white",
                        "ticks": ""
                      },
                      "baxis": {
                        "gridcolor": "white",
                        "linecolor": "white",
                        "ticks": ""
                      },
                      "bgcolor": "#E5ECF6",
                      "caxis": {
                        "gridcolor": "white",
                        "linecolor": "white",
                        "ticks": ""
                      }
                    },
                    "title": {
                      "x": 0.05
                    },
                    "xaxis": {
                      "automargin": true,
                      "gridcolor": "white",
                      "linecolor": "white",
                      "ticks": "",
                      "title": {
                        "standoff": 15
                      },
                      "zerolinecolor": "white",
                      "zerolinewidth": 2
                    },
                    "yaxis": {
                      "automargin": true,
                      "gridcolor": "white",
                      "linecolor": "white",
                      "ticks": "",
                      "title": {
                        "standoff": 15
                      },
                      "zerolinecolor": "white",
                      "zerolinewidth": 2
                    }
                  }
                },
                "title": {
                  "text": "Teste do Modelo de Previsão - IPCA x IPCA-15"
                },
                "xaxis": {
                  "tickangle": 90,
                  "title": {
                    "text": "Período de Referência"
                  }
                },
                "yaxis": {
                  "title": {
                    "text": "Variação do IPCA"
                  }
                }
              }
            }
          },
          "metadata": {},
          "output_type": "display_data"
        }
      ],
      "source": [
        "# Biblioteca do plotly\n",
        "import plotly.graph_objects as go\n",
        "\n",
        "# Crie os traces para IPCA - Treino, IPCA - Teste e IPCA - Predição\n",
        "trace_ipca_train = go.Scatter(x= conj_train, y= ipca15_train, mode='lines', name='IPCA - Treino', line=dict(color='black'))\n",
        "trace_ipca_test = go.Scatter(x= conj_train, y= ipca15_test, mode='lines', name='IPCA - Teste', line=dict(color='red'))\n",
        "trace_ipca_pred = go.Scatter(x= conj_train, y= predict.squeeze(), mode='lines', name='IPCA - Predição', line=dict(color='green'))\n",
        "\n",
        "# Crie o layout do gráfico\n",
        "layout = go.Layout(\n",
        "    title='Teste do Modelo de Previsão - IPCA x IPCA-15',\n",
        "    xaxis=dict(title='Período de Referência', tickangle=90),\n",
        "    yaxis=dict(title='Variação do IPCA'),\n",
        "    legend=dict(x=0, y=1)\n",
        ")\n",
        "\n",
        "# Crie a figura\n",
        "fig = go.Figure(data=[trace_ipca_train, trace_ipca_test, trace_ipca_pred], layout=layout)\n",
        "\n",
        "# Mostre o gráfico\n",
        "fig.show()\n"
      ]
    },
    {
      "cell_type": "markdown",
      "metadata": {},
      "source": [
        "#### 5.2 Métricas de Avaliação"
      ]
    },
    {
      "cell_type": "markdown",
      "metadata": {
        "id": "qVMNX-sVDcgY"
      },
      "source": [
        "**O que é?**<br>\n",
        "Para analisar desempenho de modelos de machine learning e estatísticos, utilizamos algumas métricas como: MAE (Mean Absolute Error), MSE (Mean Squared Error) e RMSE (Root Mean Squared Error), especialmente de regressão linear. Elas servem para determinar o quão bem um modelo está ajustando-se aos dados e fazendo previsões.\n",
        "\n",
        "Para explicar de maneira mais sossa, vou usar uma analogia totalmente séria: *\"A da mãe e seu bolo de chocolate.\"*"
      ]
    },
    {
      "cell_type": "code",
      "execution_count": 437,
      "metadata": {
        "id": "u9SU-BfaFDr1"
      },
      "outputs": [],
      "source": [
        "from sklearn.metrics import mean_squared_error\n",
        "from sklearn.metrics import mean_absolute_error"
      ]
    },
    {
      "cell_type": "code",
      "execution_count": 438,
      "metadata": {
        "colab": {
          "base_uri": "https://localhost:8080/"
        },
        "id": "2Ja-S6u2DUDj",
        "outputId": "377bf34d-bdba-48a7-8532-37b0fb161655"
      },
      "outputs": [
        {
          "name": "stdout",
          "output_type": "stream",
          "text": [
            "Média Absoluta de Erros (MAE): 0.19%\n"
          ]
        }
      ],
      "source": [
        "mae = mean_absolute_error(y_test, predict)\n",
        "print(f'Média Absoluta de Erros (MAE): {mae:.2f}%')"
      ]
    },
    {
      "cell_type": "markdown",
      "metadata": {},
      "source": [
        "- **Média Absoluta de Erros (MAE):**<br>\n",
        "\n",
        "Imagine que você é uma mãe que adora fazer bolos de chocolate para sua família. Você gosta de surpreender sua família com a perfeição de seus bolos, e todos têm expectativas específicas sobre como deve ser o gosto. O MAE é como a média de quão longe a opinião de cada membro da família está do gosto ideal do bolo que você faz. Por exemplo, se um filho gosta de bolo mais doce e a diferença é de 10 pontos em uma escala de gosto, e outro gosta de menos doce, com uma diferença de 8 pontos, a média dessas diferenças (MAE) é a forma de medir o quão próximo você está de agradar a todos. No MAE, você está considerando a magnitude dos erros, mas não se importa com a direção (excesso ou falta de doçura)."
      ]
    },
    {
      "cell_type": "code",
      "execution_count": 439,
      "metadata": {},
      "outputs": [
        {
          "name": "stdout",
          "output_type": "stream",
          "text": [
            "Erro QUadrático Médio (MSE): 0.07%\n"
          ]
        }
      ],
      "source": [
        "mse = mean_squared_error(y_test, predict)\n",
        "print(f'Erro QUadrático Médio (MSE): {mse:.2f}%')"
      ]
    },
    {
      "cell_type": "markdown",
      "metadata": {},
      "source": [
        "- **Erro Quadrático Médio (MSE):**<br>\n",
        "\n",
        "Agora, imagine que além de considerar o quão longe o gosto está dos ideais de cada membro da família, você também quer levar em conta a magnitude dos erros de forma mais \"punitiva\". MSE é como calcular a média dos quadrados das diferenças. Isso significa que, se um membro da família gosta de um bolo mais doce com uma diferença de 10 pontos e outro gosta de menos doce com uma diferença de 8 pontos, o erro quadrático médio leva em consideração que a diferença de 10 pontos é \"maior\" do que a de 8 pontos, porque 10 é mais distante do que 8 do ideal. Portanto, você estaria considerando não apenas a magnitude dos erros, mas também punindo mais fortemente os erros maiores."
      ]
    },
    {
      "cell_type": "code",
      "execution_count": 440,
      "metadata": {},
      "outputs": [
        {
          "name": "stdout",
          "output_type": "stream",
          "text": [
            "Raiz do Erro QUadrático Médio (RMSE): 0.27 %\n"
          ]
        }
      ],
      "source": [
        "rmse = np.sqrt(mse)\n",
        "print(f'Raiz do Erro QUadrático Médio (RMSE): {rmse:.2f} %')"
      ]
    },
    {
      "cell_type": "markdown",
      "metadata": {},
      "source": [
        "- **Raiz do Erro Quadrático Médio (RMSE):**<br>\n",
        "\n",
        "O RMSE é uma medida que representa a média dos quadrados das diferenças, mas depois você pega a raiz quadrada do resultado. Isso é como tentar trazer a avaliação de erros de volta à escala original (ou seja, não em quadrados). Para a mãe que faz bolos, o RMSE é como calcular a média da distância entre o gosto real dos bolos e o gosto ideal da família, mas expressando essa média na mesma escala de gosto (ou seja, sem elevar ao quadrado). O RMSE é frequentemente usado porque fornece uma métrica que é mais facilmente interpretável e está na mesma unidade de medida que o que está sendo avaliado (neste caso, o gosto dos bolos)."
      ]
    },
    {
      "cell_type": "markdown",
      "metadata": {
        "id": "KeQlkHtlFpMQ"
      },
      "source": [
        "### 6.0 Teste Final"
      ]
    },
    {
      "cell_type": "markdown",
      "metadata": {},
      "source": [
        "Bora testar tudo o que fizemos até o momento, nesse grande, enorme, absurdo primeiro estudo? (prometo que os próximos serão menores)"
      ]
    },
    {
      "cell_type": "code",
      "execution_count": 442,
      "metadata": {
        "colab": {
          "base_uri": "https://localhost:8080/"
        },
        "id": "yy0YLzj3Frzk",
        "outputId": "153b3a3b-ec4e-42d4-85a7-62fd20ff46e4"
      },
      "outputs": [
        {
          "name": "stdout",
          "output_type": "stream",
          "text": [
            "O IPCA poderá(e torço) ser de: 0.63 %\n"
          ]
        }
      ],
      "source": [
        "# Cira uma previsão do modelo para a variável alvo com base nas features fornecidas\n",
        "# [0.65]: Valor da feature usado para gerar a previsão\n",
        "prev_ipca = l_regression.predict([[0.65]])\n",
        "# Formatando a saída para você, queridowsk\n",
        "print(f'O IPCA poderá(e torço) ser de: {float(\"{:.2f} \".format(prev_ipca[0][0]))} %')"
      ]
    },
    {
      "cell_type": "code",
      "execution_count": 443,
      "metadata": {
        "id": "06hXOIL7Gf81"
      },
      "outputs": [],
      "source": [
        "# Coleta a última data no DatetimeIndex para ref_test\n",
        "ultima_data_ref_test = conj_test[-1]\n",
        "\n",
        "# Coleta a última variação do IPCA15\n",
        "ultima_variacao_ipca15 = ipca15_test.iloc[-1]\n",
        "\n",
        "# Obtém a previsão do IPCA usando o modelo treinado\n",
        "prev_ipca = l_regression.predict([[ultima_variacao_ipca15]])\n",
        "\n",
        "# Crie as listas y_pred e x_pred\n",
        "y_pred = [ultima_data_ref_test, '2027-04']\n",
        "x_pred = [ultima_variacao_ipca15, float(\"{:.2f}\".format(prev_ipca[0][0]))]"
      ]
    },
    {
      "cell_type": "markdown",
      "metadata": {},
      "source": [
        "Aqui está a predição:"
      ]
    },
    {
      "cell_type": "code",
      "execution_count": 445,
      "metadata": {},
      "outputs": [
        {
          "data": {
            "application/vnd.plotly.v1+json": {
              "config": {
                "plotlyServerURL": "https://plot.ly"
              },
              "data": [
                {
                  "line": {
                    "color": "black"
                  },
                  "mode": "lines",
                  "name": "IPCA - Teste",
                  "type": "scatter",
                  "x": [
                    "2020-04-01T00:00:00",
                    "2020-05-01T00:00:00",
                    "2020-06-01T00:00:00",
                    "2020-07-01T00:00:00",
                    "2020-08-01T00:00:00",
                    "2020-09-01T00:00:00",
                    "2020-10-01T00:00:00",
                    "2020-11-01T00:00:00",
                    "2020-12-01T00:00:00",
                    "2021-01-01T00:00:00",
                    "2021-02-01T00:00:00",
                    "2021-03-01T00:00:00",
                    "2021-04-01T00:00:00",
                    "2021-05-01T00:00:00",
                    "2021-06-01T00:00:00",
                    "2021-07-01T00:00:00",
                    "2021-08-01T00:00:00",
                    "2021-09-01T00:00:00",
                    "2021-10-01T00:00:00",
                    "2021-11-01T00:00:00",
                    "2021-12-01T00:00:00",
                    "2022-01-01T00:00:00",
                    "2022-02-01T00:00:00",
                    "2022-03-01T00:00:00",
                    "2022-04-01T00:00:00",
                    "2022-05-01T00:00:00",
                    "2022-06-01T00:00:00",
                    "2022-07-01T00:00:00",
                    "2022-08-01T00:00:00",
                    "2022-09-01T00:00:00",
                    "2022-10-01T00:00:00",
                    "2022-11-01T00:00:00",
                    "2022-12-01T00:00:00",
                    "2023-01-01T00:00:00",
                    "2023-02-01T00:00:00",
                    "2023-03-01T00:00:00",
                    "2023-04-01T00:00:00",
                    "2023-05-01T00:00:00",
                    "2023-06-01T00:00:00",
                    "2023-07-01T00:00:00",
                    "2023-08-01T00:00:00",
                    "2023-09-01T00:00:00",
                    "2023-10-01T00:00:00"
                  ],
                  "y": [
                    -0.01,
                    -0.59,
                    0.02,
                    0.3,
                    0.23,
                    0.45,
                    0.94,
                    0.81,
                    1.06,
                    0.78,
                    0.48,
                    0.93,
                    0.6,
                    0.44,
                    0.83,
                    0.72,
                    0.89,
                    1.14,
                    1.2,
                    1.17,
                    0.78,
                    0.58,
                    0.99,
                    0.95,
                    1.73,
                    0.59,
                    0.69,
                    0.13,
                    -0.73,
                    -0.37,
                    0.16,
                    0.53,
                    0.52,
                    0.55,
                    0.76,
                    0.69,
                    0.57,
                    0.51,
                    0.04,
                    -0.07,
                    0.28,
                    0.35,
                    0.21
                  ]
                },
                {
                  "line": {
                    "color": "red"
                  },
                  "mode": "lines",
                  "name": "IPCA - Predição",
                  "type": "scatter",
                  "x": [
                    "2023-10-01T00:00:00",
                    "2027-04"
                  ],
                  "y": [
                    0.21,
                    0.25
                  ]
                }
              ],
              "layout": {
                "legend": {
                  "x": 0,
                  "y": 1
                },
                "template": {
                  "data": {
                    "bar": [
                      {
                        "error_x": {
                          "color": "#2a3f5f"
                        },
                        "error_y": {
                          "color": "#2a3f5f"
                        },
                        "marker": {
                          "line": {
                            "color": "#E5ECF6",
                            "width": 0.5
                          },
                          "pattern": {
                            "fillmode": "overlay",
                            "size": 10,
                            "solidity": 0.2
                          }
                        },
                        "type": "bar"
                      }
                    ],
                    "barpolar": [
                      {
                        "marker": {
                          "line": {
                            "color": "#E5ECF6",
                            "width": 0.5
                          },
                          "pattern": {
                            "fillmode": "overlay",
                            "size": 10,
                            "solidity": 0.2
                          }
                        },
                        "type": "barpolar"
                      }
                    ],
                    "carpet": [
                      {
                        "aaxis": {
                          "endlinecolor": "#2a3f5f",
                          "gridcolor": "white",
                          "linecolor": "white",
                          "minorgridcolor": "white",
                          "startlinecolor": "#2a3f5f"
                        },
                        "baxis": {
                          "endlinecolor": "#2a3f5f",
                          "gridcolor": "white",
                          "linecolor": "white",
                          "minorgridcolor": "white",
                          "startlinecolor": "#2a3f5f"
                        },
                        "type": "carpet"
                      }
                    ],
                    "choropleth": [
                      {
                        "colorbar": {
                          "outlinewidth": 0,
                          "ticks": ""
                        },
                        "type": "choropleth"
                      }
                    ],
                    "contour": [
                      {
                        "colorbar": {
                          "outlinewidth": 0,
                          "ticks": ""
                        },
                        "colorscale": [
                          [
                            0,
                            "#0d0887"
                          ],
                          [
                            0.1111111111111111,
                            "#46039f"
                          ],
                          [
                            0.2222222222222222,
                            "#7201a8"
                          ],
                          [
                            0.3333333333333333,
                            "#9c179e"
                          ],
                          [
                            0.4444444444444444,
                            "#bd3786"
                          ],
                          [
                            0.5555555555555556,
                            "#d8576b"
                          ],
                          [
                            0.6666666666666666,
                            "#ed7953"
                          ],
                          [
                            0.7777777777777778,
                            "#fb9f3a"
                          ],
                          [
                            0.8888888888888888,
                            "#fdca26"
                          ],
                          [
                            1,
                            "#f0f921"
                          ]
                        ],
                        "type": "contour"
                      }
                    ],
                    "contourcarpet": [
                      {
                        "colorbar": {
                          "outlinewidth": 0,
                          "ticks": ""
                        },
                        "type": "contourcarpet"
                      }
                    ],
                    "heatmap": [
                      {
                        "colorbar": {
                          "outlinewidth": 0,
                          "ticks": ""
                        },
                        "colorscale": [
                          [
                            0,
                            "#0d0887"
                          ],
                          [
                            0.1111111111111111,
                            "#46039f"
                          ],
                          [
                            0.2222222222222222,
                            "#7201a8"
                          ],
                          [
                            0.3333333333333333,
                            "#9c179e"
                          ],
                          [
                            0.4444444444444444,
                            "#bd3786"
                          ],
                          [
                            0.5555555555555556,
                            "#d8576b"
                          ],
                          [
                            0.6666666666666666,
                            "#ed7953"
                          ],
                          [
                            0.7777777777777778,
                            "#fb9f3a"
                          ],
                          [
                            0.8888888888888888,
                            "#fdca26"
                          ],
                          [
                            1,
                            "#f0f921"
                          ]
                        ],
                        "type": "heatmap"
                      }
                    ],
                    "heatmapgl": [
                      {
                        "colorbar": {
                          "outlinewidth": 0,
                          "ticks": ""
                        },
                        "colorscale": [
                          [
                            0,
                            "#0d0887"
                          ],
                          [
                            0.1111111111111111,
                            "#46039f"
                          ],
                          [
                            0.2222222222222222,
                            "#7201a8"
                          ],
                          [
                            0.3333333333333333,
                            "#9c179e"
                          ],
                          [
                            0.4444444444444444,
                            "#bd3786"
                          ],
                          [
                            0.5555555555555556,
                            "#d8576b"
                          ],
                          [
                            0.6666666666666666,
                            "#ed7953"
                          ],
                          [
                            0.7777777777777778,
                            "#fb9f3a"
                          ],
                          [
                            0.8888888888888888,
                            "#fdca26"
                          ],
                          [
                            1,
                            "#f0f921"
                          ]
                        ],
                        "type": "heatmapgl"
                      }
                    ],
                    "histogram": [
                      {
                        "marker": {
                          "pattern": {
                            "fillmode": "overlay",
                            "size": 10,
                            "solidity": 0.2
                          }
                        },
                        "type": "histogram"
                      }
                    ],
                    "histogram2d": [
                      {
                        "colorbar": {
                          "outlinewidth": 0,
                          "ticks": ""
                        },
                        "colorscale": [
                          [
                            0,
                            "#0d0887"
                          ],
                          [
                            0.1111111111111111,
                            "#46039f"
                          ],
                          [
                            0.2222222222222222,
                            "#7201a8"
                          ],
                          [
                            0.3333333333333333,
                            "#9c179e"
                          ],
                          [
                            0.4444444444444444,
                            "#bd3786"
                          ],
                          [
                            0.5555555555555556,
                            "#d8576b"
                          ],
                          [
                            0.6666666666666666,
                            "#ed7953"
                          ],
                          [
                            0.7777777777777778,
                            "#fb9f3a"
                          ],
                          [
                            0.8888888888888888,
                            "#fdca26"
                          ],
                          [
                            1,
                            "#f0f921"
                          ]
                        ],
                        "type": "histogram2d"
                      }
                    ],
                    "histogram2dcontour": [
                      {
                        "colorbar": {
                          "outlinewidth": 0,
                          "ticks": ""
                        },
                        "colorscale": [
                          [
                            0,
                            "#0d0887"
                          ],
                          [
                            0.1111111111111111,
                            "#46039f"
                          ],
                          [
                            0.2222222222222222,
                            "#7201a8"
                          ],
                          [
                            0.3333333333333333,
                            "#9c179e"
                          ],
                          [
                            0.4444444444444444,
                            "#bd3786"
                          ],
                          [
                            0.5555555555555556,
                            "#d8576b"
                          ],
                          [
                            0.6666666666666666,
                            "#ed7953"
                          ],
                          [
                            0.7777777777777778,
                            "#fb9f3a"
                          ],
                          [
                            0.8888888888888888,
                            "#fdca26"
                          ],
                          [
                            1,
                            "#f0f921"
                          ]
                        ],
                        "type": "histogram2dcontour"
                      }
                    ],
                    "mesh3d": [
                      {
                        "colorbar": {
                          "outlinewidth": 0,
                          "ticks": ""
                        },
                        "type": "mesh3d"
                      }
                    ],
                    "parcoords": [
                      {
                        "line": {
                          "colorbar": {
                            "outlinewidth": 0,
                            "ticks": ""
                          }
                        },
                        "type": "parcoords"
                      }
                    ],
                    "pie": [
                      {
                        "automargin": true,
                        "type": "pie"
                      }
                    ],
                    "scatter": [
                      {
                        "fillpattern": {
                          "fillmode": "overlay",
                          "size": 10,
                          "solidity": 0.2
                        },
                        "type": "scatter"
                      }
                    ],
                    "scatter3d": [
                      {
                        "line": {
                          "colorbar": {
                            "outlinewidth": 0,
                            "ticks": ""
                          }
                        },
                        "marker": {
                          "colorbar": {
                            "outlinewidth": 0,
                            "ticks": ""
                          }
                        },
                        "type": "scatter3d"
                      }
                    ],
                    "scattercarpet": [
                      {
                        "marker": {
                          "colorbar": {
                            "outlinewidth": 0,
                            "ticks": ""
                          }
                        },
                        "type": "scattercarpet"
                      }
                    ],
                    "scattergeo": [
                      {
                        "marker": {
                          "colorbar": {
                            "outlinewidth": 0,
                            "ticks": ""
                          }
                        },
                        "type": "scattergeo"
                      }
                    ],
                    "scattergl": [
                      {
                        "marker": {
                          "colorbar": {
                            "outlinewidth": 0,
                            "ticks": ""
                          }
                        },
                        "type": "scattergl"
                      }
                    ],
                    "scattermapbox": [
                      {
                        "marker": {
                          "colorbar": {
                            "outlinewidth": 0,
                            "ticks": ""
                          }
                        },
                        "type": "scattermapbox"
                      }
                    ],
                    "scatterpolar": [
                      {
                        "marker": {
                          "colorbar": {
                            "outlinewidth": 0,
                            "ticks": ""
                          }
                        },
                        "type": "scatterpolar"
                      }
                    ],
                    "scatterpolargl": [
                      {
                        "marker": {
                          "colorbar": {
                            "outlinewidth": 0,
                            "ticks": ""
                          }
                        },
                        "type": "scatterpolargl"
                      }
                    ],
                    "scatterternary": [
                      {
                        "marker": {
                          "colorbar": {
                            "outlinewidth": 0,
                            "ticks": ""
                          }
                        },
                        "type": "scatterternary"
                      }
                    ],
                    "surface": [
                      {
                        "colorbar": {
                          "outlinewidth": 0,
                          "ticks": ""
                        },
                        "colorscale": [
                          [
                            0,
                            "#0d0887"
                          ],
                          [
                            0.1111111111111111,
                            "#46039f"
                          ],
                          [
                            0.2222222222222222,
                            "#7201a8"
                          ],
                          [
                            0.3333333333333333,
                            "#9c179e"
                          ],
                          [
                            0.4444444444444444,
                            "#bd3786"
                          ],
                          [
                            0.5555555555555556,
                            "#d8576b"
                          ],
                          [
                            0.6666666666666666,
                            "#ed7953"
                          ],
                          [
                            0.7777777777777778,
                            "#fb9f3a"
                          ],
                          [
                            0.8888888888888888,
                            "#fdca26"
                          ],
                          [
                            1,
                            "#f0f921"
                          ]
                        ],
                        "type": "surface"
                      }
                    ],
                    "table": [
                      {
                        "cells": {
                          "fill": {
                            "color": "#EBF0F8"
                          },
                          "line": {
                            "color": "white"
                          }
                        },
                        "header": {
                          "fill": {
                            "color": "#C8D4E3"
                          },
                          "line": {
                            "color": "white"
                          }
                        },
                        "type": "table"
                      }
                    ]
                  },
                  "layout": {
                    "annotationdefaults": {
                      "arrowcolor": "#2a3f5f",
                      "arrowhead": 0,
                      "arrowwidth": 1
                    },
                    "autotypenumbers": "strict",
                    "coloraxis": {
                      "colorbar": {
                        "outlinewidth": 0,
                        "ticks": ""
                      }
                    },
                    "colorscale": {
                      "diverging": [
                        [
                          0,
                          "#8e0152"
                        ],
                        [
                          0.1,
                          "#c51b7d"
                        ],
                        [
                          0.2,
                          "#de77ae"
                        ],
                        [
                          0.3,
                          "#f1b6da"
                        ],
                        [
                          0.4,
                          "#fde0ef"
                        ],
                        [
                          0.5,
                          "#f7f7f7"
                        ],
                        [
                          0.6,
                          "#e6f5d0"
                        ],
                        [
                          0.7,
                          "#b8e186"
                        ],
                        [
                          0.8,
                          "#7fbc41"
                        ],
                        [
                          0.9,
                          "#4d9221"
                        ],
                        [
                          1,
                          "#276419"
                        ]
                      ],
                      "sequential": [
                        [
                          0,
                          "#0d0887"
                        ],
                        [
                          0.1111111111111111,
                          "#46039f"
                        ],
                        [
                          0.2222222222222222,
                          "#7201a8"
                        ],
                        [
                          0.3333333333333333,
                          "#9c179e"
                        ],
                        [
                          0.4444444444444444,
                          "#bd3786"
                        ],
                        [
                          0.5555555555555556,
                          "#d8576b"
                        ],
                        [
                          0.6666666666666666,
                          "#ed7953"
                        ],
                        [
                          0.7777777777777778,
                          "#fb9f3a"
                        ],
                        [
                          0.8888888888888888,
                          "#fdca26"
                        ],
                        [
                          1,
                          "#f0f921"
                        ]
                      ],
                      "sequentialminus": [
                        [
                          0,
                          "#0d0887"
                        ],
                        [
                          0.1111111111111111,
                          "#46039f"
                        ],
                        [
                          0.2222222222222222,
                          "#7201a8"
                        ],
                        [
                          0.3333333333333333,
                          "#9c179e"
                        ],
                        [
                          0.4444444444444444,
                          "#bd3786"
                        ],
                        [
                          0.5555555555555556,
                          "#d8576b"
                        ],
                        [
                          0.6666666666666666,
                          "#ed7953"
                        ],
                        [
                          0.7777777777777778,
                          "#fb9f3a"
                        ],
                        [
                          0.8888888888888888,
                          "#fdca26"
                        ],
                        [
                          1,
                          "#f0f921"
                        ]
                      ]
                    },
                    "colorway": [
                      "#636efa",
                      "#EF553B",
                      "#00cc96",
                      "#ab63fa",
                      "#FFA15A",
                      "#19d3f3",
                      "#FF6692",
                      "#B6E880",
                      "#FF97FF",
                      "#FECB52"
                    ],
                    "font": {
                      "color": "#2a3f5f"
                    },
                    "geo": {
                      "bgcolor": "white",
                      "lakecolor": "white",
                      "landcolor": "#E5ECF6",
                      "showlakes": true,
                      "showland": true,
                      "subunitcolor": "white"
                    },
                    "hoverlabel": {
                      "align": "left"
                    },
                    "hovermode": "closest",
                    "mapbox": {
                      "style": "light"
                    },
                    "paper_bgcolor": "white",
                    "plot_bgcolor": "#E5ECF6",
                    "polar": {
                      "angularaxis": {
                        "gridcolor": "white",
                        "linecolor": "white",
                        "ticks": ""
                      },
                      "bgcolor": "#E5ECF6",
                      "radialaxis": {
                        "gridcolor": "white",
                        "linecolor": "white",
                        "ticks": ""
                      }
                    },
                    "scene": {
                      "xaxis": {
                        "backgroundcolor": "#E5ECF6",
                        "gridcolor": "white",
                        "gridwidth": 2,
                        "linecolor": "white",
                        "showbackground": true,
                        "ticks": "",
                        "zerolinecolor": "white"
                      },
                      "yaxis": {
                        "backgroundcolor": "#E5ECF6",
                        "gridcolor": "white",
                        "gridwidth": 2,
                        "linecolor": "white",
                        "showbackground": true,
                        "ticks": "",
                        "zerolinecolor": "white"
                      },
                      "zaxis": {
                        "backgroundcolor": "#E5ECF6",
                        "gridcolor": "white",
                        "gridwidth": 2,
                        "linecolor": "white",
                        "showbackground": true,
                        "ticks": "",
                        "zerolinecolor": "white"
                      }
                    },
                    "shapedefaults": {
                      "line": {
                        "color": "#2a3f5f"
                      }
                    },
                    "ternary": {
                      "aaxis": {
                        "gridcolor": "white",
                        "linecolor": "white",
                        "ticks": ""
                      },
                      "baxis": {
                        "gridcolor": "white",
                        "linecolor": "white",
                        "ticks": ""
                      },
                      "bgcolor": "#E5ECF6",
                      "caxis": {
                        "gridcolor": "white",
                        "linecolor": "white",
                        "ticks": ""
                      }
                    },
                    "title": {
                      "x": 0.05
                    },
                    "xaxis": {
                      "automargin": true,
                      "gridcolor": "white",
                      "linecolor": "white",
                      "ticks": "",
                      "title": {
                        "standoff": 15
                      },
                      "zerolinecolor": "white",
                      "zerolinewidth": 2
                    },
                    "yaxis": {
                      "automargin": true,
                      "gridcolor": "white",
                      "linecolor": "white",
                      "ticks": "",
                      "title": {
                        "standoff": 15
                      },
                      "zerolinecolor": "white",
                      "zerolinewidth": 2
                    }
                  }
                },
                "title": {
                  "text": "Teste do Modelo de Previsão Inflacionária - IPCA x IPCA-15"
                },
                "xaxis": {
                  "tickangle": 90,
                  "title": {
                    "text": "Período de Referência"
                  }
                },
                "yaxis": {
                  "title": {
                    "text": "Variação do IPCA"
                  }
                }
              }
            }
          },
          "metadata": {},
          "output_type": "display_data"
        }
      ],
      "source": [
        "import plotly.graph_objects as go\n",
        "\n",
        "# Obtenha a última data no DatetimeIndex para ref_test\n",
        "ultima_data_ref_test = conj_test[-1]\n",
        "\n",
        "# Obtenha a última variação do IPCA15\n",
        "ultima_variacao_ipca15 = ipca15_test.iloc[-1]\n",
        "\n",
        "# Obtenha a previsão do IPCA usando o modelo treinado\n",
        "prev_ipca = l_regression.predict([[ultima_variacao_ipca15]])\n",
        "\n",
        "# Crie as listas y_pred e x_pred\n",
        "y_pred = [ultima_data_ref_test, '2027-04']\n",
        "x_pred = [ultima_variacao_ipca15, float(\"{:.2f}\".format(prev_ipca[0][0]))]\n",
        "\n",
        "# Crie os traces para IPCA - Teste e IPCA - Predição\n",
        "trace_ipca_test = go.Scatter(x=conj_test, y=ipca15_test, mode='lines', name='IPCA - Teste', line=dict(color='black'))\n",
        "trace_ipca_pred = go.Scatter(x=y_pred, y=x_pred, mode='lines', name='IPCA - Predição', line=dict(color='red'))\n",
        "\n",
        "# Crie o layout do gráfico\n",
        "layout = go.Layout(\n",
        "    title='Teste do Modelo de Previsão Inflacionária - IPCA x IPCA-15',\n",
        "    xaxis=dict(title='Período de Referência', tickangle=90),\n",
        "    yaxis=dict(title='Variação do IPCA'),\n",
        "    legend=dict(x=0, y=1)\n",
        ")\n",
        "\n",
        "# Crie a figura\n",
        "fig = go.Figure(data=[trace_ipca_test, trace_ipca_pred], layout=layout)\n",
        "\n",
        "# Mostre o gráfico\n",
        "fig.show()"
      ]
    },
    {
      "cell_type": "markdown",
      "metadata": {},
      "source": [
        "Não parece à primeira vista, mas o modelo mostra que há uma certa tendência de alta com base nos dados obtidos. É um cenário de MUITAS incertezas, pois como você sabe, somos o Brasil de meu Deus.\n",
        "\n",
        "Além da conturbação interna, sofremos fortes impactos cíclicos do ambiente externo."
      ]
    },
    {
      "cell_type": "markdown",
      "metadata": {},
      "source": [
        "## Agradecimentos e Próximos Capítulos"
      ]
    },
    {
      "cell_type": "markdown",
      "metadata": {},
      "source": [
        "Eu queria agradecer meupaiminhamãemeusbichinhosmeusavósmeuPS5aoBlackSabbath e....\n",
        "\n",
        "É isso, gente. <br>\n",
        "Essa é só a primeira parte do estudo que terá 3 capítulos (eu acho). Gostaria de abordar diversos outros indicadores, plots e modelos, mas dixarei para os próximos pois vocês já devem estar de sacola cheia com as minhas zoeiras.\n",
        "\n",
        "Tentei ser o mais didático e simples possível, abordar uma temática econômica sem *\"economês\"* é complicado.\n",
        "\n",
        "Para os próximos capítulos espere por:\n",
        "- Mais modelos de Machine Learning\n",
        "- Inflação por grupos de alimentos\n",
        "- Inflação de serviços x Desocupação\n",
        "- Influência no mercado de trabalho\n",
        "- Peso do Juro Real x Juro Previsto\n",
        "- Detecção de anomalias inflacionárias\n",
        "- Inflação inercial\n",
        "- e por aí vai!"
      ]
    },
    {
      "cell_type": "markdown",
      "metadata": {},
      "source": [
        "#### Próximos estudos:\n",
        "\n",
        "Além disso, aguardem que os próximos estudos serão:\n",
        "1. Dívida pública brasileira\n",
        "2. Saúde econômica americana\n",
        "3. Mitos sobre a Crise 1929\n",
        "4. Estudo sobre preços de combustíveis\n",
        "5. e....vou pensar!\n"
      ]
    },
    {
      "cell_type": "markdown",
      "metadata": {},
      "source": [
        "## Leituras recomendadas:\n",
        "\n",
        "1. [Macroeconomia Capa - Olivier Blanchard](https://amzn.to/3Tbf93K)\n",
        "2. [Microeconomia - Hal Varian](https://amzn.to/46MRUjL)\n",
        "3. [A Moeda e a Lei - Gustavo Franco](https://amzn.to/47J8FxC)\n",
        "4. [Por que o Brasil Cresce Pouco? - Marcos Mendes](https://amzn.to/46JqlHX)\n",
        "5. [Finanças públicas - Felipe Salto e Mansueto](https://amzn.to/3Rv5pzY)\n",
        "6. [Quantitative Trading Strategies Using Python - Peng Liu](https://amzn.to/4a5WH2z)"
      ]
    },
    {
      "cell_type": "markdown",
      "metadata": {
        "id": "nE129aCzJHE1"
      },
      "source": [
        "## FIM"
      ]
    }
  ],
  "metadata": {
    "colab": {
      "provenance": []
    },
    "kernelspec": {
      "display_name": "Python 3",
      "language": "python",
      "name": "python3"
    },
    "language_info": {
      "codemirror_mode": {
        "name": "ipython",
        "version": 3
      },
      "file_extension": ".py",
      "mimetype": "text/x-python",
      "name": "python",
      "nbconvert_exporter": "python",
      "pygments_lexer": "ipython3",
      "version": "3.12.0"
    }
  },
  "nbformat": 4,
  "nbformat_minor": 0
}
